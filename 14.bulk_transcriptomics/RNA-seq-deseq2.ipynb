{
 "cells": [
  {
   "cell_type": "markdown",
   "id": "53aaf3cc-4397-4795-b1c6-7d591d2e044b",
   "metadata": {},
   "source": [
    "## This is an example script used for the bulk RNA transcriptomic cohort analysis\n",
    "It uses R"
   ]
  },
  {
   "cell_type": "code",
   "execution_count": 2,
   "id": "e30f8c90-1d8b-437b-a48f-eaac761fbeb4",
   "metadata": {
    "tags": []
   },
   "outputs": [
    {
     "name": "stderr",
     "output_type": "stream",
     "text": [
      "\n",
      "Attaching package: ‘gplots’\n",
      "\n",
      "\n",
      "The following object is masked from ‘package:stats’:\n",
      "\n",
      "    lowess\n",
      "\n",
      "\n",
      "Loading required package: S4Vectors\n",
      "\n",
      "Loading required package: stats4\n",
      "\n",
      "Loading required package: BiocGenerics\n",
      "\n",
      "\n",
      "Attaching package: ‘BiocGenerics’\n",
      "\n",
      "\n",
      "The following objects are masked from ‘package:stats’:\n",
      "\n",
      "    IQR, mad, sd, var, xtabs\n",
      "\n",
      "\n",
      "The following objects are masked from ‘package:base’:\n",
      "\n",
      "    anyDuplicated, aperm, append, as.data.frame, basename, cbind,\n",
      "    colnames, dirname, do.call, duplicated, eval, evalq, Filter, Find,\n",
      "    get, grep, grepl, intersect, is.unsorted, lapply, Map, mapply,\n",
      "    match, mget, order, paste, pmax, pmax.int, pmin, pmin.int,\n",
      "    Position, rank, rbind, Reduce, rownames, sapply, setdiff, sort,\n",
      "    table, tapply, union, unique, unsplit, which.max, which.min\n",
      "\n",
      "\n",
      "\n",
      "Attaching package: ‘S4Vectors’\n",
      "\n",
      "\n",
      "The following object is masked from ‘package:gplots’:\n",
      "\n",
      "    space\n",
      "\n",
      "\n",
      "The following object is masked from ‘package:utils’:\n",
      "\n",
      "    findMatches\n",
      "\n",
      "\n",
      "The following objects are masked from ‘package:base’:\n",
      "\n",
      "    expand.grid, I, unname\n",
      "\n",
      "\n",
      "Loading required package: IRanges\n",
      "\n",
      "Loading required package: GenomicRanges\n",
      "\n",
      "Loading required package: GenomeInfoDb\n",
      "\n",
      "Loading required package: SummarizedExperiment\n",
      "\n",
      "Loading required package: MatrixGenerics\n",
      "\n",
      "Loading required package: matrixStats\n",
      "\n",
      "\n",
      "Attaching package: ‘MatrixGenerics’\n",
      "\n",
      "\n",
      "The following objects are masked from ‘package:matrixStats’:\n",
      "\n",
      "    colAlls, colAnyNAs, colAnys, colAvgsPerRowSet, colCollapse,\n",
      "    colCounts, colCummaxs, colCummins, colCumprods, colCumsums,\n",
      "    colDiffs, colIQRDiffs, colIQRs, colLogSumExps, colMadDiffs,\n",
      "    colMads, colMaxs, colMeans2, colMedians, colMins, colOrderStats,\n",
      "    colProds, colQuantiles, colRanges, colRanks, colSdDiffs, colSds,\n",
      "    colSums2, colTabulates, colVarDiffs, colVars, colWeightedMads,\n",
      "    colWeightedMeans, colWeightedMedians, colWeightedSds,\n",
      "    colWeightedVars, rowAlls, rowAnyNAs, rowAnys, rowAvgsPerColSet,\n",
      "    rowCollapse, rowCounts, rowCummaxs, rowCummins, rowCumprods,\n",
      "    rowCumsums, rowDiffs, rowIQRDiffs, rowIQRs, rowLogSumExps,\n",
      "    rowMadDiffs, rowMads, rowMaxs, rowMeans2, rowMedians, rowMins,\n",
      "    rowOrderStats, rowProds, rowQuantiles, rowRanges, rowRanks,\n",
      "    rowSdDiffs, rowSds, rowSums2, rowTabulates, rowVarDiffs, rowVars,\n",
      "    rowWeightedMads, rowWeightedMeans, rowWeightedMedians,\n",
      "    rowWeightedSds, rowWeightedVars\n",
      "\n",
      "\n",
      "Loading required package: Biobase\n",
      "\n",
      "Welcome to Bioconductor\n",
      "\n",
      "    Vignettes contain introductory material; view with\n",
      "    'browseVignettes()'. To cite Bioconductor, see\n",
      "    'citation(\"Biobase\")', and for packages 'citation(\"pkgname\")'.\n",
      "\n",
      "\n",
      "\n",
      "Attaching package: ‘Biobase’\n",
      "\n",
      "\n",
      "The following object is masked from ‘package:MatrixGenerics’:\n",
      "\n",
      "    rowMedians\n",
      "\n",
      "\n",
      "The following objects are masked from ‘package:matrixStats’:\n",
      "\n",
      "    anyMissing, rowMedians\n",
      "\n",
      "\n",
      "Loading required package: AnnotationDbi\n",
      "\n",
      "\n",
      "Attaching package: ‘limma’\n",
      "\n",
      "\n",
      "The following object is masked from ‘package:DESeq2’:\n",
      "\n",
      "    plotMA\n",
      "\n",
      "\n",
      "The following object is masked from ‘package:BiocGenerics’:\n",
      "\n",
      "    plotMA\n",
      "\n",
      "\n"
     ]
    }
   ],
   "source": [
    "# load all the required packages (already in the RNA R yaml environment provided in the directory)\n",
    "library(gplots)\n",
    "library(RColorBrewer)\n",
    "library(tximport)\n",
    "library(ggplot2)\n",
    "library(DESeq2)\n",
    "library(GenomicFeatures)\n",
    "library(readr)\n",
    "library(rtracklayer)\n",
    "library(ggrepel)\n",
    "library(limma)\n",
    "library(tidyverse)\n",
    "library(tidyr)\n",
    "library(fgsea)\n",
    "library(msigdbr)\n",
    "library(org.Hs.eg.db)"
   ]
  },
  {
   "cell_type": "code",
   "execution_count": 3,
   "id": "76c55d4c-f188-4d04-98d1-7feb1c46a91b",
   "metadata": {
    "tags": []
   },
   "outputs": [
    {
     "data": {
      "text/html": [
       "'/nfs/users/nfs_l/lr26/shells'"
      ],
      "text/latex": [
       "'/nfs/users/nfs\\_l/lr26/shells'"
      ],
      "text/markdown": [
       "'/nfs/users/nfs_l/lr26/shells'"
      ],
      "text/plain": [
       "[1] \"/nfs/users/nfs_l/lr26/shells\""
      ]
     },
     "metadata": {},
     "output_type": "display_data"
    }
   ],
   "source": [
    "rm(list = ls())  # this clears the environment of any variables, old plots, that kind of thing\n",
    "# fetching files\n",
    "getwd()\n"
   ]
  },
  {
   "cell_type": "code",
   "execution_count": 4,
   "id": "494f1892-f64b-4019-8e96-7fcbd2a416e4",
   "metadata": {
    "tags": []
   },
   "outputs": [
    {
     "data": {
      "text/html": [
       "<style>\n",
       ".list-inline {list-style: none; margin:0; padding: 0}\n",
       ".list-inline>li {display: inline-block}\n",
       ".list-inline>li:not(:last-child)::after {content: \"\\00b7\"; padding: 0 .5ex}\n",
       "</style>\n",
       "<ol class=list-inline><li>'X..feature'</li><li>'class'</li><li>'assembly'</li><li>'assembly_unit'</li><li>'seq_type'</li><li>'chromosome'</li><li>'genomic_accession'</li><li>'start'</li><li>'end'</li><li>'strand'</li><li>'product_accession'</li><li>'non.redundant_refseq'</li><li>'related_accession'</li><li>'name'</li><li>'symbol'</li><li>'GeneID'</li><li>'locus_tag'</li><li>'feature_interval_length'</li><li>'product_length'</li><li>'attributes'</li></ol>\n"
      ],
      "text/latex": [
       "\\begin{enumerate*}\n",
       "\\item 'X..feature'\n",
       "\\item 'class'\n",
       "\\item 'assembly'\n",
       "\\item 'assembly\\_unit'\n",
       "\\item 'seq\\_type'\n",
       "\\item 'chromosome'\n",
       "\\item 'genomic\\_accession'\n",
       "\\item 'start'\n",
       "\\item 'end'\n",
       "\\item 'strand'\n",
       "\\item 'product\\_accession'\n",
       "\\item 'non.redundant\\_refseq'\n",
       "\\item 'related\\_accession'\n",
       "\\item 'name'\n",
       "\\item 'symbol'\n",
       "\\item 'GeneID'\n",
       "\\item 'locus\\_tag'\n",
       "\\item 'feature\\_interval\\_length'\n",
       "\\item 'product\\_length'\n",
       "\\item 'attributes'\n",
       "\\end{enumerate*}\n"
      ],
      "text/markdown": [
       "1. 'X..feature'\n",
       "2. 'class'\n",
       "3. 'assembly'\n",
       "4. 'assembly_unit'\n",
       "5. 'seq_type'\n",
       "6. 'chromosome'\n",
       "7. 'genomic_accession'\n",
       "8. 'start'\n",
       "9. 'end'\n",
       "10. 'strand'\n",
       "11. 'product_accession'\n",
       "12. 'non.redundant_refseq'\n",
       "13. 'related_accession'\n",
       "14. 'name'\n",
       "15. 'symbol'\n",
       "16. 'GeneID'\n",
       "17. 'locus_tag'\n",
       "18. 'feature_interval_length'\n",
       "19. 'product_length'\n",
       "20. 'attributes'\n",
       "\n",
       "\n"
      ],
      "text/plain": [
       " [1] \"X..feature\"              \"class\"                  \n",
       " [3] \"assembly\"                \"assembly_unit\"          \n",
       " [5] \"seq_type\"                \"chromosome\"             \n",
       " [7] \"genomic_accession\"       \"start\"                  \n",
       " [9] \"end\"                     \"strand\"                 \n",
       "[11] \"product_accession\"       \"non.redundant_refseq\"   \n",
       "[13] \"related_accession\"       \"name\"                   \n",
       "[15] \"symbol\"                  \"GeneID\"                 \n",
       "[17] \"locus_tag\"               \"feature_interval_length\"\n",
       "[19] \"product_length\"          \"attributes\"             "
      ]
     },
     "metadata": {},
     "output_type": "display_data"
    },
    {
     "data": {
      "text/html": [
       "<style>\n",
       ".list-inline {list-style: none; margin:0; padding: 0}\n",
       ".list-inline>li {display: inline-block}\n",
       ".list-inline>li:not(:last-child)::after {content: \"\\00b7\"; padding: 0 .5ex}\n",
       "</style>\n",
       "<ol class=list-inline><li>'gene'</li><li>'ncRNA'</li><li>'mRNA'</li><li>'CDS'</li><li>'precursor_RNA'</li><li>'misc_RNA'</li><li>'tRNA'</li><li>'V_segment'</li><li>'rRNA'</li><li>'C_region'</li><li>'J_segment'</li><li>'D_segment'</li></ol>\n"
      ],
      "text/latex": [
       "\\begin{enumerate*}\n",
       "\\item 'gene'\n",
       "\\item 'ncRNA'\n",
       "\\item 'mRNA'\n",
       "\\item 'CDS'\n",
       "\\item 'precursor\\_RNA'\n",
       "\\item 'misc\\_RNA'\n",
       "\\item 'tRNA'\n",
       "\\item 'V\\_segment'\n",
       "\\item 'rRNA'\n",
       "\\item 'C\\_region'\n",
       "\\item 'J\\_segment'\n",
       "\\item 'D\\_segment'\n",
       "\\end{enumerate*}\n"
      ],
      "text/markdown": [
       "1. 'gene'\n",
       "2. 'ncRNA'\n",
       "3. 'mRNA'\n",
       "4. 'CDS'\n",
       "5. 'precursor_RNA'\n",
       "6. 'misc_RNA'\n",
       "7. 'tRNA'\n",
       "8. 'V_segment'\n",
       "9. 'rRNA'\n",
       "10. 'C_region'\n",
       "11. 'J_segment'\n",
       "12. 'D_segment'\n",
       "\n",
       "\n"
      ],
      "text/plain": [
       " [1] \"gene\"          \"ncRNA\"         \"mRNA\"          \"CDS\"          \n",
       " [5] \"precursor_RNA\" \"misc_RNA\"      \"tRNA\"          \"V_segment\"    \n",
       " [9] \"rRNA\"          \"C_region\"      \"J_segment\"     \"D_segment\"    "
      ]
     },
     "metadata": {},
     "output_type": "display_data"
    },
    {
     "data": {
      "text/html": [
       "<table class=\"dataframe\">\n",
       "<caption>A data.frame: 6 × 20</caption>\n",
       "<thead>\n",
       "\t<tr><th></th><th scope=col>X..feature</th><th scope=col>class</th><th scope=col>assembly</th><th scope=col>assembly_unit</th><th scope=col>seq_type</th><th scope=col>chromosome</th><th scope=col>genomic_accession</th><th scope=col>start</th><th scope=col>end</th><th scope=col>strand</th><th scope=col>product_accession</th><th scope=col>non.redundant_refseq</th><th scope=col>related_accession</th><th scope=col>name</th><th scope=col>symbol</th><th scope=col>GeneID</th><th scope=col>locus_tag</th><th scope=col>feature_interval_length</th><th scope=col>product_length</th><th scope=col>attributes</th></tr>\n",
       "\t<tr><th></th><th scope=col>&lt;chr&gt;</th><th scope=col>&lt;chr&gt;</th><th scope=col>&lt;chr&gt;</th><th scope=col>&lt;chr&gt;</th><th scope=col>&lt;chr&gt;</th><th scope=col>&lt;chr&gt;</th><th scope=col>&lt;chr&gt;</th><th scope=col>&lt;int&gt;</th><th scope=col>&lt;int&gt;</th><th scope=col>&lt;chr&gt;</th><th scope=col>&lt;chr&gt;</th><th scope=col>&lt;lgl&gt;</th><th scope=col>&lt;chr&gt;</th><th scope=col>&lt;chr&gt;</th><th scope=col>&lt;chr&gt;</th><th scope=col>&lt;int&gt;</th><th scope=col>&lt;lgl&gt;</th><th scope=col>&lt;int&gt;</th><th scope=col>&lt;int&gt;</th><th scope=col>&lt;chr&gt;</th></tr>\n",
       "</thead>\n",
       "<tbody>\n",
       "\t<tr><th scope=row>2</th><td>ncRNA</td><td>lncRNA</td><td>GCF_009914755.1</td><td>Primary Assembly</td><td>chromosome</td><td>1</td><td>NC_060925.1</td><td>  7506</td><td>138480</td><td>-</td><td>NR_182074.1   </td><td>NA</td><td>              </td><td>uncharacterized lncRNA, transcript variant 1     </td><td>LOC127239154</td><td>127239154</td><td>NA</td><td>5892</td><td>5901</td><td>       </td></tr>\n",
       "\t<tr><th scope=row>3</th><td>ncRNA</td><td>lncRNA</td><td>GCF_009914755.1</td><td>Primary Assembly</td><td>chromosome</td><td>1</td><td>NC_060925.1</td><td>  7506</td><td>137287</td><td>-</td><td>NR_182075.1   </td><td>NA</td><td>              </td><td>uncharacterized lncRNA, transcript variant 2     </td><td>LOC127239154</td><td>127239154</td><td>NA</td><td>5829</td><td>5838</td><td>       </td></tr>\n",
       "\t<tr><th scope=row>4</th><td>ncRNA</td><td>lncRNA</td><td>GCF_009914755.1</td><td>Primary Assembly</td><td>chromosome</td><td>1</td><td>NC_060925.1</td><td>  7506</td><td> 13582</td><td>-</td><td>NR_182076.1   </td><td>NA</td><td>              </td><td>uncharacterized lncRNA, transcript variant 3     </td><td>LOC127239154</td><td>127239154</td><td>NA</td><td>5615</td><td>5733</td><td>partial</td></tr>\n",
       "\t<tr><th scope=row>6</th><td>ncRNA</td><td>lncRNA</td><td>GCF_009914755.1</td><td>Primary Assembly</td><td>chromosome</td><td>1</td><td>NC_060925.1</td><td> 20892</td><td> 23710</td><td>-</td><td>XR_007069731.1</td><td>NA</td><td>              </td><td>uncharacterized lncRNA                           </td><td>LOC124905685</td><td>124905685</td><td>NA</td><td> 283</td><td> 283</td><td>       </td></tr>\n",
       "\t<tr><th scope=row>8</th><td>ncRNA</td><td>lncRNA</td><td>GCF_009914755.1</td><td>Primary Assembly</td><td>chromosome</td><td>1</td><td>NC_060925.1</td><td> 52979</td><td> 54612</td><td>-</td><td>NR_125957.1   </td><td>NA</td><td>              </td><td>uncharacterized lncRNA                           </td><td>LOC101928626</td><td>101928626</td><td>NA</td><td> 802</td><td> 798</td><td>       </td></tr>\n",
       "\t<tr><th scope=row>10</th><td>mRNA </td><td>      </td><td>GCF_009914755.1</td><td>Primary Assembly</td><td>chromosome</td><td>1</td><td>NC_060925.1</td><td>111940</td><td>112877</td><td>-</td><td>NM_001005277.1</td><td>NA</td><td>NP_001005277.1</td><td>olfactory receptor family 4 subfamily F member 16</td><td>OR4F16      </td><td>    81399</td><td>NA</td><td> 938</td><td> 939</td><td>       </td></tr>\n",
       "</tbody>\n",
       "</table>\n"
      ],
      "text/latex": [
       "A data.frame: 6 × 20\n",
       "\\begin{tabular}{r|llllllllllllllllllll}\n",
       "  & X..feature & class & assembly & assembly\\_unit & seq\\_type & chromosome & genomic\\_accession & start & end & strand & product\\_accession & non.redundant\\_refseq & related\\_accession & name & symbol & GeneID & locus\\_tag & feature\\_interval\\_length & product\\_length & attributes\\\\\n",
       "  & <chr> & <chr> & <chr> & <chr> & <chr> & <chr> & <chr> & <int> & <int> & <chr> & <chr> & <lgl> & <chr> & <chr> & <chr> & <int> & <lgl> & <int> & <int> & <chr>\\\\\n",
       "\\hline\n",
       "\t2 & ncRNA & lncRNA & GCF\\_009914755.1 & Primary Assembly & chromosome & 1 & NC\\_060925.1 &   7506 & 138480 & - & NR\\_182074.1    & NA &                & uncharacterized lncRNA, transcript variant 1      & LOC127239154 & 127239154 & NA & 5892 & 5901 &        \\\\\n",
       "\t3 & ncRNA & lncRNA & GCF\\_009914755.1 & Primary Assembly & chromosome & 1 & NC\\_060925.1 &   7506 & 137287 & - & NR\\_182075.1    & NA &                & uncharacterized lncRNA, transcript variant 2      & LOC127239154 & 127239154 & NA & 5829 & 5838 &        \\\\\n",
       "\t4 & ncRNA & lncRNA & GCF\\_009914755.1 & Primary Assembly & chromosome & 1 & NC\\_060925.1 &   7506 &  13582 & - & NR\\_182076.1    & NA &                & uncharacterized lncRNA, transcript variant 3      & LOC127239154 & 127239154 & NA & 5615 & 5733 & partial\\\\\n",
       "\t6 & ncRNA & lncRNA & GCF\\_009914755.1 & Primary Assembly & chromosome & 1 & NC\\_060925.1 &  20892 &  23710 & - & XR\\_007069731.1 & NA &                & uncharacterized lncRNA                            & LOC124905685 & 124905685 & NA &  283 &  283 &        \\\\\n",
       "\t8 & ncRNA & lncRNA & GCF\\_009914755.1 & Primary Assembly & chromosome & 1 & NC\\_060925.1 &  52979 &  54612 & - & NR\\_125957.1    & NA &                & uncharacterized lncRNA                            & LOC101928626 & 101928626 & NA &  802 &  798 &        \\\\\n",
       "\t10 & mRNA  &        & GCF\\_009914755.1 & Primary Assembly & chromosome & 1 & NC\\_060925.1 & 111940 & 112877 & - & NM\\_001005277.1 & NA & NP\\_001005277.1 & olfactory receptor family 4 subfamily F member 16 & OR4F16       &     81399 & NA &  938 &  939 &        \\\\\n",
       "\\end{tabular}\n"
      ],
      "text/markdown": [
       "\n",
       "A data.frame: 6 × 20\n",
       "\n",
       "| <!--/--> | X..feature &lt;chr&gt; | class &lt;chr&gt; | assembly &lt;chr&gt; | assembly_unit &lt;chr&gt; | seq_type &lt;chr&gt; | chromosome &lt;chr&gt; | genomic_accession &lt;chr&gt; | start &lt;int&gt; | end &lt;int&gt; | strand &lt;chr&gt; | product_accession &lt;chr&gt; | non.redundant_refseq &lt;lgl&gt; | related_accession &lt;chr&gt; | name &lt;chr&gt; | symbol &lt;chr&gt; | GeneID &lt;int&gt; | locus_tag &lt;lgl&gt; | feature_interval_length &lt;int&gt; | product_length &lt;int&gt; | attributes &lt;chr&gt; |\n",
       "|---|---|---|---|---|---|---|---|---|---|---|---|---|---|---|---|---|---|---|---|---|\n",
       "| 2 | ncRNA | lncRNA | GCF_009914755.1 | Primary Assembly | chromosome | 1 | NC_060925.1 |   7506 | 138480 | - | NR_182074.1    | NA | <!----> | uncharacterized lncRNA, transcript variant 1      | LOC127239154 | 127239154 | NA | 5892 | 5901 | <!----> |\n",
       "| 3 | ncRNA | lncRNA | GCF_009914755.1 | Primary Assembly | chromosome | 1 | NC_060925.1 |   7506 | 137287 | - | NR_182075.1    | NA | <!----> | uncharacterized lncRNA, transcript variant 2      | LOC127239154 | 127239154 | NA | 5829 | 5838 | <!----> |\n",
       "| 4 | ncRNA | lncRNA | GCF_009914755.1 | Primary Assembly | chromosome | 1 | NC_060925.1 |   7506 |  13582 | - | NR_182076.1    | NA | <!----> | uncharacterized lncRNA, transcript variant 3      | LOC127239154 | 127239154 | NA | 5615 | 5733 | partial |\n",
       "| 6 | ncRNA | lncRNA | GCF_009914755.1 | Primary Assembly | chromosome | 1 | NC_060925.1 |  20892 |  23710 | - | XR_007069731.1 | NA | <!----> | uncharacterized lncRNA                            | LOC124905685 | 124905685 | NA |  283 |  283 | <!----> |\n",
       "| 8 | ncRNA | lncRNA | GCF_009914755.1 | Primary Assembly | chromosome | 1 | NC_060925.1 |  52979 |  54612 | - | NR_125957.1    | NA | <!----> | uncharacterized lncRNA                            | LOC101928626 | 101928626 | NA |  802 |  798 | <!----> |\n",
       "| 10 | mRNA  | <!----> | GCF_009914755.1 | Primary Assembly | chromosome | 1 | NC_060925.1 | 111940 | 112877 | - | NM_001005277.1 | NA | NP_001005277.1 | olfactory receptor family 4 subfamily F member 16 | OR4F16       |     81399 | NA |  938 |  939 | <!----> |\n",
       "\n"
      ],
      "text/plain": [
       "   X..feature class  assembly        assembly_unit    seq_type   chromosome\n",
       "2  ncRNA      lncRNA GCF_009914755.1 Primary Assembly chromosome 1         \n",
       "3  ncRNA      lncRNA GCF_009914755.1 Primary Assembly chromosome 1         \n",
       "4  ncRNA      lncRNA GCF_009914755.1 Primary Assembly chromosome 1         \n",
       "6  ncRNA      lncRNA GCF_009914755.1 Primary Assembly chromosome 1         \n",
       "8  ncRNA      lncRNA GCF_009914755.1 Primary Assembly chromosome 1         \n",
       "10 mRNA              GCF_009914755.1 Primary Assembly chromosome 1         \n",
       "   genomic_accession start  end    strand product_accession\n",
       "2  NC_060925.1         7506 138480 -      NR_182074.1      \n",
       "3  NC_060925.1         7506 137287 -      NR_182075.1      \n",
       "4  NC_060925.1         7506  13582 -      NR_182076.1      \n",
       "6  NC_060925.1        20892  23710 -      XR_007069731.1   \n",
       "8  NC_060925.1        52979  54612 -      NR_125957.1      \n",
       "10 NC_060925.1       111940 112877 -      NM_001005277.1   \n",
       "   non.redundant_refseq related_accession\n",
       "2  NA                                    \n",
       "3  NA                                    \n",
       "4  NA                                    \n",
       "6  NA                                    \n",
       "8  NA                                    \n",
       "10 NA                   NP_001005277.1   \n",
       "   name                                              symbol       GeneID   \n",
       "2  uncharacterized lncRNA, transcript variant 1      LOC127239154 127239154\n",
       "3  uncharacterized lncRNA, transcript variant 2      LOC127239154 127239154\n",
       "4  uncharacterized lncRNA, transcript variant 3      LOC127239154 127239154\n",
       "6  uncharacterized lncRNA                            LOC124905685 124905685\n",
       "8  uncharacterized lncRNA                            LOC101928626 101928626\n",
       "10 olfactory receptor family 4 subfamily F member 16 OR4F16           81399\n",
       "   locus_tag feature_interval_length product_length attributes\n",
       "2  NA        5892                    5901                     \n",
       "3  NA        5829                    5838                     \n",
       "4  NA        5615                    5733           partial   \n",
       "6  NA         283                     283                     \n",
       "8  NA         802                     798                     \n",
       "10 NA         938                     939                     "
      ]
     },
     "metadata": {},
     "output_type": "display_data"
    },
    {
     "data": {
      "text/html": [
       "165711"
      ],
      "text/latex": [
       "165711"
      ],
      "text/markdown": [
       "165711"
      ],
      "text/plain": [
       "[1] 165711"
      ]
     },
     "metadata": {},
     "output_type": "display_data"
    },
    {
     "data": {
      "text/html": [
       "<table class=\"dataframe\">\n",
       "<caption>A data.frame: 6 × 2</caption>\n",
       "<thead>\n",
       "\t<tr><th></th><th scope=col>transcript_id</th><th scope=col>geneID</th></tr>\n",
       "\t<tr><th></th><th scope=col>&lt;chr&gt;</th><th scope=col>&lt;chr&gt;</th></tr>\n",
       "</thead>\n",
       "<tbody>\n",
       "\t<tr><th scope=row>2</th><td>NR_182074.1   </td><td>LOC127239154</td></tr>\n",
       "\t<tr><th scope=row>3</th><td>NR_182075.1   </td><td>LOC127239154</td></tr>\n",
       "\t<tr><th scope=row>4</th><td>NR_182076.1   </td><td>LOC127239154</td></tr>\n",
       "\t<tr><th scope=row>6</th><td>XR_007069731.1</td><td>LOC124905685</td></tr>\n",
       "\t<tr><th scope=row>8</th><td>NR_125957.1   </td><td>LOC101928626</td></tr>\n",
       "\t<tr><th scope=row>10</th><td>NM_001005277.1</td><td>OR4F16      </td></tr>\n",
       "</tbody>\n",
       "</table>\n"
      ],
      "text/latex": [
       "A data.frame: 6 × 2\n",
       "\\begin{tabular}{r|ll}\n",
       "  & transcript\\_id & geneID\\\\\n",
       "  & <chr> & <chr>\\\\\n",
       "\\hline\n",
       "\t2 & NR\\_182074.1    & LOC127239154\\\\\n",
       "\t3 & NR\\_182075.1    & LOC127239154\\\\\n",
       "\t4 & NR\\_182076.1    & LOC127239154\\\\\n",
       "\t6 & XR\\_007069731.1 & LOC124905685\\\\\n",
       "\t8 & NR\\_125957.1    & LOC101928626\\\\\n",
       "\t10 & NM\\_001005277.1 & OR4F16      \\\\\n",
       "\\end{tabular}\n"
      ],
      "text/markdown": [
       "\n",
       "A data.frame: 6 × 2\n",
       "\n",
       "| <!--/--> | transcript_id &lt;chr&gt; | geneID &lt;chr&gt; |\n",
       "|---|---|---|\n",
       "| 2 | NR_182074.1    | LOC127239154 |\n",
       "| 3 | NR_182075.1    | LOC127239154 |\n",
       "| 4 | NR_182076.1    | LOC127239154 |\n",
       "| 6 | XR_007069731.1 | LOC124905685 |\n",
       "| 8 | NR_125957.1    | LOC101928626 |\n",
       "| 10 | NM_001005277.1 | OR4F16       |\n",
       "\n"
      ],
      "text/plain": [
       "   transcript_id  geneID      \n",
       "2  NR_182074.1    LOC127239154\n",
       "3  NR_182075.1    LOC127239154\n",
       "4  NR_182076.1    LOC127239154\n",
       "6  XR_007069731.1 LOC124905685\n",
       "8  NR_125957.1    LOC101928626\n",
       "10 NM_001005277.1 OR4F16      "
      ]
     },
     "metadata": {},
     "output_type": "display_data"
    },
    {
     "data": {
      "text/html": [
       "165711"
      ],
      "text/latex": [
       "165711"
      ],
      "text/markdown": [
       "165711"
      ],
      "text/plain": [
       "[1] 165711"
      ]
     },
     "metadata": {},
     "output_type": "display_data"
    },
    {
     "data": {
      "text/html": [
       "'data.frame'"
      ],
      "text/latex": [
       "'data.frame'"
      ],
      "text/markdown": [
       "'data.frame'"
      ],
      "text/plain": [
       "[1] \"data.frame\""
      ]
     },
     "metadata": {},
     "output_type": "display_data"
    },
    {
     "data": {
      "text/html": [
       "<table class=\"dataframe\">\n",
       "<caption>A data.frame: 30 × 2</caption>\n",
       "<thead>\n",
       "\t<tr><th></th><th scope=col>transcript_id</th><th scope=col>geneID</th></tr>\n",
       "\t<tr><th></th><th scope=col>&lt;chr&gt;</th><th scope=col>&lt;chr&gt;</th></tr>\n",
       "</thead>\n",
       "<tbody>\n",
       "\t<tr><th scope=row>2</th><td>NR_182074.1   </td><td>LOC127239154</td></tr>\n",
       "\t<tr><th scope=row>3</th><td>NR_182075.1   </td><td>LOC127239154</td></tr>\n",
       "\t<tr><th scope=row>4</th><td>NR_182076.1   </td><td>LOC127239154</td></tr>\n",
       "\t<tr><th scope=row>6</th><td>XR_007069731.1</td><td>LOC124905685</td></tr>\n",
       "\t<tr><th scope=row>8</th><td>NR_125957.1   </td><td>LOC101928626</td></tr>\n",
       "\t<tr><th scope=row>10</th><td>NM_001005277.1</td><td>OR4F16      </td></tr>\n",
       "\t<tr><th scope=row>15</th><td>NR_168328.1   </td><td>LOC100288069</td></tr>\n",
       "\t<tr><th scope=row>18</th><td>NR_187359.1   </td><td>LINC01409   </td></tr>\n",
       "\t<tr><th scope=row>20</th><td>NR_103536.1   </td><td>FAM87B      </td></tr>\n",
       "\t<tr><th scope=row>22</th><td>NR_024321.1   </td><td>LINC00115   </td></tr>\n",
       "\t<tr><th scope=row>24</th><td>NR_047519.1   </td><td>LINC01128   </td></tr>\n",
       "\t<tr><th scope=row>25</th><td>NR_047521.1   </td><td>LINC01128   </td></tr>\n",
       "\t<tr><th scope=row>26</th><td>NR_047523.1   </td><td>LINC01128   </td></tr>\n",
       "\t<tr><th scope=row>27</th><td>NR_047524.1   </td><td>LINC01128   </td></tr>\n",
       "\t<tr><th scope=row>28</th><td>NR_047526.1   </td><td>LINC01128   </td></tr>\n",
       "\t<tr><th scope=row>29</th><td>NR_047525.1   </td><td>LINC01128   </td></tr>\n",
       "\t<tr><th scope=row>31</th><td>XR_007069732.1</td><td>LOC107984850</td></tr>\n",
       "\t<tr><th scope=row>32</th><td>XR_007069733.1</td><td>LOC107984850</td></tr>\n",
       "\t<tr><th scope=row>34</th><td>NR_027055.1   </td><td>FAM41C      </td></tr>\n",
       "\t<tr><th scope=row>37</th><td>XR_007069734.1</td><td>LOC124905686</td></tr>\n",
       "\t<tr><th scope=row>39</th><td>NR_122045.1   </td><td>LINC02593   </td></tr>\n",
       "\t<tr><th scope=row>40</th><td>NR_026874.2   </td><td>LINC02593   </td></tr>\n",
       "\t<tr><th scope=row>42</th><td>NR_168405.1   </td><td>LOC107985728</td></tr>\n",
       "\t<tr><th scope=row>44</th><td>NM_001385640.1</td><td>SAMD11      </td></tr>\n",
       "\t<tr><th scope=row>45</th><td>NM_001385641.1</td><td>SAMD11      </td></tr>\n",
       "\t<tr><th scope=row>48</th><td>NM_152486.4   </td><td>SAMD11      </td></tr>\n",
       "\t<tr><th scope=row>51</th><td>NM_015658.4   </td><td>NOC2L       </td></tr>\n",
       "\t<tr><th scope=row>54</th><td>NM_198317.3   </td><td>KLHL17      </td></tr>\n",
       "\t<tr><th scope=row>56</th><td>XM_054336254.1</td><td>KLHL17      </td></tr>\n",
       "\t<tr><th scope=row>57</th><td>XM_054336256.1</td><td>KLHL17      </td></tr>\n",
       "</tbody>\n",
       "</table>\n"
      ],
      "text/latex": [
       "A data.frame: 30 × 2\n",
       "\\begin{tabular}{r|ll}\n",
       "  & transcript\\_id & geneID\\\\\n",
       "  & <chr> & <chr>\\\\\n",
       "\\hline\n",
       "\t2 & NR\\_182074.1    & LOC127239154\\\\\n",
       "\t3 & NR\\_182075.1    & LOC127239154\\\\\n",
       "\t4 & NR\\_182076.1    & LOC127239154\\\\\n",
       "\t6 & XR\\_007069731.1 & LOC124905685\\\\\n",
       "\t8 & NR\\_125957.1    & LOC101928626\\\\\n",
       "\t10 & NM\\_001005277.1 & OR4F16      \\\\\n",
       "\t15 & NR\\_168328.1    & LOC100288069\\\\\n",
       "\t18 & NR\\_187359.1    & LINC01409   \\\\\n",
       "\t20 & NR\\_103536.1    & FAM87B      \\\\\n",
       "\t22 & NR\\_024321.1    & LINC00115   \\\\\n",
       "\t24 & NR\\_047519.1    & LINC01128   \\\\\n",
       "\t25 & NR\\_047521.1    & LINC01128   \\\\\n",
       "\t26 & NR\\_047523.1    & LINC01128   \\\\\n",
       "\t27 & NR\\_047524.1    & LINC01128   \\\\\n",
       "\t28 & NR\\_047526.1    & LINC01128   \\\\\n",
       "\t29 & NR\\_047525.1    & LINC01128   \\\\\n",
       "\t31 & XR\\_007069732.1 & LOC107984850\\\\\n",
       "\t32 & XR\\_007069733.1 & LOC107984850\\\\\n",
       "\t34 & NR\\_027055.1    & FAM41C      \\\\\n",
       "\t37 & XR\\_007069734.1 & LOC124905686\\\\\n",
       "\t39 & NR\\_122045.1    & LINC02593   \\\\\n",
       "\t40 & NR\\_026874.2    & LINC02593   \\\\\n",
       "\t42 & NR\\_168405.1    & LOC107985728\\\\\n",
       "\t44 & NM\\_001385640.1 & SAMD11      \\\\\n",
       "\t45 & NM\\_001385641.1 & SAMD11      \\\\\n",
       "\t48 & NM\\_152486.4    & SAMD11      \\\\\n",
       "\t51 & NM\\_015658.4    & NOC2L       \\\\\n",
       "\t54 & NM\\_198317.3    & KLHL17      \\\\\n",
       "\t56 & XM\\_054336254.1 & KLHL17      \\\\\n",
       "\t57 & XM\\_054336256.1 & KLHL17      \\\\\n",
       "\\end{tabular}\n"
      ],
      "text/markdown": [
       "\n",
       "A data.frame: 30 × 2\n",
       "\n",
       "| <!--/--> | transcript_id &lt;chr&gt; | geneID &lt;chr&gt; |\n",
       "|---|---|---|\n",
       "| 2 | NR_182074.1    | LOC127239154 |\n",
       "| 3 | NR_182075.1    | LOC127239154 |\n",
       "| 4 | NR_182076.1    | LOC127239154 |\n",
       "| 6 | XR_007069731.1 | LOC124905685 |\n",
       "| 8 | NR_125957.1    | LOC101928626 |\n",
       "| 10 | NM_001005277.1 | OR4F16       |\n",
       "| 15 | NR_168328.1    | LOC100288069 |\n",
       "| 18 | NR_187359.1    | LINC01409    |\n",
       "| 20 | NR_103536.1    | FAM87B       |\n",
       "| 22 | NR_024321.1    | LINC00115    |\n",
       "| 24 | NR_047519.1    | LINC01128    |\n",
       "| 25 | NR_047521.1    | LINC01128    |\n",
       "| 26 | NR_047523.1    | LINC01128    |\n",
       "| 27 | NR_047524.1    | LINC01128    |\n",
       "| 28 | NR_047526.1    | LINC01128    |\n",
       "| 29 | NR_047525.1    | LINC01128    |\n",
       "| 31 | XR_007069732.1 | LOC107984850 |\n",
       "| 32 | XR_007069733.1 | LOC107984850 |\n",
       "| 34 | NR_027055.1    | FAM41C       |\n",
       "| 37 | XR_007069734.1 | LOC124905686 |\n",
       "| 39 | NR_122045.1    | LINC02593    |\n",
       "| 40 | NR_026874.2    | LINC02593    |\n",
       "| 42 | NR_168405.1    | LOC107985728 |\n",
       "| 44 | NM_001385640.1 | SAMD11       |\n",
       "| 45 | NM_001385641.1 | SAMD11       |\n",
       "| 48 | NM_152486.4    | SAMD11       |\n",
       "| 51 | NM_015658.4    | NOC2L        |\n",
       "| 54 | NM_198317.3    | KLHL17       |\n",
       "| 56 | XM_054336254.1 | KLHL17       |\n",
       "| 57 | XM_054336256.1 | KLHL17       |\n",
       "\n"
      ],
      "text/plain": [
       "   transcript_id  geneID      \n",
       "2  NR_182074.1    LOC127239154\n",
       "3  NR_182075.1    LOC127239154\n",
       "4  NR_182076.1    LOC127239154\n",
       "6  XR_007069731.1 LOC124905685\n",
       "8  NR_125957.1    LOC101928626\n",
       "10 NM_001005277.1 OR4F16      \n",
       "15 NR_168328.1    LOC100288069\n",
       "18 NR_187359.1    LINC01409   \n",
       "20 NR_103536.1    FAM87B      \n",
       "22 NR_024321.1    LINC00115   \n",
       "24 NR_047519.1    LINC01128   \n",
       "25 NR_047521.1    LINC01128   \n",
       "26 NR_047523.1    LINC01128   \n",
       "27 NR_047524.1    LINC01128   \n",
       "28 NR_047526.1    LINC01128   \n",
       "29 NR_047525.1    LINC01128   \n",
       "31 XR_007069732.1 LOC107984850\n",
       "32 XR_007069733.1 LOC107984850\n",
       "34 NR_027055.1    FAM41C      \n",
       "37 XR_007069734.1 LOC124905686\n",
       "39 NR_122045.1    LINC02593   \n",
       "40 NR_026874.2    LINC02593   \n",
       "42 NR_168405.1    LOC107985728\n",
       "44 NM_001385640.1 SAMD11      \n",
       "45 NM_001385641.1 SAMD11      \n",
       "48 NM_152486.4    SAMD11      \n",
       "51 NM_015658.4    NOC2L       \n",
       "54 NM_198317.3    KLHL17      \n",
       "56 XM_054336254.1 KLHL17      \n",
       "57 XM_054336256.1 KLHL17      "
      ]
     },
     "metadata": {},
     "output_type": "display_data"
    }
   ],
   "source": [
    "# firstly I need to format the feature table in order to be able to work with tximport\n",
    "feature_file <- \"/lustre/scratch126/cellgen/behjati/lr26/T2T/GCF_009914755.1_T2T-CHM13v2.0_feature_table.txt.gz\"\n",
    "feature_table <- read.delim(feature_file, header = TRUE, sep = \"\\t\", quote = \"\")\n",
    "\n",
    "# look for the features\n",
    "names(feature_table)  # X..feature, gene ID, etc\n",
    "# check unique values \n",
    "unique(feature_table$`X..feature`)\n",
    "\n",
    "# since this is transcriptomics, I subset for transcripts using the correct name of the column and filter for transcripts\n",
    "tx2gene_df <- subset(feature_table, \n",
    "                     `X..feature` %in% c(\"mRNA\", \"ncRNA\") & \n",
    "                     !is.na(GeneID) & \n",
    "                     !is.na(product_accession))\n",
    "\n",
    "# confirm that I have the resulting df\n",
    "head(tx2gene_df)\n",
    "nrow(tx2gene_df)\n",
    "\n",
    "# create the tx2gene mapping\n",
    "tx2gene <- tx2gene_df[, c(\"product_accession\", \"symbol\")]\n",
    "colnames(tx2gene) <- c(\"transcript_id\", \"geneID\")\n",
    "\n",
    "# check it makes sense\n",
    "head(tx2gene)\n",
    "nrow(tx2gene)\n",
    "class(tx2gene)\n",
    "tx2gene[1:30,]\n"
   ]
  },
  {
   "cell_type": "code",
   "execution_count": 8,
   "id": "3302184b-fc7b-45af-bf55-039c995db5b5",
   "metadata": {
    "tags": []
   },
   "outputs": [],
   "source": [
    "# here I take a list of the files in the Salmon directory, all should be named with a pattern quant.sf\n",
    "files <- list.files(path = \"/lustre/scratch126/cellgen/behjati/lr26/RNA/Salmon\",\n",
    "                    pattern = \"quant.sf\", full.names = TRUE, recursive = TRUE)\n",
    "\n",
    "# keep only files in folders starting with quant_te (all are in their respective folders and start with quant_te)\n",
    "files <- files[grepl(\"quant_te\", files)]\n",
    "\n",
    "# I am using the parent folder name as sample name\n",
    "names(files) <- sub(\"^quant_te[_-]?\", \"\", basename(dirname(files)))"
   ]
  },
  {
   "cell_type": "code",
   "execution_count": 9,
   "id": "c315034f-a02e-4534-9d6b-9f91feaa230c",
   "metadata": {
    "tags": []
   },
   "outputs": [
    {
     "name": "stderr",
     "output_type": "stream",
     "text": [
      "reading in files with read_tsv\n",
      "\n",
      "1 \n",
      "2 \n",
      "3 \n",
      "4 \n",
      "5 \n",
      "6 \n",
      "7 \n",
      "8 \n",
      "9 \n",
      "10 \n",
      "11 \n",
      "12 \n",
      "13 \n",
      "14 \n",
      "15 \n",
      "16 \n",
      "17 \n",
      "18 \n",
      "19 \n",
      "20 \n",
      "21 \n",
      "\n",
      "\n",
      "removing duplicated transcript rows from tx2gene\n",
      "\n",
      "transcripts missing from tx2gene: 16267\n",
      "\n",
      "summarizing abundance\n",
      "\n",
      "summarizing counts\n",
      "\n",
      "summarizing length\n",
      "\n"
     ]
    },
    {
     "data": {
      "text/html": [
       "<table class=\"dataframe\">\n",
       "<caption>A matrix: 6 × 21 of type dbl</caption>\n",
       "<thead>\n",
       "\t<tr><th></th><th scope=col>AS-892475-LR-66487</th><th scope=col>AS-892476-LR-66487</th><th scope=col>AS-892477-LR-66487</th><th scope=col>AS-892478-LR-66487</th><th scope=col>AS-892479-LR-66487</th><th scope=col>AS-892480-LR-66487</th><th scope=col>AS-892481-LR-66487</th><th scope=col>AS-892482-LR-66487</th><th scope=col>AS-892483-LR-66487</th><th scope=col>AS-892484-LR-66487</th><th scope=col>⋯</th><th scope=col>GSM5024895</th><th scope=col>GSM5024896</th><th scope=col>GSM5024897</th><th scope=col>GSM5024898</th><th scope=col>GSM5024899</th><th scope=col>GSM5024900</th><th scope=col>GSM5024901</th><th scope=col>GSM5024902</th><th scope=col>our_patient_FO</th><th scope=col>our_patient</th></tr>\n",
       "</thead>\n",
       "<tbody>\n",
       "\t<tr><th scope=row>A1BG</th><td> 605.280</td><td>  185.000</td><td>473.000</td><td>221.000</td><td> 520.693</td><td>185.000</td><td>519</td><td> 499.000</td><td>322.997</td><td>  458.000</td><td>⋯</td><td> 433.326</td><td>264.773</td><td>188.205</td><td> 237.917</td><td>  216.427</td><td>94.786</td><td>  316.258</td><td> 250.127</td><td>  379.094</td><td> 1102.000</td></tr>\n",
       "\t<tr><th scope=row>A1BG-AS1</th><td> 260.000</td><td>  280.000</td><td>527.000</td><td>534.000</td><td> 667.000</td><td>244.000</td><td>416</td><td> 483.000</td><td>812.218</td><td>  331.000</td><td>⋯</td><td> 176.125</td><td>134.448</td><td> 55.030</td><td> 151.060</td><td>  135.841</td><td>24.000</td><td>   95.789</td><td>  92.002</td><td>  538.000</td><td>  368.004</td></tr>\n",
       "\t<tr><th scope=row>A1CF</th><td>   0.000</td><td>    0.000</td><td>  0.000</td><td>  0.000</td><td>   0.000</td><td>  0.000</td><td>  0</td><td>   0.000</td><td>  0.000</td><td>    0.000</td><td>⋯</td><td>  32.000</td><td> 22.737</td><td> 48.224</td><td>   4.014</td><td>    7.000</td><td> 5.000</td><td>   85.982</td><td>   2.018</td><td>    3.000</td><td>    2.000</td></tr>\n",
       "\t<tr><th scope=row>A2M</th><td>   1.000</td><td>15590.361</td><td>  3.000</td><td> 17.000</td><td>  33.000</td><td>387.012</td><td> 22</td><td>4373.988</td><td> 43.000</td><td>22809.281</td><td>⋯</td><td>4101.929</td><td>667.506</td><td>175.696</td><td>5904.509</td><td>19216.217</td><td>35.000</td><td>78907.266</td><td>5586.056</td><td>20044.608</td><td>89773.440</td></tr>\n",
       "\t<tr><th scope=row>A2M-AS1</th><td>   2.000</td><td>    1.000</td><td>  0.000</td><td>  2.000</td><td>   3.000</td><td>  1.000</td><td> 21</td><td>  64.000</td><td> 56.000</td><td>  186.999</td><td>⋯</td><td>  38.000</td><td> 29.001</td><td> 14.296</td><td>  15.000</td><td>   78.219</td><td>81.000</td><td>  130.965</td><td>  35.000</td><td>  429.000</td><td> 1032.000</td></tr>\n",
       "\t<tr><th scope=row>A2ML1</th><td>3153.327</td><td>  140.151</td><td>365.155</td><td>290.001</td><td>2363.429</td><td>102.000</td><td>  1</td><td>   1.000</td><td>  0.000</td><td>    2.000</td><td>⋯</td><td> 169.923</td><td> 73.162</td><td>101.742</td><td>  26.821</td><td>   53.203</td><td>57.106</td><td>  169.836</td><td>  66.451</td><td>  277.804</td><td>    0.000</td></tr>\n",
       "</tbody>\n",
       "</table>\n"
      ],
      "text/latex": [
       "A matrix: 6 × 21 of type dbl\n",
       "\\begin{tabular}{r|lllllllllllllllllllll}\n",
       "  & AS-892475-LR-66487 & AS-892476-LR-66487 & AS-892477-LR-66487 & AS-892478-LR-66487 & AS-892479-LR-66487 & AS-892480-LR-66487 & AS-892481-LR-66487 & AS-892482-LR-66487 & AS-892483-LR-66487 & AS-892484-LR-66487 & ⋯ & GSM5024895 & GSM5024896 & GSM5024897 & GSM5024898 & GSM5024899 & GSM5024900 & GSM5024901 & GSM5024902 & our\\_patient\\_FO & our\\_patient\\\\\n",
       "\\hline\n",
       "\tA1BG &  605.280 &   185.000 & 473.000 & 221.000 &  520.693 & 185.000 & 519 &  499.000 & 322.997 &   458.000 & ⋯ &  433.326 & 264.773 & 188.205 &  237.917 &   216.427 & 94.786 &   316.258 &  250.127 &   379.094 &  1102.000\\\\\n",
       "\tA1BG-AS1 &  260.000 &   280.000 & 527.000 & 534.000 &  667.000 & 244.000 & 416 &  483.000 & 812.218 &   331.000 & ⋯ &  176.125 & 134.448 &  55.030 &  151.060 &   135.841 & 24.000 &    95.789 &   92.002 &   538.000 &   368.004\\\\\n",
       "\tA1CF &    0.000 &     0.000 &   0.000 &   0.000 &    0.000 &   0.000 &   0 &    0.000 &   0.000 &     0.000 & ⋯ &   32.000 &  22.737 &  48.224 &    4.014 &     7.000 &  5.000 &    85.982 &    2.018 &     3.000 &     2.000\\\\\n",
       "\tA2M &    1.000 & 15590.361 &   3.000 &  17.000 &   33.000 & 387.012 &  22 & 4373.988 &  43.000 & 22809.281 & ⋯ & 4101.929 & 667.506 & 175.696 & 5904.509 & 19216.217 & 35.000 & 78907.266 & 5586.056 & 20044.608 & 89773.440\\\\\n",
       "\tA2M-AS1 &    2.000 &     1.000 &   0.000 &   2.000 &    3.000 &   1.000 &  21 &   64.000 &  56.000 &   186.999 & ⋯ &   38.000 &  29.001 &  14.296 &   15.000 &    78.219 & 81.000 &   130.965 &   35.000 &   429.000 &  1032.000\\\\\n",
       "\tA2ML1 & 3153.327 &   140.151 & 365.155 & 290.001 & 2363.429 & 102.000 &   1 &    1.000 &   0.000 &     2.000 & ⋯ &  169.923 &  73.162 & 101.742 &   26.821 &    53.203 & 57.106 &   169.836 &   66.451 &   277.804 &     0.000\\\\\n",
       "\\end{tabular}\n"
      ],
      "text/markdown": [
       "\n",
       "A matrix: 6 × 21 of type dbl\n",
       "\n",
       "| <!--/--> | AS-892475-LR-66487 | AS-892476-LR-66487 | AS-892477-LR-66487 | AS-892478-LR-66487 | AS-892479-LR-66487 | AS-892480-LR-66487 | AS-892481-LR-66487 | AS-892482-LR-66487 | AS-892483-LR-66487 | AS-892484-LR-66487 | ⋯ | GSM5024895 | GSM5024896 | GSM5024897 | GSM5024898 | GSM5024899 | GSM5024900 | GSM5024901 | GSM5024902 | our_patient_FO | our_patient |\n",
       "|---|---|---|---|---|---|---|---|---|---|---|---|---|---|---|---|---|---|---|---|---|---|\n",
       "| A1BG |  605.280 |   185.000 | 473.000 | 221.000 |  520.693 | 185.000 | 519 |  499.000 | 322.997 |   458.000 | ⋯ |  433.326 | 264.773 | 188.205 |  237.917 |   216.427 | 94.786 |   316.258 |  250.127 |   379.094 |  1102.000 |\n",
       "| A1BG-AS1 |  260.000 |   280.000 | 527.000 | 534.000 |  667.000 | 244.000 | 416 |  483.000 | 812.218 |   331.000 | ⋯ |  176.125 | 134.448 |  55.030 |  151.060 |   135.841 | 24.000 |    95.789 |   92.002 |   538.000 |   368.004 |\n",
       "| A1CF |    0.000 |     0.000 |   0.000 |   0.000 |    0.000 |   0.000 |   0 |    0.000 |   0.000 |     0.000 | ⋯ |   32.000 |  22.737 |  48.224 |    4.014 |     7.000 |  5.000 |    85.982 |    2.018 |     3.000 |     2.000 |\n",
       "| A2M |    1.000 | 15590.361 |   3.000 |  17.000 |   33.000 | 387.012 |  22 | 4373.988 |  43.000 | 22809.281 | ⋯ | 4101.929 | 667.506 | 175.696 | 5904.509 | 19216.217 | 35.000 | 78907.266 | 5586.056 | 20044.608 | 89773.440 |\n",
       "| A2M-AS1 |    2.000 |     1.000 |   0.000 |   2.000 |    3.000 |   1.000 |  21 |   64.000 |  56.000 |   186.999 | ⋯ |   38.000 |  29.001 |  14.296 |   15.000 |    78.219 | 81.000 |   130.965 |   35.000 |   429.000 |  1032.000 |\n",
       "| A2ML1 | 3153.327 |   140.151 | 365.155 | 290.001 | 2363.429 | 102.000 |   1 |    1.000 |   0.000 |     2.000 | ⋯ |  169.923 |  73.162 | 101.742 |   26.821 |    53.203 | 57.106 |   169.836 |   66.451 |   277.804 |     0.000 |\n",
       "\n"
      ],
      "text/plain": [
       "         AS-892475-LR-66487 AS-892476-LR-66487 AS-892477-LR-66487\n",
       "A1BG      605.280             185.000          473.000           \n",
       "A1BG-AS1  260.000             280.000          527.000           \n",
       "A1CF        0.000               0.000            0.000           \n",
       "A2M         1.000           15590.361            3.000           \n",
       "A2M-AS1     2.000               1.000            0.000           \n",
       "A2ML1    3153.327             140.151          365.155           \n",
       "         AS-892478-LR-66487 AS-892479-LR-66487 AS-892480-LR-66487\n",
       "A1BG     221.000             520.693           185.000           \n",
       "A1BG-AS1 534.000             667.000           244.000           \n",
       "A1CF       0.000               0.000             0.000           \n",
       "A2M       17.000              33.000           387.012           \n",
       "A2M-AS1    2.000               3.000             1.000           \n",
       "A2ML1    290.001            2363.429           102.000           \n",
       "         AS-892481-LR-66487 AS-892482-LR-66487 AS-892483-LR-66487\n",
       "A1BG     519                 499.000           322.997           \n",
       "A1BG-AS1 416                 483.000           812.218           \n",
       "A1CF       0                   0.000             0.000           \n",
       "A2M       22                4373.988            43.000           \n",
       "A2M-AS1   21                  64.000            56.000           \n",
       "A2ML1      1                   1.000             0.000           \n",
       "         AS-892484-LR-66487 ⋯ GSM5024895 GSM5024896 GSM5024897 GSM5024898\n",
       "A1BG       458.000          ⋯  433.326   264.773    188.205     237.917  \n",
       "A1BG-AS1   331.000          ⋯  176.125   134.448     55.030     151.060  \n",
       "A1CF         0.000          ⋯   32.000    22.737     48.224       4.014  \n",
       "A2M      22809.281          ⋯ 4101.929   667.506    175.696    5904.509  \n",
       "A2M-AS1    186.999          ⋯   38.000    29.001     14.296      15.000  \n",
       "A2ML1        2.000          ⋯  169.923    73.162    101.742      26.821  \n",
       "         GSM5024899 GSM5024900 GSM5024901 GSM5024902 our_patient_FO our_patient\n",
       "A1BG       216.427  94.786       316.258   250.127     379.094       1102.000  \n",
       "A1BG-AS1   135.841  24.000        95.789    92.002     538.000        368.004  \n",
       "A1CF         7.000   5.000        85.982     2.018       3.000          2.000  \n",
       "A2M      19216.217  35.000     78907.266  5586.056   20044.608      89773.440  \n",
       "A2M-AS1     78.219  81.000       130.965    35.000     429.000       1032.000  \n",
       "A2ML1       53.203  57.106       169.836    66.451     277.804          0.000  "
      ]
     },
     "metadata": {},
     "output_type": "display_data"
    },
    {
     "data": {
      "text/html": [
       "<table class=\"dataframe\">\n",
       "<caption>A matrix: 6 × 21 of type dbl</caption>\n",
       "<thead>\n",
       "\t<tr><th></th><th scope=col>AS-892475-LR-66487</th><th scope=col>AS-892476-LR-66487</th><th scope=col>AS-892477-LR-66487</th><th scope=col>AS-892478-LR-66487</th><th scope=col>AS-892479-LR-66487</th><th scope=col>AS-892480-LR-66487</th><th scope=col>AS-892481-LR-66487</th><th scope=col>AS-892482-LR-66487</th><th scope=col>AS-892483-LR-66487</th><th scope=col>AS-892484-LR-66487</th><th scope=col>⋯</th><th scope=col>GSM5024895</th><th scope=col>GSM5024896</th><th scope=col>GSM5024897</th><th scope=col>GSM5024898</th><th scope=col>GSM5024899</th><th scope=col>GSM5024900</th><th scope=col>GSM5024901</th><th scope=col>GSM5024902</th><th scope=col>our_patient_FO</th><th scope=col>our_patient</th></tr>\n",
       "</thead>\n",
       "<tbody>\n",
       "\t<tr><th scope=row>A1BG</th><td>2.805035</td><td> 1.545213</td><td>2.548477</td><td>1.988391</td><td>3.259987</td><td>1.616629</td><td>3.343938</td><td> 3.664909</td><td> 2.502667</td><td>  3.738633</td><td>⋯</td><td> 4.247215</td><td>3.029634</td><td>6.896041</td><td> 1.652471</td><td> 1.407915</td><td>5.830983</td><td>  2.028338</td><td> 1.628097</td><td> 2.398403</td><td> 0.651409</td></tr>\n",
       "\t<tr><th scope=row>A1BG-AS1</th><td>1.972893</td><td> 3.835724</td><td>4.646404</td><td>7.860161</td><td>6.831876</td><td>3.490618</td><td>4.387505</td><td> 5.807890</td><td>10.328153</td><td>  4.424743</td><td>⋯</td><td> 2.840377</td><td>2.509917</td><td>3.279103</td><td> 1.718076</td><td> 1.448706</td><td>2.419401</td><td>  1.006925</td><td> 0.978296</td><td> 5.671335</td><td> 0.362679</td></tr>\n",
       "\t<tr><th scope=row>A1CF</th><td>0.000000</td><td> 0.000000</td><td>0.000000</td><td>0.000000</td><td>0.000000</td><td>0.000000</td><td>0.000000</td><td> 0.000000</td><td> 0.000000</td><td>  0.000000</td><td>⋯</td><td> 0.112761</td><td>0.094331</td><td>0.627962</td><td> 0.010072</td><td> 0.016248</td><td>0.111033</td><td>  0.199022</td><td> 0.004757</td><td> 0.006740</td><td> 0.000420</td></tr>\n",
       "\t<tr><th scope=row>A2M</th><td>0.003480</td><td>92.904836</td><td>0.010866</td><td>0.114886</td><td>0.138905</td><td>2.404741</td><td>0.106444</td><td>22.948297</td><td> 0.223635</td><td>132.699255</td><td>⋯</td><td>28.541735</td><td>5.476694</td><td>4.640494</td><td>29.379797</td><td>88.998892</td><td>1.481418</td><td>359.413217</td><td>25.987146</td><td>90.362768</td><td>37.721038</td></tr>\n",
       "\t<tr><th scope=row>A2M-AS1</th><td>0.014741</td><td> 0.013305</td><td>0.000000</td><td>0.027088</td><td>0.029849</td><td>0.013896</td><td>0.215142</td><td> 0.715146</td><td> 0.668041</td><td>  2.314122</td><td>⋯</td><td> 0.568063</td><td>0.505444</td><td>0.827867</td><td> 0.162914</td><td> 0.767236</td><td>7.574698</td><td>  1.266260</td><td> 0.342547</td><td> 4.387024</td><td> 0.948677</td></tr>\n",
       "\t<tr><th scope=row>A2ML1</th><td>9.801793</td><td> 0.761766</td><td>1.301877</td><td>1.738657</td><td>9.646109</td><td>0.608682</td><td>0.004522</td><td> 0.005154</td><td> 0.000000</td><td>  0.010594</td><td>⋯</td><td> 1.159268</td><td>0.605212</td><td>2.648110</td><td> 0.128342</td><td> 0.247267</td><td>2.400480</td><td>  0.750221</td><td> 0.307704</td><td> 1.215415</td><td> 0.000000</td></tr>\n",
       "</tbody>\n",
       "</table>\n"
      ],
      "text/latex": [
       "A matrix: 6 × 21 of type dbl\n",
       "\\begin{tabular}{r|lllllllllllllllllllll}\n",
       "  & AS-892475-LR-66487 & AS-892476-LR-66487 & AS-892477-LR-66487 & AS-892478-LR-66487 & AS-892479-LR-66487 & AS-892480-LR-66487 & AS-892481-LR-66487 & AS-892482-LR-66487 & AS-892483-LR-66487 & AS-892484-LR-66487 & ⋯ & GSM5024895 & GSM5024896 & GSM5024897 & GSM5024898 & GSM5024899 & GSM5024900 & GSM5024901 & GSM5024902 & our\\_patient\\_FO & our\\_patient\\\\\n",
       "\\hline\n",
       "\tA1BG & 2.805035 &  1.545213 & 2.548477 & 1.988391 & 3.259987 & 1.616629 & 3.343938 &  3.664909 &  2.502667 &   3.738633 & ⋯ &  4.247215 & 3.029634 & 6.896041 &  1.652471 &  1.407915 & 5.830983 &   2.028338 &  1.628097 &  2.398403 &  0.651409\\\\\n",
       "\tA1BG-AS1 & 1.972893 &  3.835724 & 4.646404 & 7.860161 & 6.831876 & 3.490618 & 4.387505 &  5.807890 & 10.328153 &   4.424743 & ⋯ &  2.840377 & 2.509917 & 3.279103 &  1.718076 &  1.448706 & 2.419401 &   1.006925 &  0.978296 &  5.671335 &  0.362679\\\\\n",
       "\tA1CF & 0.000000 &  0.000000 & 0.000000 & 0.000000 & 0.000000 & 0.000000 & 0.000000 &  0.000000 &  0.000000 &   0.000000 & ⋯ &  0.112761 & 0.094331 & 0.627962 &  0.010072 &  0.016248 & 0.111033 &   0.199022 &  0.004757 &  0.006740 &  0.000420\\\\\n",
       "\tA2M & 0.003480 & 92.904836 & 0.010866 & 0.114886 & 0.138905 & 2.404741 & 0.106444 & 22.948297 &  0.223635 & 132.699255 & ⋯ & 28.541735 & 5.476694 & 4.640494 & 29.379797 & 88.998892 & 1.481418 & 359.413217 & 25.987146 & 90.362768 & 37.721038\\\\\n",
       "\tA2M-AS1 & 0.014741 &  0.013305 & 0.000000 & 0.027088 & 0.029849 & 0.013896 & 0.215142 &  0.715146 &  0.668041 &   2.314122 & ⋯ &  0.568063 & 0.505444 & 0.827867 &  0.162914 &  0.767236 & 7.574698 &   1.266260 &  0.342547 &  4.387024 &  0.948677\\\\\n",
       "\tA2ML1 & 9.801793 &  0.761766 & 1.301877 & 1.738657 & 9.646109 & 0.608682 & 0.004522 &  0.005154 &  0.000000 &   0.010594 & ⋯ &  1.159268 & 0.605212 & 2.648110 &  0.128342 &  0.247267 & 2.400480 &   0.750221 &  0.307704 &  1.215415 &  0.000000\\\\\n",
       "\\end{tabular}\n"
      ],
      "text/markdown": [
       "\n",
       "A matrix: 6 × 21 of type dbl\n",
       "\n",
       "| <!--/--> | AS-892475-LR-66487 | AS-892476-LR-66487 | AS-892477-LR-66487 | AS-892478-LR-66487 | AS-892479-LR-66487 | AS-892480-LR-66487 | AS-892481-LR-66487 | AS-892482-LR-66487 | AS-892483-LR-66487 | AS-892484-LR-66487 | ⋯ | GSM5024895 | GSM5024896 | GSM5024897 | GSM5024898 | GSM5024899 | GSM5024900 | GSM5024901 | GSM5024902 | our_patient_FO | our_patient |\n",
       "|---|---|---|---|---|---|---|---|---|---|---|---|---|---|---|---|---|---|---|---|---|---|\n",
       "| A1BG | 2.805035 |  1.545213 | 2.548477 | 1.988391 | 3.259987 | 1.616629 | 3.343938 |  3.664909 |  2.502667 |   3.738633 | ⋯ |  4.247215 | 3.029634 | 6.896041 |  1.652471 |  1.407915 | 5.830983 |   2.028338 |  1.628097 |  2.398403 |  0.651409 |\n",
       "| A1BG-AS1 | 1.972893 |  3.835724 | 4.646404 | 7.860161 | 6.831876 | 3.490618 | 4.387505 |  5.807890 | 10.328153 |   4.424743 | ⋯ |  2.840377 | 2.509917 | 3.279103 |  1.718076 |  1.448706 | 2.419401 |   1.006925 |  0.978296 |  5.671335 |  0.362679 |\n",
       "| A1CF | 0.000000 |  0.000000 | 0.000000 | 0.000000 | 0.000000 | 0.000000 | 0.000000 |  0.000000 |  0.000000 |   0.000000 | ⋯ |  0.112761 | 0.094331 | 0.627962 |  0.010072 |  0.016248 | 0.111033 |   0.199022 |  0.004757 |  0.006740 |  0.000420 |\n",
       "| A2M | 0.003480 | 92.904836 | 0.010866 | 0.114886 | 0.138905 | 2.404741 | 0.106444 | 22.948297 |  0.223635 | 132.699255 | ⋯ | 28.541735 | 5.476694 | 4.640494 | 29.379797 | 88.998892 | 1.481418 | 359.413217 | 25.987146 | 90.362768 | 37.721038 |\n",
       "| A2M-AS1 | 0.014741 |  0.013305 | 0.000000 | 0.027088 | 0.029849 | 0.013896 | 0.215142 |  0.715146 |  0.668041 |   2.314122 | ⋯ |  0.568063 | 0.505444 | 0.827867 |  0.162914 |  0.767236 | 7.574698 |   1.266260 |  0.342547 |  4.387024 |  0.948677 |\n",
       "| A2ML1 | 9.801793 |  0.761766 | 1.301877 | 1.738657 | 9.646109 | 0.608682 | 0.004522 |  0.005154 |  0.000000 |   0.010594 | ⋯ |  1.159268 | 0.605212 | 2.648110 |  0.128342 |  0.247267 | 2.400480 |   0.750221 |  0.307704 |  1.215415 |  0.000000 |\n",
       "\n"
      ],
      "text/plain": [
       "         AS-892475-LR-66487 AS-892476-LR-66487 AS-892477-LR-66487\n",
       "A1BG     2.805035            1.545213          2.548477          \n",
       "A1BG-AS1 1.972893            3.835724          4.646404          \n",
       "A1CF     0.000000            0.000000          0.000000          \n",
       "A2M      0.003480           92.904836          0.010866          \n",
       "A2M-AS1  0.014741            0.013305          0.000000          \n",
       "A2ML1    9.801793            0.761766          1.301877          \n",
       "         AS-892478-LR-66487 AS-892479-LR-66487 AS-892480-LR-66487\n",
       "A1BG     1.988391           3.259987           1.616629          \n",
       "A1BG-AS1 7.860161           6.831876           3.490618          \n",
       "A1CF     0.000000           0.000000           0.000000          \n",
       "A2M      0.114886           0.138905           2.404741          \n",
       "A2M-AS1  0.027088           0.029849           0.013896          \n",
       "A2ML1    1.738657           9.646109           0.608682          \n",
       "         AS-892481-LR-66487 AS-892482-LR-66487 AS-892483-LR-66487\n",
       "A1BG     3.343938            3.664909           2.502667         \n",
       "A1BG-AS1 4.387505            5.807890          10.328153         \n",
       "A1CF     0.000000            0.000000           0.000000         \n",
       "A2M      0.106444           22.948297           0.223635         \n",
       "A2M-AS1  0.215142            0.715146           0.668041         \n",
       "A2ML1    0.004522            0.005154           0.000000         \n",
       "         AS-892484-LR-66487 ⋯ GSM5024895 GSM5024896 GSM5024897 GSM5024898\n",
       "A1BG       3.738633         ⋯  4.247215  3.029634   6.896041    1.652471 \n",
       "A1BG-AS1   4.424743         ⋯  2.840377  2.509917   3.279103    1.718076 \n",
       "A1CF       0.000000         ⋯  0.112761  0.094331   0.627962    0.010072 \n",
       "A2M      132.699255         ⋯ 28.541735  5.476694   4.640494   29.379797 \n",
       "A2M-AS1    2.314122         ⋯  0.568063  0.505444   0.827867    0.162914 \n",
       "A2ML1      0.010594         ⋯  1.159268  0.605212   2.648110    0.128342 \n",
       "         GSM5024899 GSM5024900 GSM5024901 GSM5024902 our_patient_FO our_patient\n",
       "A1BG      1.407915  5.830983     2.028338  1.628097   2.398403       0.651409  \n",
       "A1BG-AS1  1.448706  2.419401     1.006925  0.978296   5.671335       0.362679  \n",
       "A1CF      0.016248  0.111033     0.199022  0.004757   0.006740       0.000420  \n",
       "A2M      88.998892  1.481418   359.413217 25.987146  90.362768      37.721038  \n",
       "A2M-AS1   0.767236  7.574698     1.266260  0.342547   4.387024       0.948677  \n",
       "A2ML1     0.247267  2.400480     0.750221  0.307704   1.215415       0.000000  "
      ]
     },
     "metadata": {},
     "output_type": "display_data"
    },
    {
     "data": {
      "text/html": [
       "<style>\n",
       ".list-inline {list-style: none; margin:0; padding: 0}\n",
       ".list-inline>li {display: inline-block}\n",
       ".list-inline>li:not(:last-child)::after {content: \"\\00b7\"; padding: 0 .5ex}\n",
       "</style>\n",
       "<ol class=list-inline><li>'A1BG'</li><li>'A1BG-AS1'</li><li>'A1CF'</li><li>'A2M'</li><li>'A2M-AS1'</li><li>'A2ML1'</li></ol>\n"
      ],
      "text/latex": [
       "\\begin{enumerate*}\n",
       "\\item 'A1BG'\n",
       "\\item 'A1BG-AS1'\n",
       "\\item 'A1CF'\n",
       "\\item 'A2M'\n",
       "\\item 'A2M-AS1'\n",
       "\\item 'A2ML1'\n",
       "\\end{enumerate*}\n"
      ],
      "text/markdown": [
       "1. 'A1BG'\n",
       "2. 'A1BG-AS1'\n",
       "3. 'A1CF'\n",
       "4. 'A2M'\n",
       "5. 'A2M-AS1'\n",
       "6. 'A2ML1'\n",
       "\n",
       "\n"
      ],
      "text/plain": [
       "[1] \"A1BG\"     \"A1BG-AS1\" \"A1CF\"     \"A2M\"      \"A2M-AS1\"  \"A2ML1\"   "
      ]
     },
     "metadata": {},
     "output_type": "display_data"
    },
    {
     "data": {
      "text/html": [
       "<style>\n",
       ".list-inline {list-style: none; margin:0; padding: 0}\n",
       ".list-inline>li {display: inline-block}\n",
       ".list-inline>li:not(:last-child)::after {content: \"\\00b7\"; padding: 0 .5ex}\n",
       "</style>\n",
       "<ol class=list-inline><li>'A1BG'</li><li>'A1BG-AS1'</li><li>'A1CF'</li><li>'A2M'</li><li>'A2M-AS1'</li><li>'A2ML1'</li></ol>\n"
      ],
      "text/latex": [
       "\\begin{enumerate*}\n",
       "\\item 'A1BG'\n",
       "\\item 'A1BG-AS1'\n",
       "\\item 'A1CF'\n",
       "\\item 'A2M'\n",
       "\\item 'A2M-AS1'\n",
       "\\item 'A2ML1'\n",
       "\\end{enumerate*}\n"
      ],
      "text/markdown": [
       "1. 'A1BG'\n",
       "2. 'A1BG-AS1'\n",
       "3. 'A1CF'\n",
       "4. 'A2M'\n",
       "5. 'A2M-AS1'\n",
       "6. 'A2ML1'\n",
       "\n",
       "\n"
      ],
      "text/plain": [
       "[1] \"A1BG\"     \"A1BG-AS1\" \"A1CF\"     \"A2M\"      \"A2M-AS1\"  \"A2ML1\"   "
      ]
     },
     "metadata": {},
     "output_type": "display_data"
    }
   ],
   "source": [
    "# here is the actual tximport with salmon \n",
    "txi <- tximport(files, type = \"salmon\", tx2gene = tx2gene, countsFromAbundance = \"no\")\n",
    "\n",
    "# I observe the result, rownames and counts, and abundance\n",
    "head(txi$counts)\n",
    "head(txi$abundance)\n",
    "head(rownames(txi$counts))\n",
    "head(rownames(txi$abundance))\n"
   ]
  },
  {
   "cell_type": "code",
   "execution_count": 10,
   "id": "d6eea52a-00a8-4385-8ec1-a9ebdb817c7f",
   "metadata": {
    "tags": []
   },
   "outputs": [
    {
     "name": "stdout",
     "output_type": "stream",
     "text": [
      "             SampleID        Condition Study\n",
      "1  AS-892475-LR-66487    Ewing sarcoma Swiss\n",
      "2  AS-892476-LR-66487    Ewing sarcoma Swiss\n",
      "3  AS-892477-LR-66487    Ewing sarcoma Swiss\n",
      "4  AS-892478-LR-66487    Ewing sarcoma Swiss\n",
      "5  AS-892479-LR-66487    Ewing sarcoma Swiss\n",
      "6  AS-892480-LR-66487    Ewing sarcoma Swiss\n",
      "7  AS-892481-LR-66487 CIC-DUX4 sarcoma Swiss\n",
      "8  AS-892482-LR-66487 CIC-DUX4 sarcoma Swiss\n",
      "9  AS-892483-LR-66487 CIC-DUX4 sarcoma Swiss\n",
      "10 AS-892484-LR-66487 CIC-DUX4 sarcoma Swiss\n",
      "11 AS-893415-LR-66487 CIC-DUX4 sarcoma Swiss\n",
      "12         GSM5024895 CIC-DUX4 sarcoma Italy\n",
      "13         GSM5024896    Ewing sarcoma Italy\n",
      "14         GSM5024897 CIC-DUX4 sarcoma Italy\n",
      "15         GSM5024898 CIC-DUX4 sarcoma Italy\n",
      "16         GSM5024899    Ewing sarcoma Italy\n",
      "17         GSM5024900    Ewing sarcoma Italy\n",
      "18         GSM5024901    Ewing sarcoma Italy\n",
      "19         GSM5024902    Ewing sarcoma Italy\n",
      "20     our_patient_FO CIC-DUX4 sarcoma    UK\n",
      "21        our_patient CIC-DUX4 sarcoma    UK\n"
     ]
    }
   ],
   "source": [
    "# here I am manually creating a metadata dataframe and I just add more whenever a new study comes in \n",
    "# sample id condition and study order must matched otherwise erros and messy\n",
    "metadata <- data.frame(\n",
    "  SampleID = c(\n",
    "               \"AS-892475-LR-66487\", \"AS-892476-LR-66487\", \"AS-892477-LR-66487\", \"AS-892478-LR-66487\", \n",
    "               \"AS-892479-LR-66487\", \"AS-892480-LR-66487\", \"AS-892481-LR-66487\", \"AS-892482-LR-66487\", \n",
    "               \"AS-892483-LR-66487\", \"AS-892484-LR-66487\", \"AS-893415-LR-66487\", \"GSM5024895\", \n",
    "               \"GSM5024896\", \"GSM5024897\", \"GSM5024898\", \"GSM5024899\", \"GSM5024900\", \n",
    "               \"GSM5024901\", \"GSM5024902\", \"our_patient_FO\", \"our_patient\"),\n",
    "  Condition = c(\"Ewing sarcoma\", \"Ewing sarcoma\", \"Ewing sarcoma\",\n",
    "                \"Ewing sarcoma\", \"Ewing sarcoma\", \"Ewing sarcoma\", \"CIC-DUX4 sarcoma\",\n",
    "                \"CIC-DUX4 sarcoma\", \"CIC-DUX4 sarcoma\", \"CIC-DUX4 sarcoma\", \"CIC-DUX4 sarcoma\", \n",
    "                \"CIC-DUX4 sarcoma\", \"Ewing sarcoma\", \"CIC-DUX4 sarcoma\", \"CIC-DUX4 sarcoma\", \n",
    "                \"Ewing sarcoma\", \"Ewing sarcoma\", \"Ewing sarcoma\", \"Ewing sarcoma\", \n",
    "                \"CIC-DUX4 sarcoma\", \"CIC-DUX4 sarcoma\"),\n",
    "  Study = c(\"Swiss\", \"Swiss\", \"Swiss\", \"Swiss\", \"Swiss\", \"Swiss\", \n",
    "            \"Swiss\", \"Swiss\", \"Swiss\", \"Swiss\", \"Swiss\", \"Italy\", \"Italy\", \n",
    "            \"Italy\", \"Italy\", \"Italy\",\n",
    "            \"Italy\", \"Italy\", \"Italy\", \"UK\", \"UK\"),\n",
    "  stringsAsFactors = FALSE\n",
    ")\n",
    "\n",
    "# view the metadata\n",
    "print(metadata)\n"
   ]
  },
  {
   "cell_type": "code",
   "execution_count": 11,
   "id": "4c8a9476-7d26-406f-896a-9689533ecde9",
   "metadata": {
    "tags": []
   },
   "outputs": [
    {
     "data": {
      "text/html": [
       "<table class=\"dataframe\">\n",
       "<caption>A matrix: 6 × 21 of type dbl</caption>\n",
       "<thead>\n",
       "\t<tr><th></th><th scope=col>AS-892475-LR-66487</th><th scope=col>AS-892476-LR-66487</th><th scope=col>AS-892477-LR-66487</th><th scope=col>AS-892478-LR-66487</th><th scope=col>AS-892479-LR-66487</th><th scope=col>AS-892480-LR-66487</th><th scope=col>AS-892481-LR-66487</th><th scope=col>AS-892482-LR-66487</th><th scope=col>AS-892483-LR-66487</th><th scope=col>AS-892484-LR-66487</th><th scope=col>⋯</th><th scope=col>GSM5024895</th><th scope=col>GSM5024896</th><th scope=col>GSM5024897</th><th scope=col>GSM5024898</th><th scope=col>GSM5024899</th><th scope=col>GSM5024900</th><th scope=col>GSM5024901</th><th scope=col>GSM5024902</th><th scope=col>our_patient_FO</th><th scope=col>our_patient</th></tr>\n",
       "</thead>\n",
       "<tbody>\n",
       "\t<tr><th scope=row>A1BG</th><td> 605</td><td>  185</td><td>473</td><td>221</td><td> 521</td><td>185</td><td>519</td><td> 499</td><td>323</td><td>  458</td><td>⋯</td><td> 433</td><td>265</td><td>188</td><td> 238</td><td>  216</td><td>95</td><td>  316</td><td> 250</td><td>  379</td><td> 1102</td></tr>\n",
       "\t<tr><th scope=row>A1BG-AS1</th><td> 260</td><td>  280</td><td>527</td><td>534</td><td> 667</td><td>244</td><td>416</td><td> 483</td><td>812</td><td>  331</td><td>⋯</td><td> 176</td><td>134</td><td> 55</td><td> 151</td><td>  136</td><td>24</td><td>   96</td><td>  92</td><td>  538</td><td>  368</td></tr>\n",
       "\t<tr><th scope=row>A1CF</th><td>   0</td><td>    0</td><td>  0</td><td>  0</td><td>   0</td><td>  0</td><td>  0</td><td>   0</td><td>  0</td><td>    0</td><td>⋯</td><td>  32</td><td> 23</td><td> 48</td><td>   4</td><td>    7</td><td> 5</td><td>   86</td><td>   2</td><td>    3</td><td>    2</td></tr>\n",
       "\t<tr><th scope=row>A2M</th><td>   1</td><td>15590</td><td>  3</td><td> 17</td><td>  33</td><td>387</td><td> 22</td><td>4374</td><td> 43</td><td>22809</td><td>⋯</td><td>4102</td><td>668</td><td>176</td><td>5905</td><td>19216</td><td>35</td><td>78907</td><td>5586</td><td>20045</td><td>89773</td></tr>\n",
       "\t<tr><th scope=row>A2M-AS1</th><td>   2</td><td>    1</td><td>  0</td><td>  2</td><td>   3</td><td>  1</td><td> 21</td><td>  64</td><td> 56</td><td>  187</td><td>⋯</td><td>  38</td><td> 29</td><td> 14</td><td>  15</td><td>   78</td><td>81</td><td>  131</td><td>  35</td><td>  429</td><td> 1032</td></tr>\n",
       "\t<tr><th scope=row>A2ML1</th><td>3153</td><td>  140</td><td>365</td><td>290</td><td>2363</td><td>102</td><td>  1</td><td>   1</td><td>  0</td><td>    2</td><td>⋯</td><td> 170</td><td> 73</td><td>102</td><td>  27</td><td>   53</td><td>57</td><td>  170</td><td>  66</td><td>  278</td><td>    0</td></tr>\n",
       "</tbody>\n",
       "</table>\n"
      ],
      "text/latex": [
       "A matrix: 6 × 21 of type dbl\n",
       "\\begin{tabular}{r|lllllllllllllllllllll}\n",
       "  & AS-892475-LR-66487 & AS-892476-LR-66487 & AS-892477-LR-66487 & AS-892478-LR-66487 & AS-892479-LR-66487 & AS-892480-LR-66487 & AS-892481-LR-66487 & AS-892482-LR-66487 & AS-892483-LR-66487 & AS-892484-LR-66487 & ⋯ & GSM5024895 & GSM5024896 & GSM5024897 & GSM5024898 & GSM5024899 & GSM5024900 & GSM5024901 & GSM5024902 & our\\_patient\\_FO & our\\_patient\\\\\n",
       "\\hline\n",
       "\tA1BG &  605 &   185 & 473 & 221 &  521 & 185 & 519 &  499 & 323 &   458 & ⋯ &  433 & 265 & 188 &  238 &   216 & 95 &   316 &  250 &   379 &  1102\\\\\n",
       "\tA1BG-AS1 &  260 &   280 & 527 & 534 &  667 & 244 & 416 &  483 & 812 &   331 & ⋯ &  176 & 134 &  55 &  151 &   136 & 24 &    96 &   92 &   538 &   368\\\\\n",
       "\tA1CF &    0 &     0 &   0 &   0 &    0 &   0 &   0 &    0 &   0 &     0 & ⋯ &   32 &  23 &  48 &    4 &     7 &  5 &    86 &    2 &     3 &     2\\\\\n",
       "\tA2M &    1 & 15590 &   3 &  17 &   33 & 387 &  22 & 4374 &  43 & 22809 & ⋯ & 4102 & 668 & 176 & 5905 & 19216 & 35 & 78907 & 5586 & 20045 & 89773\\\\\n",
       "\tA2M-AS1 &    2 &     1 &   0 &   2 &    3 &   1 &  21 &   64 &  56 &   187 & ⋯ &   38 &  29 &  14 &   15 &    78 & 81 &   131 &   35 &   429 &  1032\\\\\n",
       "\tA2ML1 & 3153 &   140 & 365 & 290 & 2363 & 102 &   1 &    1 &   0 &     2 & ⋯ &  170 &  73 & 102 &   27 &    53 & 57 &   170 &   66 &   278 &     0\\\\\n",
       "\\end{tabular}\n"
      ],
      "text/markdown": [
       "\n",
       "A matrix: 6 × 21 of type dbl\n",
       "\n",
       "| <!--/--> | AS-892475-LR-66487 | AS-892476-LR-66487 | AS-892477-LR-66487 | AS-892478-LR-66487 | AS-892479-LR-66487 | AS-892480-LR-66487 | AS-892481-LR-66487 | AS-892482-LR-66487 | AS-892483-LR-66487 | AS-892484-LR-66487 | ⋯ | GSM5024895 | GSM5024896 | GSM5024897 | GSM5024898 | GSM5024899 | GSM5024900 | GSM5024901 | GSM5024902 | our_patient_FO | our_patient |\n",
       "|---|---|---|---|---|---|---|---|---|---|---|---|---|---|---|---|---|---|---|---|---|---|\n",
       "| A1BG |  605 |   185 | 473 | 221 |  521 | 185 | 519 |  499 | 323 |   458 | ⋯ |  433 | 265 | 188 |  238 |   216 | 95 |   316 |  250 |   379 |  1102 |\n",
       "| A1BG-AS1 |  260 |   280 | 527 | 534 |  667 | 244 | 416 |  483 | 812 |   331 | ⋯ |  176 | 134 |  55 |  151 |   136 | 24 |    96 |   92 |   538 |   368 |\n",
       "| A1CF |    0 |     0 |   0 |   0 |    0 |   0 |   0 |    0 |   0 |     0 | ⋯ |   32 |  23 |  48 |    4 |     7 |  5 |    86 |    2 |     3 |     2 |\n",
       "| A2M |    1 | 15590 |   3 |  17 |   33 | 387 |  22 | 4374 |  43 | 22809 | ⋯ | 4102 | 668 | 176 | 5905 | 19216 | 35 | 78907 | 5586 | 20045 | 89773 |\n",
       "| A2M-AS1 |    2 |     1 |   0 |   2 |    3 |   1 |  21 |   64 |  56 |   187 | ⋯ |   38 |  29 |  14 |   15 |    78 | 81 |   131 |   35 |   429 |  1032 |\n",
       "| A2ML1 | 3153 |   140 | 365 | 290 | 2363 | 102 |   1 |    1 |   0 |     2 | ⋯ |  170 |  73 | 102 |   27 |    53 | 57 |   170 |   66 |   278 |     0 |\n",
       "\n"
      ],
      "text/plain": [
       "         AS-892475-LR-66487 AS-892476-LR-66487 AS-892477-LR-66487\n",
       "A1BG      605                 185              473               \n",
       "A1BG-AS1  260                 280              527               \n",
       "A1CF        0                   0                0               \n",
       "A2M         1               15590                3               \n",
       "A2M-AS1     2                   1                0               \n",
       "A2ML1    3153                 140              365               \n",
       "         AS-892478-LR-66487 AS-892479-LR-66487 AS-892480-LR-66487\n",
       "A1BG     221                 521               185               \n",
       "A1BG-AS1 534                 667               244               \n",
       "A1CF       0                   0                 0               \n",
       "A2M       17                  33               387               \n",
       "A2M-AS1    2                   3                 1               \n",
       "A2ML1    290                2363               102               \n",
       "         AS-892481-LR-66487 AS-892482-LR-66487 AS-892483-LR-66487\n",
       "A1BG     519                 499               323               \n",
       "A1BG-AS1 416                 483               812               \n",
       "A1CF       0                   0                 0               \n",
       "A2M       22                4374                43               \n",
       "A2M-AS1   21                  64                56               \n",
       "A2ML1      1                   1                 0               \n",
       "         AS-892484-LR-66487 ⋯ GSM5024895 GSM5024896 GSM5024897 GSM5024898\n",
       "A1BG       458              ⋯  433       265        188         238      \n",
       "A1BG-AS1   331              ⋯  176       134         55         151      \n",
       "A1CF         0              ⋯   32        23         48           4      \n",
       "A2M      22809              ⋯ 4102       668        176        5905      \n",
       "A2M-AS1    187              ⋯   38        29         14          15      \n",
       "A2ML1        2              ⋯  170        73        102          27      \n",
       "         GSM5024899 GSM5024900 GSM5024901 GSM5024902 our_patient_FO our_patient\n",
       "A1BG       216      95           316       250         379           1102      \n",
       "A1BG-AS1   136      24            96        92         538            368      \n",
       "A1CF         7       5            86         2           3              2      \n",
       "A2M      19216      35         78907      5586       20045          89773      \n",
       "A2M-AS1     78      81           131        35         429           1032      \n",
       "A2ML1       53      57           170        66         278              0      "
      ]
     },
     "metadata": {},
     "output_type": "display_data"
    },
    {
     "data": {
      "text/html": [
       "<style>\n",
       ".list-inline {list-style: none; margin:0; padding: 0}\n",
       ".list-inline>li {display: inline-block}\n",
       ".list-inline>li:not(:last-child)::after {content: \"\\00b7\"; padding: 0 .5ex}\n",
       "</style>\n",
       "<ol class=list-inline><li>32479</li><li>21</li></ol>\n"
      ],
      "text/latex": [
       "\\begin{enumerate*}\n",
       "\\item 32479\n",
       "\\item 21\n",
       "\\end{enumerate*}\n"
      ],
      "text/markdown": [
       "1. 32479\n",
       "2. 21\n",
       "\n",
       "\n"
      ],
      "text/plain": [
       "[1] 32479    21"
      ]
     },
     "metadata": {},
     "output_type": "display_data"
    },
    {
     "data": {
      "text/html": [
       "<table class=\"dataframe\">\n",
       "<caption>A matrix: 10 × 6 of type dbl</caption>\n",
       "<thead>\n",
       "\t<tr><th></th><th scope=col>AS-892475-LR-66487</th><th scope=col>AS-892476-LR-66487</th><th scope=col>AS-892477-LR-66487</th><th scope=col>AS-892478-LR-66487</th><th scope=col>AS-892479-LR-66487</th><th scope=col>AS-892480-LR-66487</th></tr>\n",
       "</thead>\n",
       "<tbody>\n",
       "\t<tr><th scope=row>A1BG</th><td> 605</td><td>  185</td><td> 473</td><td>221</td><td> 521</td><td> 185</td></tr>\n",
       "\t<tr><th scope=row>A1BG-AS1</th><td> 260</td><td>  280</td><td> 527</td><td>534</td><td> 667</td><td> 244</td></tr>\n",
       "\t<tr><th scope=row>A1CF</th><td>   0</td><td>    0</td><td>   0</td><td>  0</td><td>   0</td><td>   0</td></tr>\n",
       "\t<tr><th scope=row>A2M</th><td>   1</td><td>15590</td><td>   3</td><td> 17</td><td>  33</td><td> 387</td></tr>\n",
       "\t<tr><th scope=row>A2M-AS1</th><td>   2</td><td>    1</td><td>   0</td><td>  2</td><td>   3</td><td>   1</td></tr>\n",
       "\t<tr><th scope=row>A2ML1</th><td>3153</td><td>  140</td><td> 365</td><td>290</td><td>2363</td><td> 102</td></tr>\n",
       "\t<tr><th scope=row>A2ML1-AS1</th><td>   0</td><td>    0</td><td>   0</td><td>  0</td><td>   0</td><td>   0</td></tr>\n",
       "\t<tr><th scope=row>A3GALT2</th><td>   0</td><td>    0</td><td>   0</td><td>  0</td><td>   3</td><td>   0</td></tr>\n",
       "\t<tr><th scope=row>A4GALT</th><td>1586</td><td>   61</td><td>4544</td><td>240</td><td>6054</td><td>2830</td></tr>\n",
       "\t<tr><th scope=row>A4GNT</th><td>   0</td><td>    0</td><td>   1</td><td>  0</td><td>   0</td><td>   0</td></tr>\n",
       "</tbody>\n",
       "</table>\n"
      ],
      "text/latex": [
       "A matrix: 10 × 6 of type dbl\n",
       "\\begin{tabular}{r|llllll}\n",
       "  & AS-892475-LR-66487 & AS-892476-LR-66487 & AS-892477-LR-66487 & AS-892478-LR-66487 & AS-892479-LR-66487 & AS-892480-LR-66487\\\\\n",
       "\\hline\n",
       "\tA1BG &  605 &   185 &  473 & 221 &  521 &  185\\\\\n",
       "\tA1BG-AS1 &  260 &   280 &  527 & 534 &  667 &  244\\\\\n",
       "\tA1CF &    0 &     0 &    0 &   0 &    0 &    0\\\\\n",
       "\tA2M &    1 & 15590 &    3 &  17 &   33 &  387\\\\\n",
       "\tA2M-AS1 &    2 &     1 &    0 &   2 &    3 &    1\\\\\n",
       "\tA2ML1 & 3153 &   140 &  365 & 290 & 2363 &  102\\\\\n",
       "\tA2ML1-AS1 &    0 &     0 &    0 &   0 &    0 &    0\\\\\n",
       "\tA3GALT2 &    0 &     0 &    0 &   0 &    3 &    0\\\\\n",
       "\tA4GALT & 1586 &    61 & 4544 & 240 & 6054 & 2830\\\\\n",
       "\tA4GNT &    0 &     0 &    1 &   0 &    0 &    0\\\\\n",
       "\\end{tabular}\n"
      ],
      "text/markdown": [
       "\n",
       "A matrix: 10 × 6 of type dbl\n",
       "\n",
       "| <!--/--> | AS-892475-LR-66487 | AS-892476-LR-66487 | AS-892477-LR-66487 | AS-892478-LR-66487 | AS-892479-LR-66487 | AS-892480-LR-66487 |\n",
       "|---|---|---|---|---|---|---|\n",
       "| A1BG |  605 |   185 |  473 | 221 |  521 |  185 |\n",
       "| A1BG-AS1 |  260 |   280 |  527 | 534 |  667 |  244 |\n",
       "| A1CF |    0 |     0 |    0 |   0 |    0 |    0 |\n",
       "| A2M |    1 | 15590 |    3 |  17 |   33 |  387 |\n",
       "| A2M-AS1 |    2 |     1 |    0 |   2 |    3 |    1 |\n",
       "| A2ML1 | 3153 |   140 |  365 | 290 | 2363 |  102 |\n",
       "| A2ML1-AS1 |    0 |     0 |    0 |   0 |    0 |    0 |\n",
       "| A3GALT2 |    0 |     0 |    0 |   0 |    3 |    0 |\n",
       "| A4GALT | 1586 |    61 | 4544 | 240 | 6054 | 2830 |\n",
       "| A4GNT |    0 |     0 |    1 |   0 |    0 |    0 |\n",
       "\n"
      ],
      "text/plain": [
       "          AS-892475-LR-66487 AS-892476-LR-66487 AS-892477-LR-66487\n",
       "A1BG       605                 185               473              \n",
       "A1BG-AS1   260                 280               527              \n",
       "A1CF         0                   0                 0              \n",
       "A2M          1               15590                 3              \n",
       "A2M-AS1      2                   1                 0              \n",
       "A2ML1     3153                 140               365              \n",
       "A2ML1-AS1    0                   0                 0              \n",
       "A3GALT2      0                   0                 0              \n",
       "A4GALT    1586                  61              4544              \n",
       "A4GNT        0                   0                 1              \n",
       "          AS-892478-LR-66487 AS-892479-LR-66487 AS-892480-LR-66487\n",
       "A1BG      221                 521                185              \n",
       "A1BG-AS1  534                 667                244              \n",
       "A1CF        0                   0                  0              \n",
       "A2M        17                  33                387              \n",
       "A2M-AS1     2                   3                  1              \n",
       "A2ML1     290                2363                102              \n",
       "A2ML1-AS1   0                   0                  0              \n",
       "A3GALT2     0                   3                  0              \n",
       "A4GALT    240                6054               2830              \n",
       "A4GNT       0                   0                  0              "
      ]
     },
     "metadata": {},
     "output_type": "display_data"
    },
    {
     "data": {
      "text/plain": [
       " AS-892475-LR-66487 AS-892476-LR-66487 AS-892477-LR-66487 AS-892478-LR-66487\n",
       " Min.   :      0    Min.   :      0    Min.   :      0    Min.   :      0   \n",
       " 1st Qu.:      0    1st Qu.:      0    1st Qu.:      0    1st Qu.:      0   \n",
       " Median :     12    Median :      9    Median :     15    Median :     14   \n",
       " Mean   :   2994    Mean   :   1985    Mean   :   2637    Mean   :   1862   \n",
       " 3rd Qu.:   1333    3rd Qu.:    955    3rd Qu.:   1165    3rd Qu.:   1071   \n",
       " Max.   :3089260    Max.   :1500140    Max.   :4500105    Max.   :1432328   \n",
       " AS-892479-LR-66487 AS-892480-LR-66487 AS-892481-LR-66487 AS-892482-LR-66487\n",
       " Min.   :      0    Min.   :      0    Min.   :      0    Min.   :      0   \n",
       " 1st Qu.:      0    1st Qu.:      0    1st Qu.:      0    1st Qu.:      0   \n",
       " Median :     17    Median :     10    Median :     10    Median :     15   \n",
       " Mean   :   2732    Mean   :   1967    Mean   :   2394    Mean   :   2347   \n",
       " 3rd Qu.:   1441    3rd Qu.:   1048    3rd Qu.:   1045    3rd Qu.:   1211   \n",
       " Max.   :1816638    Max.   :1075219    Max.   :2623072    Max.   :1903291   \n",
       " AS-892483-LR-66487 AS-892484-LR-66487 AS-893415-LR-66487   GSM5024895    \n",
       " Min.   :      0    Min.   :      0    Min.   :      0    Min.   :     0  \n",
       " 1st Qu.:      0    1st Qu.:      1    1st Qu.:      0    1st Qu.:     8  \n",
       " Median :     12    Median :     32    Median :     12    Median :   100  \n",
       " Mean   :   2456    Mean   :   1842    Mean   :   1705    Mean   :   977  \n",
       " 3rd Qu.:   1294    3rd Qu.:   1045    3rd Qu.:    691    3rd Qu.:   737  \n",
       " Max.   :2149813    Max.   :1675912    Max.   :2518114    Max.   :671305  \n",
       "   GSM5024896         GSM5024897         GSM5024898         GSM5024899       \n",
       " Min.   :     0.0   Min.   :     0.0   Min.   :     0.0   Min.   :      0.0  \n",
       " 1st Qu.:     8.0   1st Qu.:     8.0   1st Qu.:     1.0   1st Qu.:      4.0  \n",
       " Median :    65.0   Median :    37.0   Median :    42.0   Median :     64.0  \n",
       " Mean   :   556.1   Mean   :   226.3   Mean   :   740.2   Mean   :    668.3  \n",
       " 3rd Qu.:   397.0   3rd Qu.:   177.0   3rd Qu.:   429.5   3rd Qu.:    430.0  \n",
       " Max.   :695427.0   Max.   :179901.0   Max.   :825015.0   Max.   :1233993.0  \n",
       "   GSM5024900          GSM5024901         GSM5024902        our_patient_FO    \n",
       " Min.   :     0.00   Min.   :     0.0   Min.   :      0.0   Min.   :       0  \n",
       " 1st Qu.:     0.00   1st Qu.:     3.0   1st Qu.:      1.0   1st Qu.:       6  \n",
       " Median :     3.00   Median :    53.0   Median :     42.0   Median :     217  \n",
       " Mean   :    87.34   Mean   :   624.8   Mean   :    527.6   Mean   :    3406  \n",
       " 3rd Qu.:    35.00   3rd Qu.:   380.0   3rd Qu.:    351.0   3rd Qu.:    2068  \n",
       " Max.   :261708.00   Max.   :860314.0   Max.   :1039243.0   Max.   :19399812  \n",
       "  our_patient      \n",
       " Min.   :       0  \n",
       " 1st Qu.:      11  \n",
       " Median :     439  \n",
       " Mean   :   21971  \n",
       " 3rd Qu.:   12246  \n",
       " Max.   :30392293  "
      ]
     },
     "metadata": {},
     "output_type": "display_data"
    },
    {
     "data": {
      "text/html": [
       "<style>\n",
       ".list-inline {list-style: none; margin:0; padding: 0}\n",
       ".list-inline>li {display: inline-block}\n",
       ".list-inline>li:not(:last-child)::after {content: \"\\00b7\"; padding: 0 .5ex}\n",
       "</style>\n",
       "<ol class=list-inline><li>21</li><li>3</li></ol>\n"
      ],
      "text/latex": [
       "\\begin{enumerate*}\n",
       "\\item 21\n",
       "\\item 3\n",
       "\\end{enumerate*}\n"
      ],
      "text/markdown": [
       "1. 21\n",
       "2. 3\n",
       "\n",
       "\n"
      ],
      "text/plain": [
       "[1] 21  3"
      ]
     },
     "metadata": {},
     "output_type": "display_data"
    },
    {
     "name": "stdout",
     "output_type": "stream",
     "text": [
      "             SampleID        Condition Study\n",
      "1  AS-892475-LR-66487    Ewing sarcoma Swiss\n",
      "2  AS-892476-LR-66487    Ewing sarcoma Swiss\n",
      "3  AS-892477-LR-66487    Ewing sarcoma Swiss\n",
      "4  AS-892478-LR-66487    Ewing sarcoma Swiss\n",
      "5  AS-892479-LR-66487    Ewing sarcoma Swiss\n",
      "6  AS-892480-LR-66487    Ewing sarcoma Swiss\n",
      "7  AS-892481-LR-66487 CIC-DUX4 sarcoma Swiss\n",
      "8  AS-892482-LR-66487 CIC-DUX4 sarcoma Swiss\n",
      "9  AS-892483-LR-66487 CIC-DUX4 sarcoma Swiss\n",
      "10 AS-892484-LR-66487 CIC-DUX4 sarcoma Swiss\n",
      "11 AS-893415-LR-66487 CIC-DUX4 sarcoma Swiss\n",
      "12         GSM5024895 CIC-DUX4 sarcoma Italy\n",
      "13         GSM5024896    Ewing sarcoma Italy\n",
      "14         GSM5024897 CIC-DUX4 sarcoma Italy\n",
      "15         GSM5024898 CIC-DUX4 sarcoma Italy\n",
      "16         GSM5024899    Ewing sarcoma Italy\n",
      "17         GSM5024900    Ewing sarcoma Italy\n",
      "18         GSM5024901    Ewing sarcoma Italy\n",
      "19         GSM5024902    Ewing sarcoma Italy\n",
      "20     our_patient_FO CIC-DUX4 sarcoma    UK\n",
      "21        our_patient CIC-DUX4 sarcoma    UK\n"
     ]
    }
   ],
   "source": [
    "# I round the counts \n",
    "counts <- txi$counts\n",
    "counts_rounded <- round(txi$counts)\n",
    "# check how it looks\n",
    "head(counts_rounded)\n",
    "# I perform basic filtering of transcripts which have very low counts\n",
    "logic <- rowSums(counts_rounded) > 10\n",
    "counts_rounded <- counts_rounded[logic,]\n",
    "\n",
    "# I check how filtered counts look\n",
    "dim(counts_rounded)\n",
    "counts_rounded[1:10, 1:6]\n",
    "summary(counts_rounded)\n",
    "dim(metadata)\n",
    "print(metadata)"
   ]
  },
  {
   "cell_type": "code",
   "execution_count": 14,
   "id": "591fa5c2-8af3-4ab0-bd67-57270ba5dc9e",
   "metadata": {
    "tags": []
   },
   "outputs": [
    {
     "name": "stderr",
     "output_type": "stream",
     "text": [
      "converting counts to integer mode\n",
      "\n",
      "Warning message in DESeqDataSet(se, design = design, ignoreRank):\n",
      "“some variables in design formula are characters, converting to factors”\n",
      "  Note: levels of factors in the design contain characters other than\n",
      "  letters, numbers, '_' and '.'. It is recommended (but not required) to use\n",
      "  only letters, numbers, and delimiters '_' or '.', as these are safe characters\n",
      "  for column names in R. [This is a message, not a warning or an error]\n",
      "\n"
     ]
    },
    {
     "data": {
      "text/plain": [
       "class: DESeqDataSet \n",
       "dim: 32479 21 \n",
       "metadata(1): version\n",
       "assays(1): counts\n",
       "rownames(32479): A1BG A1BG-AS1 ... ZZEF1 ZZZ3\n",
       "rowData names(0):\n",
       "colnames(21): AS-892475-LR-66487 AS-892476-LR-66487 ... our_patient_FO\n",
       "  our_patient\n",
       "colData names(3): SampleID Condition Study"
      ]
     },
     "metadata": {},
     "output_type": "display_data"
    },
    {
     "data": {
      "text/html": [
       "<style>\n",
       ".list-inline {list-style: none; margin:0; padding: 0}\n",
       ".list-inline>li {display: inline-block}\n",
       ".list-inline>li:not(:last-child)::after {content: \"\\00b7\"; padding: 0 .5ex}\n",
       "</style>\n",
       "<ol class=list-inline><li>32479</li><li>21</li></ol>\n"
      ],
      "text/latex": [
       "\\begin{enumerate*}\n",
       "\\item 32479\n",
       "\\item 21\n",
       "\\end{enumerate*}\n"
      ],
      "text/markdown": [
       "1. 32479\n",
       "2. 21\n",
       "\n",
       "\n"
      ],
      "text/plain": [
       "[1] 32479    21"
      ]
     },
     "metadata": {},
     "output_type": "display_data"
    },
    {
     "data": {
      "text/html": [
       "'DESeqDataSet'"
      ],
      "text/latex": [
       "'DESeqDataSet'"
      ],
      "text/markdown": [
       "'DESeqDataSet'"
      ],
      "text/plain": [
       "[1] \"DESeqDataSet\"\n",
       "attr(,\"package\")\n",
       "[1] \"DESeq2\""
      ]
     },
     "metadata": {},
     "output_type": "display_data"
    },
    {
     "data": {
      "text/plain": [
       "DataFrame with 21 rows and 3 columns\n",
       "                             SampleID        Condition    Study\n",
       "                          <character>         <factor> <factor>\n",
       "AS-892475-LR-66487 AS-892475-LR-66487    Ewing sarcoma    Swiss\n",
       "AS-892476-LR-66487 AS-892476-LR-66487    Ewing sarcoma    Swiss\n",
       "AS-892477-LR-66487 AS-892477-LR-66487    Ewing sarcoma    Swiss\n",
       "AS-892478-LR-66487 AS-892478-LR-66487    Ewing sarcoma    Swiss\n",
       "AS-892479-LR-66487 AS-892479-LR-66487    Ewing sarcoma    Swiss\n",
       "...                               ...              ...      ...\n",
       "GSM5024900                 GSM5024900 Ewing sarcoma       Italy\n",
       "GSM5024901                 GSM5024901 Ewing sarcoma       Italy\n",
       "GSM5024902                 GSM5024902 Ewing sarcoma       Italy\n",
       "our_patient_FO         our_patient_FO CIC-DUX4 sarcoma    UK   \n",
       "our_patient               our_patient CIC-DUX4 sarcoma    UK   "
      ]
     },
     "metadata": {},
     "output_type": "display_data"
    },
    {
     "name": "stderr",
     "output_type": "stream",
     "text": [
      "estimating size factors\n",
      "\n",
      "  Note: levels of factors in the design contain characters other than\n",
      "  letters, numbers, '_' and '.'. It is recommended (but not required) to use\n",
      "  only letters, numbers, and delimiters '_' or '.', as these are safe characters\n",
      "  for column names in R. [This is a message, not a warning or an error]\n",
      "\n",
      "estimating dispersions\n",
      "\n",
      "gene-wise dispersion estimates\n",
      "\n",
      "mean-dispersion relationship\n",
      "\n",
      "  Note: levels of factors in the design contain characters other than\n",
      "  letters, numbers, '_' and '.'. It is recommended (but not required) to use\n",
      "  only letters, numbers, and delimiters '_' or '.', as these are safe characters\n",
      "  for column names in R. [This is a message, not a warning or an error]\n",
      "\n",
      "final dispersion estimates\n",
      "\n",
      "fitting model and testing\n",
      "\n"
     ]
    }
   ],
   "source": [
    "# here I am running the deseq2 analysis using the rounded count data \n",
    "# and using study as a covariate to correct batch effects\n",
    "dds <- DESeqDataSetFromMatrix(countData = counts_rounded,\n",
    "                                  colData = metadata,\n",
    "                                  design = ~ Study + Condition)\n",
    "#look at dds\n",
    "dds\n",
    "dim(dds)\n",
    "class(dds)\n",
    "colData(dds) #\n",
    "\n",
    "# get normalised count matrix\n",
    "dds <- DESeq(dds)"
   ]
  },
  {
   "cell_type": "code",
   "execution_count": 15,
   "id": "e5934045-09fe-4f23-a1f1-418a57feebce",
   "metadata": {
    "tags": []
   },
   "outputs": [
    {
     "data": {
      "text/html": [
       "<table class=\"dataframe\">\n",
       "<caption>A matrix: 3 × 3 of type dbl</caption>\n",
       "<thead>\n",
       "\t<tr><th></th><th scope=col>AS-892475-LR-66487</th><th scope=col>AS-892476-LR-66487</th><th scope=col>AS-892477-LR-66487</th></tr>\n",
       "</thead>\n",
       "<tbody>\n",
       "\t<tr><th scope=row>A1BG</th><td>8.523769</td><td>7.419680</td><td>8.310677</td></tr>\n",
       "\t<tr><th scope=row>A1BG-AS1</th><td>7.451612</td><td>7.931346</td><td>8.452532</td></tr>\n",
       "\t<tr><th scope=row>A1CF</th><td>3.981119</td><td>3.981119</td><td>3.981119</td></tr>\n",
       "</tbody>\n",
       "</table>\n"
      ],
      "text/latex": [
       "A matrix: 3 × 3 of type dbl\n",
       "\\begin{tabular}{r|lll}\n",
       "  & AS-892475-LR-66487 & AS-892476-LR-66487 & AS-892477-LR-66487\\\\\n",
       "\\hline\n",
       "\tA1BG & 8.523769 & 7.419680 & 8.310677\\\\\n",
       "\tA1BG-AS1 & 7.451612 & 7.931346 & 8.452532\\\\\n",
       "\tA1CF & 3.981119 & 3.981119 & 3.981119\\\\\n",
       "\\end{tabular}\n"
      ],
      "text/markdown": [
       "\n",
       "A matrix: 3 × 3 of type dbl\n",
       "\n",
       "| <!--/--> | AS-892475-LR-66487 | AS-892476-LR-66487 | AS-892477-LR-66487 |\n",
       "|---|---|---|---|\n",
       "| A1BG | 8.523769 | 7.419680 | 8.310677 |\n",
       "| A1BG-AS1 | 7.451612 | 7.931346 | 8.452532 |\n",
       "| A1CF | 3.981119 | 3.981119 | 3.981119 |\n",
       "\n"
      ],
      "text/plain": [
       "         AS-892475-LR-66487 AS-892476-LR-66487 AS-892477-LR-66487\n",
       "A1BG     8.523769           7.419680           8.310677          \n",
       "A1BG-AS1 7.451612           7.931346           8.452532          \n",
       "A1CF     3.981119           3.981119           3.981119          "
      ]
     },
     "metadata": {},
     "output_type": "display_data"
    }
   ],
   "source": [
    "# here I am performing variance stabilizing transformation\n",
    "vsd <- vst(dds, blind = FALSE)\n",
    "\n",
    "# and get a gene expression matrix\n",
    "exprs.data=assay(vsd)\n",
    "\n",
    "# which I can look at\n",
    "exprs.data[1:3,1:3]\n"
   ]
  },
  {
   "cell_type": "code",
   "execution_count": 16,
   "id": "76624046-e800-4a39-a26d-0f8cbd6f5e5e",
   "metadata": {
    "tags": []
   },
   "outputs": [],
   "source": [
    "# PCA is better shown with limma which handles batch correction \n",
    "corrected <- limma::removeBatchEffect(assay(vsd), batch = vsd$Study)\n",
    "pca_res <- prcomp(t(corrected))  # transpose: genes in columns, samples in rows\n",
    "## I am using ggplot here to make a df for the pca by sample and condition\n",
    "pca_df <- as.data.frame(pca_res$x)\n",
    "pca_df$Condition <- vsd$Condition\n",
    "pca_df$Sample <- colnames(vsd)\n",
    "\n",
    "# I am saving it rightaway - this is by condition\n",
    "p <- ggplot(pca_df, aes(x = PC1, y = PC2, color = Condition, label = Sample)) +\n",
    "  geom_point(size = 3) +\n",
    "  labs(title = \"PCA (Batch-corrected with limma)\", x = \"PC1\", y = \"PC2\") +\n",
    "  theme_minimal()\n",
    "ggsave(\"/lustre/scratch126/cellgen/behjati/lr26/RNA/pca_batch_corrected_by_disease_swiss_italy.pdf\", plot = p, width = 8, height = 6, dpi = 300, device = cairo_pdf)"
   ]
  },
  {
   "cell_type": "code",
   "execution_count": 17,
   "id": "32c70897-0042-4165-9925-315ea5ab91b1",
   "metadata": {
    "tags": []
   },
   "outputs": [],
   "source": [
    "# plotting with ggplot2 - this is by sample\n",
    "library(ggplot2)\n",
    "m <- ggplot(pca_df, aes(x = PC1, y = PC2, color = Sample, label = Sample)) +\n",
    "  geom_point(size = 3) +\n",
    "  labs(title = \"PCA (Batch-corrected with limma)\", x = \"PC1\", y = \"PC2\") +\n",
    "  theme_minimal()\n",
    "\n",
    "ggsave(\"/lustre/scratch126/cellgen/behjati/lr26/RNA/pca_batch_corrected_by_sample_swiss_italy.pdf\", plot = m, width = 8, height = 6, dpi = 300, device = cairo_pdf)"
   ]
  },
  {
   "cell_type": "code",
   "execution_count": 18,
   "id": "5777e891-668d-456c-8cc8-5dd8f0be71c3",
   "metadata": {
    "tags": []
   },
   "outputs": [
    {
     "data": {
      "text/plain": [
       "DataFrame with 21 rows and 4 columns\n",
       "                             SampleID        Condition    Study sizeFactor\n",
       "                          <character>         <factor> <factor>  <numeric>\n",
       "AS-892475-LR-66487 AS-892475-LR-66487    Ewing sarcoma    Swiss    1.79447\n",
       "AS-892476-LR-66487 AS-892476-LR-66487    Ewing sarcoma    Swiss    1.31123\n",
       "AS-892477-LR-66487 AS-892477-LR-66487    Ewing sarcoma    Swiss    1.64972\n",
       "AS-892478-LR-66487 AS-892478-LR-66487    Ewing sarcoma    Swiss    1.49748\n",
       "AS-892479-LR-66487 AS-892479-LR-66487    Ewing sarcoma    Swiss    2.04715\n",
       "...                               ...              ...      ...        ...\n",
       "GSM5024900                 GSM5024900 Ewing sarcoma       Italy  0.0501389\n",
       "GSM5024901                 GSM5024901 Ewing sarcoma       Italy  0.5707918\n",
       "GSM5024902                 GSM5024902 Ewing sarcoma       Italy  0.5169106\n",
       "our_patient_FO         our_patient_FO CIC-DUX4 sarcoma    UK     3.0654942\n",
       "our_patient               our_patient CIC-DUX4 sarcoma    UK    15.5807143"
      ]
     },
     "metadata": {},
     "output_type": "display_data"
    },
    {
     "data": {
      "text/plain": [
       "< table of extent 0 >"
      ]
     },
     "metadata": {},
     "output_type": "display_data"
    }
   ],
   "source": [
    "# inspecting the vsd\n",
    "colData(vsd)\n",
    "table(vsd$condition)\n"
   ]
  },
  {
   "cell_type": "code",
   "execution_count": 19,
   "id": "aff07157-1147-4965-a895-049d1094af5e",
   "metadata": {
    "tags": []
   },
   "outputs": [
    {
     "data": {
      "text/plain": [
       "      PC1               PC2               PC3                PC4          \n",
       " Min.   :-165.42   Min.   :-120.01   Min.   :-188.893   Min.   :-142.851  \n",
       " 1st Qu.:-144.58   1st Qu.: -76.39   1st Qu.: -30.299   1st Qu.: -37.659  \n",
       " Median : -90.81   Median : -35.21   Median :   9.092   Median :   3.367  \n",
       " Mean   :   0.00   Mean   :   0.00   Mean   :   0.000   Mean   :   0.000  \n",
       " 3rd Qu.: 130.17   3rd Qu.: 105.50   3rd Qu.:  27.128   3rd Qu.:  27.638  \n",
       " Max.   : 492.20   Max.   : 153.86   Max.   : 111.929   Max.   : 105.996  \n",
       "      PC5                PC6                PC7               PC8        \n",
       " Min.   :-140.010   Min.   :-108.893   Min.   :-69.369   Min.   :-80.61  \n",
       " 1st Qu.: -24.990   1st Qu.: -16.901   1st Qu.:-29.279   1st Qu.:-22.13  \n",
       " Median :  -5.563   Median :  -7.154   Median :  1.161   Median :  4.26  \n",
       " Mean   :   0.000   Mean   :   0.000   Mean   :  0.000   Mean   :  0.00  \n",
       " 3rd Qu.:  35.072   3rd Qu.:  32.454   3rd Qu.: 28.233   3rd Qu.: 17.46  \n",
       " Max.   :  76.945   Max.   :  82.999   Max.   : 83.749   Max.   : 62.03  \n",
       "      PC9               PC10              PC11              PC12         \n",
       " Min.   :-59.269   Min.   :-53.453   Min.   :-60.943   Min.   :-71.4588  \n",
       " 1st Qu.:-29.223   1st Qu.:-26.610   1st Qu.:-12.002   1st Qu.:-16.2345  \n",
       " Median :  2.355   Median :  6.366   Median : -1.478   Median : -0.9909  \n",
       " Mean   :  0.000   Mean   :  0.000   Mean   :  0.000   Mean   :  0.0000  \n",
       " 3rd Qu.: 18.482   3rd Qu.: 13.785   3rd Qu.: 12.544   3rd Qu.: 10.8569  \n",
       " Max.   : 59.786   Max.   : 69.759   Max.   : 72.145   Max.   : 66.4900  \n",
       "      PC13               PC14              PC15              PC16        \n",
       " Min.   :-47.3258   Min.   :-61.873   Min.   :-50.742   Min.   :-77.559  \n",
       " 1st Qu.:-19.9805   1st Qu.:-14.359   1st Qu.:-10.205   1st Qu.:-11.717  \n",
       " Median :  0.4134   Median :  6.055   Median : -1.183   Median : -2.485  \n",
       " Mean   :  0.0000   Mean   :  0.000   Mean   :  0.000   Mean   :  0.000  \n",
       " 3rd Qu.: 15.8663   3rd Qu.: 13.319   3rd Qu.:  7.200   3rd Qu.: 14.314  \n",
       " Max.   : 62.6809   Max.   : 47.382   Max.   : 53.584   Max.   : 48.049  \n",
       "      PC17              PC18              PC19              PC20       \n",
       " Min.   :-44.220   Min.   :-34.274   Min.   :-38.238   Min.   :-45.41  \n",
       " 1st Qu.: -8.646   1st Qu.: -8.171   1st Qu.: -9.743   1st Qu.:-10.20  \n",
       " Median : -3.705   Median : -1.489   Median : -2.540   Median : -0.93  \n",
       " Mean   :  0.000   Mean   :  0.000   Mean   :  0.000   Mean   :  0.00  \n",
       " 3rd Qu.: 10.883   3rd Qu.:  7.900   3rd Qu.: 12.307   3rd Qu.: 12.01  \n",
       " Max.   : 63.954   Max.   : 56.261   Max.   : 41.907   Max.   : 44.60  \n",
       "      PC21           \n",
       " Min.   :-8.129e-13  \n",
       " 1st Qu.:-1.705e-13  \n",
       " Median :-7.224e-14  \n",
       " Mean   :-3.126e-14  \n",
       " 3rd Qu.: 1.339e-13  \n",
       " Max.   : 9.652e-13  "
      ]
     },
     "metadata": {},
     "output_type": "display_data"
    },
    {
     "data": {
      "text/plain": [
       "      PC1                 PC2                  PC3            \n",
       " Min.   :-0.015325   Min.   :-0.0528553   Min.   :-0.0273687  \n",
       " 1st Qu.:-0.001450   1st Qu.:-0.0024608   1st Qu.:-0.0017919  \n",
       " Median : 0.001427   Median :-0.0003788   Median : 0.0008447  \n",
       " Mean   : 0.001533   Mean   :-0.0008632   Mean   : 0.0013808  \n",
       " 3rd Qu.: 0.004294   3rd Qu.: 0.0015812   3rd Qu.: 0.0038285  \n",
       " Max.   : 0.023706   Max.   : 0.0421357   Max.   : 0.0505750  \n",
       "      PC4                 PC5                  PC6           \n",
       " Min.   :-0.031257   Min.   :-3.185e-02   Min.   :-0.039626  \n",
       " 1st Qu.:-0.001642   1st Qu.:-2.778e-03   1st Qu.:-0.001594  \n",
       " Median : 0.001515   Median : 1.268e-05   Median : 0.001175  \n",
       " Mean   : 0.001063   Mean   : 3.121e-04   Mean   : 0.001310  \n",
       " 3rd Qu.: 0.004136   3rd Qu.: 3.298e-03   3rd Qu.: 0.003805  \n",
       " Max.   : 0.035086   Max.   : 3.956e-02   Max.   : 0.050356  \n",
       "      PC7                  PC8                  PC9            \n",
       " Min.   :-0.0444200   Min.   :-0.0686047   Min.   :-4.124e-02  \n",
       " 1st Qu.:-0.0018779   1st Qu.:-0.0029185   1st Qu.:-2.176e-03  \n",
       " Median : 0.0008908   Median :-0.0009193   Median : 2.830e-06  \n",
       " Mean   : 0.0005362   Mean   :-0.0007270   Mean   : 2.051e-04  \n",
       " 3rd Qu.: 0.0029981   3rd Qu.: 0.0015237   3rd Qu.: 2.371e-03  \n",
       " Max.   : 0.0359796   Max.   : 0.0508325   Max.   : 3.888e-02  \n",
       "      PC10                 PC11                 PC12           \n",
       " Min.   :-0.0481425   Min.   :-0.0427773   Min.   :-4.773e-02  \n",
       " 1st Qu.:-0.0019122   1st Qu.:-0.0032792   1st Qu.:-2.526e-03  \n",
       " Median : 0.0006392   Median :-0.0007741   Median :-3.075e-05  \n",
       " Mean   : 0.0005578   Mean   :-0.0005824   Mean   : 4.890e-06  \n",
       " 3rd Qu.: 0.0032267   3rd Qu.: 0.0019546   3rd Qu.: 2.434e-03  \n",
       " Max.   : 0.0492740   Max.   : 0.0437402   Max.   : 4.461e-02  \n",
       "      PC13                 PC14                 PC15           \n",
       " Min.   :-4.847e-02   Min.   :-0.0577141   Min.   :-0.0555324  \n",
       " 1st Qu.:-2.427e-03   1st Qu.:-0.0018017   1st Qu.:-0.0021084  \n",
       " Median : 2.242e-04   Median : 0.0003536   Median :-0.0000360  \n",
       " Mean   : 3.511e-05   Mean   : 0.0003574   Mean   :-0.0002209  \n",
       " 3rd Qu.: 2.482e-03   3rd Qu.: 0.0029520   3rd Qu.: 0.0018329  \n",
       " Max.   : 5.602e-02   Max.   : 0.0563091   Max.   : 0.0526859  \n",
       "      PC16                 PC17                 PC18           \n",
       " Min.   :-0.0496603   Min.   :-0.0677008   Min.   :-0.0574849  \n",
       " 1st Qu.:-0.0034584   1st Qu.:-0.0026565   1st Qu.:-0.0029888  \n",
       " Median :-0.0007487   Median : 0.0002235   Median :-0.0001963  \n",
       " Mean   :-0.0005799   Mean   : 0.0002196   Mean   :-0.0001863  \n",
       " 3rd Qu.: 0.0022542   3rd Qu.: 0.0029550   3rd Qu.: 0.0026436  \n",
       " Max.   : 0.0406225   Max.   : 0.0655324   Max.   : 0.0437265  \n",
       "      PC19                 PC20                 PC21           \n",
       " Min.   :-4.459e-02   Min.   :-0.0454723   Min.   :-0.2564392  \n",
       " 1st Qu.:-2.721e-03   1st Qu.:-0.0022647   1st Qu.:-0.0019424  \n",
       " Median :-1.648e-04   Median :-0.0001394   Median : 0.0000008  \n",
       " Mean   : 1.714e-05   Mean   : 0.0001178   Mean   : 0.0000026  \n",
       " 3rd Qu.: 2.521e-03   3rd Qu.: 0.0021947   3rd Qu.: 0.0019176  \n",
       " Max.   : 5.364e-02   Max.   : 0.0477995   Max.   : 0.6236724  "
      ]
     },
     "metadata": {},
     "output_type": "display_data"
    },
    {
     "data": {
      "text/plain": [
       "   Min. 1st Qu.  Median    Mean 3rd Qu.    Max. \n",
       "   0.00   24.72   30.08   42.47   44.44  183.91 "
      ]
     },
     "metadata": {},
     "output_type": "display_data"
    },
    {
     "data": {
      "text/html": [
       "<strong>pdf:</strong> 2"
      ],
      "text/latex": [
       "\\textbf{pdf:} 2"
      ],
      "text/markdown": [
       "**pdf:** 2"
      ],
      "text/plain": [
       "pdf \n",
       "  2 "
      ]
     },
     "metadata": {},
     "output_type": "display_data"
    }
   ],
   "source": [
    "# another option for pca - I am looking at diagnostics\n",
    "# sample plot, gene loading and scree plot\n",
    "pca_prcomp = prcomp(t(exprs.data), scale=FALSE)\n",
    "\n",
    "#prcomp output\n",
    "summary(pca_prcomp$x)\n",
    "summary(pca_prcomp$rotation)\n",
    "summary(pca_prcomp$sdev)\n",
    "\n",
    "# again I am saving the diagnostic plots righaway\n",
    "pdf(\"/lustre/scratch126/cellgen/behjati/lr26/RNA/PCA_swiss_italy.pdf\")\n",
    "par(mfrow=c(2,2))\n",
    "plot(pca_prcomp$x[,1:2], main='Sample plot', col=colData(vsd)$sample, pch=19)\n",
    "text(pca_prcomp$x[,1:2], labels=rownames(pca_prcomp$x[,1:2]), pos=4, cex=0.8)\n",
    "abline(v=0, h=0, col=8)\n",
    "plot(pca_prcomp$rotation[,1:2], main='Gene loading')\n",
    "abline(v=0, h=0, col=8)\n",
    "eig = (pca_prcomp$sdev)^2; names(eig) = 1:length(eig); eig= 100* eig/sum(eig)\n",
    "barplot(eig, main='Scree plot', xlab= \"PC\", ylab = 'Percentage of explained variances')\n",
    "dev.off()"
   ]
  },
  {
   "cell_type": "code",
   "execution_count": 20,
   "id": "3a72e77d-591f-496f-91c8-783ce39b301a",
   "metadata": {
    "tags": []
   },
   "outputs": [
    {
     "data": {
      "text/html": [
       "<strong>pdf:</strong> 2"
      ],
      "text/latex": [
       "\\textbf{pdf:} 2"
      ],
      "text/markdown": [
       "**pdf:** 2"
      ],
      "text/plain": [
       "pdf \n",
       "  2 "
      ]
     },
     "metadata": {},
     "output_type": "display_data"
    }
   ],
   "source": [
    "# here I am plotting the correlation matrix using the pearson method (It is pariwise correlation for 1 against 1 sample at a time but here all in a matrix)\n",
    "exprs.data <- assay(vsd)\n",
    "cor.data <- cor(exprs.data, method = 'pearson')\n",
    "\n",
    "# I am assigning sample colors and positive correlation will mean similarity in gene expression (proxy)\n",
    "col.group <- rainbow(length(unique(colData(vsd)$SampleID)))[as.factor(colData(vsd)$SampleID)]\n",
    "\n",
    "# I am saving the heatmap directly adjusting font sizes using the heatmap instructions\n",
    "pdf('/lustre/scratch126/cellgen/behjati/lr26/RNA/correlation_swiss_italy.pdf', width = 10, height = 10)\n",
    "heatmap.2(as.matrix(cor.data),\n",
    "          col = colorRampPalette(brewer.pal(10, \"RdYlBu\"))(256),\n",
    "          trace = \"none\",\n",
    "          srtCol = 45,\n",
    "          margins = c(12, 18),        \n",
    "          cexCol = 1.2,               \n",
    "          cexRow = 1.2,               \n",
    "          density.info = \"none\",\n",
    "          lhei = c(2, 10),\n",
    "          keysize = 1.0,\n",
    "          main = \"Sample Correlations\",\n",
    "          scale = \"none\",\n",
    "          ColSideColors = col.group,\n",
    "          RowSideColors = col.group)\n",
    "\n",
    "dev.off()\n"
   ]
  },
  {
   "cell_type": "code",
   "execution_count": 21,
   "id": "6da800b5-2594-4638-a55a-04a1443af423",
   "metadata": {
    "tags": []
   },
   "outputs": [
    {
     "name": "stderr",
     "output_type": "stream",
     "text": [
      "using ntop=500 top features by variance\n",
      "\n"
     ]
    },
    {
     "data": {
      "image/png": "[encoded data removed]",
      "text/plain": [
       "plot without title"
      ]
     },
     "metadata": {
      "image/png": {
       "height": 420,
       "width": 420
      }
     },
     "output_type": "display_data"
    }
   ],
   "source": [
    "# I can of course also plot the uncorrected PCA by condition - note that I am using the top 500 features\n",
    "vsd_topvar <- vsd[order(rowVars(assay(vsd)), decreasing=TRUE)[1:500], ]\n",
    "plotPCA(vsd_topvar, intgroup=\"Condition\")"
   ]
  },
  {
   "cell_type": "code",
   "execution_count": 22,
   "id": "fd59956e-f920-425a-9075-997e8af69700",
   "metadata": {
    "tags": []
   },
   "outputs": [
    {
     "name": "stderr",
     "output_type": "stream",
     "text": [
      "using ntop=500 top features by variance\n",
      "\n"
     ]
    },
    {
     "data": {
      "image/png": "[encoded data removed]",
      "text/plain": [
       "plot without title"
      ]
     },
     "metadata": {
      "image/png": {
       "height": 420,
       "width": 420
      }
     },
     "output_type": "display_data"
    }
   ],
   "source": [
    "# and the uncorrected PCA by sample - note that I am using the top 500 features\n",
    "d_topvar <- vsd[order(rowVars(assay(vsd)), decreasing=TRUE)[1:500], ]\n",
    "plotPCA(vsd_topvar, intgroup=\"SampleID\")"
   ]
  },
  {
   "cell_type": "code",
   "execution_count": 23,
   "id": "13a056fd-736a-4ada-81c0-0e6b59b0496d",
   "metadata": {
    "tags": []
   },
   "outputs": [
    {
     "data": {
      "text/html": [
       "<style>\n",
       ".list-inline {list-style: none; margin:0; padding: 0}\n",
       ".list-inline>li {display: inline-block}\n",
       ".list-inline>li:not(:last-child)::after {content: \"\\00b7\"; padding: 0 .5ex}\n",
       "</style>\n",
       "<ol class=list-inline><li>32479</li><li>21</li></ol>\n"
      ],
      "text/latex": [
       "\\begin{enumerate*}\n",
       "\\item 32479\n",
       "\\item 21\n",
       "\\end{enumerate*}\n"
      ],
      "text/markdown": [
       "1. 32479\n",
       "2. 21\n",
       "\n",
       "\n"
      ],
      "text/plain": [
       "[1] 32479    21"
      ]
     },
     "metadata": {},
     "output_type": "display_data"
    }
   ],
   "source": [
    "# here I am getting the rownames and filtering out all the LOC transcripts which are somewhat understudied\n",
    "gene_names <- rownames(dds)\n",
    "dds_filtered <- dds[gene_names, ]\n",
    "dim(dds_filtered)\n",
    " # I am forming a results object whereby I will be contrasting the two groups by condition\n",
    "res <- results(dds_filtered, contrast = c(\"Condition\", \"CIC-DUX4 sarcoma\", \"Ewing sarcoma\"))\n",
    "#group, target, reference is the syntax here"
   ]
  },
  {
   "cell_type": "code",
   "execution_count": 24,
   "id": "eefdb942-9f3b-4f41-a09e-ecde969ed1d6",
   "metadata": {
    "tags": []
   },
   "outputs": [
    {
     "data": {
      "text/html": [
       "<table class=\"dataframe\">\n",
       "<caption>A data.frame: 3 × 6</caption>\n",
       "<thead>\n",
       "\t<tr><th></th><th scope=col>baseMean</th><th scope=col>log2FoldChange</th><th scope=col>lfcSE</th><th scope=col>stat</th><th scope=col>pvalue</th><th scope=col>padj</th></tr>\n",
       "\t<tr><th></th><th scope=col>&lt;dbl&gt;</th><th scope=col>&lt;dbl&gt;</th><th scope=col>&lt;dbl&gt;</th><th scope=col>&lt;dbl&gt;</th><th scope=col>&lt;dbl&gt;</th><th scope=col>&lt;dbl&gt;</th></tr>\n",
       "</thead>\n",
       "<tbody>\n",
       "\t<tr><th scope=row>SYCP1</th><td> 273.3043</td><td>-25.924309</td><td>1.609814</td><td>-16.10391</td><td>2.394675e-58</td><td>6.635646e-54</td></tr>\n",
       "\t<tr><th scope=row>CALB2</th><td>1252.0593</td><td> 13.539137</td><td>1.274571</td><td> 10.62250</td><td>2.341986e-26</td><td>3.244822e-22</td></tr>\n",
       "\t<tr><th scope=row>ADRB3</th><td>2494.3324</td><td> -9.603058</td><td>0.922843</td><td>-10.40595</td><td>2.329206e-25</td><td>2.151410e-21</td></tr>\n",
       "</tbody>\n",
       "</table>\n"
      ],
      "text/latex": [
       "A data.frame: 3 × 6\n",
       "\\begin{tabular}{r|llllll}\n",
       "  & baseMean & log2FoldChange & lfcSE & stat & pvalue & padj\\\\\n",
       "  & <dbl> & <dbl> & <dbl> & <dbl> & <dbl> & <dbl>\\\\\n",
       "\\hline\n",
       "\tSYCP1 &  273.3043 & -25.924309 & 1.609814 & -16.10391 & 2.394675e-58 & 6.635646e-54\\\\\n",
       "\tCALB2 & 1252.0593 &  13.539137 & 1.274571 &  10.62250 & 2.341986e-26 & 3.244822e-22\\\\\n",
       "\tADRB3 & 2494.3324 &  -9.603058 & 0.922843 & -10.40595 & 2.329206e-25 & 2.151410e-21\\\\\n",
       "\\end{tabular}\n"
      ],
      "text/markdown": [
       "\n",
       "A data.frame: 3 × 6\n",
       "\n",
       "| <!--/--> | baseMean &lt;dbl&gt; | log2FoldChange &lt;dbl&gt; | lfcSE &lt;dbl&gt; | stat &lt;dbl&gt; | pvalue &lt;dbl&gt; | padj &lt;dbl&gt; |\n",
       "|---|---|---|---|---|---|---|\n",
       "| SYCP1 |  273.3043 | -25.924309 | 1.609814 | -16.10391 | 2.394675e-58 | 6.635646e-54 |\n",
       "| CALB2 | 1252.0593 |  13.539137 | 1.274571 |  10.62250 | 2.341986e-26 | 3.244822e-22 |\n",
       "| ADRB3 | 2494.3324 |  -9.603058 | 0.922843 | -10.40595 | 2.329206e-25 | 2.151410e-21 |\n",
       "\n"
      ],
      "text/plain": [
       "      baseMean  log2FoldChange lfcSE    stat      pvalue       padj        \n",
       "SYCP1  273.3043 -25.924309     1.609814 -16.10391 2.394675e-58 6.635646e-54\n",
       "CALB2 1252.0593  13.539137     1.274571  10.62250 2.341986e-26 3.244822e-22\n",
       "ADRB3 2494.3324  -9.603058     0.922843 -10.40595 2.329206e-25 2.151410e-21"
      ]
     },
     "metadata": {},
     "output_type": "display_data"
    },
    {
     "data": {
      "text/plain": [
       "    baseMean         log2FoldChange        lfcSE             stat         \n",
       " Min.   :     2.95   Min.   :-25.924   Min.   :0.1417   Min.   :-16.1039  \n",
       " 1st Qu.:    59.46   1st Qu.: -2.312   1st Qu.:0.6281   1st Qu.: -3.2812  \n",
       " Median :   293.70   Median :  1.975   Median :0.8699   Median :  2.8846  \n",
       " Mean   :  1266.46   Mean   :  1.186   Mean   :0.8963   Mean   :  0.8045  \n",
       " 3rd Qu.:  1025.57   3rd Qu.:  4.164   3rd Qu.:1.1215   3rd Qu.:  4.0739  \n",
       " Max.   :209354.02   Max.   : 25.309   Max.   :3.2039   Max.   : 10.6225  \n",
       "     pvalue               padj          \n",
       " Min.   :0.000e+00   Min.   :0.000e+00  \n",
       " 1st Qu.:2.217e-06   1st Qu.:5.687e-05  \n",
       " Median :2.601e-04   Median :3.336e-03  \n",
       " Mean   :1.416e-03   Mean   :1.093e-02  \n",
       " 3rd Qu.:2.201e-03   3rd Qu.:1.882e-02  \n",
       " Max.   :7.783e-03   Max.   :4.994e-02  "
      ]
     },
     "metadata": {},
     "output_type": "display_data"
    }
   ],
   "source": [
    "# here I am extracting the differentially expressed genes from res\n",
    "result <- as.data.frame(res)\n",
    "# and removing na values\n",
    "lg1 <- !is.na(result$log2FoldChange)\n",
    "lg2 <- !is.na(result$padj)\n",
    "\n",
    "result <- result[lg1&lg2,]\n",
    "# filter by padj and log fold change (absolute)\n",
    "lg3 <- result$padj < 0.05\n",
    "lg4 <- abs(result$log2FoldChange) > 0\n",
    "# get result\n",
    "result <- result[lg3&lg4,]\n",
    "# rder results according to padj\n",
    "ord <- order(result$padj, decreasing = FALSE)\n",
    "result <- result[ord,]\n",
    "# view result\n",
    "result[1:3,]\n",
    "summary(result)"
   ]
  },
  {
   "cell_type": "code",
   "execution_count": 25,
   "id": "f5720739-4b61-4926-8d99-e7980f7571e0",
   "metadata": {
    "tags": []
   },
   "outputs": [
    {
     "name": "stderr",
     "output_type": "stream",
     "text": [
      "\u001b[1m\u001b[22mSaving 7 x 7 in image\n",
      "Warning message:\n",
      "“ggrepel: 2732 unlabeled data points (too many overlaps). Consider increasing max.overlaps”\n"
     ]
    }
   ],
   "source": [
    "# define conditions for upregulated, downregulated, and significant genes\n",
    "test <- ifelse(result$padj < 0.01, TRUE, FALSE)\n",
    "upregulated <- ifelse(test = result$log2FoldChange > 1, TRUE, FALSE)\n",
    "downregulated <- ifelse(test = result$log2FoldChange < -1, TRUE, FALSE)\n",
    "\n",
    "# define the state of each gene\n",
    "state <- ifelse(test == TRUE & upregulated == TRUE, \"Upregulated\", \n",
    "                ifelse(test == TRUE & downregulated == TRUE, \"Downregulated\", \"Not statistically significant\"))\n",
    "\n",
    "# get the genes to label - up or down\n",
    "genes <- rownames(result)[test & (upregulated | downregulated)]\n",
    "\n",
    "# prepare point labels\n",
    "point_label <- rownames(result)\n",
    "point_label[!(rownames(result) %in% genes)] <- \"\"\n",
    "\n",
    "# define the target (cic-dux4) and reference (ewing)\n",
    "target <- \"CIC-DUX4_sarcoma\"  \n",
    "reference <- \"Ewings_sarcoma\" \n",
    "\n",
    "# create volcano plot\n",
    "volcano_plot <- ggplot(data = result, mapping = aes(x = log2FoldChange, y = -log10(padj))) + \n",
    "  geom_point(mapping = aes(color = state, alpha = 0.9), size = 2) + \n",
    "  geom_text_repel(mapping = aes(label = point_label), max.overlaps = 10) +  \n",
    "  guides(alpha = \"none\") +  # fixed guides issue\n",
    "  labs(x = \"log2 fold change\", y = \"-log10 adjusted p-value\") +  # label\n",
    "  ggtitle(paste0(target, \" minus \", reference)) +  # title\n",
    "  theme_minimal()\n",
    "# save the plot\n",
    "ggsave(filename = paste0(\"/lustre/scratch126/cellgen/behjati/lr26/RNA/\", target, \"_minus_\", reference, \"volcano_plot_swiss_italy.pdf\"), \n",
    "       plot = volcano_plot, device = cairo_pdf, dpi = 300)"
   ]
  },
  {
   "cell_type": "code",
   "execution_count": 26,
   "id": "f7c56064-ca64-434e-b4fd-80192513b77f",
   "metadata": {
    "tags": []
   },
   "outputs": [
    {
     "name": "stderr",
     "output_type": "stream",
     "text": [
      "\n",
      "\n",
      "'select()' returned 1:1 mapping between keys and columns\n",
      "\n"
     ]
    },
    {
     "data": {
      "text/html": [
       "<table class=\"dataframe\">\n",
       "<caption>A data.frame: 6 × 7</caption>\n",
       "<thead>\n",
       "\t<tr><th></th><th scope=col>baseMean</th><th scope=col>log2FoldChange</th><th scope=col>lfcSE</th><th scope=col>stat</th><th scope=col>pvalue</th><th scope=col>padj</th><th scope=col>entrez</th></tr>\n",
       "\t<tr><th></th><th scope=col>&lt;dbl&gt;</th><th scope=col>&lt;dbl&gt;</th><th scope=col>&lt;dbl&gt;</th><th scope=col>&lt;dbl&gt;</th><th scope=col>&lt;dbl&gt;</th><th scope=col>&lt;dbl&gt;</th><th scope=col>&lt;chr&gt;</th></tr>\n",
       "</thead>\n",
       "<tbody>\n",
       "\t<tr><th scope=row>SYCP1</th><td> 273.3043</td><td>-25.924309</td><td>1.6098142</td><td>-16.10391</td><td>2.394675e-58</td><td>6.635646e-54</td><td>6847  </td></tr>\n",
       "\t<tr><th scope=row>CALB2</th><td>1252.0593</td><td> 13.539137</td><td>1.2745714</td><td> 10.62250</td><td>2.341986e-26</td><td>3.244822e-22</td><td>794   </td></tr>\n",
       "\t<tr><th scope=row>ADRB3</th><td>2494.3324</td><td> -9.603058</td><td>0.9228430</td><td>-10.40595</td><td>2.329206e-25</td><td>2.151410e-21</td><td>155   </td></tr>\n",
       "\t<tr><th scope=row>CYP4F22</th><td>4307.7653</td><td>-10.205900</td><td>0.9893293</td><td>-10.31598</td><td>5.967005e-25</td><td>4.133643e-21</td><td>126410</td></tr>\n",
       "\t<tr><th scope=row>PAX7</th><td>7885.6989</td><td>-11.027744</td><td>1.0818541</td><td>-10.19337</td><td>2.122669e-24</td><td>1.176383e-20</td><td>5081  </td></tr>\n",
       "\t<tr><th scope=row>TIE1</th><td>4418.0473</td><td>  8.989134</td><td>0.8879388</td><td> 10.12360</td><td>4.341635e-24</td><td>2.005112e-20</td><td>7075  </td></tr>\n",
       "</tbody>\n",
       "</table>\n"
      ],
      "text/latex": [
       "A data.frame: 6 × 7\n",
       "\\begin{tabular}{r|lllllll}\n",
       "  & baseMean & log2FoldChange & lfcSE & stat & pvalue & padj & entrez\\\\\n",
       "  & <dbl> & <dbl> & <dbl> & <dbl> & <dbl> & <dbl> & <chr>\\\\\n",
       "\\hline\n",
       "\tSYCP1 &  273.3043 & -25.924309 & 1.6098142 & -16.10391 & 2.394675e-58 & 6.635646e-54 & 6847  \\\\\n",
       "\tCALB2 & 1252.0593 &  13.539137 & 1.2745714 &  10.62250 & 2.341986e-26 & 3.244822e-22 & 794   \\\\\n",
       "\tADRB3 & 2494.3324 &  -9.603058 & 0.9228430 & -10.40595 & 2.329206e-25 & 2.151410e-21 & 155   \\\\\n",
       "\tCYP4F22 & 4307.7653 & -10.205900 & 0.9893293 & -10.31598 & 5.967005e-25 & 4.133643e-21 & 126410\\\\\n",
       "\tPAX7 & 7885.6989 & -11.027744 & 1.0818541 & -10.19337 & 2.122669e-24 & 1.176383e-20 & 5081  \\\\\n",
       "\tTIE1 & 4418.0473 &   8.989134 & 0.8879388 &  10.12360 & 4.341635e-24 & 2.005112e-20 & 7075  \\\\\n",
       "\\end{tabular}\n"
      ],
      "text/markdown": [
       "\n",
       "A data.frame: 6 × 7\n",
       "\n",
       "| <!--/--> | baseMean &lt;dbl&gt; | log2FoldChange &lt;dbl&gt; | lfcSE &lt;dbl&gt; | stat &lt;dbl&gt; | pvalue &lt;dbl&gt; | padj &lt;dbl&gt; | entrez &lt;chr&gt; |\n",
       "|---|---|---|---|---|---|---|---|\n",
       "| SYCP1 |  273.3043 | -25.924309 | 1.6098142 | -16.10391 | 2.394675e-58 | 6.635646e-54 | 6847   |\n",
       "| CALB2 | 1252.0593 |  13.539137 | 1.2745714 |  10.62250 | 2.341986e-26 | 3.244822e-22 | 794    |\n",
       "| ADRB3 | 2494.3324 |  -9.603058 | 0.9228430 | -10.40595 | 2.329206e-25 | 2.151410e-21 | 155    |\n",
       "| CYP4F22 | 4307.7653 | -10.205900 | 0.9893293 | -10.31598 | 5.967005e-25 | 4.133643e-21 | 126410 |\n",
       "| PAX7 | 7885.6989 | -11.027744 | 1.0818541 | -10.19337 | 2.122669e-24 | 1.176383e-20 | 5081   |\n",
       "| TIE1 | 4418.0473 |   8.989134 | 0.8879388 |  10.12360 | 4.341635e-24 | 2.005112e-20 | 7075   |\n",
       "\n"
      ],
      "text/plain": [
       "        baseMean  log2FoldChange lfcSE     stat      pvalue       padj        \n",
       "SYCP1    273.3043 -25.924309     1.6098142 -16.10391 2.394675e-58 6.635646e-54\n",
       "CALB2   1252.0593  13.539137     1.2745714  10.62250 2.341986e-26 3.244822e-22\n",
       "ADRB3   2494.3324  -9.603058     0.9228430 -10.40595 2.329206e-25 2.151410e-21\n",
       "CYP4F22 4307.7653 -10.205900     0.9893293 -10.31598 5.967005e-25 4.133643e-21\n",
       "PAX7    7885.6989 -11.027744     1.0818541 -10.19337 2.122669e-24 1.176383e-20\n",
       "TIE1    4418.0473   8.989134     0.8879388  10.12360 4.341635e-24 2.005112e-20\n",
       "        entrez\n",
       "SYCP1   6847  \n",
       "CALB2   794   \n",
       "ADRB3   155   \n",
       "CYP4F22 126410\n",
       "PAX7    5081  \n",
       "TIE1    7075  "
      ]
     },
     "metadata": {},
     "output_type": "display_data"
    }
   ],
   "source": [
    "# here I am using the the org.Hs.eg.db package\n",
    "# and mapping the entrez ids based on row names of the result df\n",
    "result$entrez <- mapIds(org.Hs.eg.db, \n",
    "                        keys = rownames(result),   \n",
    "                        column = \"ENTREZID\",       \n",
    "                        keytype = \"SYMBOL\",       \n",
    "                        multiVals = \"first\")       \n",
    "\n",
    "# check the first few rows of the result to verify\n",
    "head(result)"
   ]
  },
  {
   "cell_type": "code",
   "execution_count": 27,
   "id": "fc08bd70-c085-42c6-935e-af83e373f180",
   "metadata": {
    "tags": []
   },
   "outputs": [
    {
     "name": "stderr",
     "output_type": "stream",
     "text": [
      "Warning message:\n",
      "“\u001b[1m\u001b[22mThe `category` argument of `msigdbr()` is deprecated as of msigdbr 10.0.0.\n",
      "\u001b[36mℹ\u001b[39m Please use the `collection` argument instead.”\n"
     ]
    },
    {
     "data": {
      "text/html": [
       "<table class=\"dataframe\">\n",
       "<caption>A data.frame: 6 × 23</caption>\n",
       "<thead>\n",
       "\t<tr><th></th><th scope=col>gene_symbol</th><th scope=col>ncbi_gene</th><th scope=col>ensembl_gene</th><th scope=col>db_gene_symbol</th><th scope=col>db_ncbi_gene</th><th scope=col>db_ensembl_gene</th><th scope=col>source_gene</th><th scope=col>gs_id</th><th scope=col>gs_name</th><th scope=col>gs_collection</th><th scope=col>⋯</th><th scope=col>gs_source_species</th><th scope=col>gs_pmid</th><th scope=col>gs_geoid</th><th scope=col>gs_exact_source</th><th scope=col>gs_url</th><th scope=col>db_version</th><th scope=col>db_target_species</th><th scope=col>entrez_gene</th><th scope=col>gs_cat</th><th scope=col>gs_subcat</th></tr>\n",
       "\t<tr><th></th><th scope=col>&lt;chr&gt;</th><th scope=col>&lt;chr&gt;</th><th scope=col>&lt;chr&gt;</th><th scope=col>&lt;chr&gt;</th><th scope=col>&lt;chr&gt;</th><th scope=col>&lt;chr&gt;</th><th scope=col>&lt;chr&gt;</th><th scope=col>&lt;chr&gt;</th><th scope=col>&lt;chr&gt;</th><th scope=col>&lt;chr&gt;</th><th scope=col>⋯</th><th scope=col>&lt;chr&gt;</th><th scope=col>&lt;chr&gt;</th><th scope=col>&lt;chr&gt;</th><th scope=col>&lt;chr&gt;</th><th scope=col>&lt;chr&gt;</th><th scope=col>&lt;chr&gt;</th><th scope=col>&lt;chr&gt;</th><th scope=col>&lt;chr&gt;</th><th scope=col>&lt;chr&gt;</th><th scope=col>&lt;chr&gt;</th></tr>\n",
       "</thead>\n",
       "<tbody>\n",
       "\t<tr><th scope=row>1</th><td>ABCA1</td><td>19   </td><td>ENSG00000165029</td><td>ABCA1</td><td>19   </td><td>ENSG00000165029</td><td>ABCA1</td><td>M5905</td><td>HALLMARK_ADIPOGENESIS</td><td>H</td><td>⋯</td><td>HS</td><td>26771021</td><td></td><td></td><td></td><td>2024.1.Hs</td><td>HS</td><td>19   </td><td>H</td><td></td></tr>\n",
       "\t<tr><th scope=row>2</th><td>ABCB8</td><td>11194</td><td>ENSG00000197150</td><td>ABCB8</td><td>11194</td><td>ENSG00000197150</td><td>ABCB8</td><td>M5905</td><td>HALLMARK_ADIPOGENESIS</td><td>H</td><td>⋯</td><td>HS</td><td>26771021</td><td></td><td></td><td></td><td>2024.1.Hs</td><td>HS</td><td>11194</td><td>H</td><td></td></tr>\n",
       "\t<tr><th scope=row>3</th><td>ACAA2</td><td>10449</td><td>ENSG00000167315</td><td>ACAA2</td><td>10449</td><td>ENSG00000167315</td><td>ACAA2</td><td>M5905</td><td>HALLMARK_ADIPOGENESIS</td><td>H</td><td>⋯</td><td>HS</td><td>26771021</td><td></td><td></td><td></td><td>2024.1.Hs</td><td>HS</td><td>10449</td><td>H</td><td></td></tr>\n",
       "\t<tr><th scope=row>4</th><td>ACADL</td><td>33   </td><td>ENSG00000115361</td><td>ACADL</td><td>33   </td><td>ENSG00000115361</td><td>ACADL</td><td>M5905</td><td>HALLMARK_ADIPOGENESIS</td><td>H</td><td>⋯</td><td>HS</td><td>26771021</td><td></td><td></td><td></td><td>2024.1.Hs</td><td>HS</td><td>33   </td><td>H</td><td></td></tr>\n",
       "\t<tr><th scope=row>5</th><td>ACADM</td><td>34   </td><td>ENSG00000117054</td><td>ACADM</td><td>34   </td><td>ENSG00000117054</td><td>ACADM</td><td>M5905</td><td>HALLMARK_ADIPOGENESIS</td><td>H</td><td>⋯</td><td>HS</td><td>26771021</td><td></td><td></td><td></td><td>2024.1.Hs</td><td>HS</td><td>34   </td><td>H</td><td></td></tr>\n",
       "\t<tr><th scope=row>6</th><td>ACADS</td><td>35   </td><td>ENSG00000122971</td><td>ACADS</td><td>35   </td><td>ENSG00000122971</td><td>ACADS</td><td>M5905</td><td>HALLMARK_ADIPOGENESIS</td><td>H</td><td>⋯</td><td>HS</td><td>26771021</td><td></td><td></td><td></td><td>2024.1.Hs</td><td>HS</td><td>35   </td><td>H</td><td></td></tr>\n",
       "</tbody>\n",
       "</table>\n"
      ],
      "text/latex": [
       "A data.frame: 6 × 23\n",
       "\\begin{tabular}{r|lllllllllllllllllllll}\n",
       "  & gene\\_symbol & ncbi\\_gene & ensembl\\_gene & db\\_gene\\_symbol & db\\_ncbi\\_gene & db\\_ensembl\\_gene & source\\_gene & gs\\_id & gs\\_name & gs\\_collection & ⋯ & gs\\_source\\_species & gs\\_pmid & gs\\_geoid & gs\\_exact\\_source & gs\\_url & db\\_version & db\\_target\\_species & entrez\\_gene & gs\\_cat & gs\\_subcat\\\\\n",
       "  & <chr> & <chr> & <chr> & <chr> & <chr> & <chr> & <chr> & <chr> & <chr> & <chr> & ⋯ & <chr> & <chr> & <chr> & <chr> & <chr> & <chr> & <chr> & <chr> & <chr> & <chr>\\\\\n",
       "\\hline\n",
       "\t1 & ABCA1 & 19    & ENSG00000165029 & ABCA1 & 19    & ENSG00000165029 & ABCA1 & M5905 & HALLMARK\\_ADIPOGENESIS & H & ⋯ & HS & 26771021 &  &  &  & 2024.1.Hs & HS & 19    & H & \\\\\n",
       "\t2 & ABCB8 & 11194 & ENSG00000197150 & ABCB8 & 11194 & ENSG00000197150 & ABCB8 & M5905 & HALLMARK\\_ADIPOGENESIS & H & ⋯ & HS & 26771021 &  &  &  & 2024.1.Hs & HS & 11194 & H & \\\\\n",
       "\t3 & ACAA2 & 10449 & ENSG00000167315 & ACAA2 & 10449 & ENSG00000167315 & ACAA2 & M5905 & HALLMARK\\_ADIPOGENESIS & H & ⋯ & HS & 26771021 &  &  &  & 2024.1.Hs & HS & 10449 & H & \\\\\n",
       "\t4 & ACADL & 33    & ENSG00000115361 & ACADL & 33    & ENSG00000115361 & ACADL & M5905 & HALLMARK\\_ADIPOGENESIS & H & ⋯ & HS & 26771021 &  &  &  & 2024.1.Hs & HS & 33    & H & \\\\\n",
       "\t5 & ACADM & 34    & ENSG00000117054 & ACADM & 34    & ENSG00000117054 & ACADM & M5905 & HALLMARK\\_ADIPOGENESIS & H & ⋯ & HS & 26771021 &  &  &  & 2024.1.Hs & HS & 34    & H & \\\\\n",
       "\t6 & ACADS & 35    & ENSG00000122971 & ACADS & 35    & ENSG00000122971 & ACADS & M5905 & HALLMARK\\_ADIPOGENESIS & H & ⋯ & HS & 26771021 &  &  &  & 2024.1.Hs & HS & 35    & H & \\\\\n",
       "\\end{tabular}\n"
      ],
      "text/markdown": [
       "\n",
       "A data.frame: 6 × 23\n",
       "\n",
       "| <!--/--> | gene_symbol &lt;chr&gt; | ncbi_gene &lt;chr&gt; | ensembl_gene &lt;chr&gt; | db_gene_symbol &lt;chr&gt; | db_ncbi_gene &lt;chr&gt; | db_ensembl_gene &lt;chr&gt; | source_gene &lt;chr&gt; | gs_id &lt;chr&gt; | gs_name &lt;chr&gt; | gs_collection &lt;chr&gt; | ⋯ ⋯ | gs_source_species &lt;chr&gt; | gs_pmid &lt;chr&gt; | gs_geoid &lt;chr&gt; | gs_exact_source &lt;chr&gt; | gs_url &lt;chr&gt; | db_version &lt;chr&gt; | db_target_species &lt;chr&gt; | entrez_gene &lt;chr&gt; | gs_cat &lt;chr&gt; | gs_subcat &lt;chr&gt; |\n",
       "|---|---|---|---|---|---|---|---|---|---|---|---|---|---|---|---|---|---|---|---|---|---|\n",
       "| 1 | ABCA1 | 19    | ENSG00000165029 | ABCA1 | 19    | ENSG00000165029 | ABCA1 | M5905 | HALLMARK_ADIPOGENESIS | H | ⋯ | HS | 26771021 | <!----> | <!----> | <!----> | 2024.1.Hs | HS | 19    | H | <!----> |\n",
       "| 2 | ABCB8 | 11194 | ENSG00000197150 | ABCB8 | 11194 | ENSG00000197150 | ABCB8 | M5905 | HALLMARK_ADIPOGENESIS | H | ⋯ | HS | 26771021 | <!----> | <!----> | <!----> | 2024.1.Hs | HS | 11194 | H | <!----> |\n",
       "| 3 | ACAA2 | 10449 | ENSG00000167315 | ACAA2 | 10449 | ENSG00000167315 | ACAA2 | M5905 | HALLMARK_ADIPOGENESIS | H | ⋯ | HS | 26771021 | <!----> | <!----> | <!----> | 2024.1.Hs | HS | 10449 | H | <!----> |\n",
       "| 4 | ACADL | 33    | ENSG00000115361 | ACADL | 33    | ENSG00000115361 | ACADL | M5905 | HALLMARK_ADIPOGENESIS | H | ⋯ | HS | 26771021 | <!----> | <!----> | <!----> | 2024.1.Hs | HS | 33    | H | <!----> |\n",
       "| 5 | ACADM | 34    | ENSG00000117054 | ACADM | 34    | ENSG00000117054 | ACADM | M5905 | HALLMARK_ADIPOGENESIS | H | ⋯ | HS | 26771021 | <!----> | <!----> | <!----> | 2024.1.Hs | HS | 34    | H | <!----> |\n",
       "| 6 | ACADS | 35    | ENSG00000122971 | ACADS | 35    | ENSG00000122971 | ACADS | M5905 | HALLMARK_ADIPOGENESIS | H | ⋯ | HS | 26771021 | <!----> | <!----> | <!----> | 2024.1.Hs | HS | 35    | H | <!----> |\n",
       "\n"
      ],
      "text/plain": [
       "  gene_symbol ncbi_gene ensembl_gene    db_gene_symbol db_ncbi_gene\n",
       "1 ABCA1       19        ENSG00000165029 ABCA1          19          \n",
       "2 ABCB8       11194     ENSG00000197150 ABCB8          11194       \n",
       "3 ACAA2       10449     ENSG00000167315 ACAA2          10449       \n",
       "4 ACADL       33        ENSG00000115361 ACADL          33          \n",
       "5 ACADM       34        ENSG00000117054 ACADM          34          \n",
       "6 ACADS       35        ENSG00000122971 ACADS          35          \n",
       "  db_ensembl_gene source_gene gs_id gs_name               gs_collection ⋯\n",
       "1 ENSG00000165029 ABCA1       M5905 HALLMARK_ADIPOGENESIS H             ⋯\n",
       "2 ENSG00000197150 ABCB8       M5905 HALLMARK_ADIPOGENESIS H             ⋯\n",
       "3 ENSG00000167315 ACAA2       M5905 HALLMARK_ADIPOGENESIS H             ⋯\n",
       "4 ENSG00000115361 ACADL       M5905 HALLMARK_ADIPOGENESIS H             ⋯\n",
       "5 ENSG00000117054 ACADM       M5905 HALLMARK_ADIPOGENESIS H             ⋯\n",
       "6 ENSG00000122971 ACADS       M5905 HALLMARK_ADIPOGENESIS H             ⋯\n",
       "  gs_source_species gs_pmid  gs_geoid gs_exact_source gs_url db_version\n",
       "1 HS                26771021                                 2024.1.Hs \n",
       "2 HS                26771021                                 2024.1.Hs \n",
       "3 HS                26771021                                 2024.1.Hs \n",
       "4 HS                26771021                                 2024.1.Hs \n",
       "5 HS                26771021                                 2024.1.Hs \n",
       "6 HS                26771021                                 2024.1.Hs \n",
       "  db_target_species entrez_gene gs_cat gs_subcat\n",
       "1 HS                19          H               \n",
       "2 HS                11194       H               \n",
       "3 HS                10449       H               \n",
       "4 HS                33          H               \n",
       "5 HS                34          H               \n",
       "6 HS                35          H               "
      ]
     },
     "metadata": {},
     "output_type": "display_data"
    },
    {
     "name": "stderr",
     "output_type": "stream",
     "text": [
      "Warning message in preparePathwaysAndStats(pathways, stats, minSize, maxSize, gseaParam, :\n",
      "“There are ties in the preranked stats (0.05% of the list).\n",
      "The order of those tied genes will be arbitrary, which may produce unexpected results.”\n"
     ]
    },
    {
     "data": {
      "text/html": [
       "<table class=\"dataframe\">\n",
       "<caption>A data.table: 6 × 8</caption>\n",
       "<thead>\n",
       "\t<tr><th scope=col>pathway</th><th scope=col>pval</th><th scope=col>padj</th><th scope=col>log2err</th><th scope=col>ES</th><th scope=col>NES</th><th scope=col>size</th><th scope=col>leadingEdge</th></tr>\n",
       "\t<tr><th scope=col>&lt;chr&gt;</th><th scope=col>&lt;dbl&gt;</th><th scope=col>&lt;dbl&gt;</th><th scope=col>&lt;dbl&gt;</th><th scope=col>&lt;dbl&gt;</th><th scope=col>&lt;dbl&gt;</th><th scope=col>&lt;int&gt;</th><th scope=col>&lt;list&gt;</th></tr>\n",
       "</thead>\n",
       "<tbody>\n",
       "\t<tr><td>HALLMARK_ADIPOGENESIS       </td><td>1.297710e-01</td><td>3.346726e-01</td><td>0.13574094</td><td> 0.3556399</td><td> 1.3240671</td><td>31</td><td>11343, 3....</td></tr>\n",
       "\t<tr><td>HALLMARK_ALLOGRAFT_REJECTION</td><td>4.313569e-07</td><td>1.056824e-05</td><td>0.67496286</td><td> 0.5238613</td><td> 2.3009724</td><td>66</td><td>972, 945....</td></tr>\n",
       "\t<tr><td>HALLMARK_ANDROGEN_RESPONSE  </td><td>7.762431e-01</td><td>9.436451e-01</td><td>0.04032954</td><td> 0.2437074</td><td> 0.7747884</td><td>17</td><td>220, 563....</td></tr>\n",
       "\t<tr><td>HALLMARK_ANGIOGENESIS       </td><td>9.940473e-04</td><td>6.088540e-03</td><td>0.45505987</td><td> 0.6136695</td><td> 1.9509626</td><td>17</td><td>6696, 70....</td></tr>\n",
       "\t<tr><td>HALLMARK_APICAL_JUNCTION    </td><td>3.512881e-02</td><td>1.434426e-01</td><td>0.26166352</td><td> 0.3534608</td><td> 1.5164039</td><td>58</td><td>794, 129....</td></tr>\n",
       "\t<tr><td>HALLMARK_APICAL_SURFACE     </td><td>9.169960e-01</td><td>9.436451e-01</td><td>0.08312913</td><td>-0.1614940</td><td>-0.6546829</td><td>20</td><td>255738, ....</td></tr>\n",
       "</tbody>\n",
       "</table>\n"
      ],
      "text/latex": [
       "A data.table: 6 × 8\n",
       "\\begin{tabular}{llllllll}\n",
       " pathway & pval & padj & log2err & ES & NES & size & leadingEdge\\\\\n",
       " <chr> & <dbl> & <dbl> & <dbl> & <dbl> & <dbl> & <int> & <list>\\\\\n",
       "\\hline\n",
       "\t HALLMARK\\_ADIPOGENESIS        & 1.297710e-01 & 3.346726e-01 & 0.13574094 &  0.3556399 &  1.3240671 & 31 & 11343, 3....\\\\\n",
       "\t HALLMARK\\_ALLOGRAFT\\_REJECTION & 4.313569e-07 & 1.056824e-05 & 0.67496286 &  0.5238613 &  2.3009724 & 66 & 972, 945....\\\\\n",
       "\t HALLMARK\\_ANDROGEN\\_RESPONSE   & 7.762431e-01 & 9.436451e-01 & 0.04032954 &  0.2437074 &  0.7747884 & 17 & 220, 563....\\\\\n",
       "\t HALLMARK\\_ANGIOGENESIS        & 9.940473e-04 & 6.088540e-03 & 0.45505987 &  0.6136695 &  1.9509626 & 17 & 6696, 70....\\\\\n",
       "\t HALLMARK\\_APICAL\\_JUNCTION     & 3.512881e-02 & 1.434426e-01 & 0.26166352 &  0.3534608 &  1.5164039 & 58 & 794, 129....\\\\\n",
       "\t HALLMARK\\_APICAL\\_SURFACE      & 9.169960e-01 & 9.436451e-01 & 0.08312913 & -0.1614940 & -0.6546829 & 20 & 255738, ....\\\\\n",
       "\\end{tabular}\n"
      ],
      "text/markdown": [
       "\n",
       "A data.table: 6 × 8\n",
       "\n",
       "| pathway &lt;chr&gt; | pval &lt;dbl&gt; | padj &lt;dbl&gt; | log2err &lt;dbl&gt; | ES &lt;dbl&gt; | NES &lt;dbl&gt; | size &lt;int&gt; | leadingEdge &lt;list&gt; |\n",
       "|---|---|---|---|---|---|---|---|\n",
       "| HALLMARK_ADIPOGENESIS        | 1.297710e-01 | 3.346726e-01 | 0.13574094 |  0.3556399 |  1.3240671 | 31 | 11343, 3.... |\n",
       "| HALLMARK_ALLOGRAFT_REJECTION | 4.313569e-07 | 1.056824e-05 | 0.67496286 |  0.5238613 |  2.3009724 | 66 | 972, 945.... |\n",
       "| HALLMARK_ANDROGEN_RESPONSE   | 7.762431e-01 | 9.436451e-01 | 0.04032954 |  0.2437074 |  0.7747884 | 17 | 220, 563.... |\n",
       "| HALLMARK_ANGIOGENESIS        | 9.940473e-04 | 6.088540e-03 | 0.45505987 |  0.6136695 |  1.9509626 | 17 | 6696, 70.... |\n",
       "| HALLMARK_APICAL_JUNCTION     | 3.512881e-02 | 1.434426e-01 | 0.26166352 |  0.3534608 |  1.5164039 | 58 | 794, 129.... |\n",
       "| HALLMARK_APICAL_SURFACE      | 9.169960e-01 | 9.436451e-01 | 0.08312913 | -0.1614940 | -0.6546829 | 20 | 255738, .... |\n",
       "\n"
      ],
      "text/plain": [
       "  pathway                      pval         padj         log2err    ES        \n",
       "1 HALLMARK_ADIPOGENESIS        1.297710e-01 3.346726e-01 0.13574094  0.3556399\n",
       "2 HALLMARK_ALLOGRAFT_REJECTION 4.313569e-07 1.056824e-05 0.67496286  0.5238613\n",
       "3 HALLMARK_ANDROGEN_RESPONSE   7.762431e-01 9.436451e-01 0.04032954  0.2437074\n",
       "4 HALLMARK_ANGIOGENESIS        9.940473e-04 6.088540e-03 0.45505987  0.6136695\n",
       "5 HALLMARK_APICAL_JUNCTION     3.512881e-02 1.434426e-01 0.26166352  0.3534608\n",
       "6 HALLMARK_APICAL_SURFACE      9.169960e-01 9.436451e-01 0.08312913 -0.1614940\n",
       "  NES        size leadingEdge \n",
       "1  1.3240671 31   11343, 3....\n",
       "2  2.3009724 66   972, 945....\n",
       "3  0.7747884 17   220, 563....\n",
       "4  1.9509626 17   6696, 70....\n",
       "5  1.5164039 58   794, 129....\n",
       "6 -0.6546829 20   255738, ...."
      ]
     },
     "metadata": {},
     "output_type": "display_data"
    },
    {
     "data": {
      "text/html": [
       "<table class=\"dataframe\">\n",
       "<caption>A data.table: 6 × 8</caption>\n",
       "<thead>\n",
       "\t<tr><th scope=col>pathway</th><th scope=col>pval</th><th scope=col>padj</th><th scope=col>log2err</th><th scope=col>ES</th><th scope=col>NES</th><th scope=col>size</th><th scope=col>leadingEdge</th></tr>\n",
       "\t<tr><th scope=col>&lt;chr&gt;</th><th scope=col>&lt;dbl&gt;</th><th scope=col>&lt;dbl&gt;</th><th scope=col>&lt;dbl&gt;</th><th scope=col>&lt;dbl&gt;</th><th scope=col>&lt;dbl&gt;</th><th scope=col>&lt;int&gt;</th><th scope=col>&lt;list&gt;</th></tr>\n",
       "</thead>\n",
       "<tbody>\n",
       "\t<tr><td>HALLMARK_INFLAMMATORY_RESPONSE            </td><td>1.780384e-07</td><td>8.723881e-06</td><td>0.6901325</td><td>0.5198061</td><td>2.293283</td><td>69</td><td>5996, 18....</td></tr>\n",
       "\t<tr><td>HALLMARK_ALLOGRAFT_REJECTION              </td><td>4.313569e-07</td><td>1.056824e-05</td><td>0.6749629</td><td>0.5238613</td><td>2.300972</td><td>66</td><td>972, 945....</td></tr>\n",
       "\t<tr><td>HALLMARK_KRAS_SIGNALING_UP                </td><td>3.853664e-06</td><td>6.294318e-05</td><td>0.6105269</td><td>0.4745851</td><td>2.122911</td><td>74</td><td>6696, 56....</td></tr>\n",
       "\t<tr><td>HALLMARK_COAGULATION                      </td><td>1.127774e-04</td><td>1.381523e-03</td><td>0.5384341</td><td>0.5298869</td><td>2.058738</td><td>37</td><td>712, 705....</td></tr>\n",
       "\t<tr><td>HALLMARK_COMPLEMENT                       </td><td>1.864833e-04</td><td>1.760177e-03</td><td>0.5188481</td><td>0.4542197</td><td>1.973202</td><td>61</td><td>712, 714....</td></tr>\n",
       "\t<tr><td>HALLMARK_EPITHELIAL_MESENCHYMAL_TRANSITION</td><td>2.514538e-04</td><td>1.760177e-03</td><td>0.4984931</td><td>0.4210651</td><td>1.883506</td><td>74</td><td>6696, 70....</td></tr>\n",
       "</tbody>\n",
       "</table>\n"
      ],
      "text/latex": [
       "A data.table: 6 × 8\n",
       "\\begin{tabular}{llllllll}\n",
       " pathway & pval & padj & log2err & ES & NES & size & leadingEdge\\\\\n",
       " <chr> & <dbl> & <dbl> & <dbl> & <dbl> & <dbl> & <int> & <list>\\\\\n",
       "\\hline\n",
       "\t HALLMARK\\_INFLAMMATORY\\_RESPONSE             & 1.780384e-07 & 8.723881e-06 & 0.6901325 & 0.5198061 & 2.293283 & 69 & 5996, 18....\\\\\n",
       "\t HALLMARK\\_ALLOGRAFT\\_REJECTION               & 4.313569e-07 & 1.056824e-05 & 0.6749629 & 0.5238613 & 2.300972 & 66 & 972, 945....\\\\\n",
       "\t HALLMARK\\_KRAS\\_SIGNALING\\_UP                 & 3.853664e-06 & 6.294318e-05 & 0.6105269 & 0.4745851 & 2.122911 & 74 & 6696, 56....\\\\\n",
       "\t HALLMARK\\_COAGULATION                       & 1.127774e-04 & 1.381523e-03 & 0.5384341 & 0.5298869 & 2.058738 & 37 & 712, 705....\\\\\n",
       "\t HALLMARK\\_COMPLEMENT                        & 1.864833e-04 & 1.760177e-03 & 0.5188481 & 0.4542197 & 1.973202 & 61 & 712, 714....\\\\\n",
       "\t HALLMARK\\_EPITHELIAL\\_MESENCHYMAL\\_TRANSITION & 2.514538e-04 & 1.760177e-03 & 0.4984931 & 0.4210651 & 1.883506 & 74 & 6696, 70....\\\\\n",
       "\\end{tabular}\n"
      ],
      "text/markdown": [
       "\n",
       "A data.table: 6 × 8\n",
       "\n",
       "| pathway &lt;chr&gt; | pval &lt;dbl&gt; | padj &lt;dbl&gt; | log2err &lt;dbl&gt; | ES &lt;dbl&gt; | NES &lt;dbl&gt; | size &lt;int&gt; | leadingEdge &lt;list&gt; |\n",
       "|---|---|---|---|---|---|---|---|\n",
       "| HALLMARK_INFLAMMATORY_RESPONSE             | 1.780384e-07 | 8.723881e-06 | 0.6901325 | 0.5198061 | 2.293283 | 69 | 5996, 18.... |\n",
       "| HALLMARK_ALLOGRAFT_REJECTION               | 4.313569e-07 | 1.056824e-05 | 0.6749629 | 0.5238613 | 2.300972 | 66 | 972, 945.... |\n",
       "| HALLMARK_KRAS_SIGNALING_UP                 | 3.853664e-06 | 6.294318e-05 | 0.6105269 | 0.4745851 | 2.122911 | 74 | 6696, 56.... |\n",
       "| HALLMARK_COAGULATION                       | 1.127774e-04 | 1.381523e-03 | 0.5384341 | 0.5298869 | 2.058738 | 37 | 712, 705.... |\n",
       "| HALLMARK_COMPLEMENT                        | 1.864833e-04 | 1.760177e-03 | 0.5188481 | 0.4542197 | 1.973202 | 61 | 712, 714.... |\n",
       "| HALLMARK_EPITHELIAL_MESENCHYMAL_TRANSITION | 2.514538e-04 | 1.760177e-03 | 0.4984931 | 0.4210651 | 1.883506 | 74 | 6696, 70.... |\n",
       "\n"
      ],
      "text/plain": [
       "  pathway                                    pval         padj        \n",
       "1 HALLMARK_INFLAMMATORY_RESPONSE             1.780384e-07 8.723881e-06\n",
       "2 HALLMARK_ALLOGRAFT_REJECTION               4.313569e-07 1.056824e-05\n",
       "3 HALLMARK_KRAS_SIGNALING_UP                 3.853664e-06 6.294318e-05\n",
       "4 HALLMARK_COAGULATION                       1.127774e-04 1.381523e-03\n",
       "5 HALLMARK_COMPLEMENT                        1.864833e-04 1.760177e-03\n",
       "6 HALLMARK_EPITHELIAL_MESENCHYMAL_TRANSITION 2.514538e-04 1.760177e-03\n",
       "  log2err   ES        NES      size leadingEdge \n",
       "1 0.6901325 0.5198061 2.293283 69   5996, 18....\n",
       "2 0.6749629 0.5238613 2.300972 66   972, 945....\n",
       "3 0.6105269 0.4745851 2.122911 74   6696, 56....\n",
       "4 0.5384341 0.5298869 2.058738 37   712, 705....\n",
       "5 0.5188481 0.4542197 1.973202 61   712, 714....\n",
       "6 0.4984931 0.4210651 1.883506 74   6696, 70...."
      ]
     },
     "metadata": {},
     "output_type": "display_data"
    }
   ],
   "source": [
    "# here I am doing a fast gene set enrichment analysis\n",
    "# result dataframe with gene symbols, row names, entrez id, gene names\n",
    "\n",
    "# I ensure that the 'entrez' column contains valid Entrez IDs for GSEA, remove those without ids\n",
    "fgsea_data <- result[!is.na(result$entrez), ] \n",
    "\n",
    "# prepare the ranking - log2foldchange and check first few vals\n",
    "#rank vector - entrez ids\n",
    "ranks <- fgsea_data$log2FoldChange\n",
    "names(ranks) <- fgsea_data$entrez  \n",
    "\n",
    "# remove unknown vals\n",
    "ranks <- ranks[!is.na(ranks)]\n",
    "\n",
    "# msigdb hallmark pathways - load gene sets\n",
    "pathways_df <- msigdbr(species = \"Homo sapiens\", category = \"H\")\n",
    "\n",
    "# check the gene symbols are valid, each row a separate gene \n",
    "head(pathways_df)\n",
    "\n",
    "# split pathways into a list, each element is a character vector of gene symbols\n",
    "pathways_list <- split(pathways_df$entrez_gene, pathways_df$gs_name)\n",
    "\n",
    "# run gsea for enriched pathway analysis\n",
    "fgsea_res <- fgseaMultilevel(pathways_list, stats = ranks)\n",
    "head(fgsea_res)\n",
    "# sort by adjusted p-value (padj)\n",
    "fgsea_res <- fgsea_res[order(fgsea_res$padj), ]\n",
    "\n",
    "# view top 5 enriched pathways\n",
    "head(fgsea_res)\n",
    "\n",
    "# plot the results, setting normalised enrichment score to 0.5 above\n",
    "fgsea_plot <- fgsea_res[abs(fgsea_res$NES) > 0.5, ]\n",
    "fgsea_plot <- fgsea_plot[order(fgsea_plot$NES), ]\n",
    "\n",
    "#  volcano plot and save it\n",
    "library(ggplot2)\n",
    "my_plot <- ggplot(fgsea_plot, aes(x = reorder(pathway, NES), y = NES)) +\n",
    "  geom_col(aes(fill = padj > 0.05)) +\n",
    "  coord_flip() +\n",
    "  labs(x = \"Pathway\", y = \"Normalized Enrichment Score (NES)\", title = \"FGSEA Enrichment: CIC-DUX4 vs Ewing Sarcoma\") +\n",
    "  theme_minimal() +\n",
    "  theme(legend.position = \"none\")\n",
    "\n",
    "ggsave(filename = \"/lustre/scratch126/cellgen/behjati/lr26/RNA/fgsea_volcano_plot_swiss_italy.pdf\", my_plot, width = 10, height = 8, device = cairo_pdf, dpi = 300)\n"
   ]
  },
  {
   "cell_type": "code",
   "execution_count": 28,
   "id": "24566848-f021-4ea4-9fa7-252f89d74b11",
   "metadata": {
    "tags": []
   },
   "outputs": [
    {
     "name": "stdout",
     "output_type": "stream",
     "text": [
      "      AS-892475-LR-66487 AS-892476-LR-66487 AS-892477-LR-66487\n",
      "CIC              3704.71       4.880930e+03           10536.35\n",
      "DUX4                0.00       7.626454e-01               0.00\n",
      "EWSR1           14468.88       1.272169e+04           11120.08\n",
      "MYOD1               0.00       9.914390e+00               0.00\n",
      "      AS-892478-LR-66487 AS-892479-LR-66487 AS-892480-LR-66487\n",
      "CIC             7908.605           6041.075        3190.667238\n",
      "DUX4               0.000              0.000           0.000000\n",
      "EWSR1          11443.871          10507.280       21216.495462\n",
      "MYOD1              0.000              0.000           5.626039\n",
      "      AS-892481-LR-66487 AS-892482-LR-66487 AS-892483-LR-66487\n",
      "CIC           10961.1577         3757.61741         11829.2935\n",
      "DUX4            192.1261           54.96515           126.1611\n",
      "EWSR1         19009.8438        13830.60542         14212.2741\n",
      "MYOD1             0.0000            0.00000             0.0000\n",
      "      AS-892484-LR-66487 AS-893415-LR-66487  GSM5024895 GSM5024896   GSM5024897\n",
      "CIC          5372.541524         2086.61790 11094.13628  11525.847 15068.407744\n",
      "DUX4           59.063881           90.01097   556.51120   1374.505   782.524117\n",
      "EWSR1       11390.242369        10668.05322  4058.92300   3668.678  3056.855293\n",
      "MYOD1           3.028917            0.00000    10.44646      0.000     3.854799\n",
      "      GSM5024898 GSM5024899 GSM5024900 GSM5024901 GSM5024902 our_patient_FO\n",
      "CIC   15105.6147  3424.8135  139.61207   1629.316   4435.970      1660.4174\n",
      "DUX4    661.1833     0.0000  279.22415      0.000      0.000        14.0271\n",
      "EWSR1  6666.5404  2971.4365   39.88916   3519.672   3010.191      9816.0355\n",
      "MYOD1     0.0000   104.2609   19.94458      0.000      0.000         0.0000\n",
      "       our_patient\n",
      "CIC   2.883116e+04\n",
      "DUX4  4.348966e+02\n",
      "EWSR1 7.221042e+03\n",
      "MYOD1 8.343648e-01\n"
     ]
    }
   ],
   "source": [
    "# normalized counts from dds object\n",
    "norm_counts <- counts(dds, normalized=TRUE)\n",
    "\n",
    "# specific genes of interest \n",
    "genes_of_interest <- c(\"CIC\", \"DUX4\", \"EWSR1\", \"MYOD1\")\n",
    "\n",
    "# subset normalised counts for the genes \n",
    "expression_data <- norm_counts[genes_of_interest, ]\n",
    "print(expression_data)\n"
   ]
  },
  {
   "cell_type": "code",
   "execution_count": 29,
   "id": "5bb9793d-cb53-4be8-b3b3-a456af3d2491",
   "metadata": {
    "tags": []
   },
   "outputs": [
    {
     "data": {
      "text/html": [
       "<table class=\"dataframe\">\n",
       "<caption>A data.frame: 6 × 5</caption>\n",
       "<thead>\n",
       "\t<tr><th></th><th scope=col>CIC</th><th scope=col>DUX4</th><th scope=col>EWSR1</th><th scope=col>MYOD1</th><th scope=col>Condition</th></tr>\n",
       "\t<tr><th></th><th scope=col>&lt;dbl&gt;</th><th scope=col>&lt;dbl&gt;</th><th scope=col>&lt;dbl&gt;</th><th scope=col>&lt;dbl&gt;</th><th scope=col>&lt;fct&gt;</th></tr>\n",
       "</thead>\n",
       "<tbody>\n",
       "\t<tr><th scope=row>AS-892475-LR-66487</th><td> 3704.710</td><td>0.0000000</td><td>14468.88</td><td>0.000000</td><td>Ewing sarcoma</td></tr>\n",
       "\t<tr><th scope=row>AS-892476-LR-66487</th><td> 4880.930</td><td>0.7626454</td><td>12721.69</td><td>9.914390</td><td>Ewing sarcoma</td></tr>\n",
       "\t<tr><th scope=row>AS-892477-LR-66487</th><td>10536.345</td><td>0.0000000</td><td>11120.08</td><td>0.000000</td><td>Ewing sarcoma</td></tr>\n",
       "\t<tr><th scope=row>AS-892478-LR-66487</th><td> 7908.605</td><td>0.0000000</td><td>11443.87</td><td>0.000000</td><td>Ewing sarcoma</td></tr>\n",
       "\t<tr><th scope=row>AS-892479-LR-66487</th><td> 6041.075</td><td>0.0000000</td><td>10507.28</td><td>0.000000</td><td>Ewing sarcoma</td></tr>\n",
       "\t<tr><th scope=row>AS-892480-LR-66487</th><td> 3190.667</td><td>0.0000000</td><td>21216.50</td><td>5.626039</td><td>Ewing sarcoma</td></tr>\n",
       "</tbody>\n",
       "</table>\n"
      ],
      "text/latex": [
       "A data.frame: 6 × 5\n",
       "\\begin{tabular}{r|lllll}\n",
       "  & CIC & DUX4 & EWSR1 & MYOD1 & Condition\\\\\n",
       "  & <dbl> & <dbl> & <dbl> & <dbl> & <fct>\\\\\n",
       "\\hline\n",
       "\tAS-892475-LR-66487 &  3704.710 & 0.0000000 & 14468.88 & 0.000000 & Ewing sarcoma\\\\\n",
       "\tAS-892476-LR-66487 &  4880.930 & 0.7626454 & 12721.69 & 9.914390 & Ewing sarcoma\\\\\n",
       "\tAS-892477-LR-66487 & 10536.345 & 0.0000000 & 11120.08 & 0.000000 & Ewing sarcoma\\\\\n",
       "\tAS-892478-LR-66487 &  7908.605 & 0.0000000 & 11443.87 & 0.000000 & Ewing sarcoma\\\\\n",
       "\tAS-892479-LR-66487 &  6041.075 & 0.0000000 & 10507.28 & 0.000000 & Ewing sarcoma\\\\\n",
       "\tAS-892480-LR-66487 &  3190.667 & 0.0000000 & 21216.50 & 5.626039 & Ewing sarcoma\\\\\n",
       "\\end{tabular}\n"
      ],
      "text/markdown": [
       "\n",
       "A data.frame: 6 × 5\n",
       "\n",
       "| <!--/--> | CIC &lt;dbl&gt; | DUX4 &lt;dbl&gt; | EWSR1 &lt;dbl&gt; | MYOD1 &lt;dbl&gt; | Condition &lt;fct&gt; |\n",
       "|---|---|---|---|---|---|\n",
       "| AS-892475-LR-66487 |  3704.710 | 0.0000000 | 14468.88 | 0.000000 | Ewing sarcoma |\n",
       "| AS-892476-LR-66487 |  4880.930 | 0.7626454 | 12721.69 | 9.914390 | Ewing sarcoma |\n",
       "| AS-892477-LR-66487 | 10536.345 | 0.0000000 | 11120.08 | 0.000000 | Ewing sarcoma |\n",
       "| AS-892478-LR-66487 |  7908.605 | 0.0000000 | 11443.87 | 0.000000 | Ewing sarcoma |\n",
       "| AS-892479-LR-66487 |  6041.075 | 0.0000000 | 10507.28 | 0.000000 | Ewing sarcoma |\n",
       "| AS-892480-LR-66487 |  3190.667 | 0.0000000 | 21216.50 | 5.626039 | Ewing sarcoma |\n",
       "\n"
      ],
      "text/plain": [
       "                   CIC       DUX4      EWSR1    MYOD1    Condition    \n",
       "AS-892475-LR-66487  3704.710 0.0000000 14468.88 0.000000 Ewing sarcoma\n",
       "AS-892476-LR-66487  4880.930 0.7626454 12721.69 9.914390 Ewing sarcoma\n",
       "AS-892477-LR-66487 10536.345 0.0000000 11120.08 0.000000 Ewing sarcoma\n",
       "AS-892478-LR-66487  7908.605 0.0000000 11443.87 0.000000 Ewing sarcoma\n",
       "AS-892479-LR-66487  6041.075 0.0000000 10507.28 0.000000 Ewing sarcoma\n",
       "AS-892480-LR-66487  3190.667 0.0000000 21216.50 5.626039 Ewing sarcoma"
      ]
     },
     "metadata": {},
     "output_type": "display_data"
    }
   ],
   "source": [
    "# data frame with normalized counts and sample information\n",
    "expression_df <- as.data.frame(t(expression_data))  # get samples in rows\n",
    "expression_df$Condition <- colData(dds)$Condition  # add condition information\n",
    "\n",
    "# view the data frame to check it\n",
    "head(expression_df)\n"
   ]
  },
  {
   "cell_type": "code",
   "execution_count": null,
   "id": "00775a56-9a74-4cb9-a07e-9d0a76a941b8",
   "metadata": {},
   "outputs": [],
   "source": [
    "# reshape into long format\n",
    "expression_long_df <- gather(expression_df, key = \"Gene\", value = \"Expression\", -Condition)\n",
    "\n",
    "# plot per condition\n",
    "p <- ggplot(expression_long_df, aes(x=Condition, y=Expression, fill=Condition)) + \n",
    "  geom_boxplot() + \n",
    "  facet_wrap(~Gene, scales=\"free_y\") +\n",
    "  labs(title=\"Expression of Genes across Conditions\", x=\"Condition\", y=\"Normalized Expression\") +\n",
    "  theme_minimal()\n",
    "\n",
    "# save the plot\n",
    "ggsave(filename = \"/lustre/scratch126/cellgen/behjati/lr26/RNA/Expression_of_Genes_across_Conditions_swiss_italy.pdf\", \n",
    "       plot = p, device = cairo_pdf, dpi = 300, width = 10, height = 8)"
   ]
  },
  {
   "cell_type": "code",
   "execution_count": 41,
   "id": "c46d5b8a-07c3-4743-9a3f-725663f55bdb",
   "metadata": {
    "tags": []
   },
   "outputs": [
    {
     "data": {
      "text/html": [
       "<style>\n",
       ".list-inline {list-style: none; margin:0; padding: 0}\n",
       ".list-inline>li {display: inline-block}\n",
       ".list-inline>li:not(:last-child)::after {content: \"\\00b7\"; padding: 0 .5ex}\n",
       "</style>\n",
       "<ol class=list-inline><li>'LINC00312'</li><li>'LOC124900464'</li><li>'LOC124900530'</li><li>'LOC124905413'</li><li>'LOC124906156'</li><li>'HSD17B3'</li><li>'LOC644634'</li><li>'SNORA88'</li><li>'LOC124908181'</li><li>'LOC124903267'</li><li>'LOC124904827'</li><li>'SULT1A4'</li><li>'LOC124900907'</li><li>'LOC124907510'</li><li>'IFNE'</li><li>'NPIPA6'</li><li>'LOC124902275'</li><li>'FGF12-AS3'</li><li>'LOC124903424'</li><li>'SNORD13I'</li><li>'LOC124900898'</li><li>'LOC107985201'</li><li>'LOC105371975'</li><li>'LOC124900188'</li><li>'FAM133B'</li><li>'LOC105371472'</li><li>'PSORS1C1'</li><li>'LOC100506274'</li><li>'SMIM10L2B-AS1'</li><li>'BPIFB4'</li><li>'EGFL8'</li><li>'VIP'</li><li>'LOC124907554'</li><li>'LOC128966590'</li><li>'LOC105376090'</li><li>'NPFF'</li><li>'C19orf18'</li><li>'ATXN7L3-AS1'</li><li>'LOC107984201'</li><li>'TILAM'</li><li>'LOC124901201'</li><li>'LOC128966699'</li><li>'ACTN1-DT'</li><li>'C5orf58'</li><li>'RASGRF2-AS1'</li><li>'DCANP1'</li><li>'SPOCD1'</li><li>'LOC124903604'</li><li>'LOC124901209'</li><li>'LOC124906338'</li></ol>\n"
      ],
      "text/latex": [
       "\\begin{enumerate*}\n",
       "\\item 'LINC00312'\n",
       "\\item 'LOC124900464'\n",
       "\\item 'LOC124900530'\n",
       "\\item 'LOC124905413'\n",
       "\\item 'LOC124906156'\n",
       "\\item 'HSD17B3'\n",
       "\\item 'LOC644634'\n",
       "\\item 'SNORA88'\n",
       "\\item 'LOC124908181'\n",
       "\\item 'LOC124903267'\n",
       "\\item 'LOC124904827'\n",
       "\\item 'SULT1A4'\n",
       "\\item 'LOC124900907'\n",
       "\\item 'LOC124907510'\n",
       "\\item 'IFNE'\n",
       "\\item 'NPIPA6'\n",
       "\\item 'LOC124902275'\n",
       "\\item 'FGF12-AS3'\n",
       "\\item 'LOC124903424'\n",
       "\\item 'SNORD13I'\n",
       "\\item 'LOC124900898'\n",
       "\\item 'LOC107985201'\n",
       "\\item 'LOC105371975'\n",
       "\\item 'LOC124900188'\n",
       "\\item 'FAM133B'\n",
       "\\item 'LOC105371472'\n",
       "\\item 'PSORS1C1'\n",
       "\\item 'LOC100506274'\n",
       "\\item 'SMIM10L2B-AS1'\n",
       "\\item 'BPIFB4'\n",
       "\\item 'EGFL8'\n",
       "\\item 'VIP'\n",
       "\\item 'LOC124907554'\n",
       "\\item 'LOC128966590'\n",
       "\\item 'LOC105376090'\n",
       "\\item 'NPFF'\n",
       "\\item 'C19orf18'\n",
       "\\item 'ATXN7L3-AS1'\n",
       "\\item 'LOC107984201'\n",
       "\\item 'TILAM'\n",
       "\\item 'LOC124901201'\n",
       "\\item 'LOC128966699'\n",
       "\\item 'ACTN1-DT'\n",
       "\\item 'C5orf58'\n",
       "\\item 'RASGRF2-AS1'\n",
       "\\item 'DCANP1'\n",
       "\\item 'SPOCD1'\n",
       "\\item 'LOC124903604'\n",
       "\\item 'LOC124901209'\n",
       "\\item 'LOC124906338'\n",
       "\\end{enumerate*}\n"
      ],
      "text/markdown": [
       "1. 'LINC00312'\n",
       "2. 'LOC124900464'\n",
       "3. 'LOC124900530'\n",
       "4. 'LOC124905413'\n",
       "5. 'LOC124906156'\n",
       "6. 'HSD17B3'\n",
       "7. 'LOC644634'\n",
       "8. 'SNORA88'\n",
       "9. 'LOC124908181'\n",
       "10. 'LOC124903267'\n",
       "11. 'LOC124904827'\n",
       "12. 'SULT1A4'\n",
       "13. 'LOC124900907'\n",
       "14. 'LOC124907510'\n",
       "15. 'IFNE'\n",
       "16. 'NPIPA6'\n",
       "17. 'LOC124902275'\n",
       "18. 'FGF12-AS3'\n",
       "19. 'LOC124903424'\n",
       "20. 'SNORD13I'\n",
       "21. 'LOC124900898'\n",
       "22. 'LOC107985201'\n",
       "23. 'LOC105371975'\n",
       "24. 'LOC124900188'\n",
       "25. 'FAM133B'\n",
       "26. 'LOC105371472'\n",
       "27. 'PSORS1C1'\n",
       "28. 'LOC100506274'\n",
       "29. 'SMIM10L2B-AS1'\n",
       "30. 'BPIFB4'\n",
       "31. 'EGFL8'\n",
       "32. 'VIP'\n",
       "33. 'LOC124907554'\n",
       "34. 'LOC128966590'\n",
       "35. 'LOC105376090'\n",
       "36. 'NPFF'\n",
       "37. 'C19orf18'\n",
       "38. 'ATXN7L3-AS1'\n",
       "39. 'LOC107984201'\n",
       "40. 'TILAM'\n",
       "41. 'LOC124901201'\n",
       "42. 'LOC128966699'\n",
       "43. 'ACTN1-DT'\n",
       "44. 'C5orf58'\n",
       "45. 'RASGRF2-AS1'\n",
       "46. 'DCANP1'\n",
       "47. 'SPOCD1'\n",
       "48. 'LOC124903604'\n",
       "49. 'LOC124901209'\n",
       "50. 'LOC124906338'\n",
       "\n",
       "\n"
      ],
      "text/plain": [
       " [1] \"LINC00312\"     \"LOC124900464\"  \"LOC124900530\"  \"LOC124905413\" \n",
       " [5] \"LOC124906156\"  \"HSD17B3\"       \"LOC644634\"     \"SNORA88\"      \n",
       " [9] \"LOC124908181\"  \"LOC124903267\"  \"LOC124904827\"  \"SULT1A4\"      \n",
       "[13] \"LOC124900907\"  \"LOC124907510\"  \"IFNE\"          \"NPIPA6\"       \n",
       "[17] \"LOC124902275\"  \"FGF12-AS3\"     \"LOC124903424\"  \"SNORD13I\"     \n",
       "[21] \"LOC124900898\"  \"LOC107985201\"  \"LOC105371975\"  \"LOC124900188\" \n",
       "[25] \"FAM133B\"       \"LOC105371472\"  \"PSORS1C1\"      \"LOC100506274\" \n",
       "[29] \"SMIM10L2B-AS1\" \"BPIFB4\"        \"EGFL8\"         \"VIP\"          \n",
       "[33] \"LOC124907554\"  \"LOC128966590\"  \"LOC105376090\"  \"NPFF\"         \n",
       "[37] \"C19orf18\"      \"ATXN7L3-AS1\"   \"LOC107984201\"  \"TILAM\"        \n",
       "[41] \"LOC124901201\"  \"LOC128966699\"  \"ACTN1-DT\"      \"C5orf58\"      \n",
       "[45] \"RASGRF2-AS1\"   \"DCANP1\"        \"SPOCD1\"        \"LOC124903604\" \n",
       "[49] \"LOC124901209\"  \"LOC124906338\" "
      ]
     },
     "metadata": {},
     "output_type": "display_data"
    }
   ],
   "source": [
    "# comparing our patient to all others\n",
    "# here, I re-run for both the FT and FO samples\n",
    "vst_data <- vst(dds, blind = TRUE)\n",
    "vst_mat <- assay(vst_data)\n",
    "uk_sample <- vst_mat[, \"our_patient_FO\"]\n",
    "\n",
    "# matrix without FO sample\n",
    "others <- vst_mat[, colnames(vst_mat) != \"our_patient_FO\"]\n",
    "# calculate z-score of the FO sample expression vs. others\n",
    "uk_z <- (uk_sample - rowMeans(others)) / apply(others, 1, sd)\n",
    "# sort by magnitude of z-score\n",
    "top_var_genes <- head(sort(abs(uk_z), decreasing = TRUE), 50)\n",
    "# view gene names\n",
    "names(top_var_genes)\n",
    "\n",
    "# plot\n",
    "top_df <- data.frame(\n",
    "  gene = names(top_var_genes),\n",
    "  zscore = uk_z[names(top_var_genes)]\n",
    ")\n",
    "our_patient <- ggplot(top_df, aes(x = reorder(gene, zscore), y = zscore)) +\n",
    "  geom_col(fill = \"steelblue\") +\n",
    "  coord_flip() +\n",
    "  labs(title = \"Top Variable Genes in FO sample vs. Other\",\n",
    "       x = \"Gene\", y = \"Z-score (vs. others)\") +\n",
    "  theme_minimal()\n",
    "ggsave(filename = \"/lustre/scratch126/cellgen/behjati/lr26/RNA/top_variable_genes_our_patient_FO_plot_swissitaly.pdf\", our_patient, width = 8, height = 10, device = cairo_pdf, dpi = 300)\n",
    "\n",
    "### can rerun for the FT sample"
   ]
  },
  {
   "cell_type": "code",
   "execution_count": null,
   "id": "f8b7456d-66bf-498b-bcaa-5b059c2d633b",
   "metadata": {},
   "outputs": [],
   "source": [
    "# comparing our patient to all others\n",
    "# here, I re-run for both the FT and FO samples\n",
    "# I conveniently named the FO sample our_patient_FO and the FT sample our_patient\n",
    "vst_data <- vst(dds, blind = TRUE)\n",
    "vst_mat <- assay(vst_data)\n",
    "uk_sample <- vst_mat[, \"our_patient\"]\n",
    "\n",
    "# matrix without FO sample\n",
    "others <- vst_mat[, colnames(vst_mat) != \"our_patient\"]\n",
    "# calculate z-score of the FO sample expression vs. others\n",
    "uk_z <- (uk_sample - rowMeans(others)) / apply(others, 1, sd)\n",
    "# sort by magnitude of z-score\n",
    "top_var_genes <- head(sort(abs(uk_z), decreasing = TRUE), 50)\n",
    "# view gene names\n",
    "names(top_var_genes)\n",
    "\n",
    "# plot\n",
    "top_df <- data.frame(\n",
    "  gene = names(top_var_genes),\n",
    "  zscore = uk_z[names(top_var_genes)]\n",
    ")\n",
    "our_patient <- ggplot(top_df, aes(x = reorder(gene, zscore), y = zscore)) +\n",
    "  geom_col(fill = \"steelblue\") +\n",
    "  coord_flip() +\n",
    "  labs(title = \"Top Variable Genes in FT sample vs. Other\",\n",
    "       x = \"Gene\", y = \"Z-score (vs. others)\") +\n",
    "  theme_minimal()\n",
    "ggsave(filename = \"/lustre/scratch126/cellgen/behjati/lr26/RNA/top_variable_genes_our_patient_FT_plot_swissitaly.pdf\", our_patient, width = 8, height = 10, device = cairo_pdf, dpi = 300)\n"
   ]
  },
  {
   "cell_type": "code",
   "execution_count": 39,
   "id": "a7e0f9ed-9aad-4ff6-b20a-74e9f564e656",
   "metadata": {
    "tags": []
   },
   "outputs": [],
   "source": [
    "#comparing our patient to all others\n",
    "vst_data <- vst(dds, blind = TRUE)\n",
    "vst_mat <- assay(vst_data)\n",
    "# combine the two samples into one matrix\n",
    "uk_sample <- vst_mat[, c(\"our_patient_FO\", \"our_patient\")]\n",
    "# get all other samples excluding those two\n",
    "others <- vst_mat[, !colnames(vst_mat) %in% c(\"our_patient_FO\", \"our_patient\")]\n",
    "\n",
    "# average UK sample expression\n",
    "uk_avg <- rowMeans(uk_sample)\n",
    "# z-score against other samples\n",
    "uk_z <- (uk_avg - rowMeans(others)) / apply(others, 1, sd)\n",
    "# sort and get top 50 genes\n",
    "top_var_genes <- head(sort(abs(uk_z), decreasing = TRUE), 50)\n",
    "\n",
    "# create data frame\n",
    "top_df <- data.frame(\n",
    "  gene = names(top_var_genes),\n",
    "  zscore = uk_z[names(top_var_genes)]\n",
    ")\n",
    "# save plot\n",
    "our_patient <- ggplot(top_df, aes(x = reorder(gene, zscore), y = zscore)) +\n",
    "  geom_col(fill = \"steelblue\") +\n",
    "  coord_flip() +\n",
    "  labs(title = \"Top Variable Genes in UK Sample vs. Other\",\n",
    "       x = \"Gene\", y = \"Z-score (vs. others)\") +\n",
    "  theme_minimal()\n",
    "ggsave(filename = \"/lustre/scratch126/cellgen/behjati/lr26/RNA/top_variable_genes_our_patient_FO_FT_plot_swissitaly.pdf\", our_patient, width = 8, height = 10, device = cairo_pdf, dpi = 300)\n"
   ]
  },
  {
   "cell_type": "code",
   "execution_count": 12,
   "id": "3c49aa70-ccc7-4c34-ada1-13eef4c6d21f",
   "metadata": {
    "tags": []
   },
   "outputs": [
    {
     "data": {
      "text/html": [
       "<style>\n",
       ".list-inline {list-style: none; margin:0; padding: 0}\n",
       ".list-inline>li {display: inline-block}\n",
       ".list-inline>li:not(:last-child)::after {content: \"\\00b7\"; padding: 0 .5ex}\n",
       "</style>\n",
       "<ol class=list-inline><li>'AS-892475-LR-66487'</li><li>'AS-892476-LR-66487'</li><li>'AS-892477-LR-66487'</li><li>'AS-892478-LR-66487'</li><li>'AS-892479-LR-66487'</li><li>'AS-892480-LR-66487'</li><li>'AS-892481-LR-66487'</li><li>'AS-892482-LR-66487'</li><li>'AS-892483-LR-66487'</li><li>'AS-892484-LR-66487'</li><li>'AS-893415-LR-66487'</li><li>'GSM5024895'</li><li>'GSM5024896'</li><li>'GSM5024897'</li><li>'GSM5024898'</li><li>'GSM5024899'</li><li>'GSM5024901'</li><li>'GSM5024902'</li><li>'our_patient_FO'</li><li>'our_patient'</li></ol>\n"
      ],
      "text/latex": [
       "\\begin{enumerate*}\n",
       "\\item 'AS-892475-LR-66487'\n",
       "\\item 'AS-892476-LR-66487'\n",
       "\\item 'AS-892477-LR-66487'\n",
       "\\item 'AS-892478-LR-66487'\n",
       "\\item 'AS-892479-LR-66487'\n",
       "\\item 'AS-892480-LR-66487'\n",
       "\\item 'AS-892481-LR-66487'\n",
       "\\item 'AS-892482-LR-66487'\n",
       "\\item 'AS-892483-LR-66487'\n",
       "\\item 'AS-892484-LR-66487'\n",
       "\\item 'AS-893415-LR-66487'\n",
       "\\item 'GSM5024895'\n",
       "\\item 'GSM5024896'\n",
       "\\item 'GSM5024897'\n",
       "\\item 'GSM5024898'\n",
       "\\item 'GSM5024899'\n",
       "\\item 'GSM5024901'\n",
       "\\item 'GSM5024902'\n",
       "\\item 'our\\_patient\\_FO'\n",
       "\\item 'our\\_patient'\n",
       "\\end{enumerate*}\n"
      ],
      "text/markdown": [
       "1. 'AS-892475-LR-66487'\n",
       "2. 'AS-892476-LR-66487'\n",
       "3. 'AS-892477-LR-66487'\n",
       "4. 'AS-892478-LR-66487'\n",
       "5. 'AS-892479-LR-66487'\n",
       "6. 'AS-892480-LR-66487'\n",
       "7. 'AS-892481-LR-66487'\n",
       "8. 'AS-892482-LR-66487'\n",
       "9. 'AS-892483-LR-66487'\n",
       "10. 'AS-892484-LR-66487'\n",
       "11. 'AS-893415-LR-66487'\n",
       "12. 'GSM5024895'\n",
       "13. 'GSM5024896'\n",
       "14. 'GSM5024897'\n",
       "15. 'GSM5024898'\n",
       "16. 'GSM5024899'\n",
       "17. 'GSM5024901'\n",
       "18. 'GSM5024902'\n",
       "19. 'our_patient_FO'\n",
       "20. 'our_patient'\n",
       "\n",
       "\n"
      ],
      "text/plain": [
       " [1] \"AS-892475-LR-66487\" \"AS-892476-LR-66487\" \"AS-892477-LR-66487\"\n",
       " [4] \"AS-892478-LR-66487\" \"AS-892479-LR-66487\" \"AS-892480-LR-66487\"\n",
       " [7] \"AS-892481-LR-66487\" \"AS-892482-LR-66487\" \"AS-892483-LR-66487\"\n",
       "[10] \"AS-892484-LR-66487\" \"AS-893415-LR-66487\" \"GSM5024895\"        \n",
       "[13] \"GSM5024896\"         \"GSM5024897\"         \"GSM5024898\"        \n",
       "[16] \"GSM5024899\"         \"GSM5024901\"         \"GSM5024902\"        \n",
       "[19] \"our_patient_FO\"     \"our_patient\"       "
      ]
     },
     "metadata": {},
     "output_type": "display_data"
    },
    {
     "data": {
      "text/html": [
       "<style>\n",
       ".list-inline {list-style: none; margin:0; padding: 0}\n",
       ".list-inline>li {display: inline-block}\n",
       ".list-inline>li:not(:last-child)::after {content: \"\\00b7\"; padding: 0 .5ex}\n",
       "</style>\n",
       "<ol class=list-inline><li>'AS-892475-LR-66487'</li><li>'AS-892476-LR-66487'</li><li>'AS-892477-LR-66487'</li><li>'AS-892478-LR-66487'</li><li>'AS-892479-LR-66487'</li><li>'AS-892480-LR-66487'</li><li>'AS-892481-LR-66487'</li><li>'AS-892482-LR-66487'</li><li>'AS-892483-LR-66487'</li><li>'AS-892484-LR-66487'</li><li>'AS-893415-LR-66487'</li><li>'GSM5024895'</li><li>'GSM5024896'</li><li>'GSM5024897'</li><li>'GSM5024898'</li><li>'GSM5024899'</li><li>'GSM5024901'</li><li>'GSM5024902'</li><li>'our_patient_FO'</li><li>'our_patient'</li></ol>\n"
      ],
      "text/latex": [
       "\\begin{enumerate*}\n",
       "\\item 'AS-892475-LR-66487'\n",
       "\\item 'AS-892476-LR-66487'\n",
       "\\item 'AS-892477-LR-66487'\n",
       "\\item 'AS-892478-LR-66487'\n",
       "\\item 'AS-892479-LR-66487'\n",
       "\\item 'AS-892480-LR-66487'\n",
       "\\item 'AS-892481-LR-66487'\n",
       "\\item 'AS-892482-LR-66487'\n",
       "\\item 'AS-892483-LR-66487'\n",
       "\\item 'AS-892484-LR-66487'\n",
       "\\item 'AS-893415-LR-66487'\n",
       "\\item 'GSM5024895'\n",
       "\\item 'GSM5024896'\n",
       "\\item 'GSM5024897'\n",
       "\\item 'GSM5024898'\n",
       "\\item 'GSM5024899'\n",
       "\\item 'GSM5024901'\n",
       "\\item 'GSM5024902'\n",
       "\\item 'our\\_patient\\_FO'\n",
       "\\item 'our\\_patient'\n",
       "\\end{enumerate*}\n"
      ],
      "text/markdown": [
       "1. 'AS-892475-LR-66487'\n",
       "2. 'AS-892476-LR-66487'\n",
       "3. 'AS-892477-LR-66487'\n",
       "4. 'AS-892478-LR-66487'\n",
       "5. 'AS-892479-LR-66487'\n",
       "6. 'AS-892480-LR-66487'\n",
       "7. 'AS-892481-LR-66487'\n",
       "8. 'AS-892482-LR-66487'\n",
       "9. 'AS-892483-LR-66487'\n",
       "10. 'AS-892484-LR-66487'\n",
       "11. 'AS-893415-LR-66487'\n",
       "12. 'GSM5024895'\n",
       "13. 'GSM5024896'\n",
       "14. 'GSM5024897'\n",
       "15. 'GSM5024898'\n",
       "16. 'GSM5024899'\n",
       "17. 'GSM5024901'\n",
       "18. 'GSM5024902'\n",
       "19. 'our_patient_FO'\n",
       "20. 'our_patient'\n",
       "\n",
       "\n"
      ],
      "text/plain": [
       " [1] \"AS-892475-LR-66487\" \"AS-892476-LR-66487\" \"AS-892477-LR-66487\"\n",
       " [4] \"AS-892478-LR-66487\" \"AS-892479-LR-66487\" \"AS-892480-LR-66487\"\n",
       " [7] \"AS-892481-LR-66487\" \"AS-892482-LR-66487\" \"AS-892483-LR-66487\"\n",
       "[10] \"AS-892484-LR-66487\" \"AS-893415-LR-66487\" \"GSM5024895\"        \n",
       "[13] \"GSM5024896\"         \"GSM5024897\"         \"GSM5024898\"        \n",
       "[16] \"GSM5024899\"         \"GSM5024901\"         \"GSM5024902\"        \n",
       "[19] \"our_patient_FO\"     \"our_patient\"       "
      ]
     },
     "metadata": {},
     "output_type": "display_data"
    },
    {
     "name": "stderr",
     "output_type": "stream",
     "text": [
      "converting counts to integer mode\n",
      "\n",
      "Warning message in DESeqDataSet(se, design = design, ignoreRank):\n",
      "“some variables in design formula are characters, converting to factors”\n",
      "  Note: levels of factors in the design contain characters other than\n",
      "  letters, numbers, '_' and '.'. It is recommended (but not required) to use\n",
      "  only letters, numbers, and delimiters '_' or '.', as these are safe characters\n",
      "  for column names in R. [This is a message, not a warning or an error]\n",
      "\n",
      "estimating size factors\n",
      "\n",
      "  Note: levels of factors in the design contain characters other than\n",
      "  letters, numbers, '_' and '.'. It is recommended (but not required) to use\n",
      "  only letters, numbers, and delimiters '_' or '.', as these are safe characters\n",
      "  for column names in R. [This is a message, not a warning or an error]\n",
      "\n",
      "estimating dispersions\n",
      "\n",
      "gene-wise dispersion estimates\n",
      "\n",
      "mean-dispersion relationship\n",
      "\n",
      "  Note: levels of factors in the design contain characters other than\n",
      "  letters, numbers, '_' and '.'. It is recommended (but not required) to use\n",
      "  only letters, numbers, and delimiters '_' or '.', as these are safe characters\n",
      "  for column names in R. [This is a message, not a warning or an error]\n",
      "\n",
      "final dispersion estimates\n",
      "\n",
      "fitting model and testing\n",
      "\n"
     ]
    }
   ],
   "source": [
    "####\n",
    "# ANALYSIS without the 900 sample outlier #\n",
    "\n",
    "# subset metadata to exclude sample\n",
    "sample_to_exclude <- \"GSM5024900\"\n",
    "\n",
    "# remove column from count matrix\n",
    "counts_filtered <- counts_rounded[, colnames(counts_rounded) != sample_to_exclude]\n",
    "colnames(counts_filtered)\n",
    "# remove row from metadata — match the sample name\n",
    "metadata_filtered <- metadata[metadata$SampleID != \"GSM5024900\", ]\n",
    "\n",
    "# set rownames of metadata to match the colnames of count matrix\n",
    "rownames(metadata_filtered) <- paste0(metadata_filtered$SampleID)\n",
    "rownames(metadata_filtered)\n",
    "# check if they match\n",
    "# create a new de seq data set\n",
    "ddds <- DESeqDataSetFromMatrix(countData = counts_filtered,\n",
    "                              colData = metadata_filtered,\n",
    "                              design = ~ Study + Condition)\n",
    "ddds <- DESeq(ddds)\n"
   ]
  },
  {
   "cell_type": "code",
   "execution_count": 13,
   "id": "7ea1b1d5-97a9-4819-bfad-4f18cc9fc38c",
   "metadata": {
    "tags": []
   },
   "outputs": [],
   "source": [
    "# correct for variance and perform pca, plot it\n",
    "vsd_1 <- vst(ddds, blind = FALSE)\n",
    "corrected <- limma::removeBatchEffect(assay(vsd_1), batch = vsd_1$Study)\n",
    "pca_res <- prcomp(t(corrected)) \n",
    "\n",
    "pca_df <- as.data.frame(pca_res$x)\n",
    "pca_df$Condition <- vsd_1$Condition\n",
    "pca_df$Sample <- colnames(vsd_1)\n",
    "\n",
    "# by condition\n",
    "m <- ggplot(pca_df, aes(x = PC1, y = PC2, color = Condition, label = Sample)) +\n",
    "  geom_point(size = 3) +\n",
    "  labs(title = \"PCA (Batch-corrected with limma)\", x = \"PC1\", y = \"PC2\") +\n",
    "  theme_minimal()\n",
    "ggsave(\"/lustre/scratch126/cellgen/behjati/lr26/RNA/pca_batch_corrected_by_cond_wo900_swiss_italy.pdf\", plot = m, width = 8, height = 6, dpi = 300, device = cairo_pdf)"
   ]
  },
  {
   "cell_type": "code",
   "execution_count": 14,
   "id": "e88ececf-21c8-42e0-a3fe-546353a2aafe",
   "metadata": {
    "tags": []
   },
   "outputs": [],
   "source": [
    "# by sample name\n",
    "m <- ggplot(pca_df, aes(x = PC1, y = PC2, color = Sample, label = Sample)) +\n",
    "  geom_point(size = 3) +\n",
    "  labs(title = \"PCA (Batch-corrected with limma)\", x = \"PC1\", y = \"PC2\") +\n",
    "  theme_minimal()\n",
    "\n",
    "ggsave(\"/lustre/scratch126/cellgen/behjati/lr26/RNA/pca_batch_corrected_by_sample_wo900_swiss_italy.pdf\", plot = m, width = 8, height = 6, dpi = 300, device = cairo_pdf)"
   ]
  },
  {
   "cell_type": "code",
   "execution_count": 15,
   "id": "8b793730-70e0-4e63-bf36-11268fd7d77f",
   "metadata": {
    "tags": []
   },
   "outputs": [
    {
     "data": {
      "text/html": [
       "<table class=\"dataframe\">\n",
       "<caption>A matrix: 3 × 3 of type dbl</caption>\n",
       "<thead>\n",
       "\t<tr><th></th><th scope=col>AS-892475-LR-66487</th><th scope=col>AS-892476-LR-66487</th><th scope=col>AS-892477-LR-66487</th></tr>\n",
       "</thead>\n",
       "<tbody>\n",
       "\t<tr><th scope=row>A1BG</th><td>8.687837</td><td>7.560719</td><td>8.487211</td></tr>\n",
       "\t<tr><th scope=row>A1BG-AS1</th><td>7.595658</td><td>8.083726</td><td>8.631218</td></tr>\n",
       "\t<tr><th scope=row>A1CF</th><td>3.909543</td><td>3.909543</td><td>3.909543</td></tr>\n",
       "</tbody>\n",
       "</table>\n"
      ],
      "text/latex": [
       "A matrix: 3 × 3 of type dbl\n",
       "\\begin{tabular}{r|lll}\n",
       "  & AS-892475-LR-66487 & AS-892476-LR-66487 & AS-892477-LR-66487\\\\\n",
       "\\hline\n",
       "\tA1BG & 8.687837 & 7.560719 & 8.487211\\\\\n",
       "\tA1BG-AS1 & 7.595658 & 8.083726 & 8.631218\\\\\n",
       "\tA1CF & 3.909543 & 3.909543 & 3.909543\\\\\n",
       "\\end{tabular}\n"
      ],
      "text/markdown": [
       "\n",
       "A matrix: 3 × 3 of type dbl\n",
       "\n",
       "| <!--/--> | AS-892475-LR-66487 | AS-892476-LR-66487 | AS-892477-LR-66487 |\n",
       "|---|---|---|---|\n",
       "| A1BG | 8.687837 | 7.560719 | 8.487211 |\n",
       "| A1BG-AS1 | 7.595658 | 8.083726 | 8.631218 |\n",
       "| A1CF | 3.909543 | 3.909543 | 3.909543 |\n",
       "\n"
      ],
      "text/plain": [
       "         AS-892475-LR-66487 AS-892476-LR-66487 AS-892477-LR-66487\n",
       "A1BG     8.687837           7.560719           8.487211          \n",
       "A1BG-AS1 7.595658           8.083726           8.631218          \n",
       "A1CF     3.909543           3.909543           3.909543          "
      ]
     },
     "metadata": {},
     "output_type": "display_data"
    }
   ],
   "source": [
    "# obtain the gene expression matrix\n",
    "exprs.data=assay(vsd_1)\n",
    "# inspect exprs.data\n",
    "exprs.data[1:3,1:3]\n"
   ]
  },
  {
   "cell_type": "code",
   "execution_count": 59,
   "id": "2ff4929f-94af-4729-b987-eb55b16f7e50",
   "metadata": {
    "tags": []
   },
   "outputs": [
    {
     "name": "stderr",
     "output_type": "stream",
     "text": [
      "using ntop=500 top features by variance\n",
      "\n"
     ]
    }
   ],
   "source": [
    "# plot pca using top 500 features\n",
    "vsd1_topvar <- vsd_1[order(rowVars(assay(vsd_1)), decreasing=TRUE)[1:500], ]\n",
    "m <- plotPCA(vsd1_topvar, intgroup=\"Condition\")\n",
    "ggsave(\"/lustre/scratch126/cellgen/behjati/lr26/RNA/pca_plot_RNA_900_CIC-EWS-condition.pdf\", plot = m, width = 6, height = 5)"
   ]
  },
  {
   "cell_type": "code",
   "execution_count": 58,
   "id": "82405bf2-0cce-4395-9f35-a86f5334b2ee",
   "metadata": {
    "tags": []
   },
   "outputs": [
    {
     "name": "stderr",
     "output_type": "stream",
     "text": [
      "using ntop=500 top features by variance\n",
      "\n"
     ]
    }
   ],
   "source": [
    "# plot pca using top 500 features\n",
    "vsd1_topvar <- vsd_1[order(rowVars(assay(vsd_1)), decreasing=TRUE)[1:500], ]\n",
    "p <- plotPCA(vsd1_topvar, intgroup=\"SampleID\")\n",
    "ggsave(\"/lustre/scratch126/cellgen/behjati/lr26/RNA/pca_plot_RNA_900_CIC-EWS-sampleid.pdf\", plot = p, width = 6, height = 5)"
   ]
  },
  {
   "cell_type": "code",
   "execution_count": 16,
   "id": "b5783f41-cc98-46c9-8938-ef6bf782070a",
   "metadata": {
    "tags": []
   },
   "outputs": [
    {
     "data": {
      "text/plain": [
       "      PC1               PC2               PC3                PC4         \n",
       " Min.   :-168.19   Min.   :-139.53   Min.   :-140.692   Min.   :-84.141  \n",
       " 1st Qu.:-148.01   1st Qu.: -94.41   1st Qu.: -35.226   1st Qu.:-28.764  \n",
       " Median : -82.58   Median :  11.48   Median :   0.243   Median :  1.522  \n",
       " Mean   :   0.00   Mean   :   0.00   Mean   :   0.000   Mean   :  0.000  \n",
       " 3rd Qu.: 161.10   3rd Qu.:  91.02   3rd Qu.:  37.216   3rd Qu.: 20.116  \n",
       " Max.   : 324.57   Max.   : 138.88   Max.   : 123.104   Max.   :159.697  \n",
       "      PC5               PC6               PC7               PC8         \n",
       " Min.   :-79.581   Min.   :-77.814   Min.   :-59.338   Min.   :-65.786  \n",
       " 1st Qu.:-26.735   1st Qu.:-32.011   1st Qu.:-30.097   1st Qu.:-15.821  \n",
       " Median : -2.341   Median : -4.716   Median : -1.672   Median : -7.257  \n",
       " Mean   :  0.000   Mean   :  0.000   Mean   :  0.000   Mean   :  0.000  \n",
       " 3rd Qu.: 37.527   3rd Qu.: 36.539   3rd Qu.: 30.736   3rd Qu.:  9.572  \n",
       " Max.   :115.432   Max.   : 67.099   Max.   : 63.336   Max.   : 89.067  \n",
       "      PC9              PC10              PC11              PC12        \n",
       " Min.   :-63.80   Min.   :-64.174   Min.   :-57.737   Min.   :-63.398  \n",
       " 1st Qu.:-22.20   1st Qu.:-17.950   1st Qu.:-17.992   1st Qu.:-17.163  \n",
       " Median :  2.40   Median : -4.428   Median : -1.025   Median :  4.156  \n",
       " Mean   :  0.00   Mean   :  0.000   Mean   :  0.000   Mean   :  0.000  \n",
       " 3rd Qu.: 18.59   3rd Qu.: 20.641   3rd Qu.: 15.935   3rd Qu.: 20.392  \n",
       " Max.   : 78.31   Max.   : 72.666   Max.   : 82.266   Max.   : 55.109  \n",
       "      PC13              PC14              PC15              PC16        \n",
       " Min.   :-44.474   Min.   :-54.048   Min.   :-77.967   Min.   :-69.082  \n",
       " 1st Qu.:-20.975   1st Qu.:-12.172   1st Qu.:-10.466   1st Qu.:-17.426  \n",
       " Median : -4.765   Median :  2.536   Median : -3.472   Median :  5.921  \n",
       " Mean   :  0.000   Mean   :  0.000   Mean   :  0.000   Mean   :  0.000  \n",
       " 3rd Qu.: 14.573   3rd Qu.: 11.858   3rd Qu.: 13.610   3rd Qu.: 21.591  \n",
       " Max.   : 62.589   Max.   : 51.666   Max.   : 50.849   Max.   : 33.778  \n",
       "      PC17              PC18             PC19               PC20           \n",
       " Min.   :-60.738   Min.   :-54.89   Min.   :-53.0761   Min.   :-4.552e-13  \n",
       " 1st Qu.: -9.068   1st Qu.:-14.84   1st Qu.: -7.9166   1st Qu.:-7.091e-14  \n",
       " Median :  1.358   Median :  2.31   Median :  0.9323   Median : 9.031e-14  \n",
       " Mean   :  0.000   Mean   :  0.00   Mean   :  0.0000   Mean   : 3.657e-14  \n",
       " 3rd Qu.: 11.624   3rd Qu.: 10.38   3rd Qu.:  6.7314   3rd Qu.: 1.177e-13  \n",
       " Max.   : 46.036   Max.   : 48.80   Max.   : 53.4839   Max.   : 6.021e-13  "
      ]
     },
     "metadata": {},
     "output_type": "display_data"
    },
    {
     "data": {
      "text/plain": [
       "      PC1                  PC2                  PC3            \n",
       " Min.   :-0.0156976   Min.   :-0.0544306   Min.   :-0.0378765  \n",
       " 1st Qu.:-0.0004861   1st Qu.:-0.0013366   1st Qu.:-0.0018168  \n",
       " Median : 0.0021312   Median : 0.0004784   Median : 0.0013630  \n",
       " Mean   : 0.0024253   Mean   : 0.0001218   Mean   : 0.0006774  \n",
       " 3rd Qu.: 0.0048900   3rd Qu.: 0.0023373   3rd Qu.: 0.0039943  \n",
       " Max.   : 0.0352809   Max.   : 0.0509277   Max.   : 0.0322065  \n",
       "      PC4                  PC5                 PC6            \n",
       " Min.   :-5.281e-02   Min.   :-0.052820   Min.   :-0.0384097  \n",
       " 1st Qu.:-3.366e-03   1st Qu.:-0.003769   1st Qu.:-0.0030954  \n",
       " Median :-9.036e-05   Median :-0.001235   Median :-0.0007696  \n",
       " Mean   :-4.573e-04   Mean   :-0.001365   Mean   :-0.0004253  \n",
       " 3rd Qu.: 2.607e-03   3rd Qu.: 0.001601   3rd Qu.: 0.0021299  \n",
       " Max.   : 3.097e-02   Max.   : 0.036511   Max.   : 0.0426576  \n",
       "      PC7                  PC8                  PC9            \n",
       " Min.   :-5.212e-02   Min.   :-0.0507493   Min.   :-0.0461737  \n",
       " 1st Qu.:-2.800e-03   1st Qu.:-0.0017382   1st Qu.:-0.0021187  \n",
       " Median :-3.069e-04   Median : 0.0005154   Median : 0.0002719  \n",
       " Mean   :-8.409e-05   Mean   : 0.0005415   Mean   : 0.0002638  \n",
       " 3rd Qu.: 2.369e-03   3rd Qu.: 0.0025158   3rd Qu.: 0.0027758  \n",
       " Max.   : 3.881e-02   Max.   : 0.0475819   Max.   : 0.0422168  \n",
       "      PC10                 PC11                 PC12           \n",
       " Min.   :-0.0547646   Min.   :-3.980e-02   Min.   :-0.0571383  \n",
       " 1st Qu.:-0.0025159   1st Qu.:-2.447e-03   1st Qu.:-0.0025500  \n",
       " Median : 0.0002304   Median : 1.201e-04   Median :-0.0002686  \n",
       " Mean   : 0.0001215   Mean   : 5.102e-05   Mean   :-0.0000667  \n",
       " 3rd Qu.: 0.0026395   3rd Qu.: 2.626e-03   3rd Qu.: 0.0024306  \n",
       " Max.   : 0.0476396   Max.   : 4.691e-02   Max.   : 0.0493333  \n",
       "      PC13                 PC14                 PC15           \n",
       " Min.   :-0.0522923   Min.   :-5.379e-02   Min.   :-0.0450641  \n",
       " 1st Qu.:-0.0028018   1st Qu.:-1.925e-03   1st Qu.:-0.0031660  \n",
       " Median :-0.0002295   Median : 2.768e-05   Median :-0.0003977  \n",
       " Mean   :-0.0002283   Mean   : 2.104e-04   Mean   :-0.0001649  \n",
       " 3rd Qu.: 0.0019621   3rd Qu.: 2.111e-03   3rd Qu.: 0.0027325  \n",
       " Max.   : 0.0532378   Max.   : 5.637e-02   Max.   : 0.0481779  \n",
       "      PC16                 PC17                 PC18           \n",
       " Min.   :-7.130e-02   Min.   :-4.836e-02   Min.   :-5.508e-02  \n",
       " 1st Qu.:-2.770e-03   1st Qu.:-2.776e-03   1st Qu.:-2.595e-03  \n",
       " Median : 4.413e-05   Median : 1.025e-04   Median :-4.015e-05  \n",
       " Mean   :-2.241e-05   Mean   : 5.188e-05   Mean   :-2.873e-04  \n",
       " 3rd Qu.: 2.918e-03   3rd Qu.: 2.896e-03   3rd Qu.: 2.402e-03  \n",
       " Max.   : 7.012e-02   Max.   : 6.389e-02   Max.   : 3.254e-02  \n",
       "      PC19                 PC20           \n",
       " Min.   :-4.806e-02   Min.   :-0.4541920  \n",
       " 1st Qu.:-2.176e-03   1st Qu.:-0.0022000  \n",
       " Median : 2.915e-05   Median : 0.0000322  \n",
       " Mean   :-1.914e-04   Mean   : 0.0000024  \n",
       " 3rd Qu.: 2.053e-03   3rd Qu.: 0.0022080  \n",
       " Max.   : 5.146e-02   Max.   : 0.3186266  "
      ]
     },
     "metadata": {},
     "output_type": "display_data"
    },
    {
     "data": {
      "text/plain": [
       "   Min. 1st Qu.  Median    Mean 3rd Qu.    Max. \n",
       "   0.00   26.75   31.81   42.39   42.97  166.64 "
      ]
     },
     "metadata": {},
     "output_type": "display_data"
    },
    {
     "data": {
      "text/html": [
       "<strong>pdf:</strong> 2"
      ],
      "text/latex": [
       "\\textbf{pdf:} 2"
      ],
      "text/markdown": [
       "**pdf:** 2"
      ],
      "text/plain": [
       "pdf \n",
       "  2 "
      ]
     },
     "metadata": {},
     "output_type": "display_data"
    }
   ],
   "source": [
    "# prcomp diagnostic plots - summary and plot the pca\n",
    "pca_prcomp = prcomp(t(exprs.data), scale=FALSE)\n",
    "\n",
    "summary(pca_prcomp$x)\n",
    "summary(pca_prcomp$rotation)\n",
    "summary(pca_prcomp$sdev)\n",
    "\n",
    "pdf(\"/lustre/scratch126/cellgen/behjati/lr26/RNA/PCA-900-swiss-italy.pdf\")\n",
    "par(mfrow=c(2,2))\n",
    "plot(pca_prcomp$x[,1:2], main='Sample plot', col=colData(vsd_1)$sample, pch=19)\n",
    "text(pca_prcomp$x[,1:2], labels=rownames(pca_prcomp$x[,1:2]), pos=4, cex=0.8)\n",
    "abline(v=0, h=0, col=8)\n",
    "\n",
    "plot( pca_prcomp$rotation[,1:2], main='Gene loading')\n",
    "abline(v=0, h=0, col=8)\n",
    "\n",
    "eig = (pca_prcomp$sdev)^2; names(eig) = 1:length(eig); eig= 100* eig/sum(eig)\n",
    "barplot(eig, main='Scree plot', xlab= \"PC\", ylab = 'Percentage of explained variances')\n",
    "dev.off()"
   ]
  },
  {
   "cell_type": "code",
   "execution_count": 17,
   "id": "03b01c57-238a-4e6d-adc7-09f5d3efad47",
   "metadata": {
    "tags": []
   },
   "outputs": [
    {
     "data": {
      "text/html": [
       "<strong>pdf:</strong> 2"
      ],
      "text/latex": [
       "\\textbf{pdf:} 2"
      ],
      "text/markdown": [
       "**pdf:** 2"
      ],
      "text/plain": [
       "pdf \n",
       "  2 "
      ]
     },
     "metadata": {},
     "output_type": "display_data"
    }
   ],
   "source": [
    "# get expression data and assign sample colors for the correlation heatmap\n",
    "exprs.data <- assay(vsd_1)\n",
    "cor.data <- cor(exprs.data, method = 'pearson')\n",
    "\n",
    "col.group <- rainbow(length(unique(colData(vsd_1)$SampleID)))[as.factor(colData(vsd_1)$SampleID)]\n",
    "\n",
    "# save the plot\n",
    "pdf('/lustre/scratch126/cellgen/behjati/lr26/RNA/correlation-900-swiss-italy.pdf', width = 10, height = 10)\n",
    "\n",
    "heatmap.2(as.matrix(cor.data),\n",
    "          col = colorRampPalette(brewer.pal(10, \"RdYlBu\"))(256),\n",
    "          trace = \"none\",\n",
    "          srtCol = 45,\n",
    "          margins = c(12, 18),        # Wider left margin for Y labels\n",
    "          cexCol = 1.2,               # Font size for column labels\n",
    "          cexRow = 1.2,               # Font size for row labels (Y-axis)\n",
    "          density.info = \"none\",\n",
    "          lhei = c(2, 10),\n",
    "          keysize = 1.0,\n",
    "          main = \"Sample Correlations -900\",\n",
    "          scale = \"none\",\n",
    "          ColSideColors = col.group,\n",
    "          RowSideColors = col.group)\n",
    "\n",
    "dev.off()"
   ]
  },
  {
   "cell_type": "code",
   "execution_count": 18,
   "id": "11ebf242-2964-4f3d-8be5-68325e8efa0a",
   "metadata": {
    "tags": []
   },
   "outputs": [
    {
     "data": {
      "text/html": [
       "<style>\n",
       ".list-inline {list-style: none; margin:0; padding: 0}\n",
       ".list-inline>li {display: inline-block}\n",
       ".list-inline>li:not(:last-child)::after {content: \"\\00b7\"; padding: 0 .5ex}\n",
       "</style>\n",
       "<ol class=list-inline><li>32479</li><li>20</li></ol>\n"
      ],
      "text/latex": [
       "\\begin{enumerate*}\n",
       "\\item 32479\n",
       "\\item 20\n",
       "\\end{enumerate*}\n"
      ],
      "text/markdown": [
       "1. 32479\n",
       "2. 20\n",
       "\n",
       "\n"
      ],
      "text/plain": [
       "[1] 32479    20"
      ]
     },
     "metadata": {},
     "output_type": "display_data"
    }
   ],
   "source": [
    "# get row names of the ddds\n",
    "gene_names <- rownames(ddds)\n",
    "\n",
    "# subset for those without LOC\n",
    "ddds_filtered <- ddds[gene_names, ]\n",
    "\n",
    "# check and compare groups\n",
    "dim(ddds_filtered)\n",
    "\n",
    "res_1 <- results(ddds_filtered, contrast = c(\"Condition\", \"CIC-DUX4 sarcoma\", \"Ewing sarcoma\"))\n",
    "#group, target, reference"
   ]
  },
  {
   "cell_type": "code",
   "execution_count": 19,
   "id": "e2087a84-03a8-4da1-9b40-62bb556731be",
   "metadata": {
    "tags": []
   },
   "outputs": [
    {
     "data": {
      "text/html": [
       "<table class=\"dataframe\">\n",
       "<caption>A data.frame: 3 × 6</caption>\n",
       "<thead>\n",
       "\t<tr><th></th><th scope=col>baseMean</th><th scope=col>log2FoldChange</th><th scope=col>lfcSE</th><th scope=col>stat</th><th scope=col>pvalue</th><th scope=col>padj</th></tr>\n",
       "\t<tr><th></th><th scope=col>&lt;dbl&gt;</th><th scope=col>&lt;dbl&gt;</th><th scope=col>&lt;dbl&gt;</th><th scope=col>&lt;dbl&gt;</th><th scope=col>&lt;dbl&gt;</th><th scope=col>&lt;dbl&gt;</th></tr>\n",
       "</thead>\n",
       "<tbody>\n",
       "\t<tr><th scope=row>SYCP1</th><td> 323.8125</td><td>-25.923965</td><td>1.6971827</td><td>-15.27470</td><td>1.127375e-52</td><td>3.155747e-48</td></tr>\n",
       "\t<tr><th scope=row>CYP4F22</th><td>5216.0990</td><td>-10.805509</td><td>0.9391321</td><td>-11.50585</td><td>1.232754e-30</td><td>1.725362e-26</td></tr>\n",
       "\t<tr><th scope=row>ADRB3</th><td>3017.9877</td><td> -9.942332</td><td>0.9047894</td><td>-10.98856</td><td>4.337900e-28</td><td>3.035662e-24</td></tr>\n",
       "</tbody>\n",
       "</table>\n"
      ],
      "text/latex": [
       "A data.frame: 3 × 6\n",
       "\\begin{tabular}{r|llllll}\n",
       "  & baseMean & log2FoldChange & lfcSE & stat & pvalue & padj\\\\\n",
       "  & <dbl> & <dbl> & <dbl> & <dbl> & <dbl> & <dbl>\\\\\n",
       "\\hline\n",
       "\tSYCP1 &  323.8125 & -25.923965 & 1.6971827 & -15.27470 & 1.127375e-52 & 3.155747e-48\\\\\n",
       "\tCYP4F22 & 5216.0990 & -10.805509 & 0.9391321 & -11.50585 & 1.232754e-30 & 1.725362e-26\\\\\n",
       "\tADRB3 & 3017.9877 &  -9.942332 & 0.9047894 & -10.98856 & 4.337900e-28 & 3.035662e-24\\\\\n",
       "\\end{tabular}\n"
      ],
      "text/markdown": [
       "\n",
       "A data.frame: 3 × 6\n",
       "\n",
       "| <!--/--> | baseMean &lt;dbl&gt; | log2FoldChange &lt;dbl&gt; | lfcSE &lt;dbl&gt; | stat &lt;dbl&gt; | pvalue &lt;dbl&gt; | padj &lt;dbl&gt; |\n",
       "|---|---|---|---|---|---|---|\n",
       "| SYCP1 |  323.8125 | -25.923965 | 1.6971827 | -15.27470 | 1.127375e-52 | 3.155747e-48 |\n",
       "| CYP4F22 | 5216.0990 | -10.805509 | 0.9391321 | -11.50585 | 1.232754e-30 | 1.725362e-26 |\n",
       "| ADRB3 | 3017.9877 |  -9.942332 | 0.9047894 | -10.98856 | 4.337900e-28 | 3.035662e-24 |\n",
       "\n"
      ],
      "text/plain": [
       "        baseMean  log2FoldChange lfcSE     stat      pvalue       padj        \n",
       "SYCP1    323.8125 -25.923965     1.6971827 -15.27470 1.127375e-52 3.155747e-48\n",
       "CYP4F22 5216.0990 -10.805509     0.9391321 -11.50585 1.232754e-30 1.725362e-26\n",
       "ADRB3   3017.9877  -9.942332     0.9047894 -10.98856 4.337900e-28 3.035662e-24"
      ]
     },
     "metadata": {},
     "output_type": "display_data"
    },
    {
     "data": {
      "text/plain": [
       "    baseMean         log2FoldChange        lfcSE             stat        \n",
       " Min.   :     3.15   Min.   :-25.924   Min.   :0.1159   Min.   :-15.275  \n",
       " 1st Qu.:    71.14   1st Qu.: -1.750   1st Qu.:0.5027   1st Qu.: -3.127  \n",
       " Median :   374.81   Median :  1.751   Median :0.7812   Median :  2.899  \n",
       " Mean   :  1606.65   Mean   :  1.190   Mean   :0.8220   Mean   :  1.004  \n",
       " 3rd Qu.:  1394.97   3rd Qu.:  3.669   3rd Qu.:1.0705   3rd Qu.:  3.976  \n",
       " Max.   :282054.78   Max.   : 27.119   Max.   :3.1789   Max.   : 10.588  \n",
       "     pvalue               padj          \n",
       " Min.   :0.000e+00   Min.   :0.000e+00  \n",
       " 1st Qu.:3.382e-06   1st Qu.:7.013e-05  \n",
       " Median :3.354e-04   Median :3.480e-03  \n",
       " Mean   :1.798e-03   Mean   :1.124e-02  \n",
       " 3rd Qu.:2.771e-03   3rd Qu.:1.917e-02  \n",
       " Max.   :9.634e-03   Max.   :4.999e-02  "
      ]
     },
     "metadata": {},
     "output_type": "display_data"
    }
   ],
   "source": [
    "# extract degs from res\n",
    "result_1 <- as.data.frame(res_1)\n",
    "# remove missing values\n",
    "lg1 <- !is.na(result_1$log2FoldChange)\n",
    "lg2 <- !is.na(result_1$padj)\n",
    "result_1 <- result_1[lg1&lg2,] \n",
    "\n",
    "#filter by padj and log fold change \n",
    "lg3 <- result_1$padj < 0.05\n",
    "lg4 <- abs(result_1$log2FoldChange) > 0\n",
    "result_1 <- result_1[lg3&lg4,]\n",
    "\n",
    "# order results according to padj\n",
    "ord <- order(result_1$padj, decreasing = FALSE)\n",
    "result_1 <- result_1[ord,]\n",
    "# view\n",
    "result_1[1:3,]\n",
    "summary(result_1)"
   ]
  },
  {
   "cell_type": "code",
   "execution_count": 20,
   "id": "cf17051e-bd18-4851-8467-a5231fac018b",
   "metadata": {
    "tags": []
   },
   "outputs": [
    {
     "name": "stderr",
     "output_type": "stream",
     "text": [
      "\u001b[1m\u001b[22mSaving 7 x 7 in image\n",
      "Warning message:\n",
      "“ggrepel: 3272 unlabeled data points (too many overlaps). Consider increasing max.overlaps”\n"
     ]
    }
   ],
   "source": [
    "# define conditions for upregulated, downregulated, and significant genes\n",
    "test <- ifelse(result_1$padj < 0.01, TRUE, FALSE)\n",
    "upregulated <- ifelse(test = result_1$log2FoldChange > 1, TRUE, FALSE)\n",
    "downregulated <- ifelse(test = result_1$log2FoldChange < -1, TRUE, FALSE)\n",
    "\n",
    "# define the state of each gene\n",
    "state <- ifelse(test == TRUE & upregulated == TRUE, \"Upregulated\", \n",
    "                ifelse(test == TRUE & downregulated == TRUE, \"Downregulated\", \"Not statistically significant\"))\n",
    "\n",
    "# get the genes to label\n",
    "genes <- rownames(result_1)[test & (upregulated | downregulated)]\n",
    "\n",
    "# prepare point labels\n",
    "point_label <- rownames(result_1)\n",
    "point_label[!(rownames(result_1) %in% genes)] <- \"\"\n",
    "\n",
    "# define the target and reference variables\n",
    "target <- \"CIC-DUX4_sarcoma\" #\n",
    "reference <- \"Ewings_sarcoma\" \n",
    "\n",
    "# volcano plot and save it\n",
    "volcano_plot <- ggplot(data = result_1, mapping = aes(x = log2FoldChange, y = -log10(padj))) + \n",
    "  geom_point(mapping = aes(color = state, alpha = 0.9), size = 2) + \n",
    "  geom_text_repel(mapping = aes(label = point_label), max.overlaps = 10) +  \n",
    "  guides(alpha = \"none\") +  \n",
    "  labs(x = \"log2 fold change\", y = \"-log10 adjusted p-value\") + \n",
    "  ggtitle(paste0(target, \" minus \", reference, \"-900\")) +  \n",
    "  theme_minimal()\n",
    "ggsave(filename = paste0(\"/lustre/scratch126/cellgen/behjati/lr26/RNA/\", target, \"_minus_\", reference, \"volcano_plot-900swissitaly.pdf\"), \n",
    "       plot = volcano_plot, device = cairo_pdf, dpi = 300)"
   ]
  },
  {
   "cell_type": "code",
   "execution_count": 21,
   "id": "d4da5819-df93-4c46-b095-5754fec4f74e",
   "metadata": {
    "tags": []
   },
   "outputs": [
    {
     "name": "stderr",
     "output_type": "stream",
     "text": [
      "\n",
      "\n",
      "'select()' returned 1:1 mapping between keys and columns\n",
      "\n"
     ]
    },
    {
     "data": {
      "text/html": [
       "<table class=\"dataframe\">\n",
       "<caption>A data.frame: 6 × 7</caption>\n",
       "<thead>\n",
       "\t<tr><th></th><th scope=col>baseMean</th><th scope=col>log2FoldChange</th><th scope=col>lfcSE</th><th scope=col>stat</th><th scope=col>pvalue</th><th scope=col>padj</th><th scope=col>entrez</th></tr>\n",
       "\t<tr><th></th><th scope=col>&lt;dbl&gt;</th><th scope=col>&lt;dbl&gt;</th><th scope=col>&lt;dbl&gt;</th><th scope=col>&lt;dbl&gt;</th><th scope=col>&lt;dbl&gt;</th><th scope=col>&lt;dbl&gt;</th><th scope=col>&lt;chr&gt;</th></tr>\n",
       "</thead>\n",
       "<tbody>\n",
       "\t<tr><th scope=row>SYCP1</th><td>  323.8125</td><td>-25.923965</td><td>1.6971827</td><td>-15.27470</td><td>1.127375e-52</td><td>3.155747e-48</td><td>6847  </td></tr>\n",
       "\t<tr><th scope=row>CYP4F22</th><td> 5216.0990</td><td>-10.805509</td><td>0.9391321</td><td>-11.50585</td><td>1.232754e-30</td><td>1.725362e-26</td><td>126410</td></tr>\n",
       "\t<tr><th scope=row>ADRB3</th><td> 3017.9877</td><td> -9.942332</td><td>0.9047894</td><td>-10.98856</td><td>4.337900e-28</td><td>3.035662e-24</td><td>155   </td></tr>\n",
       "\t<tr><th scope=row>PKP1</th><td>16535.7536</td><td>-10.745756</td><td>0.9773841</td><td>-10.99441</td><td>4.065854e-28</td><td>3.035662e-24</td><td>5317  </td></tr>\n",
       "\t<tr><th scope=row>UGT3A2</th><td>17985.8092</td><td>-12.253102</td><td>1.1245236</td><td>-10.89626</td><td>1.200919e-27</td><td>6.723224e-24</td><td>167127</td></tr>\n",
       "\t<tr><th scope=row>PAX7</th><td> 9610.0401</td><td>-11.574930</td><td>1.0854512</td><td>-10.66370</td><td>1.504826e-26</td><td>7.020514e-23</td><td>5081  </td></tr>\n",
       "</tbody>\n",
       "</table>\n"
      ],
      "text/latex": [
       "A data.frame: 6 × 7\n",
       "\\begin{tabular}{r|lllllll}\n",
       "  & baseMean & log2FoldChange & lfcSE & stat & pvalue & padj & entrez\\\\\n",
       "  & <dbl> & <dbl> & <dbl> & <dbl> & <dbl> & <dbl> & <chr>\\\\\n",
       "\\hline\n",
       "\tSYCP1 &   323.8125 & -25.923965 & 1.6971827 & -15.27470 & 1.127375e-52 & 3.155747e-48 & 6847  \\\\\n",
       "\tCYP4F22 &  5216.0990 & -10.805509 & 0.9391321 & -11.50585 & 1.232754e-30 & 1.725362e-26 & 126410\\\\\n",
       "\tADRB3 &  3017.9877 &  -9.942332 & 0.9047894 & -10.98856 & 4.337900e-28 & 3.035662e-24 & 155   \\\\\n",
       "\tPKP1 & 16535.7536 & -10.745756 & 0.9773841 & -10.99441 & 4.065854e-28 & 3.035662e-24 & 5317  \\\\\n",
       "\tUGT3A2 & 17985.8092 & -12.253102 & 1.1245236 & -10.89626 & 1.200919e-27 & 6.723224e-24 & 167127\\\\\n",
       "\tPAX7 &  9610.0401 & -11.574930 & 1.0854512 & -10.66370 & 1.504826e-26 & 7.020514e-23 & 5081  \\\\\n",
       "\\end{tabular}\n"
      ],
      "text/markdown": [
       "\n",
       "A data.frame: 6 × 7\n",
       "\n",
       "| <!--/--> | baseMean &lt;dbl&gt; | log2FoldChange &lt;dbl&gt; | lfcSE &lt;dbl&gt; | stat &lt;dbl&gt; | pvalue &lt;dbl&gt; | padj &lt;dbl&gt; | entrez &lt;chr&gt; |\n",
       "|---|---|---|---|---|---|---|---|\n",
       "| SYCP1 |   323.8125 | -25.923965 | 1.6971827 | -15.27470 | 1.127375e-52 | 3.155747e-48 | 6847   |\n",
       "| CYP4F22 |  5216.0990 | -10.805509 | 0.9391321 | -11.50585 | 1.232754e-30 | 1.725362e-26 | 126410 |\n",
       "| ADRB3 |  3017.9877 |  -9.942332 | 0.9047894 | -10.98856 | 4.337900e-28 | 3.035662e-24 | 155    |\n",
       "| PKP1 | 16535.7536 | -10.745756 | 0.9773841 | -10.99441 | 4.065854e-28 | 3.035662e-24 | 5317   |\n",
       "| UGT3A2 | 17985.8092 | -12.253102 | 1.1245236 | -10.89626 | 1.200919e-27 | 6.723224e-24 | 167127 |\n",
       "| PAX7 |  9610.0401 | -11.574930 | 1.0854512 | -10.66370 | 1.504826e-26 | 7.020514e-23 | 5081   |\n",
       "\n"
      ],
      "text/plain": [
       "        baseMean   log2FoldChange lfcSE     stat      pvalue       padj        \n",
       "SYCP1     323.8125 -25.923965     1.6971827 -15.27470 1.127375e-52 3.155747e-48\n",
       "CYP4F22  5216.0990 -10.805509     0.9391321 -11.50585 1.232754e-30 1.725362e-26\n",
       "ADRB3    3017.9877  -9.942332     0.9047894 -10.98856 4.337900e-28 3.035662e-24\n",
       "PKP1    16535.7536 -10.745756     0.9773841 -10.99441 4.065854e-28 3.035662e-24\n",
       "UGT3A2  17985.8092 -12.253102     1.1245236 -10.89626 1.200919e-27 6.723224e-24\n",
       "PAX7     9610.0401 -11.574930     1.0854512 -10.66370 1.504826e-26 7.020514e-23\n",
       "        entrez\n",
       "SYCP1   6847  \n",
       "CYP4F22 126410\n",
       "ADRB3   155   \n",
       "PKP1    5317  \n",
       "UGT3A2  167127\n",
       "PAX7    5081  "
      ]
     },
     "metadata": {},
     "output_type": "display_data"
    }
   ],
   "source": [
    "# gene set enrichment formatting\n",
    "result_1$entrez <- mapIds(org.Hs.eg.db, \n",
    "                        keys = rownames(result_1),   \n",
    "                        column = \"ENTREZID\",    \n",
    "                        keytype = \"SYMBOL\",      \n",
    "                        multiVals = \"first\")     \n",
    "\n",
    "# check the first few rows of the result to verify\n",
    "head(result_1)"
   ]
  },
  {
   "cell_type": "code",
   "execution_count": 22,
   "id": "708cce7f-d755-4e0a-a2a4-504f0e234b65",
   "metadata": {
    "tags": []
   },
   "outputs": [
    {
     "name": "stderr",
     "output_type": "stream",
     "text": [
      "Warning message:\n",
      "“\u001b[1m\u001b[22mThe `category` argument of `msigdbr()` is deprecated as of msigdbr 10.0.0.\n",
      "\u001b[36mℹ\u001b[39m Please use the `collection` argument instead.”\n"
     ]
    },
    {
     "data": {
      "text/html": [
       "<table class=\"dataframe\">\n",
       "<caption>A data.frame: 6 × 23</caption>\n",
       "<thead>\n",
       "\t<tr><th></th><th scope=col>gene_symbol</th><th scope=col>ncbi_gene</th><th scope=col>ensembl_gene</th><th scope=col>db_gene_symbol</th><th scope=col>db_ncbi_gene</th><th scope=col>db_ensembl_gene</th><th scope=col>source_gene</th><th scope=col>gs_id</th><th scope=col>gs_name</th><th scope=col>gs_collection</th><th scope=col>⋯</th><th scope=col>gs_source_species</th><th scope=col>gs_pmid</th><th scope=col>gs_geoid</th><th scope=col>gs_exact_source</th><th scope=col>gs_url</th><th scope=col>db_version</th><th scope=col>db_target_species</th><th scope=col>entrez_gene</th><th scope=col>gs_cat</th><th scope=col>gs_subcat</th></tr>\n",
       "\t<tr><th></th><th scope=col>&lt;chr&gt;</th><th scope=col>&lt;chr&gt;</th><th scope=col>&lt;chr&gt;</th><th scope=col>&lt;chr&gt;</th><th scope=col>&lt;chr&gt;</th><th scope=col>&lt;chr&gt;</th><th scope=col>&lt;chr&gt;</th><th scope=col>&lt;chr&gt;</th><th scope=col>&lt;chr&gt;</th><th scope=col>&lt;chr&gt;</th><th scope=col>⋯</th><th scope=col>&lt;chr&gt;</th><th scope=col>&lt;chr&gt;</th><th scope=col>&lt;chr&gt;</th><th scope=col>&lt;chr&gt;</th><th scope=col>&lt;chr&gt;</th><th scope=col>&lt;chr&gt;</th><th scope=col>&lt;chr&gt;</th><th scope=col>&lt;chr&gt;</th><th scope=col>&lt;chr&gt;</th><th scope=col>&lt;chr&gt;</th></tr>\n",
       "</thead>\n",
       "<tbody>\n",
       "\t<tr><th scope=row>1</th><td>ABCA1</td><td>19   </td><td>ENSG00000165029</td><td>ABCA1</td><td>19   </td><td>ENSG00000165029</td><td>ABCA1</td><td>M5905</td><td>HALLMARK_ADIPOGENESIS</td><td>H</td><td>⋯</td><td>HS</td><td>26771021</td><td></td><td></td><td></td><td>2024.1.Hs</td><td>HS</td><td>19   </td><td>H</td><td></td></tr>\n",
       "\t<tr><th scope=row>2</th><td>ABCB8</td><td>11194</td><td>ENSG00000197150</td><td>ABCB8</td><td>11194</td><td>ENSG00000197150</td><td>ABCB8</td><td>M5905</td><td>HALLMARK_ADIPOGENESIS</td><td>H</td><td>⋯</td><td>HS</td><td>26771021</td><td></td><td></td><td></td><td>2024.1.Hs</td><td>HS</td><td>11194</td><td>H</td><td></td></tr>\n",
       "\t<tr><th scope=row>3</th><td>ACAA2</td><td>10449</td><td>ENSG00000167315</td><td>ACAA2</td><td>10449</td><td>ENSG00000167315</td><td>ACAA2</td><td>M5905</td><td>HALLMARK_ADIPOGENESIS</td><td>H</td><td>⋯</td><td>HS</td><td>26771021</td><td></td><td></td><td></td><td>2024.1.Hs</td><td>HS</td><td>10449</td><td>H</td><td></td></tr>\n",
       "\t<tr><th scope=row>4</th><td>ACADL</td><td>33   </td><td>ENSG00000115361</td><td>ACADL</td><td>33   </td><td>ENSG00000115361</td><td>ACADL</td><td>M5905</td><td>HALLMARK_ADIPOGENESIS</td><td>H</td><td>⋯</td><td>HS</td><td>26771021</td><td></td><td></td><td></td><td>2024.1.Hs</td><td>HS</td><td>33   </td><td>H</td><td></td></tr>\n",
       "\t<tr><th scope=row>5</th><td>ACADM</td><td>34   </td><td>ENSG00000117054</td><td>ACADM</td><td>34   </td><td>ENSG00000117054</td><td>ACADM</td><td>M5905</td><td>HALLMARK_ADIPOGENESIS</td><td>H</td><td>⋯</td><td>HS</td><td>26771021</td><td></td><td></td><td></td><td>2024.1.Hs</td><td>HS</td><td>34   </td><td>H</td><td></td></tr>\n",
       "\t<tr><th scope=row>6</th><td>ACADS</td><td>35   </td><td>ENSG00000122971</td><td>ACADS</td><td>35   </td><td>ENSG00000122971</td><td>ACADS</td><td>M5905</td><td>HALLMARK_ADIPOGENESIS</td><td>H</td><td>⋯</td><td>HS</td><td>26771021</td><td></td><td></td><td></td><td>2024.1.Hs</td><td>HS</td><td>35   </td><td>H</td><td></td></tr>\n",
       "</tbody>\n",
       "</table>\n"
      ],
      "text/latex": [
       "A data.frame: 6 × 23\n",
       "\\begin{tabular}{r|lllllllllllllllllllll}\n",
       "  & gene\\_symbol & ncbi\\_gene & ensembl\\_gene & db\\_gene\\_symbol & db\\_ncbi\\_gene & db\\_ensembl\\_gene & source\\_gene & gs\\_id & gs\\_name & gs\\_collection & ⋯ & gs\\_source\\_species & gs\\_pmid & gs\\_geoid & gs\\_exact\\_source & gs\\_url & db\\_version & db\\_target\\_species & entrez\\_gene & gs\\_cat & gs\\_subcat\\\\\n",
       "  & <chr> & <chr> & <chr> & <chr> & <chr> & <chr> & <chr> & <chr> & <chr> & <chr> & ⋯ & <chr> & <chr> & <chr> & <chr> & <chr> & <chr> & <chr> & <chr> & <chr> & <chr>\\\\\n",
       "\\hline\n",
       "\t1 & ABCA1 & 19    & ENSG00000165029 & ABCA1 & 19    & ENSG00000165029 & ABCA1 & M5905 & HALLMARK\\_ADIPOGENESIS & H & ⋯ & HS & 26771021 &  &  &  & 2024.1.Hs & HS & 19    & H & \\\\\n",
       "\t2 & ABCB8 & 11194 & ENSG00000197150 & ABCB8 & 11194 & ENSG00000197150 & ABCB8 & M5905 & HALLMARK\\_ADIPOGENESIS & H & ⋯ & HS & 26771021 &  &  &  & 2024.1.Hs & HS & 11194 & H & \\\\\n",
       "\t3 & ACAA2 & 10449 & ENSG00000167315 & ACAA2 & 10449 & ENSG00000167315 & ACAA2 & M5905 & HALLMARK\\_ADIPOGENESIS & H & ⋯ & HS & 26771021 &  &  &  & 2024.1.Hs & HS & 10449 & H & \\\\\n",
       "\t4 & ACADL & 33    & ENSG00000115361 & ACADL & 33    & ENSG00000115361 & ACADL & M5905 & HALLMARK\\_ADIPOGENESIS & H & ⋯ & HS & 26771021 &  &  &  & 2024.1.Hs & HS & 33    & H & \\\\\n",
       "\t5 & ACADM & 34    & ENSG00000117054 & ACADM & 34    & ENSG00000117054 & ACADM & M5905 & HALLMARK\\_ADIPOGENESIS & H & ⋯ & HS & 26771021 &  &  &  & 2024.1.Hs & HS & 34    & H & \\\\\n",
       "\t6 & ACADS & 35    & ENSG00000122971 & ACADS & 35    & ENSG00000122971 & ACADS & M5905 & HALLMARK\\_ADIPOGENESIS & H & ⋯ & HS & 26771021 &  &  &  & 2024.1.Hs & HS & 35    & H & \\\\\n",
       "\\end{tabular}\n"
      ],
      "text/markdown": [
       "\n",
       "A data.frame: 6 × 23\n",
       "\n",
       "| <!--/--> | gene_symbol &lt;chr&gt; | ncbi_gene &lt;chr&gt; | ensembl_gene &lt;chr&gt; | db_gene_symbol &lt;chr&gt; | db_ncbi_gene &lt;chr&gt; | db_ensembl_gene &lt;chr&gt; | source_gene &lt;chr&gt; | gs_id &lt;chr&gt; | gs_name &lt;chr&gt; | gs_collection &lt;chr&gt; | ⋯ ⋯ | gs_source_species &lt;chr&gt; | gs_pmid &lt;chr&gt; | gs_geoid &lt;chr&gt; | gs_exact_source &lt;chr&gt; | gs_url &lt;chr&gt; | db_version &lt;chr&gt; | db_target_species &lt;chr&gt; | entrez_gene &lt;chr&gt; | gs_cat &lt;chr&gt; | gs_subcat &lt;chr&gt; |\n",
       "|---|---|---|---|---|---|---|---|---|---|---|---|---|---|---|---|---|---|---|---|---|---|\n",
       "| 1 | ABCA1 | 19    | ENSG00000165029 | ABCA1 | 19    | ENSG00000165029 | ABCA1 | M5905 | HALLMARK_ADIPOGENESIS | H | ⋯ | HS | 26771021 | <!----> | <!----> | <!----> | 2024.1.Hs | HS | 19    | H | <!----> |\n",
       "| 2 | ABCB8 | 11194 | ENSG00000197150 | ABCB8 | 11194 | ENSG00000197150 | ABCB8 | M5905 | HALLMARK_ADIPOGENESIS | H | ⋯ | HS | 26771021 | <!----> | <!----> | <!----> | 2024.1.Hs | HS | 11194 | H | <!----> |\n",
       "| 3 | ACAA2 | 10449 | ENSG00000167315 | ACAA2 | 10449 | ENSG00000167315 | ACAA2 | M5905 | HALLMARK_ADIPOGENESIS | H | ⋯ | HS | 26771021 | <!----> | <!----> | <!----> | 2024.1.Hs | HS | 10449 | H | <!----> |\n",
       "| 4 | ACADL | 33    | ENSG00000115361 | ACADL | 33    | ENSG00000115361 | ACADL | M5905 | HALLMARK_ADIPOGENESIS | H | ⋯ | HS | 26771021 | <!----> | <!----> | <!----> | 2024.1.Hs | HS | 33    | H | <!----> |\n",
       "| 5 | ACADM | 34    | ENSG00000117054 | ACADM | 34    | ENSG00000117054 | ACADM | M5905 | HALLMARK_ADIPOGENESIS | H | ⋯ | HS | 26771021 | <!----> | <!----> | <!----> | 2024.1.Hs | HS | 34    | H | <!----> |\n",
       "| 6 | ACADS | 35    | ENSG00000122971 | ACADS | 35    | ENSG00000122971 | ACADS | M5905 | HALLMARK_ADIPOGENESIS | H | ⋯ | HS | 26771021 | <!----> | <!----> | <!----> | 2024.1.Hs | HS | 35    | H | <!----> |\n",
       "\n"
      ],
      "text/plain": [
       "  gene_symbol ncbi_gene ensembl_gene    db_gene_symbol db_ncbi_gene\n",
       "1 ABCA1       19        ENSG00000165029 ABCA1          19          \n",
       "2 ABCB8       11194     ENSG00000197150 ABCB8          11194       \n",
       "3 ACAA2       10449     ENSG00000167315 ACAA2          10449       \n",
       "4 ACADL       33        ENSG00000115361 ACADL          33          \n",
       "5 ACADM       34        ENSG00000117054 ACADM          34          \n",
       "6 ACADS       35        ENSG00000122971 ACADS          35          \n",
       "  db_ensembl_gene source_gene gs_id gs_name               gs_collection ⋯\n",
       "1 ENSG00000165029 ABCA1       M5905 HALLMARK_ADIPOGENESIS H             ⋯\n",
       "2 ENSG00000197150 ABCB8       M5905 HALLMARK_ADIPOGENESIS H             ⋯\n",
       "3 ENSG00000167315 ACAA2       M5905 HALLMARK_ADIPOGENESIS H             ⋯\n",
       "4 ENSG00000115361 ACADL       M5905 HALLMARK_ADIPOGENESIS H             ⋯\n",
       "5 ENSG00000117054 ACADM       M5905 HALLMARK_ADIPOGENESIS H             ⋯\n",
       "6 ENSG00000122971 ACADS       M5905 HALLMARK_ADIPOGENESIS H             ⋯\n",
       "  gs_source_species gs_pmid  gs_geoid gs_exact_source gs_url db_version\n",
       "1 HS                26771021                                 2024.1.Hs \n",
       "2 HS                26771021                                 2024.1.Hs \n",
       "3 HS                26771021                                 2024.1.Hs \n",
       "4 HS                26771021                                 2024.1.Hs \n",
       "5 HS                26771021                                 2024.1.Hs \n",
       "6 HS                26771021                                 2024.1.Hs \n",
       "  db_target_species entrez_gene gs_cat gs_subcat\n",
       "1 HS                19          H               \n",
       "2 HS                11194       H               \n",
       "3 HS                10449       H               \n",
       "4 HS                33          H               \n",
       "5 HS                34          H               \n",
       "6 HS                35          H               "
      ]
     },
     "metadata": {},
     "output_type": "display_data"
    },
    {
     "name": "stderr",
     "output_type": "stream",
     "text": [
      "Warning message in preparePathwaysAndStats(pathways, stats, minSize, maxSize, gseaParam, :\n",
      "“There are ties in the preranked stats (0.06% of the list).\n",
      "The order of those tied genes will be arbitrary, which may produce unexpected results.”\n"
     ]
    },
    {
     "data": {
      "text/html": [
       "<table class=\"dataframe\">\n",
       "<caption>A data.table: 6 × 8</caption>\n",
       "<thead>\n",
       "\t<tr><th scope=col>pathway</th><th scope=col>pval</th><th scope=col>padj</th><th scope=col>log2err</th><th scope=col>ES</th><th scope=col>NES</th><th scope=col>size</th><th scope=col>leadingEdge</th></tr>\n",
       "\t<tr><th scope=col>&lt;chr&gt;</th><th scope=col>&lt;dbl&gt;</th><th scope=col>&lt;dbl&gt;</th><th scope=col>&lt;dbl&gt;</th><th scope=col>&lt;dbl&gt;</th><th scope=col>&lt;dbl&gt;</th><th scope=col>&lt;int&gt;</th><th scope=col>&lt;list&gt;</th></tr>\n",
       "</thead>\n",
       "<tbody>\n",
       "\t<tr><td>HALLMARK_ADIPOGENESIS       </td><td>1.804697e-01</td><td>4.496714e-01</td><td>0.11056472</td><td> 0.3306458</td><td> 1.2387489</td><td>42</td><td>11343, 3....</td></tr>\n",
       "\t<tr><td>HALLMARK_ALLOGRAFT_REJECTION</td><td>7.654925e-07</td><td>2.366065e-05</td><td>0.65944440</td><td> 0.5105688</td><td> 2.1513500</td><td>80</td><td>972, 468....</td></tr>\n",
       "\t<tr><td>HALLMARK_ANDROGEN_RESPONSE  </td><td>9.576720e-01</td><td>9.910486e-01</td><td>0.02822192</td><td> 0.1666169</td><td> 0.5533633</td><td>25</td><td>220, 563....</td></tr>\n",
       "\t<tr><td>HALLMARK_ANGIOGENESIS       </td><td>3.077802e-03</td><td>1.919860e-02</td><td>0.43170770</td><td> 0.5748098</td><td> 1.7883121</td><td>20</td><td>6696, 70....</td></tr>\n",
       "\t<tr><td>HALLMARK_APICAL_JUNCTION    </td><td>1.372140e-02</td><td>6.236999e-02</td><td>0.38073040</td><td> 0.3772664</td><td> 1.5398961</td><td>67</td><td>794, 129....</td></tr>\n",
       "\t<tr><td>HALLMARK_APICAL_SURFACE     </td><td>9.072581e-01</td><td>9.910486e-01</td><td>0.08479851</td><td>-0.1745998</td><td>-0.7016420</td><td>24</td><td>5314, 25....</td></tr>\n",
       "</tbody>\n",
       "</table>\n"
      ],
      "text/latex": [
       "A data.table: 6 × 8\n",
       "\\begin{tabular}{llllllll}\n",
       " pathway & pval & padj & log2err & ES & NES & size & leadingEdge\\\\\n",
       " <chr> & <dbl> & <dbl> & <dbl> & <dbl> & <dbl> & <int> & <list>\\\\\n",
       "\\hline\n",
       "\t HALLMARK\\_ADIPOGENESIS        & 1.804697e-01 & 4.496714e-01 & 0.11056472 &  0.3306458 &  1.2387489 & 42 & 11343, 3....\\\\\n",
       "\t HALLMARK\\_ALLOGRAFT\\_REJECTION & 7.654925e-07 & 2.366065e-05 & 0.65944440 &  0.5105688 &  2.1513500 & 80 & 972, 468....\\\\\n",
       "\t HALLMARK\\_ANDROGEN\\_RESPONSE   & 9.576720e-01 & 9.910486e-01 & 0.02822192 &  0.1666169 &  0.5533633 & 25 & 220, 563....\\\\\n",
       "\t HALLMARK\\_ANGIOGENESIS        & 3.077802e-03 & 1.919860e-02 & 0.43170770 &  0.5748098 &  1.7883121 & 20 & 6696, 70....\\\\\n",
       "\t HALLMARK\\_APICAL\\_JUNCTION     & 1.372140e-02 & 6.236999e-02 & 0.38073040 &  0.3772664 &  1.5398961 & 67 & 794, 129....\\\\\n",
       "\t HALLMARK\\_APICAL\\_SURFACE      & 9.072581e-01 & 9.910486e-01 & 0.08479851 & -0.1745998 & -0.7016420 & 24 & 5314, 25....\\\\\n",
       "\\end{tabular}\n"
      ],
      "text/markdown": [
       "\n",
       "A data.table: 6 × 8\n",
       "\n",
       "| pathway &lt;chr&gt; | pval &lt;dbl&gt; | padj &lt;dbl&gt; | log2err &lt;dbl&gt; | ES &lt;dbl&gt; | NES &lt;dbl&gt; | size &lt;int&gt; | leadingEdge &lt;list&gt; |\n",
       "|---|---|---|---|---|---|---|---|\n",
       "| HALLMARK_ADIPOGENESIS        | 1.804697e-01 | 4.496714e-01 | 0.11056472 |  0.3306458 |  1.2387489 | 42 | 11343, 3.... |\n",
       "| HALLMARK_ALLOGRAFT_REJECTION | 7.654925e-07 | 2.366065e-05 | 0.65944440 |  0.5105688 |  2.1513500 | 80 | 972, 468.... |\n",
       "| HALLMARK_ANDROGEN_RESPONSE   | 9.576720e-01 | 9.910486e-01 | 0.02822192 |  0.1666169 |  0.5533633 | 25 | 220, 563.... |\n",
       "| HALLMARK_ANGIOGENESIS        | 3.077802e-03 | 1.919860e-02 | 0.43170770 |  0.5748098 |  1.7883121 | 20 | 6696, 70.... |\n",
       "| HALLMARK_APICAL_JUNCTION     | 1.372140e-02 | 6.236999e-02 | 0.38073040 |  0.3772664 |  1.5398961 | 67 | 794, 129.... |\n",
       "| HALLMARK_APICAL_SURFACE      | 9.072581e-01 | 9.910486e-01 | 0.08479851 | -0.1745998 | -0.7016420 | 24 | 5314, 25.... |\n",
       "\n"
      ],
      "text/plain": [
       "  pathway                      pval         padj         log2err    ES        \n",
       "1 HALLMARK_ADIPOGENESIS        1.804697e-01 4.496714e-01 0.11056472  0.3306458\n",
       "2 HALLMARK_ALLOGRAFT_REJECTION 7.654925e-07 2.366065e-05 0.65944440  0.5105688\n",
       "3 HALLMARK_ANDROGEN_RESPONSE   9.576720e-01 9.910486e-01 0.02822192  0.1666169\n",
       "4 HALLMARK_ANGIOGENESIS        3.077802e-03 1.919860e-02 0.43170770  0.5748098\n",
       "5 HALLMARK_APICAL_JUNCTION     1.372140e-02 6.236999e-02 0.38073040  0.3772664\n",
       "6 HALLMARK_APICAL_SURFACE      9.072581e-01 9.910486e-01 0.08479851 -0.1745998\n",
       "  NES        size leadingEdge \n",
       "1  1.2387489 42   11343, 3....\n",
       "2  2.1513500 80   972, 468....\n",
       "3  0.5533633 25   220, 563....\n",
       "4  1.7883121 20   6696, 70....\n",
       "5  1.5398961 67   794, 129....\n",
       "6 -0.7016420 24   5314, 25...."
      ]
     },
     "metadata": {},
     "output_type": "display_data"
    },
    {
     "data": {
      "text/html": [
       "<table class=\"dataframe\">\n",
       "<caption>A data.table: 6 × 8</caption>\n",
       "<thead>\n",
       "\t<tr><th scope=col>pathway</th><th scope=col>pval</th><th scope=col>padj</th><th scope=col>log2err</th><th scope=col>ES</th><th scope=col>NES</th><th scope=col>size</th><th scope=col>leadingEdge</th></tr>\n",
       "\t<tr><th scope=col>&lt;chr&gt;</th><th scope=col>&lt;dbl&gt;</th><th scope=col>&lt;dbl&gt;</th><th scope=col>&lt;dbl&gt;</th><th scope=col>&lt;dbl&gt;</th><th scope=col>&lt;dbl&gt;</th><th scope=col>&lt;int&gt;</th><th scope=col>&lt;list&gt;</th></tr>\n",
       "</thead>\n",
       "<tbody>\n",
       "\t<tr><td>HALLMARK_ALLOGRAFT_REJECTION              </td><td>7.654925e-07</td><td>2.366065e-05</td><td>0.6594444</td><td>0.5105688</td><td>2.151350</td><td>80</td><td>972, 468....</td></tr>\n",
       "\t<tr><td>HALLMARK_INFLAMMATORY_RESPONSE            </td><td>9.464260e-07</td><td>2.366065e-05</td><td>0.6594444</td><td>0.5154829</td><td>2.155710</td><td>76</td><td>5996, 18....</td></tr>\n",
       "\t<tr><td>HALLMARK_KRAS_SIGNALING_UP                </td><td>6.373456e-06</td><td>1.062243e-04</td><td>0.6105269</td><td>0.4838706</td><td>2.040475</td><td>81</td><td>6696, 56....</td></tr>\n",
       "\t<tr><td>HALLMARK_IL6_JAK_STAT3_SIGNALING          </td><td>3.993195e-05</td><td>4.991494e-04</td><td>0.5573322</td><td>0.5574122</td><td>2.088318</td><td>42</td><td>8809, 12....</td></tr>\n",
       "\t<tr><td>HALLMARK_COAGULATION                      </td><td>1.270860e-04</td><td>1.059050e-03</td><td>0.5188481</td><td>0.5248191</td><td>1.993365</td><td>44</td><td>712, 705....</td></tr>\n",
       "\t<tr><td>HALLMARK_EPITHELIAL_MESENCHYMAL_TRANSITION</td><td>1.156322e-04</td><td>1.059050e-03</td><td>0.5384341</td><td>0.4513346</td><td>1.901759</td><td>80</td><td>6696, 70....</td></tr>\n",
       "</tbody>\n",
       "</table>\n"
      ],
      "text/latex": [
       "A data.table: 6 × 8\n",
       "\\begin{tabular}{llllllll}\n",
       " pathway & pval & padj & log2err & ES & NES & size & leadingEdge\\\\\n",
       " <chr> & <dbl> & <dbl> & <dbl> & <dbl> & <dbl> & <int> & <list>\\\\\n",
       "\\hline\n",
       "\t HALLMARK\\_ALLOGRAFT\\_REJECTION               & 7.654925e-07 & 2.366065e-05 & 0.6594444 & 0.5105688 & 2.151350 & 80 & 972, 468....\\\\\n",
       "\t HALLMARK\\_INFLAMMATORY\\_RESPONSE             & 9.464260e-07 & 2.366065e-05 & 0.6594444 & 0.5154829 & 2.155710 & 76 & 5996, 18....\\\\\n",
       "\t HALLMARK\\_KRAS\\_SIGNALING\\_UP                 & 6.373456e-06 & 1.062243e-04 & 0.6105269 & 0.4838706 & 2.040475 & 81 & 6696, 56....\\\\\n",
       "\t HALLMARK\\_IL6\\_JAK\\_STAT3\\_SIGNALING           & 3.993195e-05 & 4.991494e-04 & 0.5573322 & 0.5574122 & 2.088318 & 42 & 8809, 12....\\\\\n",
       "\t HALLMARK\\_COAGULATION                       & 1.270860e-04 & 1.059050e-03 & 0.5188481 & 0.5248191 & 1.993365 & 44 & 712, 705....\\\\\n",
       "\t HALLMARK\\_EPITHELIAL\\_MESENCHYMAL\\_TRANSITION & 1.156322e-04 & 1.059050e-03 & 0.5384341 & 0.4513346 & 1.901759 & 80 & 6696, 70....\\\\\n",
       "\\end{tabular}\n"
      ],
      "text/markdown": [
       "\n",
       "A data.table: 6 × 8\n",
       "\n",
       "| pathway &lt;chr&gt; | pval &lt;dbl&gt; | padj &lt;dbl&gt; | log2err &lt;dbl&gt; | ES &lt;dbl&gt; | NES &lt;dbl&gt; | size &lt;int&gt; | leadingEdge &lt;list&gt; |\n",
       "|---|---|---|---|---|---|---|---|\n",
       "| HALLMARK_ALLOGRAFT_REJECTION               | 7.654925e-07 | 2.366065e-05 | 0.6594444 | 0.5105688 | 2.151350 | 80 | 972, 468.... |\n",
       "| HALLMARK_INFLAMMATORY_RESPONSE             | 9.464260e-07 | 2.366065e-05 | 0.6594444 | 0.5154829 | 2.155710 | 76 | 5996, 18.... |\n",
       "| HALLMARK_KRAS_SIGNALING_UP                 | 6.373456e-06 | 1.062243e-04 | 0.6105269 | 0.4838706 | 2.040475 | 81 | 6696, 56.... |\n",
       "| HALLMARK_IL6_JAK_STAT3_SIGNALING           | 3.993195e-05 | 4.991494e-04 | 0.5573322 | 0.5574122 | 2.088318 | 42 | 8809, 12.... |\n",
       "| HALLMARK_COAGULATION                       | 1.270860e-04 | 1.059050e-03 | 0.5188481 | 0.5248191 | 1.993365 | 44 | 712, 705.... |\n",
       "| HALLMARK_EPITHELIAL_MESENCHYMAL_TRANSITION | 1.156322e-04 | 1.059050e-03 | 0.5384341 | 0.4513346 | 1.901759 | 80 | 6696, 70.... |\n",
       "\n"
      ],
      "text/plain": [
       "  pathway                                    pval         padj        \n",
       "1 HALLMARK_ALLOGRAFT_REJECTION               7.654925e-07 2.366065e-05\n",
       "2 HALLMARK_INFLAMMATORY_RESPONSE             9.464260e-07 2.366065e-05\n",
       "3 HALLMARK_KRAS_SIGNALING_UP                 6.373456e-06 1.062243e-04\n",
       "4 HALLMARK_IL6_JAK_STAT3_SIGNALING           3.993195e-05 4.991494e-04\n",
       "5 HALLMARK_COAGULATION                       1.270860e-04 1.059050e-03\n",
       "6 HALLMARK_EPITHELIAL_MESENCHYMAL_TRANSITION 1.156322e-04 1.059050e-03\n",
       "  log2err   ES        NES      size leadingEdge \n",
       "1 0.6594444 0.5105688 2.151350 80   972, 468....\n",
       "2 0.6594444 0.5154829 2.155710 76   5996, 18....\n",
       "3 0.6105269 0.4838706 2.040475 81   6696, 56....\n",
       "4 0.5573322 0.5574122 2.088318 42   8809, 12....\n",
       "5 0.5188481 0.5248191 1.993365 44   712, 705....\n",
       "6 0.5384341 0.4513346 1.901759 80   6696, 70...."
      ]
     },
     "metadata": {},
     "output_type": "display_data"
    }
   ],
   "source": [
    "# pathway enrichment analysis just like above\n",
    "# ensure that entrez column contains valid entrez ids\n",
    "fgsea_data <- result_1[!is.na(result_1$entrez), ]  \n",
    "\n",
    "# prepare ranking (log2FoldChange)\n",
    "# first few values, numeric\n",
    "ranks <- fgsea_data$log2FoldChange\n",
    "names(ranks) <- fgsea_data$entrez\n",
    "\n",
    "# Remove any nan values\n",
    "ranks <- ranks[!is.na(ranks)]\n",
    "\n",
    "# hallmark gene set pathways\n",
    "pathways_df <- msigdbr(species = \"Homo sapiens\", category = \"H\")\n",
    "\n",
    "# valid gene symbols, each row a separate gene\n",
    "head(pathways_df)\n",
    "# split pathways into a list, each element a char vector of gene symbols\n",
    "pathways_list <- split(pathways_df$entrez_gene, pathways_df$gs_name)\n",
    "\n",
    "# fun fgsea\n",
    "fgsea_res <- fgseaMultilevel(pathways_list, stats = ranks)\n",
    "head(fgsea_res)\n",
    "# sort the results by padj\n",
    "fgsea_res <- fgsea_res[order(fgsea_res$padj), ]\n",
    "# top 5 enriched pathways\n",
    "head(fgsea_res)\n",
    "\n",
    "# plot the results for pathways \n",
    "fgsea_plot <- fgsea_res[abs(fgsea_res$NES) > 0.5, ]\n",
    "fgsea_plot <- fgsea_plot[order(fgsea_plot$NES), ]\n",
    "\n",
    "# volcano plot for pathway enrichment and save the plot\n",
    "library(ggplot2)\n",
    "my_plot <- ggplot(fgsea_plot, aes(x = reorder(pathway, NES), y = NES)) +\n",
    "  geom_col(aes(fill = padj > 0.05)) +\n",
    "  coord_flip() +\n",
    "  labs(x = \"Pathway\", y = \"Normalized Enrichment Score (NES)\", title = \"FGSEA Enrichment: CIC-DUX4 vs Ewing Sarcoma-900\") +\n",
    "  theme_minimal() +\n",
    "  theme(legend.position = \"none\")\n",
    "ggsave(filename = \"/lustre/scratch126/cellgen/behjati/lr26/RNA/fgsea_volcano_plot-900-swissitaly.pdf\", my_plot, width = 10, height = 8, device = cairo_pdf, dpi = 300)\n"
   ]
  },
  {
   "cell_type": "code",
   "execution_count": 23,
   "id": "66848ff0-e28e-4e37-a820-5f7001f9dca2",
   "metadata": {
    "tags": []
   },
   "outputs": [
    {
     "name": "stdout",
     "output_type": "stream",
     "text": [
      "      AS-892475-LR-66487 AS-892476-LR-66487 AS-892477-LR-66487\n",
      "CIC             4207.188       5.533109e+03           12105.57\n",
      "DUX4               0.000       8.645483e-01               0.00\n",
      "EWSR1          16431.322       1.442153e+04           12776.25\n",
      "MYOD1              0.000       1.123913e+01               0.00\n",
      "      AS-892478-LR-66487 AS-892479-LR-66487 AS-892480-LR-66487\n",
      "CIC             8972.308           6867.152        3598.213510\n",
      "DUX4               0.000              0.000           0.000000\n",
      "EWSR1          12983.066          11944.080       23926.494022\n",
      "MYOD1              0.000              0.000           6.344657\n",
      "      AS-892481-LR-66487 AS-892482-LR-66487 AS-892483-LR-66487\n",
      "CIC            12438.341         4290.17567         13612.7701\n",
      "DUX4             218.018           62.75523           145.1821\n",
      "EWSR1          21571.711        15790.78454         16355.0274\n",
      "MYOD1              0.000            0.00000             0.0000\n",
      "      AS-892484-LR-66487 AS-893415-LR-66487 GSM5024895 GSM5024896   GSM5024897\n",
      "CIC          6286.427236         2281.23553 14438.7365  14815.360 21083.197953\n",
      "DUX4           69.110828           98.40624   724.2852   1766.793  1094.880835\n",
      "EWSR1       13327.757362        11663.05629  5282.5852   4715.730  4277.046809\n",
      "MYOD1           3.544145            0.00000    13.5958      0.000     5.393502\n",
      "      GSM5024898 GSM5024899 GSM5024901 GSM5024902 our_patient_FO  our_patient\n",
      "CIC   19007.9119  4280.1124   2061.517   5513.276     2157.95545 3.366781e+04\n",
      "DUX4    831.9895     0.0000      0.000      0.000       18.23027 5.078540e+02\n",
      "EWSR1  8388.7359  3713.5108   4453.320   3741.237    12757.37476 8.432430e+03\n",
      "MYOD1     0.0000   130.2986      0.000      0.000        0.00000 9.743362e-01\n"
     ]
    },
    {
     "data": {
      "text/html": [
       "<table class=\"dataframe\">\n",
       "<caption>A data.frame: 6 × 5</caption>\n",
       "<thead>\n",
       "\t<tr><th></th><th scope=col>CIC</th><th scope=col>DUX4</th><th scope=col>EWSR1</th><th scope=col>MYOD1</th><th scope=col>Condition</th></tr>\n",
       "\t<tr><th></th><th scope=col>&lt;dbl&gt;</th><th scope=col>&lt;dbl&gt;</th><th scope=col>&lt;dbl&gt;</th><th scope=col>&lt;dbl&gt;</th><th scope=col>&lt;fct&gt;</th></tr>\n",
       "</thead>\n",
       "<tbody>\n",
       "\t<tr><th scope=row>AS-892475-LR-66487</th><td> 4207.188</td><td>0.0000000</td><td>16431.32</td><td> 0.000000</td><td>Ewing sarcoma</td></tr>\n",
       "\t<tr><th scope=row>AS-892476-LR-66487</th><td> 5533.109</td><td>0.8645483</td><td>14421.53</td><td>11.239128</td><td>Ewing sarcoma</td></tr>\n",
       "\t<tr><th scope=row>AS-892477-LR-66487</th><td>12105.573</td><td>0.0000000</td><td>12776.25</td><td> 0.000000</td><td>Ewing sarcoma</td></tr>\n",
       "\t<tr><th scope=row>AS-892478-LR-66487</th><td> 8972.308</td><td>0.0000000</td><td>12983.07</td><td> 0.000000</td><td>Ewing sarcoma</td></tr>\n",
       "\t<tr><th scope=row>AS-892479-LR-66487</th><td> 6867.152</td><td>0.0000000</td><td>11944.08</td><td> 0.000000</td><td>Ewing sarcoma</td></tr>\n",
       "\t<tr><th scope=row>AS-892480-LR-66487</th><td> 3598.214</td><td>0.0000000</td><td>23926.49</td><td> 6.344657</td><td>Ewing sarcoma</td></tr>\n",
       "</tbody>\n",
       "</table>\n"
      ],
      "text/latex": [
       "A data.frame: 6 × 5\n",
       "\\begin{tabular}{r|lllll}\n",
       "  & CIC & DUX4 & EWSR1 & MYOD1 & Condition\\\\\n",
       "  & <dbl> & <dbl> & <dbl> & <dbl> & <fct>\\\\\n",
       "\\hline\n",
       "\tAS-892475-LR-66487 &  4207.188 & 0.0000000 & 16431.32 &  0.000000 & Ewing sarcoma\\\\\n",
       "\tAS-892476-LR-66487 &  5533.109 & 0.8645483 & 14421.53 & 11.239128 & Ewing sarcoma\\\\\n",
       "\tAS-892477-LR-66487 & 12105.573 & 0.0000000 & 12776.25 &  0.000000 & Ewing sarcoma\\\\\n",
       "\tAS-892478-LR-66487 &  8972.308 & 0.0000000 & 12983.07 &  0.000000 & Ewing sarcoma\\\\\n",
       "\tAS-892479-LR-66487 &  6867.152 & 0.0000000 & 11944.08 &  0.000000 & Ewing sarcoma\\\\\n",
       "\tAS-892480-LR-66487 &  3598.214 & 0.0000000 & 23926.49 &  6.344657 & Ewing sarcoma\\\\\n",
       "\\end{tabular}\n"
      ],
      "text/markdown": [
       "\n",
       "A data.frame: 6 × 5\n",
       "\n",
       "| <!--/--> | CIC &lt;dbl&gt; | DUX4 &lt;dbl&gt; | EWSR1 &lt;dbl&gt; | MYOD1 &lt;dbl&gt; | Condition &lt;fct&gt; |\n",
       "|---|---|---|---|---|---|\n",
       "| AS-892475-LR-66487 |  4207.188 | 0.0000000 | 16431.32 |  0.000000 | Ewing sarcoma |\n",
       "| AS-892476-LR-66487 |  5533.109 | 0.8645483 | 14421.53 | 11.239128 | Ewing sarcoma |\n",
       "| AS-892477-LR-66487 | 12105.573 | 0.0000000 | 12776.25 |  0.000000 | Ewing sarcoma |\n",
       "| AS-892478-LR-66487 |  8972.308 | 0.0000000 | 12983.07 |  0.000000 | Ewing sarcoma |\n",
       "| AS-892479-LR-66487 |  6867.152 | 0.0000000 | 11944.08 |  0.000000 | Ewing sarcoma |\n",
       "| AS-892480-LR-66487 |  3598.214 | 0.0000000 | 23926.49 |  6.344657 | Ewing sarcoma |\n",
       "\n"
      ],
      "text/plain": [
       "                   CIC       DUX4      EWSR1    MYOD1     Condition    \n",
       "AS-892475-LR-66487  4207.188 0.0000000 16431.32  0.000000 Ewing sarcoma\n",
       "AS-892476-LR-66487  5533.109 0.8645483 14421.53 11.239128 Ewing sarcoma\n",
       "AS-892477-LR-66487 12105.573 0.0000000 12776.25  0.000000 Ewing sarcoma\n",
       "AS-892478-LR-66487  8972.308 0.0000000 12983.07  0.000000 Ewing sarcoma\n",
       "AS-892479-LR-66487  6867.152 0.0000000 11944.08  0.000000 Ewing sarcoma\n",
       "AS-892480-LR-66487  3598.214 0.0000000 23926.49  6.344657 Ewing sarcoma"
      ]
     },
     "metadata": {},
     "output_type": "display_data"
    },
    {
     "ename": "ERROR",
     "evalue": "Error in gather(expression_df, key = \"Gene\", value = \"Expression\", -Condition): could not find function \"gather\"\n",
     "output_type": "error",
     "traceback": [
      "Error in gather(expression_df, key = \"Gene\", value = \"Expression\", -Condition): could not find function \"gather\"\nTraceback:\n"
     ]
    }
   ],
   "source": [
    "# here again targeted analysis for the genes of interest\n",
    "norm_counts <- counts(ddds, normalized=TRUE)\n",
    "genes_of_interest <- c(\"CIC\", \"DUX4\", \"EWSR1\", \"MYOD1\")\n",
    "\n",
    "# subset the normalized counts for these genes\n",
    "expression_data <- norm_counts[genes_of_interest, ]\n",
    "print(expression_data)\n",
    "# create a gataframe and transpose and add condition info\n",
    "expression_df <- as.data.frame(t(expression_data))  \n",
    "expression_df$Condition <- colData(ddds)$Condition \n",
    "\n",
    "# view and put to long format\n",
    "head(expression_df)\n",
    "expression_long_df <- gather(expression_df, key = \"Gene\", value = \"Expression\", -Condition)\n",
    "\n",
    "# get deseq2 results\n",
    "res <- results(ddds)\n",
    "# p values for genes of interest\n",
    "gene_pvals <- res[genes_of_interest, c(\"padj\", \"pvalue\")]\n",
    "\n",
    "# convert to dataframe\n",
    "gene_pvals_df <- as.data.frame(gene_pvals)\n",
    "gene_pvals_df$Gene <- rownames(gene_pvals_df)\n",
    "\n",
    "gene_pvals_df$label <- ifelse(\n",
    "  is.na(gene_pvals_df$padj),\n",
    "  paste0(\"p=\", signif(gene_pvals_df$pvalue, 3)),\n",
    "  paste0(\"FDR=\", signif(gene_pvals_df$padj, 3))\n",
    ")\n",
    "\n",
    "# create the plot\n",
    "p <- ggplot(expression_long_df, aes(x=Condition, y=Expression, fill=Condition)) + \n",
    "  geom_boxplot() + \n",
    "  facet_wrap(~Gene, scales=\"free_y\") + \n",
    "  labs(title=\"Expression of Genes across Conditions -900\", x=\"Condition\", y=\"Normalized Expression\") +\n",
    "  theme_minimal() +\n",
    "  geom_text(\n",
    "    data = gene_pvals_df, \n",
    "    aes(x = 1.5, y = Inf, label = label), \n",
    "    inherit.aes = FALSE,\n",
    "    vjust = 1.5, size = 3\n",
    "  )\n",
    "# save the plot\n",
    "ggsave(filename = \"/lustre/scratch126/cellgen/behjati/lr26/RNA/Expression_of_Genes_across_Conditions-900swissitaly.pdf\", \n",
    "       plot = p, device = cairo_pdf, dpi = 300, width = 10, height = 8)"
   ]
  },
  {
   "cell_type": "code",
   "execution_count": null,
   "id": "2cc9193b-cbb4-43e5-a523-3cc5aaca68d0",
   "metadata": {},
   "outputs": [],
   "source": [
    "### deg for the FO sample\n",
    "vst_data <- vst(ddds, blind = TRUE)\n",
    "vst_mat <- assay(vst_data)\n",
    "uk_sample_fo <- vst_mat[, \"our_patient_FO\"]\n",
    "\n",
    "# get matrix without the FO sample\n",
    "others <- vst_mat[, colnames(vst_mat) != \"our_patient_FO\"]\n",
    "\n",
    "# calculate z score of the FO sample expression vs others\n",
    "gene_sd <- apply(others, 1, sd)\n",
    "uk_z_fo <- (uk_sample_fo - rowMeans(others)) / gene_sd\n",
    "uk_z_fo <- uk_z_fo[!is.na(uk_z_fo) & gene_sd != 0]\n",
    "\n",
    "# calculate two sided p values from z scores\n",
    "p_values_fo <- 2 * pnorm(-abs(uk_z_fo))\n",
    "names(p_values_fo) <- names(uk_z_fo)\n",
    "\n",
    "# adjust for multiple testing\n",
    "p_adj_fo <- p.adjust(p_values_fo, method = \"BH\")\n",
    "names(p_adj_fo) <- names(p_values_fo)\n",
    "\n",
    "# sort by magnitude of z score\n",
    "top_var_genes_fo <- head(sort(abs(uk_z_fo), decreasing = TRUE), 50)\n",
    "\n",
    "# view gene names\n",
    "top_df_fo <- data.frame(\n",
    "  gene = names(top_var_genes_fo),\n",
    "  zscore = uk_z_fo[names(top_var_genes_fo)], \n",
    "  p_adj = p_adj_fo[names(top_var_genes_fo)]\n",
    ")\n",
    "\n",
    "top_df_fo$p_adj_label <- signif(top_df_fo$p_adj, digits = 2)\n",
    "\n",
    "# plot the data - top differentially expressed\n",
    "our_patient_fo <- ggplot(top_df_fo, aes(x = reorder(gene, zscore), y = zscore)) +\n",
    "  geom_col(fill = \"steelblue\") +\n",
    "  geom_text(aes(label = p_adj_label), \n",
    "            hjust = -0.1,\n",
    "            size = 3) +\n",
    "  coord_flip() +\n",
    "  labs(title = \"Top Variable Genes in Our patient pre-treatment vs others\",\n",
    "       x = \"Gene\", y = \"Z-score (vs. others)\") +\n",
    "  theme_minimal()\n",
    "\n",
    "ggsave(filename = \"/lustre/scratch126/cellgen/behjati/lr26/RNA/top_variable_genes_our_patient_foplot-900-swissitaly.pdf\",\n",
    "       our_patient_fo,\n",
    "       width = 8, height = 10, device = cairo_pdf, dpi = 300)\n"
   ]
  },
  {
   "cell_type": "code",
   "execution_count": null,
   "id": "87b64012-c5c2-41cc-bb2e-3b4e181aac16",
   "metadata": {},
   "outputs": [],
   "source": [
    "## deg for the ft sample\n",
    "vst_data <- vst(ddds, blind = TRUE)\n",
    "vst_mat <- assay(vst_data)\n",
    "uk_sample_ft <- vst_mat[, \"our_patient\"]\n",
    "\n",
    "# get matrix without the FO sample\n",
    "others <- vst_mat[, colnames(vst_mat) != \"our_patient\"]\n",
    "\n",
    "# calculate z score of the FO sample expression vs others\n",
    "gene_sd <- apply(others, 1, sd)\n",
    "uk_z_ft <- (uk_sample_ft - rowMeans(others)) / gene_sd\n",
    "uk_z_ft <- uk_z_ft[!is.na(uk_z_ft) & gene_sd != 0]\n",
    "\n",
    "# calculate two sided p values from z scores\n",
    "p_values_ft <- 2 * pnorm(-abs(uk_z_ft))\n",
    "names(p_values_ft) <- names(uk_z_ft)\n",
    "\n",
    "# adjust for multiple testing\n",
    "p_adj_ft <- p.adjust(p_values_ft, method = \"BH\")\n",
    "names(p_adj_ft) <- names(p_values_ft)\n",
    "\n",
    "# sort by magnitude of z score\n",
    "top_var_genes_ft <- head(sort(abs(uk_z_ft), decreasing = TRUE), 50)\n",
    "\n",
    "# view gene names\n",
    "top_df_ft <- data.frame(\n",
    "  gene = names(top_var_genes_ft),\n",
    "  zscore = uk_z_ft[names(top_var_genes_ft)], \n",
    "  p_adj = p_adj_ft[names(top_var_genes_ft)]\n",
    ")\n",
    "\n",
    "top_df_ft$p_adj_label <- signif(top_df_ft$p_adj, digits = 2)\n",
    "\n",
    "# plot the data - top differentially expressed\n",
    "our_patient_ft <- ggplot(top_df_ft, aes(x = reorder(gene, zscore), y = zscore)) +\n",
    "  geom_col(fill = \"steelblue\") +\n",
    "  geom_text(aes(label = p_adj_label), \n",
    "            hjust = -0.1,\n",
    "            size = 3) +\n",
    "  coord_flip() +\n",
    "  labs(title = \"Top Variable Genes in Our patient post-treatment vs others\",\n",
    "       x = \"Gene\", y = \"Z-score (vs. others)\") +\n",
    "  theme_minimal()\n",
    "\n",
    "ggsave(filename = \"/lustre/scratch126/cellgen/behjati/lr26/RNA/top_variable_genes_our_patient_ftplot-900-swissitaly.pdf\",\n",
    "       our_patient_ft,\n",
    "       width = 8, height = 10, device = cairo_pdf, dpi = 300)\n"
   ]
  },
  {
   "cell_type": "code",
   "execution_count": 148,
   "id": "bf83ebf1-e2b1-4547-a2d4-7fb4a6f5bcdb",
   "metadata": {
    "tags": []
   },
   "outputs": [
    {
     "data": {
      "text/html": [
       "<style>\n",
       ".list-inline {list-style: none; margin:0; padding: 0}\n",
       ".list-inline>li {display: inline-block}\n",
       ".list-inline>li:not(:last-child)::after {content: \"\\00b7\"; padding: 0 .5ex}\n",
       "</style>\n",
       "<ol class=list-inline><li>'CSAG2'</li><li>'FAM226A'</li><li>'FAM246C'</li><li>'FAM86B2'</li><li>'HSD17B3'</li><li>'LINC00312'</li><li>'LOC107984321'</li><li>'LOC124900464'</li><li>'LOC124900530'</li><li>'LOC124905413'</li><li>'LOC124906156'</li><li>'LOC124906536'</li><li>'LOC124907553'</li><li>'LOC124908181'</li><li>'LOC124908201'</li><li>'LOC124908215'</li><li>'LOC124908225'</li><li>'LOC128031837'</li><li>'LOC128966685'</li><li>'LOC647264'</li><li>'NR4A1AS'</li><li>'SULT1A4'</li><li>'ZSWIM8-AS1'</li><li>'ABHD16B'</li><li>'GJA9'</li><li>'TBILA'</li><li>'LOC644634'</li><li>'ANKRD30A'</li><li>'LOC100128002'</li><li>'SNORA88'</li><li>'LOC107986286'</li><li>'LINC00993'</li><li>'PRAMEF20'</li><li>'CELA2B'</li><li>'LINC02415'</li><li>'PMP2'</li><li>'UCP1'</li><li>'LOC124903267'</li><li>'CIDEC'</li><li>'SPRR2D'</li><li>'THRSP'</li><li>'LOC124904827'</li><li>'LOC124901715'</li><li>'PLIN1'</li><li>'LOC105375816'</li><li>'LOC124900188'</li><li>'LOC107985201'</li><li>'LOC124906629'</li><li>'LOC124900907'</li><li>'LOC124902275'</li></ol>\n"
      ],
      "text/latex": [
       "\\begin{enumerate*}\n",
       "\\item 'CSAG2'\n",
       "\\item 'FAM226A'\n",
       "\\item 'FAM246C'\n",
       "\\item 'FAM86B2'\n",
       "\\item 'HSD17B3'\n",
       "\\item 'LINC00312'\n",
       "\\item 'LOC107984321'\n",
       "\\item 'LOC124900464'\n",
       "\\item 'LOC124900530'\n",
       "\\item 'LOC124905413'\n",
       "\\item 'LOC124906156'\n",
       "\\item 'LOC124906536'\n",
       "\\item 'LOC124907553'\n",
       "\\item 'LOC124908181'\n",
       "\\item 'LOC124908201'\n",
       "\\item 'LOC124908215'\n",
       "\\item 'LOC124908225'\n",
       "\\item 'LOC128031837'\n",
       "\\item 'LOC128966685'\n",
       "\\item 'LOC647264'\n",
       "\\item 'NR4A1AS'\n",
       "\\item 'SULT1A4'\n",
       "\\item 'ZSWIM8-AS1'\n",
       "\\item 'ABHD16B'\n",
       "\\item 'GJA9'\n",
       "\\item 'TBILA'\n",
       "\\item 'LOC644634'\n",
       "\\item 'ANKRD30A'\n",
       "\\item 'LOC100128002'\n",
       "\\item 'SNORA88'\n",
       "\\item 'LOC107986286'\n",
       "\\item 'LINC00993'\n",
       "\\item 'PRAMEF20'\n",
       "\\item 'CELA2B'\n",
       "\\item 'LINC02415'\n",
       "\\item 'PMP2'\n",
       "\\item 'UCP1'\n",
       "\\item 'LOC124903267'\n",
       "\\item 'CIDEC'\n",
       "\\item 'SPRR2D'\n",
       "\\item 'THRSP'\n",
       "\\item 'LOC124904827'\n",
       "\\item 'LOC124901715'\n",
       "\\item 'PLIN1'\n",
       "\\item 'LOC105375816'\n",
       "\\item 'LOC124900188'\n",
       "\\item 'LOC107985201'\n",
       "\\item 'LOC124906629'\n",
       "\\item 'LOC124900907'\n",
       "\\item 'LOC124902275'\n",
       "\\end{enumerate*}\n"
      ],
      "text/markdown": [
       "1. 'CSAG2'\n",
       "2. 'FAM226A'\n",
       "3. 'FAM246C'\n",
       "4. 'FAM86B2'\n",
       "5. 'HSD17B3'\n",
       "6. 'LINC00312'\n",
       "7. 'LOC107984321'\n",
       "8. 'LOC124900464'\n",
       "9. 'LOC124900530'\n",
       "10. 'LOC124905413'\n",
       "11. 'LOC124906156'\n",
       "12. 'LOC124906536'\n",
       "13. 'LOC124907553'\n",
       "14. 'LOC124908181'\n",
       "15. 'LOC124908201'\n",
       "16. 'LOC124908215'\n",
       "17. 'LOC124908225'\n",
       "18. 'LOC128031837'\n",
       "19. 'LOC128966685'\n",
       "20. 'LOC647264'\n",
       "21. 'NR4A1AS'\n",
       "22. 'SULT1A4'\n",
       "23. 'ZSWIM8-AS1'\n",
       "24. 'ABHD16B'\n",
       "25. 'GJA9'\n",
       "26. 'TBILA'\n",
       "27. 'LOC644634'\n",
       "28. 'ANKRD30A'\n",
       "29. 'LOC100128002'\n",
       "30. 'SNORA88'\n",
       "31. 'LOC107986286'\n",
       "32. 'LINC00993'\n",
       "33. 'PRAMEF20'\n",
       "34. 'CELA2B'\n",
       "35. 'LINC02415'\n",
       "36. 'PMP2'\n",
       "37. 'UCP1'\n",
       "38. 'LOC124903267'\n",
       "39. 'CIDEC'\n",
       "40. 'SPRR2D'\n",
       "41. 'THRSP'\n",
       "42. 'LOC124904827'\n",
       "43. 'LOC124901715'\n",
       "44. 'PLIN1'\n",
       "45. 'LOC105375816'\n",
       "46. 'LOC124900188'\n",
       "47. 'LOC107985201'\n",
       "48. 'LOC124906629'\n",
       "49. 'LOC124900907'\n",
       "50. 'LOC124902275'\n",
       "\n",
       "\n"
      ],
      "text/plain": [
       " [1] \"CSAG2\"        \"FAM226A\"      \"FAM246C\"      \"FAM86B2\"      \"HSD17B3\"     \n",
       " [6] \"LINC00312\"    \"LOC107984321\" \"LOC124900464\" \"LOC124900530\" \"LOC124905413\"\n",
       "[11] \"LOC124906156\" \"LOC124906536\" \"LOC124907553\" \"LOC124908181\" \"LOC124908201\"\n",
       "[16] \"LOC124908215\" \"LOC124908225\" \"LOC128031837\" \"LOC128966685\" \"LOC647264\"   \n",
       "[21] \"NR4A1AS\"      \"SULT1A4\"      \"ZSWIM8-AS1\"   \"ABHD16B\"      \"GJA9\"        \n",
       "[26] \"TBILA\"        \"LOC644634\"    \"ANKRD30A\"     \"LOC100128002\" \"SNORA88\"     \n",
       "[31] \"LOC107986286\" \"LINC00993\"    \"PRAMEF20\"     \"CELA2B\"       \"LINC02415\"   \n",
       "[36] \"PMP2\"         \"UCP1\"         \"LOC124903267\" \"CIDEC\"        \"SPRR2D\"      \n",
       "[41] \"THRSP\"        \"LOC124904827\" \"LOC124901715\" \"PLIN1\"        \"LOC105375816\"\n",
       "[46] \"LOC124900188\" \"LOC107985201\" \"LOC124906629\" \"LOC124900907\" \"LOC124902275\""
      ]
     },
     "metadata": {},
     "output_type": "display_data"
    }
   ],
   "source": [
    "#comparing our patient to all others\n",
    "vst_data <- vst(ddds, blind = TRUE)\n",
    "vst_mat <- assay(vst_data)\n",
    "\n",
    "# combine the two samples into one matrix\n",
    "uk_sample <- vst_mat[, c(\"our_patient_FO\", \"our_patient\")]\n",
    "\n",
    "# get all other samples excluding those two\n",
    "others <- vst_mat[, !colnames(vst_mat) %in% c(\"our_patient_FO\", \"our_patient\")]\n",
    "\n",
    "# average UK sample expression\n",
    "uk_avg <- rowMeans(uk_sample)\n",
    "\n",
    "# z score against other samples\n",
    "uk_z <- (uk_avg - rowMeans(others)) / apply(others, 1, sd)\n",
    "\n",
    "# sort and get top 50 genes\n",
    "top_var_genes <- head(sort(abs(uk_z), decreasing = TRUE), 50)\n",
    "\n",
    "p_values <- 2 * pnorm(-abs(uk_z))\n",
    "# assign names before adjustment\n",
    "names(p_values) <- names(uk_z)\n",
    "# adjust for multiple testing\n",
    "p_adj <- p.adjust(p_values, method = \"BH\")\n",
    "names(p_adj) <- names(p_values)  # just to be safe\n",
    "# sort by magnitude of z score\n",
    "top_var_genes <- head(sort(abs(uk_z), decreasing = TRUE), 50)\n",
    "\n",
    "# view gene names\n",
    "names(top_var_genes)\n",
    "top_df <- data.frame(\n",
    "  gene = names(top_var_genes),\n",
    "  zscore = uk_z[names(top_var_genes)], \n",
    "  p_adj = p_adj[names(top_var_genes)]\n",
    ")\n",
    "\n",
    "top_df$p_adj_label <- signif(top_df$p_adj, digits = 2)\n",
    "# graph\n",
    "our_patient <- ggplot(top_df, aes(x = reorder(gene, zscore), y = zscore)) +\n",
    "  geom_col(fill = \"steelblue\") +\n",
    "  geom_text(aes(label = p_adj_label), \n",
    "            hjust = -0.1,    # position labels just outside bars\n",
    "            size = 3) +\n",
    "  coord_flip() +\n",
    "  labs(title = \"Top Variable Genes in Our patient vs. Others\",\n",
    "       x = \"Gene\", y = \"Z-score (vs. others)\") +\n",
    "  theme_minimal()\n",
    "ggsave(filename = \"/lustre/scratch126/cellgen/behjati/lr26/RNA/top_variable_genes_our_patient_900_FO_FT_plot_swissitaly.pdf\", our_patient, width = 8, height = 10, device = cairo_pdf, dpi = 300)\n"
   ]
  },
  {
   "cell_type": "markdown",
   "id": "34877c98-e328-4ecb-9d90-d529844860f2",
   "metadata": {},
   "source": [
    "## Here I am parforming all analysis for the FO sample.\n",
    "### I can also do the same for the FT sample by re-running the successive cells"
   ]
  },
  {
   "cell_type": "code",
   "execution_count": 26,
   "id": "737c57f3-3234-4ff6-ab59-80d703245b5d",
   "metadata": {
    "tags": []
   },
   "outputs": [
    {
     "data": {
      "text/html": [
       "<style>\n",
       ".list-inline {list-style: none; margin:0; padding: 0}\n",
       ".list-inline>li {display: inline-block}\n",
       ".list-inline>li:not(:last-child)::after {content: \"\\00b7\"; padding: 0 .5ex}\n",
       "</style>\n",
       "<ol class=list-inline><li>'LOC124907554'</li><li>'LOC124902275'</li><li>'FGF12-AS3'</li><li>'LOC124900188'</li><li>'LOC644634'</li><li>'IFNE'</li><li>'HSD17B3'</li><li>'LOC124900898'</li><li>'LOC124903267'</li><li>'THADA'</li><li>'LOC124900907'</li><li>'LRPAP1'</li><li>'PNISR-AS1'</li><li>'LOC124908181'</li><li>'SNORA88'</li><li>'GLG1'</li><li>'STEAP2-AS1'</li><li>'TAF3'</li><li>'WSCD1'</li><li>'ARFGAP1'</li><li>'DNAAF4-CCPG1'</li><li>'ZSWIM8-AS1'</li><li>'LOC124904171'</li><li>'LOC124901201'</li><li>'UBE2G2'</li><li>'MHENCR'</li><li>'SULT1A4'</li><li>'LOC124904650'</li><li>'WAC-AS1'</li><li>'GATAD1'</li><li>'LOC124904827'</li><li>'LINC01117'</li><li>'CXorf65'</li><li>'SRSF4'</li><li>'FANK1'</li><li>'DCANP1'</li><li>'ZNF689'</li><li>'LOC124906338'</li><li>'LOC124907510'</li><li>'LOC339166'</li><li>'LINC02126'</li><li>'ADGRB3-DT'</li><li>'PNISR'</li><li>'SCLY'</li><li>'LOC124903963'</li><li>'LRRC39'</li><li>'LOC112268044'</li><li>'CNEP1R1'</li><li>'RING1'</li><li>'HNRNPUL2-BSCL2'</li></ol>\n"
      ],
      "text/latex": [
       "\\begin{enumerate*}\n",
       "\\item 'LOC124907554'\n",
       "\\item 'LOC124902275'\n",
       "\\item 'FGF12-AS3'\n",
       "\\item 'LOC124900188'\n",
       "\\item 'LOC644634'\n",
       "\\item 'IFNE'\n",
       "\\item 'HSD17B3'\n",
       "\\item 'LOC124900898'\n",
       "\\item 'LOC124903267'\n",
       "\\item 'THADA'\n",
       "\\item 'LOC124900907'\n",
       "\\item 'LRPAP1'\n",
       "\\item 'PNISR-AS1'\n",
       "\\item 'LOC124908181'\n",
       "\\item 'SNORA88'\n",
       "\\item 'GLG1'\n",
       "\\item 'STEAP2-AS1'\n",
       "\\item 'TAF3'\n",
       "\\item 'WSCD1'\n",
       "\\item 'ARFGAP1'\n",
       "\\item 'DNAAF4-CCPG1'\n",
       "\\item 'ZSWIM8-AS1'\n",
       "\\item 'LOC124904171'\n",
       "\\item 'LOC124901201'\n",
       "\\item 'UBE2G2'\n",
       "\\item 'MHENCR'\n",
       "\\item 'SULT1A4'\n",
       "\\item 'LOC124904650'\n",
       "\\item 'WAC-AS1'\n",
       "\\item 'GATAD1'\n",
       "\\item 'LOC124904827'\n",
       "\\item 'LINC01117'\n",
       "\\item 'CXorf65'\n",
       "\\item 'SRSF4'\n",
       "\\item 'FANK1'\n",
       "\\item 'DCANP1'\n",
       "\\item 'ZNF689'\n",
       "\\item 'LOC124906338'\n",
       "\\item 'LOC124907510'\n",
       "\\item 'LOC339166'\n",
       "\\item 'LINC02126'\n",
       "\\item 'ADGRB3-DT'\n",
       "\\item 'PNISR'\n",
       "\\item 'SCLY'\n",
       "\\item 'LOC124903963'\n",
       "\\item 'LRRC39'\n",
       "\\item 'LOC112268044'\n",
       "\\item 'CNEP1R1'\n",
       "\\item 'RING1'\n",
       "\\item 'HNRNPUL2-BSCL2'\n",
       "\\end{enumerate*}\n"
      ],
      "text/markdown": [
       "1. 'LOC124907554'\n",
       "2. 'LOC124902275'\n",
       "3. 'FGF12-AS3'\n",
       "4. 'LOC124900188'\n",
       "5. 'LOC644634'\n",
       "6. 'IFNE'\n",
       "7. 'HSD17B3'\n",
       "8. 'LOC124900898'\n",
       "9. 'LOC124903267'\n",
       "10. 'THADA'\n",
       "11. 'LOC124900907'\n",
       "12. 'LRPAP1'\n",
       "13. 'PNISR-AS1'\n",
       "14. 'LOC124908181'\n",
       "15. 'SNORA88'\n",
       "16. 'GLG1'\n",
       "17. 'STEAP2-AS1'\n",
       "18. 'TAF3'\n",
       "19. 'WSCD1'\n",
       "20. 'ARFGAP1'\n",
       "21. 'DNAAF4-CCPG1'\n",
       "22. 'ZSWIM8-AS1'\n",
       "23. 'LOC124904171'\n",
       "24. 'LOC124901201'\n",
       "25. 'UBE2G2'\n",
       "26. 'MHENCR'\n",
       "27. 'SULT1A4'\n",
       "28. 'LOC124904650'\n",
       "29. 'WAC-AS1'\n",
       "30. 'GATAD1'\n",
       "31. 'LOC124904827'\n",
       "32. 'LINC01117'\n",
       "33. 'CXorf65'\n",
       "34. 'SRSF4'\n",
       "35. 'FANK1'\n",
       "36. 'DCANP1'\n",
       "37. 'ZNF689'\n",
       "38. 'LOC124906338'\n",
       "39. 'LOC124907510'\n",
       "40. 'LOC339166'\n",
       "41. 'LINC02126'\n",
       "42. 'ADGRB3-DT'\n",
       "43. 'PNISR'\n",
       "44. 'SCLY'\n",
       "45. 'LOC124903963'\n",
       "46. 'LRRC39'\n",
       "47. 'LOC112268044'\n",
       "48. 'CNEP1R1'\n",
       "49. 'RING1'\n",
       "50. 'HNRNPUL2-BSCL2'\n",
       "\n",
       "\n"
      ],
      "text/plain": [
       " [1] \"LOC124907554\"   \"LOC124902275\"   \"FGF12-AS3\"      \"LOC124900188\"  \n",
       " [5] \"LOC644634\"      \"IFNE\"           \"HSD17B3\"        \"LOC124900898\"  \n",
       " [9] \"LOC124903267\"   \"THADA\"          \"LOC124900907\"   \"LRPAP1\"        \n",
       "[13] \"PNISR-AS1\"      \"LOC124908181\"   \"SNORA88\"        \"GLG1\"          \n",
       "[17] \"STEAP2-AS1\"     \"TAF3\"           \"WSCD1\"          \"ARFGAP1\"       \n",
       "[21] \"DNAAF4-CCPG1\"   \"ZSWIM8-AS1\"     \"LOC124904171\"   \"LOC124901201\"  \n",
       "[25] \"UBE2G2\"         \"MHENCR\"         \"SULT1A4\"        \"LOC124904650\"  \n",
       "[29] \"WAC-AS1\"        \"GATAD1\"         \"LOC124904827\"   \"LINC01117\"     \n",
       "[33] \"CXorf65\"        \"SRSF4\"          \"FANK1\"          \"DCANP1\"        \n",
       "[37] \"ZNF689\"         \"LOC124906338\"   \"LOC124907510\"   \"LOC339166\"     \n",
       "[41] \"LINC02126\"      \"ADGRB3-DT\"      \"PNISR\"          \"SCLY\"          \n",
       "[45] \"LOC124903963\"   \"LRRC39\"         \"LOC112268044\"   \"CNEP1R1\"       \n",
       "[49] \"RING1\"          \"HNRNPUL2-BSCL2\""
      ]
     },
     "metadata": {},
     "output_type": "display_data"
    }
   ],
   "source": [
    "# DEG of the FO sample against CIC DUX4\n",
    "vst_data <- vst(ddds, blind = TRUE)\n",
    "vst_mat <- assay(vst_data)\n",
    "patient_id <- \"our_patient_FO\"\n",
    "\n",
    "# safe matching by sample names\n",
    "cond <- colData(vst_data)$Condition\n",
    "sample_names <- colnames(vst_mat)\n",
    "\n",
    "is_cic_dux4 <- cond == \"CIC-DUX4 sarcoma\" & sample_names != patient_id\n",
    "\n",
    "#  subset\n",
    "cic_dux4_mat <- vst_mat[, is_cic_dux4]\n",
    "patient_vec <- vst_mat[, patient_id]\n",
    "\n",
    "# calculating the z scores checking for NAs\n",
    "gene_sd <- apply(cic_dux4_mat, 1, sd)\n",
    "gene_mean <- rowMeans(cic_dux4_mat)\n",
    "z_scores <- (patient_vec - gene_mean) / gene_sd\n",
    "z_scores <- z_scores[!is.na(z_scores) & gene_sd != 0]\n",
    "# two sided p values from z scores\n",
    "p_values <- 2 * pnorm(-abs(z_scores))\n",
    "\n",
    "# adjust for multiple testing\n",
    "p_adj <- p.adjust(p_values, method = \"BH\")\n",
    "# assign names before adjustment\n",
    "names(p_values) <- names(z_scores)\n",
    "\n",
    "# adjust p values and keep names\n",
    "p_adj <- p.adjust(p_values, method = \"BH\")\n",
    "names(p_adj) <- names(p_values)  # just to be safe\n",
    "\n",
    "# extract top genes by adjusted p value\n",
    "top_n <- min(50, length(p_adj))\n",
    "top_genes <- names(sort(p_adj))[1:top_n]\n",
    "\n",
    "# top variable genes\n",
    "top_var_genes <- head(sort(abs(z_scores), decreasing = TRUE), 50)\n",
    "names(top_var_genes)"
   ]
  },
  {
   "cell_type": "code",
   "execution_count": 27,
   "id": "bd24c336-56c9-469b-947c-99afc9257239",
   "metadata": {
    "tags": []
   },
   "outputs": [],
   "source": [
    "# prepare the data.frame including gene, zscore, and adjusted p value\n",
    "top_df <- data.frame(\n",
    "  gene = names(top_var_genes),\n",
    "  zscore = z_scores[names(top_var_genes)],\n",
    "  p_adj = p_adj[names(top_var_genes)]\n",
    ")\n",
    "\n",
    "# format p values nicely \n",
    "top_df$p_adj_label <- signif(top_df$p_adj, digits = 2)\n",
    "\n",
    "# plot with p-value labels\n",
    "our_patient <- ggplot(top_df, aes(x = reorder(gene, zscore), y = zscore)) +\n",
    "  geom_col(fill = \"steelblue\") +\n",
    "  geom_text(aes(label = p_adj_label), \n",
    "            hjust = -0.1,   \n",
    "            size = 3) +\n",
    "  coord_flip(clip = \"off\") +  \n",
    "  labs(title = \"Top Variable Genes in UK Sample pre-treatment vs. CIC-DUX4\",\n",
    "       x = \"Gene\", y = \"Z-score (vs. others)\") +\n",
    "  theme_minimal() +\n",
    "  theme(plot.margin = margin(5.5, 40, 5.5, 5.5))  \n",
    "\n",
    "ggsave(\n",
    "  filename = \"/lustre/scratch126/cellgen/behjati/lr26/RNA/top_variable_genes_our_patient_Fo_vs_all_cic-dux4-swissitaly.pdf\",\n",
    "  plot = our_patient,\n",
    "  width = 8,\n",
    "  height = 10,\n",
    "  device = cairo_pdf,\n",
    "  dpi = 300\n",
    ")\n"
   ]
  },
  {
   "cell_type": "code",
   "execution_count": 28,
   "id": "9aafdbcb-4b1f-405b-8bac-4e5499fbae14",
   "metadata": {
    "tags": []
   },
   "outputs": [
    {
     "name": "stderr",
     "output_type": "stream",
     "text": [
      "Warning message in fgsea(pathways = pathways_list, stats = ranked_genes, minSize = 15, :\n",
      "“You are trying to run fgseaSimple. It is recommended to use fgseaMultilevel. To run fgseaMultilevel, you need to remove the nperm argument in the fgsea function call.”\n",
      "Warning message in preparePathwaysAndStats(pathways, stats, minSize, maxSize, gseaParam, :\n",
      "“There are ties in the preranked stats (6.06% of the list).\n",
      "The order of those tied genes will be arbitrary, which may produce unexpected results.”\n"
     ]
    },
    {
     "data": {
      "text/html": [
       "<table class=\"dataframe\">\n",
       "<caption>A data.table: 6 × 8</caption>\n",
       "<thead>\n",
       "\t<tr><th scope=col>pathway</th><th scope=col>pval</th><th scope=col>padj</th><th scope=col>ES</th><th scope=col>NES</th><th scope=col>nMoreExtreme</th><th scope=col>size</th><th scope=col>leadingEdge</th></tr>\n",
       "\t<tr><th scope=col>&lt;chr&gt;</th><th scope=col>&lt;dbl&gt;</th><th scope=col>&lt;dbl&gt;</th><th scope=col>&lt;dbl&gt;</th><th scope=col>&lt;dbl&gt;</th><th scope=col>&lt;dbl&gt;</th><th scope=col>&lt;int&gt;</th><th scope=col>&lt;list&gt;</th></tr>\n",
       "</thead>\n",
       "<tbody>\n",
       "\t<tr><td>HALLMARK_REACTIVE_OXYGEN_SPECIES_PATHWAY</td><td>0.0002579979</td><td>0.0006797727</td><td>-0.5608664</td><td>-2.044284</td><td>0</td><td> 49</td><td>SRXN1, P....</td></tr>\n",
       "\t<tr><td>HALLMARK_MYC_TARGETS_V2                 </td><td>0.0002667378</td><td>0.0006797727</td><td>-0.7182201</td><td>-2.699409</td><td>0</td><td> 58</td><td>HK2, GRW....</td></tr>\n",
       "\t<tr><td>HALLMARK_CHOLESTEROL_HOMEOSTASIS        </td><td>0.0002753304</td><td>0.0006797727</td><td>-0.5871234</td><td>-2.303691</td><td>0</td><td> 74</td><td>FASN, TM....</td></tr>\n",
       "\t<tr><td>HALLMARK_INTERFERON_GAMMA_RESPONSE      </td><td>0.0002788234</td><td>0.0006797727</td><td> 0.4087558</td><td> 1.692950</td><td>1</td><td>200</td><td>SP110, S....</td></tr>\n",
       "\t<tr><td>HALLMARK_PROTEIN_SECRETION              </td><td>0.0002901073</td><td>0.0006797727</td><td>-0.5220325</td><td>-2.140019</td><td>0</td><td> 96</td><td>IGF2R, T....</td></tr>\n",
       "\t<tr><td>HALLMARK_PEROXISOME                     </td><td>0.0002919708</td><td>0.0006797727</td><td>-0.4170924</td><td>-1.731682</td><td>0</td><td>103</td><td>SLC25A17....</td></tr>\n",
       "</tbody>\n",
       "</table>\n"
      ],
      "text/latex": [
       "A data.table: 6 × 8\n",
       "\\begin{tabular}{llllllll}\n",
       " pathway & pval & padj & ES & NES & nMoreExtreme & size & leadingEdge\\\\\n",
       " <chr> & <dbl> & <dbl> & <dbl> & <dbl> & <dbl> & <int> & <list>\\\\\n",
       "\\hline\n",
       "\t HALLMARK\\_REACTIVE\\_OXYGEN\\_SPECIES\\_PATHWAY & 0.0002579979 & 0.0006797727 & -0.5608664 & -2.044284 & 0 &  49 & SRXN1, P....\\\\\n",
       "\t HALLMARK\\_MYC\\_TARGETS\\_V2                  & 0.0002667378 & 0.0006797727 & -0.7182201 & -2.699409 & 0 &  58 & HK2, GRW....\\\\\n",
       "\t HALLMARK\\_CHOLESTEROL\\_HOMEOSTASIS         & 0.0002753304 & 0.0006797727 & -0.5871234 & -2.303691 & 0 &  74 & FASN, TM....\\\\\n",
       "\t HALLMARK\\_INTERFERON\\_GAMMA\\_RESPONSE       & 0.0002788234 & 0.0006797727 &  0.4087558 &  1.692950 & 1 & 200 & SP110, S....\\\\\n",
       "\t HALLMARK\\_PROTEIN\\_SECRETION               & 0.0002901073 & 0.0006797727 & -0.5220325 & -2.140019 & 0 &  96 & IGF2R, T....\\\\\n",
       "\t HALLMARK\\_PEROXISOME                      & 0.0002919708 & 0.0006797727 & -0.4170924 & -1.731682 & 0 & 103 & SLC25A17....\\\\\n",
       "\\end{tabular}\n"
      ],
      "text/markdown": [
       "\n",
       "A data.table: 6 × 8\n",
       "\n",
       "| pathway &lt;chr&gt; | pval &lt;dbl&gt; | padj &lt;dbl&gt; | ES &lt;dbl&gt; | NES &lt;dbl&gt; | nMoreExtreme &lt;dbl&gt; | size &lt;int&gt; | leadingEdge &lt;list&gt; |\n",
       "|---|---|---|---|---|---|---|---|\n",
       "| HALLMARK_REACTIVE_OXYGEN_SPECIES_PATHWAY | 0.0002579979 | 0.0006797727 | -0.5608664 | -2.044284 | 0 |  49 | SRXN1, P.... |\n",
       "| HALLMARK_MYC_TARGETS_V2                  | 0.0002667378 | 0.0006797727 | -0.7182201 | -2.699409 | 0 |  58 | HK2, GRW.... |\n",
       "| HALLMARK_CHOLESTEROL_HOMEOSTASIS         | 0.0002753304 | 0.0006797727 | -0.5871234 | -2.303691 | 0 |  74 | FASN, TM.... |\n",
       "| HALLMARK_INTERFERON_GAMMA_RESPONSE       | 0.0002788234 | 0.0006797727 |  0.4087558 |  1.692950 | 1 | 200 | SP110, S.... |\n",
       "| HALLMARK_PROTEIN_SECRETION               | 0.0002901073 | 0.0006797727 | -0.5220325 | -2.140019 | 0 |  96 | IGF2R, T.... |\n",
       "| HALLMARK_PEROXISOME                      | 0.0002919708 | 0.0006797727 | -0.4170924 | -1.731682 | 0 | 103 | SLC25A17.... |\n",
       "\n"
      ],
      "text/plain": [
       "  pathway                                  pval         padj         ES        \n",
       "1 HALLMARK_REACTIVE_OXYGEN_SPECIES_PATHWAY 0.0002579979 0.0006797727 -0.5608664\n",
       "2 HALLMARK_MYC_TARGETS_V2                  0.0002667378 0.0006797727 -0.7182201\n",
       "3 HALLMARK_CHOLESTEROL_HOMEOSTASIS         0.0002753304 0.0006797727 -0.5871234\n",
       "4 HALLMARK_INTERFERON_GAMMA_RESPONSE       0.0002788234 0.0006797727  0.4087558\n",
       "5 HALLMARK_PROTEIN_SECRETION               0.0002901073 0.0006797727 -0.5220325\n",
       "6 HALLMARK_PEROXISOME                      0.0002919708 0.0006797727 -0.4170924\n",
       "  NES       nMoreExtreme size leadingEdge \n",
       "1 -2.044284 0             49  SRXN1, P....\n",
       "2 -2.699409 0             58  HK2, GRW....\n",
       "3 -2.303691 0             74  FASN, TM....\n",
       "4  1.692950 1            200  SP110, S....\n",
       "5 -2.140019 0             96  IGF2R, T....\n",
       "6 -1.731682 0            103  SLC25A17...."
      ]
     },
     "metadata": {},
     "output_type": "display_data"
    },
    {
     "data": {
      "image/png": "[encoded data removed]",
      "text/plain": [
       "plot without title"
      ]
     },
     "metadata": {
      "image/png": {
       "height": 420,
       "width": 420
      }
     },
     "output_type": "display_data"
    }
   ],
   "source": [
    "# z scores named numeric vector from earlier step\n",
    "# Remove NA and infinite values\n",
    "z_scores_clean <- z_scores[!is.na(z_scores) & is.finite(z_scores)]\n",
    "\n",
    "# sort in decreasing order\n",
    "ranked_genes <- sort(z_scores_clean, decreasing = TRUE)\n",
    "\n",
    "# hallmark gene sets \n",
    "msigdb_sets <- msigdbr(species = \"Homo sapiens\", category = \"H\")  # H = Hallmark\n",
    "\n",
    "# convert to list format\n",
    "pathways_list <- split(msigdb_sets$gene_symbol, msigdb_sets$gs_name)\n",
    "fgsea_res <- fgsea(pathways = pathways_list,\n",
    "                   stats = ranked_genes,\n",
    "                   minSize = 15,\n",
    "                   maxSize = 500,\n",
    "                   nperm = 10000)\n",
    "# sort by significance\n",
    "fgsea_res <- fgsea_res[order(fgsea_res$pval), ]\n",
    "\n",
    "# top hits\n",
    "head(fgsea_res)\n",
    "\n",
    "# plot top pathway\n",
    "plotEnrichment(pathways_list[[fgsea_res$pathway[1]]], ranked_genes) +\n",
    "  labs(title = fgsea_res$pathway[1])\n"
   ]
  },
  {
   "cell_type": "code",
   "execution_count": 29,
   "id": "27431cfc-0b5f-4ae9-9d58-6b134162b287",
   "metadata": {
    "tags": []
   },
   "outputs": [
    {
     "name": "stderr",
     "output_type": "stream",
     "text": [
      "Warning message in preparePathwaysAndStats(pathways, stats, minSize, maxSize, gseaParam, :\n",
      "“There are ties in the preranked stats (6.06% of the list).\n",
      "The order of those tied genes will be arbitrary, which may produce unexpected results.”\n",
      "Warning message in fgseaMultilevel(pathways = pathways_list, stats = ranks):\n",
      "“For some pathways, in reality P-values are less than 1e-50. You can set the `eps` argument to zero for better estimation.”\n"
     ]
    }
   ],
   "source": [
    "# take z scores from previous step and sort them, then get msigdb gene sets - hallmark paths\n",
    "ranks <- sort(z_scores_clean, decreasing = TRUE)\n",
    "pathways_df <- msigdbr(species = \"Homo sapiens\", category = \"H\")\n",
    "\n",
    "# convert them to a list\n",
    "pathways_list <- split(pathways_df$gene_symbol, pathways_df$gs_name)\n",
    "\n",
    "# multilevel fgsea\n",
    "fgsea_res <- fgseaMultilevel(pathways = pathways_list, stats = ranks)\n",
    "\n",
    "# sort by padj\n",
    "fgsea_res <- fgsea_res[order(fgsea_res$padj), ]\n",
    "\n",
    "# filter for enrichment\n",
    "fgsea_plot <- fgsea_res[abs(fgsea_res$NES) > 0.5, ]\n",
    "fgsea_plot <- fgsea_plot[order(fgsea_plot$NES), ]\n",
    "\n",
    "# create and save plot\n",
    "fgsea_plot$label <- paste0(fgsea_plot$pathway, \"\\n(padj=\", signif(fgsea_plot$padj, 2), \")\")\n",
    "my_plot <- ggplot(fgsea_plot, aes(x = reorder(pathway, NES), y = NES)) +\n",
    "  geom_col(aes(fill = padj < 0.05)) +\n",
    "  geom_text(aes(label = signif(padj, 2)), \n",
    "            hjust = -0.1,        \n",
    "            size = 3, \n",
    "            color = \"black\") +\n",
    "  coord_flip(clip = \"off\") +  \n",
    "  labs(x = \"Pathway\", y = \"Normalized Enrichment Score (NES)\",\n",
    "       title = \"FGSEA: Patient pre-treatment vs CIC-DUX4 cohort\") +\n",
    "  theme_minimal() +\n",
    "  theme(\n",
    "    legend.position = \"none\",\n",
    "    plot.margin = margin(5.5, 40, 5.5, 5.5) \n",
    "  )\n",
    "# save plot\n",
    "ggsave(\"/lustre/scratch126/cellgen/behjati/lr26/RNA/fgsea_zscores_patient_FO_vs_cic_swissitaly.pdf\", my_plot,\n",
    "       width = 10, height = 8, device = cairo_pdf, dpi = 300)"
   ]
  },
  {
   "cell_type": "code",
   "execution_count": 30,
   "id": "bcb856d3-f774-4b13-8e3e-ccba5e00ff7d",
   "metadata": {
    "tags": []
   },
   "outputs": [
    {
     "data": {
      "text/html": [
       "2239"
      ],
      "text/latex": [
       "2239"
      ],
      "text/markdown": [
       "2239"
      ],
      "text/plain": [
       "[1] 2239"
      ]
     },
     "metadata": {},
     "output_type": "display_data"
    },
    {
     "data": {
      "text/html": [
       "<table class=\"dataframe\">\n",
       "<caption>A data.frame: 6 × 3</caption>\n",
       "<thead>\n",
       "\t<tr><th></th><th scope=col>gene</th><th scope=col>zscore</th><th scope=col>p_adj</th></tr>\n",
       "\t<tr><th></th><th scope=col>&lt;chr&gt;</th><th scope=col>&lt;dbl&gt;</th><th scope=col>&lt;dbl&gt;</th></tr>\n",
       "</thead>\n",
       "<tbody>\n",
       "\t<tr><th scope=row>AACS</th><td>AACS  </td><td>-5.408379</td><td>6.221809e-06</td></tr>\n",
       "\t<tr><th scope=row>AASS</th><td>AASS  </td><td> 3.858603</td><td>3.616795e-03</td></tr>\n",
       "\t<tr><th scope=row>ABCA10</th><td>ABCA10</td><td> 3.187999</td><td>2.608177e-02</td></tr>\n",
       "\t<tr><th scope=row>ABCA3</th><td>ABCA3 </td><td>-4.732918</td><td>1.303020e-04</td></tr>\n",
       "\t<tr><th scope=row>ABCB4</th><td>ABCB4 </td><td> 3.859760</td><td>3.613869e-03</td></tr>\n",
       "\t<tr><th scope=row>ABCB9</th><td>ABCB9 </td><td> 4.883744</td><td>6.949806e-05</td></tr>\n",
       "</tbody>\n",
       "</table>\n"
      ],
      "text/latex": [
       "A data.frame: 6 × 3\n",
       "\\begin{tabular}{r|lll}\n",
       "  & gene & zscore & p\\_adj\\\\\n",
       "  & <chr> & <dbl> & <dbl>\\\\\n",
       "\\hline\n",
       "\tAACS & AACS   & -5.408379 & 6.221809e-06\\\\\n",
       "\tAASS & AASS   &  3.858603 & 3.616795e-03\\\\\n",
       "\tABCA10 & ABCA10 &  3.187999 & 2.608177e-02\\\\\n",
       "\tABCA3 & ABCA3  & -4.732918 & 1.303020e-04\\\\\n",
       "\tABCB4 & ABCB4  &  3.859760 & 3.613869e-03\\\\\n",
       "\tABCB9 & ABCB9  &  4.883744 & 6.949806e-05\\\\\n",
       "\\end{tabular}\n"
      ],
      "text/markdown": [
       "\n",
       "A data.frame: 6 × 3\n",
       "\n",
       "| <!--/--> | gene &lt;chr&gt; | zscore &lt;dbl&gt; | p_adj &lt;dbl&gt; |\n",
       "|---|---|---|---|\n",
       "| AACS | AACS   | -5.408379 | 6.221809e-06 |\n",
       "| AASS | AASS   |  3.858603 | 3.616795e-03 |\n",
       "| ABCA10 | ABCA10 |  3.187999 | 2.608177e-02 |\n",
       "| ABCA3 | ABCA3  | -4.732918 | 1.303020e-04 |\n",
       "| ABCB4 | ABCB4  |  3.859760 | 3.613869e-03 |\n",
       "| ABCB9 | ABCB9  |  4.883744 | 6.949806e-05 |\n",
       "\n"
      ],
      "text/plain": [
       "       gene   zscore    p_adj       \n",
       "AACS   AACS   -5.408379 6.221809e-06\n",
       "AASS   AASS    3.858603 3.616795e-03\n",
       "ABCA10 ABCA10  3.187999 2.608177e-02\n",
       "ABCA3  ABCA3  -4.732918 1.303020e-04\n",
       "ABCB4  ABCB4   3.859760 3.613869e-03\n",
       "ABCB9  ABCB9   4.883744 6.949806e-05"
      ]
     },
     "metadata": {},
     "output_type": "display_data"
    }
   ],
   "source": [
    "# filter significant genes by adjusted p value threshold\n",
    "significant_genes <- names(p_adj)[p_adj < 0.05]\n",
    "length(significant_genes) \n",
    "\n",
    "# df with the gene info viewing the top rows\n",
    "sig_genes_df <- data.frame(\n",
    "  gene = significant_genes,\n",
    "  zscore = z_scores[significant_genes],\n",
    "  p_adj = p_adj[significant_genes]\n",
    ")\n",
    "head(sig_genes_df)\n",
    "# saving significant genes to a csv\n",
    "write.csv(sig_genes_df, \"/lustre/scratch126/cellgen/behjati/lr26/RNA/significant_genes_patient_Fo.csv\", row.names = FALSE)"
   ]
  },
  {
   "cell_type": "code",
   "execution_count": 31,
   "id": "9c742a3d-3693-41a4-8f9b-cf0f1dddd2bf",
   "metadata": {
    "tags": []
   },
   "outputs": [],
   "source": [
    "# here I am taking the top genes and seeing in which of the pathways they are\n",
    "top_pathways <- head(fgsea_res$pathway[order(fgsea_res$padj)], 10)\n",
    "leading_genes_list <- fgsea_res$leadingEdge[fgsea_res$pathway %in% top_pathways]\n",
    "names(leading_genes_list) <- top_pathways\n",
    "\n",
    "# saving all leading edge genes for top pathways\n",
    "for (pw in top_pathways) {\n",
    "  genes <- leading_genes_list[[pw]]\n",
    "  write.csv(data.frame(gene = genes), paste0(\"/lustre/scratch126/cellgen/behjati/lr26/RNA/\", pw, \"_leadingEdge_genes_Fo.csv\"), row.names = FALSE)\n",
    "}\n"
   ]
  },
  {
   "cell_type": "code",
   "execution_count": 32,
   "id": "bf46e707-a5b1-4408-a7c7-59fdd7aa875f",
   "metadata": {
    "tags": []
   },
   "outputs": [],
   "source": [
    "# I would like to see how many of the genes in the pathway that was enriched are actually present significantly expressed\n",
    "# e.g. what is the overlap of the genes expressed with the pathway\n",
    "top_genes <- significant_genes  # just gene names\n",
    "\n",
    "overlap_summary <- list()\n",
    "\n",
    "for (pw in names(leading_genes_list)) {\n",
    "  leading_genes <- leading_genes_list[[pw]]\n",
    "  \n",
    "  overlap_genes <- intersect(top_genes, leading_genes)\n",
    "  overlap_z <- z_scores[overlap_genes]\n",
    "  \n",
    "  overlap_summary[[pw]] <- data.frame(\n",
    "    pathway = pw,\n",
    "    num_leading = length(leading_genes),\n",
    "    num_overlap = length(overlap_genes),\n",
    "    sum_abs_z = sum(abs(overlap_z), na.rm = TRUE),\n",
    "    mean_abs_z = mean(abs(overlap_z), na.rm = TRUE),\n",
    "    genes_overlap = if(length(overlap_genes) > 0) paste(overlap_genes, collapse = \", \") else NA_character_\n",
    "  )\n",
    "}\n",
    "\n",
    "overlap_df <- do.call(rbind, overlap_summary)\n",
    "overlap_df <- overlap_df[order(-overlap_df$num_overlap), ]\n",
    "\n",
    "write.csv(overlap_df, \"/lustre/scratch126/cellgen/behjati/lr26/RNA/significant_genes_and_pathways_patient_Fo.csv\", row.names = FALSE)"
   ]
  },
  {
   "cell_type": "code",
   "execution_count": 35,
   "id": "e78b34c1-f18d-4992-bbc4-2b7437fb2c03",
   "metadata": {
    "tags": []
   },
   "outputs": [
    {
     "name": "stderr",
     "output_type": "stream",
     "text": [
      "── \u001b[1mAttaching core tidyverse packages\u001b[22m ──────────────────────── tidyverse 2.0.0 ──\n",
      "\u001b[32m✔\u001b[39m \u001b[34mdplyr    \u001b[39m 1.1.4     \u001b[32m✔\u001b[39m \u001b[34mstringr  \u001b[39m 1.5.1\n",
      "\u001b[32m✔\u001b[39m \u001b[34mforcats  \u001b[39m 1.0.0     \u001b[32m✔\u001b[39m \u001b[34mtibble   \u001b[39m 3.2.1\n",
      "\u001b[32m✔\u001b[39m \u001b[34mlubridate\u001b[39m 1.9.4     \u001b[32m✔\u001b[39m \u001b[34mtidyr    \u001b[39m 1.3.1\n",
      "\u001b[32m✔\u001b[39m \u001b[34mpurrr    \u001b[39m 1.0.4     \n",
      "── \u001b[1mConflicts\u001b[22m ────────────────────────────────────────── tidyverse_conflicts() ──\n",
      "\u001b[31m✖\u001b[39m \u001b[34mlubridate\u001b[39m::\u001b[32m%within%()\u001b[39m    masks \u001b[34mIRanges\u001b[39m::%within%()\n",
      "\u001b[31m✖\u001b[39m \u001b[34mdplyr\u001b[39m::\u001b[32mcollapse()\u001b[39m        masks \u001b[34mIRanges\u001b[39m::collapse()\n",
      "\u001b[31m✖\u001b[39m \u001b[34mdplyr\u001b[39m::\u001b[32mcombine()\u001b[39m         masks \u001b[34mBiobase\u001b[39m::combine(), \u001b[34mBiocGenerics\u001b[39m::combine()\n",
      "\u001b[31m✖\u001b[39m \u001b[34mdplyr\u001b[39m::\u001b[32mcount()\u001b[39m           masks \u001b[34mmatrixStats\u001b[39m::count()\n",
      "\u001b[31m✖\u001b[39m \u001b[34mdplyr\u001b[39m::\u001b[32mdesc()\u001b[39m            masks \u001b[34mIRanges\u001b[39m::desc()\n",
      "\u001b[31m✖\u001b[39m \u001b[34mtidyr\u001b[39m::\u001b[32mexpand()\u001b[39m          masks \u001b[34mS4Vectors\u001b[39m::expand()\n",
      "\u001b[31m✖\u001b[39m \u001b[34mdplyr\u001b[39m::\u001b[32mfilter()\u001b[39m          masks \u001b[34mstats\u001b[39m::filter()\n",
      "\u001b[31m✖\u001b[39m \u001b[34mdplyr\u001b[39m::\u001b[32mfirst()\u001b[39m           masks \u001b[34mS4Vectors\u001b[39m::first()\n",
      "\u001b[31m✖\u001b[39m \u001b[34mdplyr\u001b[39m::\u001b[32mlag()\u001b[39m             masks \u001b[34mstats\u001b[39m::lag()\n",
      "\u001b[31m✖\u001b[39m \u001b[34mBiocGenerics\u001b[39m::\u001b[32mPosition()\u001b[39m masks \u001b[34mggplot2\u001b[39m::Position(), \u001b[34mbase\u001b[39m::Position()\n",
      "\u001b[31m✖\u001b[39m \u001b[34mpurrr\u001b[39m::\u001b[32mreduce()\u001b[39m          masks \u001b[34mGenomicRanges\u001b[39m::reduce(), \u001b[34mIRanges\u001b[39m::reduce()\n",
      "\u001b[31m✖\u001b[39m \u001b[34mdplyr\u001b[39m::\u001b[32mrename()\u001b[39m          masks \u001b[34mS4Vectors\u001b[39m::rename()\n",
      "\u001b[31m✖\u001b[39m \u001b[34mlubridate\u001b[39m::\u001b[32msecond()\u001b[39m      masks \u001b[34mS4Vectors\u001b[39m::second()\n",
      "\u001b[31m✖\u001b[39m \u001b[34mlubridate\u001b[39m::\u001b[32msecond<-()\u001b[39m    masks \u001b[34mS4Vectors\u001b[39m::second<-()\n",
      "\u001b[31m✖\u001b[39m \u001b[34mdplyr\u001b[39m::\u001b[32mselect()\u001b[39m          masks \u001b[34mAnnotationDbi\u001b[39m::select()\n",
      "\u001b[31m✖\u001b[39m \u001b[34mdplyr\u001b[39m::\u001b[32mslice()\u001b[39m           masks \u001b[34mIRanges\u001b[39m::slice()\n",
      "\u001b[36mℹ\u001b[39m Use the conflicted package (\u001b[3m\u001b[34m<http://conflicted.r-lib.org/>\u001b[39m\u001b[23m) to force all conflicts to become errors\n"
     ]
    },
    {
     "data": {
      "image/png": "[encoded data removed]",
      "text/plain": [
       "plot without title"
      ]
     },
     "metadata": {
      "image/png": {
       "height": 420,
       "width": 420
      }
     },
     "output_type": "display_data"
    }
   ],
   "source": [
    "# here I am taking genes of interest, filtering for them in the vst matrix and then extracting their expression\n",
    "genes_of_interest <- c(\"CIC\", \"DUX4\", \"MYOD1\", \"ETV1\", \"ETV4\", \n",
    "                       \"ETV5\", \"MKI67\", \"CEBPA\", \"SPRY4\",\n",
    "                       \"MCM2\", \"E2F2\", \"PLK1\", \"KIF15\", \"IL1A\", \"KLK8\",\n",
    "                       \"RAD54L\", \"CIDEA\", \"IL6\", \"CIDEC\", \"MTSS1\",\n",
    "                       \"DUSP4\", \"POLE\", \"IGF2\", \"VCAN\", \"FOXC2\",\n",
    "                       \"VGF\", \"SHISA2\", \"CCNE1\", \"STK32C\", \"CCND1\")\n",
    "\n",
    "genes_to_use <- genes_of_interest[genes_of_interest %in% rownames(vst_mat)]\n",
    "cohort_expr <- vst_mat[genes_to_use, is_cic_dux4, drop = FALSE]\n",
    "patient_expr <- vst_mat[genes_to_use, patient_id, drop = FALSE]\n",
    "\n",
    "# expression for the patient and the cohort and computing the mean and standard deviation in the cohort\n",
    "cohort_mean <- rowMeans(cohort_expr)\n",
    "cohort_sd <- apply(cohort_expr, 1, sd)\n",
    "\n",
    "# patient vector\n",
    "patient_vec <- as.numeric(patient_expr)\n",
    "names(patient_vec) <- rownames(patient_expr)\n",
    "\n",
    "# z scores, p values and adjustment for the patient, using cohort mean and sd\n",
    "z_scores <- (patient_vec - cohort_mean) / cohort_sd\n",
    "p_values <- 2 * pnorm(-abs(z_scores))\n",
    "p_adj <- p.adjust(p_values, method = \"BH\")\n",
    "\n",
    "# summary dataframe for plotting\n",
    "result_df <- data.frame(\n",
    "  gene = names(z_scores),\n",
    "  patient_expr = patient_vec,\n",
    "  cohort_mean = cohort_mean,\n",
    "  cohort_sd = cohort_sd,\n",
    "  z_score = z_scores,\n",
    "  p_value = p_values,\n",
    "  p_adj = p_adj,\n",
    "  signif_label = ifelse(p_adj < 0.05, \"*\", \"\")\n",
    ")\n",
    "\n",
    "# pivot for gg plot\n",
    "plot_df <- result_df %>%\n",
    "  pivot_longer(cols = c(\"patient_expr\", \"cohort_mean\"),\n",
    "               names_to = \"sample_type\", values_to = \"expression\") %>%\n",
    "  mutate(sample_type = recode(sample_type,\n",
    "                              patient_expr = \"Patient\",\n",
    "                              cohort_mean = \"CIC-DUX4 cohort mean\"))\n",
    "\n",
    "# plot with significance stars\n",
    "ggplot(plot_df, aes(x = reorder(gene, expression), y = expression, fill = sample_type)) +\n",
    "  geom_col(position = position_dodge(width = 0.8), width = 0.7) +\n",
    "  geom_errorbar(\n",
    "  aes(x = gene, ymin = cohort_mean - cohort_sd, ymax = cohort_mean + cohort_sd),\n",
    "  data = result_df,\n",
    "  width = 0.3,\n",
    "  position = position_dodge(width = 0.8),\n",
    "  inherit.aes = FALSE\n",
    "  ) +\n",
    "  geom_text(\n",
    "    data = result_df,\n",
    "    aes(x = gene, y = pmax(patient_expr, cohort_mean) + (cohort_sd) + 0.5, label = signif_label),\n",
    "    inherit.aes = FALSE,\n",
    "    size = 6,\n",
    "    color = \"red\"\n",
    "  ) +\n",
    "  coord_flip() +\n",
    "  labs(\n",
    "    title = \"Gene Expression: Patient pre-treatment vs CIC-DUX cohort\",\n",
    "    x = \"Gene\",\n",
    "    y = \"VST-normalized expression\",\n",
    "    fill = \"Sample Type\"\n",
    "  ) +\n",
    "  theme_minimal()\n",
    "\n",
    "# save plot\n",
    "ggsave(\"/lustre/scratch126/cellgen/behjati/lr26/RNA/significant_genes_cicdux_vs_ourpatientFoithStars.pdf\",\n",
    "       width = 7, height = 6)"
   ]
  },
  {
   "cell_type": "markdown",
   "id": "5824da46-edaf-4c1d-9b1b-1e9df3d98e16",
   "metadata": {},
   "source": [
    "### I would have run the previous cells for the FT sample and the combined sample as well - e.g. gene expression, pathway enrichment (fgsea)."
   ]
  },
  {
   "cell_type": "code",
   "execution_count": 133,
   "id": "69669c63-3bd4-4ddb-8c8d-582044ce4cd5",
   "metadata": {
    "tags": []
   },
   "outputs": [
    {
     "name": "stdout",
     "output_type": "stream",
     "text": [
      " [1] \"A1BG\"        \"A1BG-AS1\"    \"A1CF\"        \"A2M\"         \"A2M-AS1\"    \n",
      " [6] \"A2ML1\"       \"A2ML1-AS1\"   \"A3GALT2\"     \"A4GALT\"      \"A4GNT\"      \n",
      "[11] \"AAAS\"        \"AACS\"        \"AADAC\"       \"AADACL2\"     \"AADACL2-AS1\"\n",
      "[16] \"AADACL4\"     \"AADAT\"       \"AAGAB\"       \"AAK1\"        \"AAMDC\"      \n",
      "[21] \"AAMP\"        \"AANAT\"       \"AAR2\"        \"AARD\"        \"AARS1\"      \n",
      "[26] \"AARS2\"       \"AARSD1\"      \"AASDH\"       \"AASDHPPT\"    \"AASS\"       \n",
      "[31] \"AATBC\"       \"AATF\"        \"AATK\"        \"ABALON\"      \"ABAT\"       \n",
      "[36] \"ABCA1\"       \"ABCA10\"      \"ABCA12\"      \"ABCA13\"      \"ABCA2\"      \n",
      "[41] \"ABCA3\"       \"ABCA4\"       \"ABCA5\"       \"ABCA6\"       \"ABCA7\"      \n",
      "[46] \"ABCA8\"       \"ABCA9\"       \"ABCA9-AS1\"   \"ABCB1\"       \"ABCB10\"     \n"
     ]
    },
    {
     "data": {
      "text/html": [
       "<style>\n",
       ".list-inline {list-style: none; margin:0; padding: 0}\n",
       ".list-inline>li {display: inline-block}\n",
       ".list-inline>li:not(:last-child)::after {content: \"\\00b7\"; padding: 0 .5ex}\n",
       "</style>\n",
       "<ol class=list-inline><li>'ABHD16B'</li><li>'LOC105370974'</li><li>'SYCP1'</li><li>'LOC124905025'</li><li>'GCSAML-AS1'</li><li>'LOC128966685'</li><li>'SLX1B-SULT1A4'</li><li>'KIFC1'</li><li>'NR4A1AS'</li><li>'CSAG2'</li><li>'ANKRD30A'</li><li>'TEDC2'</li><li>'LOC100128002'</li><li>'LINC00993'</li><li>'CERS1'</li><li>'LOC100996696'</li><li>'LINC00882'</li><li>'NCAPH'</li><li>'KIF15'</li><li>'MCM10'</li><li>'UHRF1'</li><li>'ORC1'</li><li>'SPAG5'</li><li>'C14orf28'</li><li>'NSD2'</li><li>'RCOR3'</li><li>'CBX2'</li><li>'TREX2'</li><li>'TPX2'</li><li>'AUNIP'</li><li>'LOC93429'</li><li>'UTF1'</li><li>'E2F8'</li><li>'PLIN1'</li><li>'PIMREG'</li><li>'MYBL2'</li><li>'IGF2BP3'</li><li>'LOC124906725'</li><li>'BUB1B'</li><li>'HROB'</li><li>'CBS'</li><li>'HSD11B1-AS1'</li><li>'HASPIN'</li><li>'ARL13B'</li><li>'OBP2A'</li><li>'GCKR'</li><li>'TCIRG1'</li><li>'CAHM'</li><li>'ARHGAP11A'</li><li>'LOC101928230'</li></ol>\n"
      ],
      "text/latex": [
       "\\begin{enumerate*}\n",
       "\\item 'ABHD16B'\n",
       "\\item 'LOC105370974'\n",
       "\\item 'SYCP1'\n",
       "\\item 'LOC124905025'\n",
       "\\item 'GCSAML-AS1'\n",
       "\\item 'LOC128966685'\n",
       "\\item 'SLX1B-SULT1A4'\n",
       "\\item 'KIFC1'\n",
       "\\item 'NR4A1AS'\n",
       "\\item 'CSAG2'\n",
       "\\item 'ANKRD30A'\n",
       "\\item 'TEDC2'\n",
       "\\item 'LOC100128002'\n",
       "\\item 'LINC00993'\n",
       "\\item 'CERS1'\n",
       "\\item 'LOC100996696'\n",
       "\\item 'LINC00882'\n",
       "\\item 'NCAPH'\n",
       "\\item 'KIF15'\n",
       "\\item 'MCM10'\n",
       "\\item 'UHRF1'\n",
       "\\item 'ORC1'\n",
       "\\item 'SPAG5'\n",
       "\\item 'C14orf28'\n",
       "\\item 'NSD2'\n",
       "\\item 'RCOR3'\n",
       "\\item 'CBX2'\n",
       "\\item 'TREX2'\n",
       "\\item 'TPX2'\n",
       "\\item 'AUNIP'\n",
       "\\item 'LOC93429'\n",
       "\\item 'UTF1'\n",
       "\\item 'E2F8'\n",
       "\\item 'PLIN1'\n",
       "\\item 'PIMREG'\n",
       "\\item 'MYBL2'\n",
       "\\item 'IGF2BP3'\n",
       "\\item 'LOC124906725'\n",
       "\\item 'BUB1B'\n",
       "\\item 'HROB'\n",
       "\\item 'CBS'\n",
       "\\item 'HSD11B1-AS1'\n",
       "\\item 'HASPIN'\n",
       "\\item 'ARL13B'\n",
       "\\item 'OBP2A'\n",
       "\\item 'GCKR'\n",
       "\\item 'TCIRG1'\n",
       "\\item 'CAHM'\n",
       "\\item 'ARHGAP11A'\n",
       "\\item 'LOC101928230'\n",
       "\\end{enumerate*}\n"
      ],
      "text/markdown": [
       "1. 'ABHD16B'\n",
       "2. 'LOC105370974'\n",
       "3. 'SYCP1'\n",
       "4. 'LOC124905025'\n",
       "5. 'GCSAML-AS1'\n",
       "6. 'LOC128966685'\n",
       "7. 'SLX1B-SULT1A4'\n",
       "8. 'KIFC1'\n",
       "9. 'NR4A1AS'\n",
       "10. 'CSAG2'\n",
       "11. 'ANKRD30A'\n",
       "12. 'TEDC2'\n",
       "13. 'LOC100128002'\n",
       "14. 'LINC00993'\n",
       "15. 'CERS1'\n",
       "16. 'LOC100996696'\n",
       "17. 'LINC00882'\n",
       "18. 'NCAPH'\n",
       "19. 'KIF15'\n",
       "20. 'MCM10'\n",
       "21. 'UHRF1'\n",
       "22. 'ORC1'\n",
       "23. 'SPAG5'\n",
       "24. 'C14orf28'\n",
       "25. 'NSD2'\n",
       "26. 'RCOR3'\n",
       "27. 'CBX2'\n",
       "28. 'TREX2'\n",
       "29. 'TPX2'\n",
       "30. 'AUNIP'\n",
       "31. 'LOC93429'\n",
       "32. 'UTF1'\n",
       "33. 'E2F8'\n",
       "34. 'PLIN1'\n",
       "35. 'PIMREG'\n",
       "36. 'MYBL2'\n",
       "37. 'IGF2BP3'\n",
       "38. 'LOC124906725'\n",
       "39. 'BUB1B'\n",
       "40. 'HROB'\n",
       "41. 'CBS'\n",
       "42. 'HSD11B1-AS1'\n",
       "43. 'HASPIN'\n",
       "44. 'ARL13B'\n",
       "45. 'OBP2A'\n",
       "46. 'GCKR'\n",
       "47. 'TCIRG1'\n",
       "48. 'CAHM'\n",
       "49. 'ARHGAP11A'\n",
       "50. 'LOC101928230'\n",
       "\n",
       "\n"
      ],
      "text/plain": [
       " [1] \"ABHD16B\"       \"LOC105370974\"  \"SYCP1\"         \"LOC124905025\" \n",
       " [5] \"GCSAML-AS1\"    \"LOC128966685\"  \"SLX1B-SULT1A4\" \"KIFC1\"        \n",
       " [9] \"NR4A1AS\"       \"CSAG2\"         \"ANKRD30A\"      \"TEDC2\"        \n",
       "[13] \"LOC100128002\"  \"LINC00993\"     \"CERS1\"         \"LOC100996696\" \n",
       "[17] \"LINC00882\"     \"NCAPH\"         \"KIF15\"         \"MCM10\"        \n",
       "[21] \"UHRF1\"         \"ORC1\"          \"SPAG5\"         \"C14orf28\"     \n",
       "[25] \"NSD2\"          \"RCOR3\"         \"CBX2\"          \"TREX2\"        \n",
       "[29] \"TPX2\"          \"AUNIP\"         \"LOC93429\"      \"UTF1\"         \n",
       "[33] \"E2F8\"          \"PLIN1\"         \"PIMREG\"        \"MYBL2\"        \n",
       "[37] \"IGF2BP3\"       \"LOC124906725\"  \"BUB1B\"         \"HROB\"         \n",
       "[41] \"CBS\"           \"HSD11B1-AS1\"   \"HASPIN\"        \"ARL13B\"       \n",
       "[45] \"OBP2A\"         \"GCKR\"          \"TCIRG1\"        \"CAHM\"         \n",
       "[49] \"ARHGAP11A\"     \"LOC101928230\" "
      ]
     },
     "metadata": {},
     "output_type": "display_data"
    }
   ],
   "source": [
    "# combine by averaging their expression\n",
    "vst_data <- vst(ddds, blind = TRUE)\n",
    "vst_mat <- assay(vst_data)\n",
    "patient_id <- c(\"our_patient\", \"our_patient_FO\")\n",
    "\n",
    "# safe matching by sample names\n",
    "cond <- colData(vst_data)$Condition\n",
    "sample_names <- colnames(vst_mat)\n",
    "\n",
    "is_cic_dux4 <- cond == \"CIC-DUX4 sarcoma\" & sample_names != patient_id\n",
    "\n",
    "# subset\n",
    "cic_dux4_mat <- vst_mat[, is_cic_dux4]\n",
    "patient_vec_combined <- rowMeans(vst_mat[, patient_id]) \n",
    "\n",
    "# compute mean and sd for the cic dux4 reference group\n",
    "gene_sd <- apply(cic_dux4_mat, 1, sd)\n",
    "gene_mean <- rowMeans(cic_dux4_mat)\n",
    "\n",
    "# avoid division by zero\n",
    "valid_genes <- gene_sd != 0\n",
    "\n",
    "# z score for combined patient profile\n",
    "z_scores <- (patient_vec_combined[valid_genes] - gene_mean[valid_genes]) / gene_sd[valid_genes]\n",
    "\n",
    "# gene names\n",
    "names(z_scores) <- rownames(vst_mat)[valid_genes]\n",
    "\n",
    "# two sided p values and adjustment \n",
    "p_values <- 2 * pnorm(-abs(z_scores))\n",
    "p_adj <- p.adjust(p_values, method = \"BH\")\n",
    "names(p_adj) <- names(z_scores)\n",
    "\n",
    "# top genes by significance\n",
    "top_n <- min(50, length(p_adj))\n",
    "top_genes <- names(sort(p_adj))[1:top_n]\n",
    "\n",
    "# top genes by magnitude of z score\n",
    "top_var_genes <- head(sort(abs(z_scores), decreasing = TRUE), 50)\n",
    "\n",
    "# output\n",
    "print(top_genes)\n",
    "names(top_var_genes)"
   ]
  }
 ],
 "metadata": {
  "kernelspec": {
   "display_name": "RNA R",
   "language": "R",
   "name": "rna-r"
  },
  "language_info": {
   "codemirror_mode": "r",
   "file_extension": ".r",
   "mimetype": "text/x-r-source",
   "name": "R",
   "pygments_lexer": "r",
   "version": "4.3.3"
  }
 },
 "nbformat": 4,
 "nbformat_minor": 5
}
