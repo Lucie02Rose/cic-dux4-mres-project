{
 "cells": [
  {
   "cell_type": "markdown",
   "id": "66afef4c",
   "metadata": {},
   "source": [
    "## This notebook is for filtering COSMIC variants \n",
    "This has been done for the annotated somatic tumor aligned to the hg38 reference"
   ]
  },
  {
   "cell_type": "code",
   "execution_count": null,
   "id": "858b2d5e",
   "metadata": {},
   "outputs": [],
   "source": [
    "# import packages\n",
    "import pandas as pd"
   ]
  },
  {
   "cell_type": "code",
   "execution_count": null,
   "id": "7622652b",
   "metadata": {},
   "outputs": [],
   "source": [
    "## load the vcf upon decompressing it as a dataframe and name columns accordingly\n",
    "df = pd.read_csv(\"/lustre/scratch126/casm/team274sb/lr26/PacBio-deepvariant-tumor-hg38/annotated_tumor_somatic_cosmic_new38.vcf\",\n",
    "                 sep=\"\\t\",\n",
    "                 comment=\"#\",\n",
    "                 dtype=\"str\",\n",
    "                 header=None,\n",
    "                 names=[\"chr\",\"pos\",\"id\",\"ref\",\"alt\",\"qual\",\"filter\",\"info\",\"format\",\"sample\"])"
   ]
  },
  {
   "cell_type": "code",
   "execution_count": null,
   "id": "bf29fd44-838a-4f42-b131-c16e26c095b1",
   "metadata": {
    "tags": []
   },
   "outputs": [
    {
     "name": "stdout",
     "output_type": "stream",
     "text": [
      "INFO field of first variant:\n",
      ".\n"
     ]
    }
   ],
   "source": [
    "# print out info of the first variant - see that it is empty and create a copy of the dataframe\n",
    "print(\"INFO field of first variant:\")\n",
    "print(df.loc[0, \"info\"])\n",
    "df_filtered = df.copy()"
   ]
  },
  {
   "cell_type": "code",
   "execution_count": null,
   "id": "52d4d1e1-9920-44db-9bf2-af8228489337",
   "metadata": {
    "tags": []
   },
   "outputs": [],
   "source": [
    "### here are the main parsing functions\n",
    "def parse_sample_format(format_str, sample_str):\n",
    "    \"\"\"\n",
    "    Parses format and sample fields of a vcf into a dict\n",
    "    handles numeric parsing and multiallelic values\n",
    "    \"\"\"\n",
    "    keys = format_str.split(\":\")\n",
    "    values = sample_str.split(\":\")\n",
    "    sample_dict = dict(zip(keys, values))\n",
    "\n",
    "    # this parses genotype\n",
    "    sample_dict[\"GT\"] = sample_dict.get(\"GT\", \"\")\n",
    "\n",
    "    # this parses depth, if not present put 0\n",
    "    try:\n",
    "        sample_dict[\"DP\"] = int(sample_dict.get(\"DP\", 0))\n",
    "    except ValueError:\n",
    "        sample_dict[\"DP\"] = 0\n",
    "\n",
    "    # this parses allele depth depending on whether there are more, split into a list\n",
    "    ad_val = sample_dict.get(\"AD\", \"0\")\n",
    "    if \",\" in ad_val:\n",
    "        try:\n",
    "            ad_list = [int(a) for a in ad_val.split(\",\") if a.isdigit()]\n",
    "            sample_dict[\"AD\"] = sum(ad_list[1:])  # Only alternative allele depth(s)\n",
    "        except:\n",
    "            sample_dict[\"AD\"] = 0\n",
    "    else:\n",
    "        sample_dict[\"AD\"] = int(ad_val) if ad_val.isdigit() else 0\n",
    "\n",
    "    # this parses vafs by talking the maximal one else 0\n",
    "    vaf_val = sample_dict.get(\"VAF\", \"0.0\")\n",
    "    try:\n",
    "        if \",\" in vaf_val:\n",
    "            vaf_list = [float(v) for v in vaf_val.split(\",\") if v]\n",
    "            sample_dict[\"VAF\"] = max(vaf_list) if vaf_list else 0.0\n",
    "        else:\n",
    "            sample_dict[\"VAF\"] = float(vaf_val)\n",
    "    except:\n",
    "        sample_dict[\"VAF\"] = 0.0\n",
    "\n",
    "    return sample_dict\n",
    "\n",
    "# here I divide genotypes into homozygous and heterozygous based on their equality\n",
    "# for multiallelic we put unknown because there is likely a copy number change or is weird\n",
    "def get_genotype_from_GT(gt_str):\n",
    "    \"\"\"\n",
    "    Determines genotype type based on GT field\n",
    "    \"\"\"\n",
    "    alleles = gt_str.replace('|', '/').split('/')\n",
    "    if len(alleles) == 2:\n",
    "        if alleles[0] == alleles[1]:\n",
    "            return \"homozygous\"\n",
    "        else:\n",
    "            return \"heterozygous\"\n",
    "    return \"unknown\"\n",
    "\n",
    "# we format into the dictionary\n",
    "def extract_gt(sample_str, format_str):\n",
    "    keys = format_str.split(\":\")\n",
    "    values = sample_str.split(\":\")\n",
    "    format_dict = dict(zip(keys, values))\n",
    "    gt = format_dict.get(\"GT\", \"\")\n",
    "    return get_genotype_from_GT(gt)\n",
    "\n",
    "# variant filtering based on values used in previous projects\n",
    "def filter_variant_by_sample(sample_dict, min_dp=10, min_ad=3, min_vaf=0.1):\n",
    "    \"\"\"\n",
    "    Apply basic quality filters on depth, allele depth, and VAF\n",
    "    \"\"\"\n",
    "    dp = sample_dict.get(\"DP\", 0)\n",
    "    ad = sample_dict.get(\"AD\", 0)\n",
    "    vaf = sample_dict.get(\"VAF\", 0.0)\n",
    "    \n",
    "    return (dp >= min_dp) and (ad >= min_ad) and (vaf >= min_vaf)\n",
    "\n",
    "# here get the cosmic annotation into the dictionary\n",
    "def get_cosmic_annotation(info_str):\n",
    "    \"\"\"\n",
    "    parses COSMIC INFO field and returns a dictionary of annotations\n",
    "    assumes the INFO string is formatted using the ; separator\n",
    "    \"\"\"\n",
    "    info_dict = {}\n",
    "    for entry in info_str.split(\";\"):\n",
    "        if \"=\" in entry:\n",
    "            key, value = entry.split(\"=\", 1)\n",
    "            info_dict[key] = value\n",
    "    return info_dict\n",
    "\n",
    "# here get gene annotation \n",
    "def extract_gene(annotation):\n",
    "    return annotation.get(\"GENE_SYMBOL\")\n",
    "# here get protein position and mutation \n",
    "def extract_protein_position(annotation):\n",
    "    return annotation.get(\"MUTATION_AA\")\n",
    "# here get the mutation description \n",
    "def extract_mutation_description(annotation):\n",
    "    return annotation.get(\"MUTATION_DESCRIPTION\") or annotation.get(\"rsid\")\n"
   ]
  },
  {
   "cell_type": "code",
   "execution_count": null,
   "id": "018213d6-824c-4b51-9d8a-2317f8c72604",
   "metadata": {
    "tags": []
   },
   "outputs": [],
   "source": [
    "# extract the sample info\n",
    "df_filtered[\"sample_info\"] = df_filtered.apply(lambda row: parse_sample_format(row[\"format\"], row[\"sample\"]), axis=1)\n",
    "\n",
    "# add specific fields defined above as separate columns\n",
    "df_filtered[\"DP\"]  = df_filtered[\"sample_info\"].apply(lambda x: x[\"DP\"])\n",
    "df_filtered[\"AD\"]  = df_filtered[\"sample_info\"].apply(lambda x: x[\"AD\"])\n",
    "df_filtered[\"VAF\"] = df_filtered[\"sample_info\"].apply(lambda x: x[\"VAF\"])\n",
    "df_filtered[\"GT\"]  = df_filtered[\"sample_info\"].apply(lambda x: x[\"GT\"])\n",
    "df_filtered[\"genotype\"] = df_filtered[\"GT\"].apply(get_genotype_from_GT)\n",
    "\n",
    "# do the variant filtering\n",
    "df_filtered[\"pass_sample_filters\"] = df_filtered[\"sample_info\"].apply(filter_variant_by_sample)\n",
    "\n",
    "# extract the cosmic info annotation\n",
    "df_filtered[\"cosmic_ann\"] = df_filtered[\"info\"].apply(get_cosmic_annotation)\n",
    "# extract the gene, protein description and mutation description \n",
    "df_filtered[\"gene\"] = df_filtered[\"cosmic_ann\"].apply(extract_gene)\n",
    "df_filtered[\"protein_position\"] = df_filtered[\"cosmic_ann\"].apply(extract_protein_position)\n",
    "df_filtered[\"mutation_description\"] = df_filtered[\"cosmic_ann\"].apply(extract_mutation_description)"
   ]
  },
  {
   "cell_type": "code",
   "execution_count": null,
   "id": "41b67f46",
   "metadata": {},
   "outputs": [],
   "source": [
    "### here are the filtering steps where intron, synonymus, 5 prime and 3 prime UTR variants are removed \n",
    "# what is left are all fields containing and and or a mix of missense, nonsense, frameshift and splice variants\n",
    "df_intronless = df_filtered[df_filtered[\"mutation_description\"] != \"intron_variant\"]\n",
    "df_syn = df_intronless[df_intronless[\"mutation_description\"] != \"synonymous_variant\"]\n",
    "df3 = df_syn[df_syn[\"mutation_description\"] != \"3_prime_UTR_variant\"]\n",
    "df5 = df3[df3[\"mutation_description\"] != \"5_prime_UTR_variant\"]\n",
    "df5[\"qual\"] = pd.to_numeric(df5[\"qual\"]).astype(int)\n",
    "# here I also filter based on quality of the calls and allele depth of 5 since lower are likely low quality. \n",
    "# I also remove all that do not have a COSMIC annotation to get the final df\n",
    "df_fin = df5[\n",
    "    (df5[\"filter\"] == \"PASS\") &\n",
    "    (df5[\"qual\"] > 5) &\n",
    "    (df5[\"AD\"] > 5) &\n",
    "    (df5[\"mutation_description\"].notna())\n",
    "]\n",
    "df_fin"
   ]
  },
  {
   "cell_type": "code",
   "execution_count": null,
   "id": "e46bae20",
   "metadata": {},
   "outputs": [],
   "source": [
    "# here I just print what is left which is GRIN2A \n",
    "print(df_fin[\"mutation_description\"].unique())\n",
    "print(df_fin[\"gene\"].unique())"
   ]
  },
  {
   "cell_type": "code",
   "execution_count": null,
   "id": "5a3c4027-a526-4f46-8a2b-42e11d669351",
   "metadata": {
    "tags": []
   },
   "outputs": [],
   "source": [
    "# and save the df\n",
    "df_fin.to_csv(\"/lustre/scratch126/casm/team274sb/lr26/PacBio-deepvariant-tumor-hg38/annotated_tumor_somatic_cosmic_new38_filtered.vcf\", sep=\"\\t\")"
   ]
  }
 ],
 "metadata": {
  "kernelspec": {
   "display_name": "My Py",
   "language": "python",
   "name": "my-python"
  },
  "language_info": {
   "codemirror_mode": {
    "name": "ipython",
    "version": 3
   },
   "file_extension": ".py",
   "mimetype": "text/x-python",
   "name": "python",
   "nbconvert_exporter": "python",
   "pygments_lexer": "ipython3",
   "version": "3.10.16"
  }
 },
 "nbformat": 4,
 "nbformat_minor": 5
}
