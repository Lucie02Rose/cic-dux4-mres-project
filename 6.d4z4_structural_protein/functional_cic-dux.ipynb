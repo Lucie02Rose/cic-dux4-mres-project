{
 "cells": [
  {
   "cell_type": "markdown",
   "id": "a5e52057",
   "metadata": {},
   "source": [
    "## This notebook is for a structural evaluation of the fusion protein "
   ]
  },
  {
   "cell_type": "code",
   "execution_count": null,
   "id": "5a7875c1",
   "metadata": {},
   "outputs": [],
   "source": [
    "# biopython needed\n",
    "from Bio import SeqIO\n",
    "from Bio.Seq import Seq"
   ]
  },
  {
   "cell_type": "code",
   "execution_count": null,
   "id": "a169b2a4",
   "metadata": {},
   "outputs": [],
   "source": [
    "# defining the base directory \n",
    "base_dir = \"/lustre/scratch126/cellgen/behjati/lr26/blast-search/\""
   ]
  },
  {
   "cell_type": "code",
   "execution_count": null,
   "id": "02cf4cc1-d292-4060-ac35-3d28312897f6",
   "metadata": {
    "tags": []
   },
   "outputs": [
    {
     "name": "stdout",
     "output_type": "stream",
     "text": [
      ">chr1:128421745-128422968_rc\n",
      "\n",
      "ATGGCCCTCCTGAAACCTTCGGACTgcaccctccccacggaagcccggagactgggacggtgaaggaaactcgtttggaccccgagccaaagcgaggccctgcgagcctgctttgagcggtacccatacccagacatcaccacccgagaacagctcgcccaggccatcggcattccagagcccatggtccagatttggtatcagaatgggaggtcacaccagctgaggcagcaccggcgggaatctcggccctggcctgggagatgcggcctgcaagaacgcaggtgaaagcagtccgccgtcactggatcccagaccgccctgctcctccgagcctttgagaaagatcgctttccaggcatcgctgccagggaagagctggccagagagactgccttcccgagtacaggattcagatctcgtttcagaatcgaagggccaggccccatcgcaggcaggcggcctgtgcaacacggcccctggcaggtgtcaccctgctaacacatgtgtcgcctttgcccacgctggcacgtggggaacggggcttccgcaccccacgtgccctgcgcacctggtgctctcccacaggaggttttcgtgagccagggagcaagggccatccccgtgctccagcccagcaaggccgtgccggcagagtgtatctcccaaccggatccggcacgcgggaatattccctatgctgcccctgctcctccggaaggggcgttctcccaccctcaggctcctcggtggcctccgcagccgggcaaaacccggaagaaccaggacctgcagggcgatgtcctgccgggcccttgcgcggtgggacagactgggcccgctcaagtgcttgcgccacccgcttcccaggggaatccgtggttgggctggggccggggtccccaggtcgacggggtggcgtgggaaccccaagccagggcagctccaccttgccagcccgcgcccccggaggtctccgcgcagcaggggcagatgcaaggcatcccggcgccctcccaggagctcaggagccagggcgctcctctgcactcccctccagcttgctgctggatgagctcctggcgagggcggagtttctgcagcaggagcaacctttcctagaaagggaggccccgggggagctggaggccttggaagaggccgtctcactggaaggacccctcagcgaggaagaattccgggctctgctggaggagctttagg\n",
      "\n",
      ">chr1:128421745-128422968_rc_rc\n",
      "cctaaagctcctccagcagagcccggaattcttcctcgctgaggggtccttccagtgagacggcctcttccaaggcctccagctcccccggggcctccctttctaggaaaggttgctcctgctgcagaaactccgccctcgccaggagctcatccagcagcaagctggaggggagtgcagaggagcgccctggctcctgagctcctgggagggcgccgggatgccttgcatctgcccctgctgcgcggagacctccgggggcgcgggctggcaaggtggagctgccctggcttggggttcccacgccaccccgtcgacctggggaccccggccccagcccaaccacggattcccctgggaagcgggtggcgcaagcacttgagcgggcccagtctgtcccaccgcgcaagggcccggcaggacatcgccctgcaggtcctggttcttccgggttttgcccggctgcggaggccaccgaggagcctgagggtgggagaacgccccttccggaggagcaggggcagcatagggaatattcccgcgtgccggatccggttgggagatacactctgccggcacggccttgctgggctggagcacggggatggcccttgctccctggctcacgaaaacctcctgtgggagagcaccaggtgcgcagggcacgtggggtgcggaagccccgttccccacgtgccagcgtgggcaaaggcgacacatgtgttagcagggtgacacctgccaggggccgtgttgcacaggccgcctgcctgcgatggggcctggcccttcgattctgaaacgagatctgaatcctgtactcgggaaggcagtctctctggccagctcttccctggcagcgatgcctggaaagcgatctttctcaaaggctcggaggagcagggcggtctgggatccagtgacggcggactgctttcacctgcgttcttgcaggccgcatctcccaggccagggccgagattcccgccggtgctgcctcagctggtgtgacctcccattctgataccaaatctggaccatgggctctggaatgccgatggcctgggcgagctgttctcgggtggtgatgtctgggtatgggtaccgctcaaagcaggctcgcagggcctcgctttggctcggggtccaaacgagtttccttcaccgtcccagtctccgggcttccgtggggagggtgcAGTCCGAAGGTTTCAGGAGGGCCAT\n",
      "ID: <unknown id>\n",
      "Name: <unknown name>\n",
      "Description: <unknown description>\n",
      "Number of features: 0\n",
      "/molecule_type=protein\n",
      "Seq('MALLKPSDCTLPTEARRLGR*RKLVWTPSQSEALRACFERYPYPDITTREQLAQ...SFR')\n"
     ]
    }
   ],
   "source": [
    "# here I am using biopython to parse the chr1 inverted D4Z4 repeat\n",
    "file1 = base_dir + \"d4z4c-chr1_rc.fasta\"\n",
    "with open (file1) as file:\n",
    "    for line in file:\n",
    "        print(line)\n",
    "record = next(SeqIO.parse(file1, \"fasta\"))\n",
    "print(f\">{record.id}_rc\\n{record.seq.reverse_complement()}\")\n",
    "# and also translating the sequence\n",
    "prot = record.translate(to_stop=False)\n",
    "print(prot)"
   ]
  },
  {
   "cell_type": "code",
   "execution_count": null,
   "id": "7110447f-66da-4b5e-b068-99da97b56606",
   "metadata": {
    "tags": []
   },
   "outputs": [
    {
     "name": "stdout",
     "output_type": "stream",
     "text": [
      ">Extract_from_913_to_end_chr1:128421745-128422968_rc\n",
      "gggtggcgtgggaaccccaagccagggcagctccaccttgccagcccgcgcccccggaggtctccgcgcagcaggggcagatgcaaggcatcccggcgccctcccaggagctcaggagccagggcgctcctctgcactcccctccagcttgctgctggatgagctcctggcgagggcggagtttctgcagcaggagcaacctttcctagaaagggaggccccgggggagctggaggccttggaagaggccgtctcactggaaggacccctcagcgaggaagaattccgggctctgctggaggagctttagg\n",
      "Length of subsequence from position 913 onwards: 311\n"
     ]
    }
   ],
   "source": [
    "fasta_file = base_dir + \"d4z4c-chr1_rc.fasta\" \n",
    "# here I am parsing the sequence and from IGV I am extracting part of it\n",
    "record = next(SeqIO.parse(fasta_file, \"fasta\"))\n",
    "seq = record.seq\n",
    "# I am extracting from 913 (0-based) to end\n",
    "subseq = seq[913:]\n",
    "# then I am printing how it looks \n",
    "print(f\">Extract_from_913_to_end_{record.id}\")\n",
    "print(subseq)\n",
    "print(f\"Length of subsequence from position 913 onwards: {len(subseq)}\")\n"
   ]
  },
  {
   "cell_type": "code",
   "execution_count": null,
   "id": "56d82611-6ed5-4582-bed8-2efc819c906f",
   "metadata": {
    "tags": []
   },
   "outputs": [
    {
     "name": "stdout",
     "output_type": "stream",
     "text": [
      "Protein sequence:\n",
      "PGGVGTPSQGSSTLPARAPGGLRAAGADARHPGALPGAQEPGRSSALPSSLLLDELLARAEFLQQEQPFLEREAPGELEALEEAVSLEGPLSEEEFRALLEEL*\n"
     ]
    }
   ],
   "source": [
    "## here I have truncated the reverse complement to include the last 311 nt (following the CIC 21 exon breakpoint up until the chr1 D4Z4 coding sequence)\n",
    "dna_seq = Seq(\"ccgggtggcgtgggaaccccaagccagggcagctccaccttgccagcccgcgcccccggaggtctccgcgcagcaggggcagatgcaaggcatcccggcgccctcccaggagctcaggagccagggcgctcctctgcactcccctccagcttgctgctggatgagctcctggcgagggcggagtttctgcagcaggagcaacctttcctagaaagggaggccccgggggagctggaggccttggaagaggccgtctcactggaaggacccctcagcgaggaagaattccgggctctgctggaggagctttagg\")\n",
    "# and I am translating it in the correct reading frame to know how will the D4Z4 part of the protein look like\n",
    "protein_seq = dna_seq.translate(to_stop=False)\n",
    "# this is the protein sequence that I put into BLASTp and it has a shifted reading frame compared to the usual inverted repeat D4Z4 which results in the cannonical D4Z4\n",
    "print(\"Protein sequence:\")\n",
    "print(protein_seq)\n"
   ]
  }
 ],
 "metadata": {
  "kernelspec": {
   "display_name": "My Py",
   "language": "python",
   "name": "my-python"
  },
  "language_info": {
   "codemirror_mode": {
    "name": "ipython",
    "version": 3
   },
   "file_extension": ".py",
   "mimetype": "text/x-python",
   "name": "python",
   "nbconvert_exporter": "python",
   "pygments_lexer": "ipython3",
   "version": "3.10.16"
  }
 },
 "nbformat": 4,
 "nbformat_minor": 5
}
