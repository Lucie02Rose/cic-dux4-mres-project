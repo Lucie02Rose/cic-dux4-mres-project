{
 "cells": [
  {
   "cell_type": "markdown",
   "id": "e353bc87",
   "metadata": {},
   "source": [
    "## This notebook includes downstream processing and visualisation of population WGS DUX4 data\n",
    "The notebook uses bamscale output (FPKM-adjusted) DUX4 counts to visualise population-wise differences in the terminal 4q DUX4 unit (which contains introns in the T2T reference)"
   ]
  },
  {
   "cell_type": "code",
   "execution_count": null,
   "id": "22e2a37e",
   "metadata": {},
   "outputs": [],
   "source": [
    "# import needed packages\n",
    "import pandas as pd\n",
    "import glob\n",
    "import os\n",
    "import matplotlib.pyplot as plt"
   ]
  },
  {
   "cell_type": "code",
   "execution_count": null,
   "id": "1a3e1370",
   "metadata": {},
   "outputs": [],
   "source": [
    "# define the path to the coverage tsv files\n",
    "tdir = \"/lustre/scratch126/casm/team274sb/lr26/population_dux/bamscale_output\"\n",
    "files = glob.glob(os.path.join(tdir, \"*FPKM_coverages.tsv\"))\n",
    "\n",
    "# initialize a list which will hold the sample and value for dux4\n",
    "rows = []\n",
    "\n",
    "for filepath in files:\n",
    "    # extract the sample name from the filepath and add dux4_ before them \n",
    "    basename = os.path.basename(filepath)\n",
    "    sample = basename.replace(\".sample.dupmarked_t2t.sorted.FPKM_coverages.tsv\", \"\").replace(\"dux4_\", \"\")\n",
    "    \n",
    "    # then read in the values (FPKM which works better)\n",
    "    df = pd.read_csv(filepath, sep=\"\\t\")\n",
    "    value = df.iloc[0, 1]  # 2nd column, first row\n",
    "    # and append to the list\n",
    "    rows.append((sample, value))\n",
    "\n",
    "# then create a dataframe out of the sample and counts and save it as the summary\n",
    "df = pd.DataFrame(rows, columns=[\"sample\", \"FPKM\"])\n",
    "\n",
    "# Save to TSV\n",
    "output_path = os.path.join(tdir, \"dux4_FPKM_summary.tsv\")\n",
    "df.to_csv(output_path, sep=\"\\t\", index=False)"
   ]
  },
  {
   "cell_type": "code",
   "execution_count": null,
   "id": "59b26f29-8e4c-4191-a12f-909f92c61249",
   "metadata": {
    "tags": []
   },
   "outputs": [
    {
     "data": {
      "text/html": [
       "<div>\n",
       "<style scoped>\n",
       "    .dataframe tbody tr th:only-of-type {\n",
       "        vertical-align: middle;\n",
       "    }\n",
       "\n",
       "    .dataframe tbody tr th {\n",
       "        vertical-align: top;\n",
       "    }\n",
       "\n",
       "    .dataframe thead th {\n",
       "        text-align: right;\n",
       "    }\n",
       "</style>\n",
       "<table border=\"1\" class=\"dataframe\">\n",
       "  <thead>\n",
       "    <tr style=\"text-align: right;\">\n",
       "      <th></th>\n",
       "      <th>sample</th>\n",
       "      <th>FPKM</th>\n",
       "    </tr>\n",
       "  </thead>\n",
       "  <tbody>\n",
       "    <tr>\n",
       "      <th>0</th>\n",
       "      <td>PD40713d</td>\n",
       "      <td>33.586567</td>\n",
       "    </tr>\n",
       "    <tr>\n",
       "      <th>1</th>\n",
       "      <td>PD45590d</td>\n",
       "      <td>136.004929</td>\n",
       "    </tr>\n",
       "    <tr>\n",
       "      <th>2</th>\n",
       "      <td>PD48719b</td>\n",
       "      <td>49.147251</td>\n",
       "    </tr>\n",
       "    <tr>\n",
       "      <th>3</th>\n",
       "      <td>PD45569e</td>\n",
       "      <td>121.394844</td>\n",
       "    </tr>\n",
       "    <tr>\n",
       "      <th>4</th>\n",
       "      <td>PD48706b</td>\n",
       "      <td>40.194836</td>\n",
       "    </tr>\n",
       "    <tr>\n",
       "      <th>...</th>\n",
       "      <td>...</td>\n",
       "      <td>...</td>\n",
       "    </tr>\n",
       "    <tr>\n",
       "      <th>289</th>\n",
       "      <td>PD49215b</td>\n",
       "      <td>53.059090</td>\n",
       "    </tr>\n",
       "    <tr>\n",
       "      <th>290</th>\n",
       "      <td>PD45573d</td>\n",
       "      <td>102.288025</td>\n",
       "    </tr>\n",
       "    <tr>\n",
       "      <th>291</th>\n",
       "      <td>PD45681b</td>\n",
       "      <td>3.615510</td>\n",
       "    </tr>\n",
       "    <tr>\n",
       "      <th>292</th>\n",
       "      <td>PD48715b</td>\n",
       "      <td>33.148636</td>\n",
       "    </tr>\n",
       "    <tr>\n",
       "      <th>293</th>\n",
       "      <td>PD45556f</td>\n",
       "      <td>8.825517</td>\n",
       "    </tr>\n",
       "  </tbody>\n",
       "</table>\n",
       "<p>294 rows × 2 columns</p>\n",
       "</div>"
      ],
      "text/plain": [
       "       sample        FPKM\n",
       "0    PD40713d   33.586567\n",
       "1    PD45590d  136.004929\n",
       "2    PD48719b   49.147251\n",
       "3    PD45569e  121.394844\n",
       "4    PD48706b   40.194836\n",
       "..        ...         ...\n",
       "289  PD49215b   53.059090\n",
       "290  PD45573d  102.288025\n",
       "291  PD45681b    3.615510\n",
       "292  PD48715b   33.148636\n",
       "293  PD45556f    8.825517\n",
       "\n",
       "[294 rows x 2 columns]"
      ]
     },
     "execution_count": 55,
     "metadata": {},
     "output_type": "execute_result"
    }
   ],
   "source": [
    "counts = pd.read_csv(\"/lustre/scratch126/casm/team274sb/lr26/population_dux/bamscale_output/dux4_FPKM_summary.tsv\", sep = \"\\t\")\n",
    "counts"
   ]
  },
  {
   "cell_type": "code",
   "execution_count": null,
   "id": "f0ad4406-efe4-446e-945b-570123fa76f9",
   "metadata": {
    "tags": []
   },
   "outputs": [
    {
     "data": {
      "image/png": "[encoded data removed]",
      "text/plain": [
       "<Figure size 640x480 with 1 Axes>"
      ]
     },
     "metadata": {},
     "output_type": "display_data"
    }
   ],
   "source": [
    "# then plot the counts\n",
    "counts[\"FPKM\"].plot(kind=\"hist\", bins=200, edgecolor=\"black\")\n",
    "plt.xlabel(\"FPKM\")\n",
    "plt.ylabel(\"Frequency\")\n",
    "plt.title(\"Distribution of values\")\n",
    "plt.grid(True)\n",
    "plt.show()"
   ]
  },
  {
   "cell_type": "code",
   "execution_count": null,
   "id": "2735ba3b-3660-4eb4-8cb2-11f1317ee4c7",
   "metadata": {
    "tags": []
   },
   "outputs": [
    {
     "name": "stdout",
     "output_type": "stream",
     "text": [
      "['PD31012b', 'PD34956b', 'PD36156b', 'PD36158b', 'PD36167b', 'PD41847b', 'PD42139b', 'PD42167b', 'PD45549d', 'PD45549e', 'PD45549f', 'PD45551b', 'PD45551c', 'PD45551f', 'PD45552c', 'PD45552d', 'PD45552f', 'PD45553b', 'PD45553c', 'PD45553f', 'PD45556b', 'PD45556e', 'PD45556f', 'PD45558c', 'PD45558e', 'PD45558f', 'PD45565c', 'PD45565e', 'PD45565f', 'PD45568b', 'PD45568e', 'PD45568f', 'PD45580c', 'PD45580d', 'PD45580f', 'PD45581e', 'PD45581f', 'PD45597b', 'PD45601b', 'PD45603b', 'PD45609b', 'PD45615b', 'PD45621b', 'PD45643b', 'PD45645b', 'PD45653b', 'PD45665b', 'PD45669b', 'PD45681b', 'PD46692b', 'PD47706b', 'PD48688b', 'PD48692b', 'PD48709b', 'PD49173b', 'PD49174b', 'PD49183b', 'PD49209b', 'PD49210b', 'PD49213b', 'PD49214b', 'PD50593b', 'PD50602b', 'PD50667b', 'PD50715b', 'PD50716b', 'PD50719b', 'PD53640d', 'PD54858b', 'PD54858d']\n"
     ]
    }
   ],
   "source": [
    "# then also point out which is the population with the unusually low FPKM count\n",
    "sample_list = counts[counts[\"FPKM\"] < 20][\"sample\"].tolist()\n",
    "sample_list.sort()\n",
    "print(sample_list)"
   ]
  }
 ],
 "metadata": {
  "kernelspec": {
   "display_name": "My Py",
   "language": "python",
   "name": "my-python"
  },
  "language_info": {
   "codemirror_mode": {
    "name": "ipython",
    "version": 3
   },
   "file_extension": ".py",
   "mimetype": "text/x-python",
   "name": "python",
   "nbconvert_exporter": "python",
   "pygments_lexer": "ipython3",
   "version": "3.10.16"
  }
 },
 "nbformat": 4,
 "nbformat_minor": 5
}
