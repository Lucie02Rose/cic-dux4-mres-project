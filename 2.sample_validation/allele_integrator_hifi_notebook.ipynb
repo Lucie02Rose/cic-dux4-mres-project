{
 "cells": [
  {
   "cell_type": "markdown",
   "id": "db6a5a6f",
   "metadata": {},
   "source": [
    "## This notebook functions for downstream processing of SNP-based genotyping\n",
    "This notebook should be run after AlleleIntegrator. Cells 1-4 of this notebook are important for creating the bed file used for samtools-sn-pb.sh\n",
    "Downstream are file conversions, zygosity sampling and heatmap visualizations"
   ]
  },
  {
   "cell_type": "code",
   "execution_count": null,
   "id": "athletic-mystery",
   "metadata": {
    "id": "athletic-mystery",
    "outputId": "5d4948d3-ec1a-405f-c3af-a8c965e35415",
    "tags": []
   },
   "outputs": [
    {
     "name": "stdout",
     "output_type": "stream",
     "text": [
      "/software/isg/languages/Python/Python-3.11.10-jupyter/exec/bin/python3\n"
     ]
    }
   ],
   "source": [
    "### import all the necessary packages ###\n",
    "import sys # system\n",
    "import pandas as pd # dataframes\n",
    "import seaborn as sns # plots\n",
    "import matplotlib.pyplot as plt # plots\n",
    "import scipy.sparse as sp\n",
    "from scipy.sparse import csr_matrix # matrices\n",
    "import os # system\n",
    "import glob # global system\n",
    "from os import listdir\n",
    "from os.path import isfile, join\n",
    "import random # random numbers\n",
    "import numpy as np # numbers\n",
    "import itertools # run iterations quickly\n",
    "from collections import defaultdict # dictionaries\n",
    "print(sys.executable) # what is being used"
   ]
  },
  {
   "cell_type": "code",
   "execution_count": null,
   "id": "pressed-mirror",
   "metadata": {
    "id": "pressed-mirror",
    "tags": []
   },
   "outputs": [],
   "source": [
    "### set base directory\n",
    "base_dir = \"/lustre/scratch126/casm/team274sb/lr26/allele-integrator-pbfix/GenotypingResults/\""
   ]
  },
  {
   "cell_type": "code",
   "execution_count": null,
   "id": "welcome-breathing",
   "metadata": {
    "id": "welcome-breathing",
    "outputId": "482c30b9-0afb-457a-d008-e5fc056a9662",
    "tags": []
   },
   "outputs": [
    {
     "name": "stdout",
     "output_type": "stream",
     "text": [
      "   0      1  2  3   4  5   6\n",
      "0  1  17365  0  5   0  0   5\n",
      "1  1  17385  4  0  10  0  14\n",
      "2  1  69270  0  0   0  0   0\n",
      "3  1  69511  0  0   0  0   0\n",
      "4  1  69761  0  0   0  0   0\n"
     ]
    }
   ],
   "source": [
    "### define file path\n",
    "patient_file = base_dir + \"patient-bulk-DNA_genotypeCheck.tsv\"\n",
    "### load the file into a df without the header\n",
    "patient_df = pd.read_csv(patient_file, sep=\"\\t\", header=None) \n",
    "# print first few rows\n",
    "print(patient_df.head())"
   ]
  },
  {
   "cell_type": "code",
   "execution_count": null,
   "id": "still-membership",
   "metadata": {
    "id": "still-membership",
    "tags": []
   },
   "outputs": [],
   "source": [
    "# select first two cols (chr and pos) using iloc\n",
    "bed_df = df.iloc[:, [0, 1]].copy()  # column 1 = 'chr', 2 = 'pos'\n",
    "# ensure chromosome names are prefixed (they currently were not)\n",
    "bed_df.iloc[:, 0] = \"chr\" + bed_df.iloc[:, 0].astype(str)\n",
    "# convert 'pos' to the bed format, start-end 0-1\n",
    "bed_df['start'] = bed_df.iloc[:, 1]-1    # bed end is 1-based\n",
    "bed_df['end'] = bed_df.iloc[:, 1]\n",
    "# now keep only 'chr', 'start', 'end' columns\n",
    "bed_df = bed_df.iloc[:, [0, 2, 3]]\n",
    "# save as the BED file (no headers, no index) to be used in sampling\n",
    "bed_df.to_csv(\"patient_output.bed\", sep=\"\\t\", index=False, header=False)"
   ]
  },
  {
   "cell_type": "code",
   "execution_count": null,
   "id": "f5282256",
   "metadata": {},
   "outputs": [],
   "source": [
    "### NOW RUN the samtools-sn-pb.sh script, generating vcf files for all samples including long read ###"
   ]
  },
  {
   "cell_type": "code",
   "execution_count": null,
   "id": "junior-protein",
   "metadata": {
    "id": "junior-protein",
    "tags": []
   },
   "outputs": [],
   "source": [
    "### the compute_zygosity_similarity function ###\n",
    "def compute_zygosity_similarity(file1, file2):\n",
    "    \"\"\"\n",
    "    this fcn computes similarity between two files based on shared zygosity\n",
    "    (homozygous or heterozygous) not only the raw AFs\n",
    "\n",
    "    it accepts paths to two files - df1 and df2.\n",
    "\n",
    "    it returns a similarity score\n",
    "    \"\"\"\n",
    "    # read files into pandas as separate dfs defining column names - note that multiple freq can be present\n",
    "    df1 = pd.read_csv(file1, sep=\"\\t\", header=None,\n",
    "                      names=[\"CHROM\", \"POS\", \"REF\", \"ALT\", \"AD\", \"REF_FREQ\", \"ALT_FREQ\", \"OTHER_FREQ\", \"OTHER_FREQ1\"])\n",
    "\n",
    "    df2 = pd.read_csv(file2, sep=\"\\t\", header=None,\n",
    "                      names=[\"CHROM\", \"POS\", \"REF\", \"ALT\", \"AD\", \"REF_FREQ\", \"ALT_FREQ\", \"OTHER_FREQ\", \"OTHER_FREQ1\"])\n",
    "\n",
    "    # ensure to use the chrom and pos which are the same for both the files\n",
    "    merged_df = pd.merge(df1, df2, on=[\"CHROM\", \"POS\"], suffixes=(\"_file1\", \"_file2\"))\n",
    "\n",
    "    # if there are NaN values, fill with 0\n",
    "    merged_df.fillna(0, inplace=True)\n",
    "\n",
    "    # determine the most abundant AF at each site using max\n",
    "    merged_df[\"MAF_file1\"] = merged_df[[\"REF_FREQ_file1\", \"ALT_FREQ_file1\", \"OTHER_FREQ_file1\"]].max(axis=1)\n",
    "    merged_df[\"MAF_file2\"] = merged_df[[\"REF_FREQ_file2\", \"ALT_FREQ_file2\", \"OTHER_FREQ_file2\"]].max(axis=1)\n",
    "\n",
    "    # then define zygosity categories: homozygous (>= 0.9 or <= 0.1) and heterozygous\n",
    "    # note that this will work because if it is heterozygous we are still getting max of around 0.5\n",
    "    # also accounts for whole chromosomal copy number changes in tumor samples\n",
    "    def determine_zygosity(freq):\n",
    "        if freq >= 0.9 or freq <= 0.1:\n",
    "            return \"HOMO\"\n",
    "        else:\n",
    "            return \"HET\"\n",
    "    ### now use the determin_zygosity function across all positions in both files generating zygosity file1,2\n",
    "    merged_df[\"ZYGOSITY_file1\"] = merged_df[\"MAF_file1\"].apply(determine_zygosity)\n",
    "    merged_df[\"ZYGOSITY_file2\"] = merged_df[\"MAF_file2\"].apply(determine_zygosity)\n",
    "\n",
    "    # then compute similarity as proportion of positions with matching zygosity\n",
    "    # similarity score will be given as the shared zygosity divided by total positions\n",
    "    # because there may be a different no of positions sampled for the downsampled sc/sn RNA files\n",
    "    shared_zygosity = (merged_df[\"ZYGOSITY_file1\"] == merged_df[\"ZYGOSITY_file2\"]).sum()\n",
    "    total_positions = len(merged_df)\n",
    "\n",
    "    similarity_score = shared_zygosity / total_positions\n",
    "\n",
    "    return similarity_score\n"
   ]
  },
  {
   "cell_type": "code",
   "execution_count": null,
   "id": "medical-logic",
   "metadata": {
    "id": "medical-logic",
    "tags": []
   },
   "outputs": [],
   "source": [
    "# here I am defining all the files which I used for the samtools sampling #\n",
    "file1 = base_dir + \"patient_fin.vcf\"\n",
    "file2 = base_dir + \"s1A01_fin.vcf\"\n",
    "file3 = base_dir + \"s1A02_fin.vcf\"\n",
    "file4 = base_dir + \"s2B01_fin.vcf\"\n",
    "file5 = base_dir + \"s1B01_fin.vcf\"\n",
    "file6 = base_dir + \"s1C01_fin.vcf\" ### wops I have flipped the 1C01 and 1B02\n",
    "file7 = base_dir + \"s1B02_fin.vcf\" ### wops I have flipped the 1C01 and 1B02 \n",
    "file8 = base_dir + \"mom_fin.vcf\""
   ]
  },
  {
   "cell_type": "code",
   "execution_count": null,
   "id": "adapted-worth",
   "metadata": {
    "id": "adapted-worth",
    "outputId": "06042a94-0f38-4c64-df1a-ec49e0e052cd",
    "tags": []
   },
   "outputs": [
    {
     "name": "stdout",
     "output_type": "stream",
     "text": [
      "Shared zygosity patient tumor WGS - 1A01 patient tumor: 0.8938\n",
      "Shared zygosity patient tumor WGS - 1A02 patient tumor: 0.8985\n",
      "Shared zygosity patient tumor WGS - 2B01 patient tumor: 0.8847\n",
      "Shared zygosity patient tumor WGS - 1B01 patient tumor: 0.9543\n",
      "Shared zygosity patient tumor WGS - 1B02 patient blood: 0.9631\n",
      "Shared zygosity patient tumor WGS - 1C01 mom blood: 0.6512\n",
      "Shared zygosity patient tumor WGS - mom WGS: 0.6677\n",
      "Shared zygosity mom WGS - mom blood 1C01: 0.9633\n",
      "Shared zygosity patient tumor 1B01 - patient tumor 1B02: 0.9686\n",
      "Shared zygosity patient tumor 1B01 - mom blood 1C01: 0.6600\n"
     ]
    }
   ],
   "source": [
    "## here I am computing the pairwise similarity score between them and printing it nicely ##\n",
    "similarity_score = compute_zygosity_similarity(file1, file2)\n",
    "print(f\"Shared zygosity patient tumor WGS - 1A01 patient tumor: {similarity_score:.4f}\")\n",
    "similarity_score1 = compute_zygosity_similarity(file1, file3)\n",
    "print(f\"Shared zygosity patient tumor WGS - 1A02 patient tumor: {similarity_score1:.4f}\")\n",
    "similarity_score2 = compute_zygosity_similarity(file1, file4)\n",
    "print(f\"Shared zygosity patient tumor WGS - 2B01 patient tumor: {similarity_score2:.4f}\")\n",
    "similarity_score3 = compute_zygosity_similarity(file1, file5)\n",
    "print(f\"Shared zygosity patient tumor WGS - 1B01 patient tumor: {similarity_score3:.4f}\")\n",
    "similarity_score4 = compute_zygosity_similarity(file1, file6) ### wops I have flipped the 1C01 and 1B02 in the printing\n",
    "print(f\"Shared zygosity patient tumor WGS - 1B02 patient blood: {similarity_score4:.4f}\") # this should be patient tumor vs 1C01\n",
    "similarity_score5 = compute_zygosity_similarity(file1, file7) ### wops I have flipped the 1C01 and 1B02 in the printing\n",
    "print(f\"Shared zygosity patient tumor WGS - 1C01 mom blood: {similarity_score5:.4f}\") # this should be patient tumor vs 1B02\n",
    "similarity_score6 = compute_zygosity_similarity(file1, file8) \n",
    "print(f\"Shared zygosity patient tumor WGS - mom WGS: {similarity_score6:.4f}\")\n",
    "similarity_score7 = compute_zygosity_similarity(file7, file8) ### wops I have flipped the 1C01 and 1B02 in the printing\n",
    "print(f\"Shared zygosity mom WGS - mom blood 1C01: {similarity_score7:.4f}\") # this should be mom vs 1B02\n",
    "similarity_score8 = compute_zygosity_similarity(file5, file6) ### wops I have flipped the 1C01 and 1B02 in the printing\n",
    "print(f\"Shared zygosity patient tumor 1B01 - patient tumor 1B02: {similarity_score8:.4f}\") # this should be 1B01 vs 1C01\n",
    "similarity_score9 = compute_zygosity_similarity(file5, file7)\n",
    "print(f\"Shared zygosity patient tumor 1B01 - mom blood 1C01: {similarity_score9:.4f}\")  # this should be 1B01 vs 1B02\n",
    "\n",
    "### here it looks like the mom blood is the 1C01 sample but I have flipped it \n",
    "# since s1C01 is file6 and not file7 so here it seems that the shared zygosity adds up\n",
    "## mom is actually 1B02 not 1C01 per my assignment in the cell"
   ]
  },
  {
   "cell_type": "code",
   "execution_count": null,
   "id": "divided-binding",
   "metadata": {
    "id": "divided-binding",
    "outputId": "a5b0b5c9-89ec-4aa6-da86-e39ea9dc04d8",
    "tags": []
   },
   "outputs": [
    {
     "data": {
      "image/png": "[encoded data removed]",
      "text/plain": [
       "<Figure size 1000x800 with 2 Axes>"
      ]
     },
     "metadata": {},
     "output_type": "display_data"
    }
   ],
   "source": [
    "### this is for plotting of the new samples - assign it correctly now... ###\n",
    "# define the samples like so using the base dir and the vcfs #\n",
    "files = {\n",
    "    \"patient WGS\": base_dir + \"patient_fin.vcf\",\n",
    "    \"1A01 patient tumor\": base_dir + \"s1A01_fin.vcf\",\n",
    "    \"1A02 patient tumor\": base_dir + \"s1A02_fin.vcf\",\n",
    "    \"2B01 patient tumor\": base_dir + \"s2B01_fin.vcf\",\n",
    "    \"1B01 patient tumor\": base_dir + \"s1B01_fin.vcf\",\n",
    "    \"1C01 blood\": base_dir + \"s1C01_fin.vcf\",\n",
    "    \"1B02 blood\": base_dir + \"s1B02_fin.vcf\",\n",
    "    \"mother WGS\": base_dir + \"mom_fin.vcf\"\n",
    "}\n",
    "\n",
    "# make a similarity matrix like this pairwise\n",
    "samples = list(files.keys())\n",
    "similarity_matrix = pd.DataFrame(index=samples, columns=samples, dtype=float)\n",
    "\n",
    "# i am computing the pairwise similarity using the compute_zygosity_similarity fcn above\n",
    "# and itertools combination fcn\n",
    "for s1, s2 in itertools.combinations(samples, 2):\n",
    "    similarity_score = compute_zygosity_similarity(files[s1], files[s2])\n",
    "\n",
    "    similarity_matrix.loc[s1, s2] = similarity_score\n",
    "    similarity_matrix.loc[s2, s1] = similarity_score  # making a symmetrical matrix\n",
    "\n",
    "# we know that the diagonal (self-similarity) will be identical, I can just put 1\n",
    "np.fill_diagonal(similarity_matrix.values, 1.0)\n",
    "\n",
    "# now plot it as a heatmap using the similar green gradient as AlleleIntegrator with the stylish white gaps for clarity\n",
    "plt.figure(figsize=(10, 8))\n",
    "sns.heatmap(similarity_matrix.astype(float), annot=False, cmap=\"Greens\", linewidths=0.5, vmin=0, vmax=1)\n",
    "plt.title(\"Pairwise Zygosity Similarity Heatmap\")\n",
    "plt.xticks(rotation=45, ha=\"right\")\n",
    "plt.yticks(rotation=0)\n",
    "plt.show()\n"
   ]
  },
  {
   "cell_type": "code",
   "execution_count": null,
   "id": "Qo4arUNa-ySf",
   "metadata": {
    "id": "Qo4arUNa-ySf"
   },
   "outputs": [],
   "source": [
    "### since I have several tsv and vcf, I shall convert everything into the same format\n",
    "# for this I use the bed positions file and extract the chr and positions again\n",
    "\n",
    "def load_bed(bed_file):\n",
    "    \"\"\"load bed file and extract (chr, pos) from columns 1 and 3 (instead of 1 and 2).\"\"\"\n",
    "    bed_positions = set()\n",
    "    with open(bed_file, 'r') as f:\n",
    "        for line in f:\n",
    "            parts = line.strip().split('\\t')\n",
    "            chrom, pos = parts[0], int(parts[2])  # Use 3rd column as position\n",
    "            bed_positions.add((chrom, pos))\n",
    "    return bed_positions\n",
    "\n",
    "### here I am loading the tsv files and making dictionaries of the base counts per position\n",
    "def load_tsv(tsv_file):\n",
    "    \"\"\"Load tsv file into a dictionary aggregating base counts per position.\"\"\"\n",
    "    data = defaultdict(lambda: {'A': 0, 'C': 0, 'G': 0, 'T': 0})\n",
    "    df = pd.read_csv(tsv_file, sep='\\t')\n",
    "\n",
    "    for _, row in df.iterrows():\n",
    "        key = (f'chr{row[\"chr\"]}', row[\"pos\"])\n",
    "        for base in ['A', 'C', 'G', 'T']:\n",
    "            data[key][base] += row[base]\n",
    "\n",
    "    return data\n",
    "\n",
    "### then I convert the sampled tsv files and the bed file into a vcf format so I can compare \n",
    "def convert_to_vcf(bed_positions, tsv_data):\n",
    "    \"\"\"Convert aggregated TSV data and BED positions into VCF format.\"\"\"\n",
    "    vcf_lines = []\n",
    "    for (chrom, pos) in sorted(bed_positions):\n",
    "        base_counts = tsv_data.get((chrom, pos), {'A': 0, 'C': 0, 'G': 0, 'T': 0})\n",
    "        total_reads = sum(base_counts.values())\n",
    "        if total_reads == 0:\n",
    "            # if no reads are found, use placeholder <*> with zero counts\n",
    "            continue  # skip lines with no data\n",
    "        ### I am finding both the reference and alternative bases and adding * whenever missing\n",
    "        # select reference base: most frequent, breaking ties by 'A > C > G > T' order\n",
    "        ref_base = max(base_counts, key=lambda b: (base_counts[b], \"ACGT\".index(b)))\n",
    "        if ref_base == \"N\":\n",
    "            continue  # skip lines where ref_base is 'N'\n",
    "        # find alternative alleles (excluding reference)\n",
    "        alt_bases = [b for b in \"ACGT\" if b != ref_base and base_counts[b] > 0]\n",
    "        # add <*> allele for missing variants\n",
    "        alleles = [ref_base] + alt_bases + [\"<*>\"]\n",
    "        # ensure <*> gets a count of 0 if not present\n",
    "        # counting * as a zero\n",
    "        depth_counts = [base_counts.get(b, 0) for b in alleles]\n",
    "        freq_values = [f\"{count / total_reads:.3f}\" for count in depth_counts]\n",
    "        vcf_lines.append(f\"{chrom}\\t{pos}\\t{ref_base}\\t{','.join(alt_bases + ['<*>'])}\\t{','.join(map(str, depth_counts))}\\t{'  '.join(freq_values)}\")\n",
    "    return vcf_lines\n",
    "\n",
    "# this is the main function which uses the previous ones to convert the downsampled sc/sn RNA tsv into vcf\n",
    "def main(tsv_file, bed_file, output_file):\n",
    "    bed_positions = load_bed(bed_file)\n",
    "    tsv_data = load_tsv(tsv_file)\n",
    "    vcf_lines = convert_to_vcf(bed_positions, tsv_data)\n",
    "    with open(output_file, 'w') as f:\n",
    "        f.write('\\n'.join(vcf_lines) + '\\n')\n",
    "    print(f\"VCF file saved to {output_file}\")\n",
    "\n",
    "# then I use it like this for the downsampled tsv files for single nuclear/single cell data\n",
    "# main(\"input.tsv\", \"positions.bed\", \"output.vcf\")\n",
    "main(base_dir + \"patient tumor FO CG_SB_NB13960948_genotypeCheck.tsv\", base_dir + \"patient_output.bed\", base_dir + \"patient_tumor_FO1.vcf\")\n",
    "main(base_dir + \"patient tumor FO CG_SB_NB13960949_genotypeCheck.tsv\", base_dir + \"patient_output.bed\", base_dir + \"patient_tumor_FO2.vcf\")\n",
    "main(base_dir + \"patient tumor FO CG_SB_NB13960950_genotypeCheck.tsv\", base_dir + \"patient_output.bed\", base_dir + \"patient_tumor_FO3.vcf\")\n",
    "main(base_dir + \"patient tumor FO CG_SB_NB13960951_genotypeCheck.tsv\", base_dir + \"patient_output.bed\", base_dir + \"patient_tumor_FO4.vcf\")\n",
    "main(base_dir + \"patient tumor FT CG_SB_NB14449539_genotypeCheck.tsv\", base_dir + \"patient_output.bed\", base_dir + \"patient_tumor_FT1.vcf\")\n",
    "main(base_dir + \"patient tumor FT CG_SB_NB14449540_genotypeCheck.tsv\", base_dir + \"patient_output.bed\", base_dir + \"patient_tumor_FT2.vcf\")\n",
    "main(base_dir + \"patient tumor FT CG_SB_NB14449541_genotypeCheck.tsv\", base_dir + \"patient_output.bed\", base_dir + \"patient_tumor_FT3.vcf\")\n",
    "main(base_dir + \"Ewings-patient_genotypeCheck.tsv\", base_dir + \"patient_output.bed\", base_dir + \"Ewings_patient.vcf\")\n",
    "main(base_dir + \"patient-bulk-DNA-un_genotypeCheck.tsv\", base_dir + \"patient_output.bed\", base_dir + \"patient_PD54858b.vcf\")"
   ]
  },
  {
   "cell_type": "code",
   "execution_count": null,
   "id": "l4L-McwQ_wpc",
   "metadata": {
    "colab": {
     "base_uri": "https://localhost:8080/",
     "height": 273
    },
    "executionInfo": {
     "elapsed": 2765,
     "status": "error",
     "timestamp": 1747951526205,
     "user": {
      "displayName": "Lucie Růžičková",
      "userId": "13958013160829514176"
     },
     "user_tz": -60
    },
    "id": "l4L-McwQ_wpc",
    "outputId": "85d0663c-6c31-49b1-8b01-f7f8307bcbd9"
   },
   "outputs": [
    {
     "ename": "NameError",
     "evalue": "name 'base_dir' is not defined",
     "output_type": "error",
     "traceback": [
      "\u001b[0;31m---------------------------------------------------------------------------\u001b[0m",
      "\u001b[0;31mNameError\u001b[0m                                 Traceback (most recent call last)",
      "\u001b[0;32m<ipython-input-2-da6272086a0b>\u001b[0m in \u001b[0;36m<cell line: 0>\u001b[0;34m()\u001b[0m\n\u001b[1;32m     67\u001b[0m \u001b[0;31m# Dictionary mapping sample names to file paths\u001b[0m\u001b[0;34m\u001b[0m\u001b[0;34m\u001b[0m\u001b[0m\n\u001b[1;32m     68\u001b[0m files = {\n\u001b[0;32m---> 69\u001b[0;31m     \u001b[0;34m\"patient WGS PD54858d\"\u001b[0m\u001b[0;34m:\u001b[0m \u001b[0mbase_dir\u001b[0m \u001b[0;34m+\u001b[0m \u001b[0;34m\"patient_fin.vcf\"\u001b[0m\u001b[0;34m,\u001b[0m\u001b[0;34m\u001b[0m\u001b[0;34m\u001b[0m\u001b[0m\n\u001b[0m\u001b[1;32m     70\u001b[0m     \u001b[0;34m\"patient WGS PD54858b\"\u001b[0m\u001b[0;34m:\u001b[0m \u001b[0mbase_dir\u001b[0m \u001b[0;34m+\u001b[0m \u001b[0;34m\"patient_PD54858b.vcf\"\u001b[0m\u001b[0;34m,\u001b[0m\u001b[0;34m\u001b[0m\u001b[0;34m\u001b[0m\u001b[0m\n\u001b[1;32m     71\u001b[0m     \u001b[0;34m\"1A01 Sequel II patient tumor\"\u001b[0m\u001b[0;34m:\u001b[0m \u001b[0mbase_dir\u001b[0m \u001b[0;34m+\u001b[0m \u001b[0;34m\"s1A01_fin.vcf\"\u001b[0m\u001b[0;34m,\u001b[0m\u001b[0;34m\u001b[0m\u001b[0;34m\u001b[0m\u001b[0m\n",
      "\u001b[0;31mNameError\u001b[0m: name 'base_dir' is not defined"
     ]
    }
   ],
   "source": [
    "### this is a very similar situation with the standard compute_zygosity_similarity function\n",
    "# but this one weights the positions with higher read depth as better\n",
    "# the reason for this is that I am using generally shallow sn/sc RNA files to compare with \n",
    "# high depth WGS and HiFi files so I also want to show the effect that sn/sc shallowness with Illumina\n",
    "# non-HiFi reads has\n",
    "def compute_zygosity_similarity_weighted(file1, file2):\n",
    "    \"\"\"\n",
    "    computes the weighted zygosity similarity between two files, giving more\n",
    "    influence to positions with higher read depth.\n",
    "\n",
    "    Parameters:\n",
    "        file1 (str): Path to the first file.\n",
    "        file2 (str): Path to the second file.\n",
    "\n",
    "    Returns:\n",
    "        float: Weighted zygosity similarity score.\n",
    "    \"\"\"\n",
    "    # read files into dataframes\n",
    "    df1 = pd.read_csv(file1, sep=\"\\t\", header=None,\n",
    "                      names=[\"CHROM\", \"POS\", \"REF\", \"ALT\", \"AD\", \"REF_FREQ\", \"ALT_FREQ\", \"OTHER_FREQ\", \"OTHER_FREQ1\"])\n",
    "\n",
    "    df2 = pd.read_csv(file2, sep=\"\\t\", header=None,\n",
    "                      names=[\"CHROM\", \"POS\", \"REF\", \"ALT\", \"AD\", \"REF_FREQ\", \"ALT_FREQ\", \"OTHER_FREQ\", \"OTHER_FREQ1\"])\n",
    "\n",
    "# again merge based on chr and positions that are the same\n",
    "    merged_df = pd.merge(df1, df2, on=[\"CHROM\", \"POS\"], suffixes=(\"_file1\", \"_file2\"))\n",
    "    # fill those missing with 0s\n",
    "    merged_df.fillna(0, inplace=True)\n",
    "    # find the most abundant allele frequency at each site\n",
    "    merged_df[\"MAF_file1\"] = merged_df[[\"REF_FREQ_file1\", \"ALT_FREQ_file1\", \"OTHER_FREQ_file1\"]].max(axis=1)\n",
    "    merged_df[\"MAF_file2\"] = merged_df[[\"REF_FREQ_file2\", \"ALT_FREQ_file2\", \"OTHER_FREQ_file2\"]].max(axis=1)\n",
    "    # again define zygosity categories homozygous (>= 0.9 or <= 0.1) vs. heterozygous \n",
    "    # note that this will work because if it is heterozygous we are still getting max of around 0.5\n",
    "    # also accounts for whole chromosomal copy number changes in tumor samples\n",
    "    def determine_zygosity(freq):\n",
    "        if freq >= 0.9 or freq <= 0.1:\n",
    "            return \"HET\"\n",
    "        else:\n",
    "            return \"HOMO\"\n",
    "\n",
    "    merged_df[\"ZYGOSITY_file1\"] = merged_df[\"MAF_file1\"].apply(determine_zygosity)\n",
    "    merged_df[\"ZYGOSITY_file2\"] = merged_df[\"MAF_file2\"].apply(determine_zygosity)\n",
    "    # here is where it differs from the previous function \n",
    "    # compute total read depth from AD column\n",
    "    merged_df[\"TOTAL_DEPTH_file1\"] = merged_df[\"AD_file1\"].apply(lambda x: sum(map(int, str(x).replace(\" \", \",\").strip().split(\",\"))) if str(x).strip() else 0)\n",
    "    merged_df[\"TOTAL_DEPTH_file2\"] = merged_df[\"AD_file2\"].apply(lambda x: sum(map(int, str(x).replace(\" \", \",\").strip().split(\",\"))) if str(x).strip() else 0)\n",
    "    # compute combined total depth per position\n",
    "    merged_df[\"TOTAL_DEPTH\"] = merged_df[\"TOTAL_DEPTH_file1\"] + merged_df[\"TOTAL_DEPTH_file2\"]\n",
    "    # normalize weights so that all positions contribute proportionally depending on depth\n",
    "    total_depth_sum = merged_df[\"TOTAL_DEPTH\"].sum()\n",
    "    merged_df[\"WEIGHT\"] = merged_df[\"TOTAL_DEPTH\"] / total_depth_sum if total_depth_sum > 0 else 0\n",
    "\n",
    "    # again counting the weighted similarity: sum of weights where zygosity matches\n",
    "    weighted_similarity = (merged_df[\"WEIGHT\"] * (merged_df[\"ZYGOSITY_file1\"] == merged_df[\"ZYGOSITY_file2\"])).sum()\n",
    "    return weighted_similarity\n",
    "\n",
    "# again here define a dictionary mapping sample names to file paths\n",
    "files = {\n",
    "    \"patient WGS PD54858d\": base_dir + \"patient_fin.vcf\",\n",
    "    \"patient WGS PD54858b\": base_dir + \"patient_PD54858b.vcf\",\n",
    "    \"1A01 Sequel II patient tumor\": base_dir + \"s1A01_fin.vcf\",\n",
    "    \"1A02 Sequel II patient tumor\": base_dir + \"s1A02_fin.vcf\",\n",
    "    \"2B01 Sequel II patient tumor\": base_dir + \"s2B01_fin.vcf\",\n",
    "    \"1B01 Revio patient tumor\": base_dir + \"s1B01_fin.vcf\",\n",
    "    \"1C01 Revio patient blood\": base_dir + \"s1C01_fin.vcf\",\n",
    "    \"patient snRNA tumor FO1\": base_dir + \"patient_tumor_FO1.vcf\",\n",
    "    \"patient snRNA tumor FO2\": base_dir + \"patient_tumor_FO2.vcf\",\n",
    "    \"patient snRNA tumor FO3\": base_dir + \"patient_tumor_FO3.vcf\",\n",
    "    \"patient snRNA tumor FO4\": base_dir + \"patient_tumor_FO4.vcf\",\n",
    "    \"patient snRNA tumor FT1\": base_dir + \"patient_tumor_FT1.vcf\",\n",
    "    \"patient snRNA tumor FT2\": base_dir + \"patient_tumor_FT2.vcf\",\n",
    "    \"patient snRNA tumor FT3\": base_dir + \"patient_tumor_FT3.vcf\",\n",
    "    \"mother WGS PD54859b\": base_dir + \"mom_fin.vcf\",\n",
    "    \"1B02 Revio mother blood\": base_dir + \"s1B02_fin.vcf\",\n",
    "    \"Ewings scRNA patient\": base_dir + \"Ewings_patient.vcf\"\n",
    "}\n",
    "\n",
    "# again make the similarity matrix\n",
    "samples = list(files.keys())\n",
    "similarity_matrix = pd.DataFrame(index=samples, columns=samples, dtype=float)\n",
    "\n",
    "# and compute pairwise zygosity similarity using only common loci - note there are\n",
    "# different files sharing different sampled locs\n",
    "for s1, s2 in itertools.combinations(samples, 2):\n",
    "    similarity_score = compute_zygosity_similarity_weighted(files[s1], files[s2])\n",
    "\n",
    "    similarity_matrix.loc[s1, s2] = similarity_score\n",
    "    similarity_matrix.loc[s2, s1] = similarity_score  # symmetric matrix\n",
    "\n",
    "# again fill diagonal with 1s - self\n",
    "np.fill_diagonal(similarity_matrix.values, 1.0)\n",
    "\n",
    "# plot the green heatmap with the green edges and name it and save it\n",
    "plt.figure(figsize=(10, 8))\n",
    "sns.heatmap(similarity_matrix.astype(float), annot=False, cmap=\"Greens\", linewidths=0, vmin=0, vmax=1)\n",
    "plt.title(\"Pairwise Zygosity Similarity Heatmap\")\n",
    "plt.xticks(rotation=45, ha=\"right\")\n",
    "plt.yticks(rotation=0)\n",
    "plt.savefig(base_dir + \"pairwise_similarity_map.pdf\", dpi=300, bbox_inches='tight')"
   ]
  }
 ],
 "metadata": {
  "colab": {
   "provenance": []
  },
  "kernelspec": {
   "display_name": "Python 3 (ipykernel)",
   "language": "python",
   "name": "python3"
  },
  "language_info": {
   "codemirror_mode": {
    "name": "ipython",
    "version": 3
   },
   "file_extension": ".py",
   "mimetype": "text/x-python",
   "name": "python",
   "nbconvert_exporter": "python",
   "pygments_lexer": "ipython3",
   "version": "3.11.10"
  }
 },
 "nbformat": 4,
 "nbformat_minor": 5
}
